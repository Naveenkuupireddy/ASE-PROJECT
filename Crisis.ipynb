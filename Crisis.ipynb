{
  "cells": [
    {
      "cell_type": "markdown",
      "metadata": {
        "id": "view-in-github",
        "colab_type": "text"
      },
      "source": [
        "<a href=\"https://colab.research.google.com/github/Naveenkuupireddy/ASE-PROJECT/blob/main/Crisis.ipynb\" target=\"_parent\"><img src=\"https://colab.research.google.com/assets/colab-badge.svg\" alt=\"Open In Colab\"/></a>"
      ]
    },
    {
      "cell_type": "code",
      "execution_count": null,
      "metadata": {
        "id": "t7ZnvOMaP9rx"
      },
      "outputs": [],
      "source": [
        "import numpy as np\n",
        "import pandas as pd\n",
        "from sklearn.model_selection import train_test_split\n",
        "from sklearn.preprocessing import MinMaxScaler\n",
        "from matplotlib import pyplot as plt"
      ]
    },
    {
      "cell_type": "code",
      "execution_count": null,
      "metadata": {
        "id": "dthwhpQSyv1k",
        "outputId": "63a571b1-7d2c-4e56-8499-d584ef9b9f9d",
        "colab": {
          "base_uri": "https://localhost:8080/"
        }
      },
      "outputs": [
        {
          "output_type": "stream",
          "name": "stdout",
          "text": [
            "Drive already mounted at /content/drive; to attempt to forcibly remount, call drive.mount(\"/content/drive\", force_remount=True).\n"
          ]
        }
      ],
      "source": [
        "from google.colab import drive\n",
        "drive.mount(\"/content/drive\")"
      ]
    },
    {
      "cell_type": "code",
      "execution_count": null,
      "metadata": {
        "colab": {
          "base_uri": "https://localhost:8080/"
        },
        "id": "6ZmAMDsJTN5g",
        "outputId": "5de0b9c9-8466-43ef-d1f4-d96189f3a4f9"
      },
      "outputs": [
        {
          "output_type": "stream",
          "name": "stdout",
          "text": [
            "\u001b[0m\u001b[01;34mMyDrive\u001b[0m/\n"
          ]
        }
      ],
      "source": [
        "%ls '/content/drive'"
      ]
    },
    {
      "cell_type": "code",
      "execution_count": null,
      "metadata": {
        "id": "Fzqia_dZTUTr",
        "outputId": "a2148e19-8522-4ebf-819e-7359b4d90f20",
        "colab": {
          "base_uri": "https://localhost:8080/"
        }
      },
      "outputs": [
        {
          "output_type": "stream",
          "name": "stdout",
          "text": [
            "/content/drive/MyDrive/ASE Database\n"
          ]
        }
      ],
      "source": [
        "%cd \"/content/drive/MyDrive/ASE Database\""
      ]
    },
    {
      "cell_type": "code",
      "execution_count": null,
      "metadata": {
        "id": "IakeW1wfTpFJ",
        "outputId": "1c3ece8d-2157-4c34-d45b-4c01dd669aa1",
        "colab": {
          "base_uri": "https://localhost:8080/",
          "height": 423
        }
      },
      "outputs": [
        {
          "output_type": "execute_result",
          "data": {
            "text/plain": [
              "            Date  Price\n",
              "0     1997-01-07   3.82\n",
              "1     1997-01-08   3.80\n",
              "2     1997-01-09   3.61\n",
              "3     1997-01-10   3.92\n",
              "4     1997-01-13   4.00\n",
              "...          ...    ...\n",
              "5948  2020-08-26   2.52\n",
              "5949  2020-08-27   2.52\n",
              "5950  2020-08-28   2.46\n",
              "5951  2020-08-31   2.30\n",
              "5952  2020-09-01   2.22\n",
              "\n",
              "[5953 rows x 2 columns]"
            ],
            "text/html": [
              "\n",
              "  <div id=\"df-c20ced8b-5530-46a8-a4be-c4d01d96dd88\">\n",
              "    <div class=\"colab-df-container\">\n",
              "      <div>\n",
              "<style scoped>\n",
              "    .dataframe tbody tr th:only-of-type {\n",
              "        vertical-align: middle;\n",
              "    }\n",
              "\n",
              "    .dataframe tbody tr th {\n",
              "        vertical-align: top;\n",
              "    }\n",
              "\n",
              "    .dataframe thead th {\n",
              "        text-align: right;\n",
              "    }\n",
              "</style>\n",
              "<table border=\"1\" class=\"dataframe\">\n",
              "  <thead>\n",
              "    <tr style=\"text-align: right;\">\n",
              "      <th></th>\n",
              "      <th>Date</th>\n",
              "      <th>Price</th>\n",
              "    </tr>\n",
              "  </thead>\n",
              "  <tbody>\n",
              "    <tr>\n",
              "      <th>0</th>\n",
              "      <td>1997-01-07</td>\n",
              "      <td>3.82</td>\n",
              "    </tr>\n",
              "    <tr>\n",
              "      <th>1</th>\n",
              "      <td>1997-01-08</td>\n",
              "      <td>3.80</td>\n",
              "    </tr>\n",
              "    <tr>\n",
              "      <th>2</th>\n",
              "      <td>1997-01-09</td>\n",
              "      <td>3.61</td>\n",
              "    </tr>\n",
              "    <tr>\n",
              "      <th>3</th>\n",
              "      <td>1997-01-10</td>\n",
              "      <td>3.92</td>\n",
              "    </tr>\n",
              "    <tr>\n",
              "      <th>4</th>\n",
              "      <td>1997-01-13</td>\n",
              "      <td>4.00</td>\n",
              "    </tr>\n",
              "    <tr>\n",
              "      <th>...</th>\n",
              "      <td>...</td>\n",
              "      <td>...</td>\n",
              "    </tr>\n",
              "    <tr>\n",
              "      <th>5948</th>\n",
              "      <td>2020-08-26</td>\n",
              "      <td>2.52</td>\n",
              "    </tr>\n",
              "    <tr>\n",
              "      <th>5949</th>\n",
              "      <td>2020-08-27</td>\n",
              "      <td>2.52</td>\n",
              "    </tr>\n",
              "    <tr>\n",
              "      <th>5950</th>\n",
              "      <td>2020-08-28</td>\n",
              "      <td>2.46</td>\n",
              "    </tr>\n",
              "    <tr>\n",
              "      <th>5951</th>\n",
              "      <td>2020-08-31</td>\n",
              "      <td>2.30</td>\n",
              "    </tr>\n",
              "    <tr>\n",
              "      <th>5952</th>\n",
              "      <td>2020-09-01</td>\n",
              "      <td>2.22</td>\n",
              "    </tr>\n",
              "  </tbody>\n",
              "</table>\n",
              "<p>5953 rows × 2 columns</p>\n",
              "</div>\n",
              "      <button class=\"colab-df-convert\" onclick=\"convertToInteractive('df-c20ced8b-5530-46a8-a4be-c4d01d96dd88')\"\n",
              "              title=\"Convert this dataframe to an interactive table.\"\n",
              "              style=\"display:none;\">\n",
              "        \n",
              "  <svg xmlns=\"http://www.w3.org/2000/svg\" height=\"24px\"viewBox=\"0 0 24 24\"\n",
              "       width=\"24px\">\n",
              "    <path d=\"M0 0h24v24H0V0z\" fill=\"none\"/>\n",
              "    <path d=\"M18.56 5.44l.94 2.06.94-2.06 2.06-.94-2.06-.94-.94-2.06-.94 2.06-2.06.94zm-11 1L8.5 8.5l.94-2.06 2.06-.94-2.06-.94L8.5 2.5l-.94 2.06-2.06.94zm10 10l.94 2.06.94-2.06 2.06-.94-2.06-.94-.94-2.06-.94 2.06-2.06.94z\"/><path d=\"M17.41 7.96l-1.37-1.37c-.4-.4-.92-.59-1.43-.59-.52 0-1.04.2-1.43.59L10.3 9.45l-7.72 7.72c-.78.78-.78 2.05 0 2.83L4 21.41c.39.39.9.59 1.41.59.51 0 1.02-.2 1.41-.59l7.78-7.78 2.81-2.81c.8-.78.8-2.07 0-2.86zM5.41 20L4 18.59l7.72-7.72 1.47 1.35L5.41 20z\"/>\n",
              "  </svg>\n",
              "      </button>\n",
              "      \n",
              "  <style>\n",
              "    .colab-df-container {\n",
              "      display:flex;\n",
              "      flex-wrap:wrap;\n",
              "      gap: 12px;\n",
              "    }\n",
              "\n",
              "    .colab-df-convert {\n",
              "      background-color: #E8F0FE;\n",
              "      border: none;\n",
              "      border-radius: 50%;\n",
              "      cursor: pointer;\n",
              "      display: none;\n",
              "      fill: #1967D2;\n",
              "      height: 32px;\n",
              "      padding: 0 0 0 0;\n",
              "      width: 32px;\n",
              "    }\n",
              "\n",
              "    .colab-df-convert:hover {\n",
              "      background-color: #E2EBFA;\n",
              "      box-shadow: 0px 1px 2px rgba(60, 64, 67, 0.3), 0px 1px 3px 1px rgba(60, 64, 67, 0.15);\n",
              "      fill: #174EA6;\n",
              "    }\n",
              "\n",
              "    [theme=dark] .colab-df-convert {\n",
              "      background-color: #3B4455;\n",
              "      fill: #D2E3FC;\n",
              "    }\n",
              "\n",
              "    [theme=dark] .colab-df-convert:hover {\n",
              "      background-color: #434B5C;\n",
              "      box-shadow: 0px 1px 3px 1px rgba(0, 0, 0, 0.15);\n",
              "      filter: drop-shadow(0px 1px 2px rgba(0, 0, 0, 0.3));\n",
              "      fill: #FFFFFF;\n",
              "    }\n",
              "  </style>\n",
              "\n",
              "      <script>\n",
              "        const buttonEl =\n",
              "          document.querySelector('#df-c20ced8b-5530-46a8-a4be-c4d01d96dd88 button.colab-df-convert');\n",
              "        buttonEl.style.display =\n",
              "          google.colab.kernel.accessAllowed ? 'block' : 'none';\n",
              "\n",
              "        async function convertToInteractive(key) {\n",
              "          const element = document.querySelector('#df-c20ced8b-5530-46a8-a4be-c4d01d96dd88');\n",
              "          const dataTable =\n",
              "            await google.colab.kernel.invokeFunction('convertToInteractive',\n",
              "                                                     [key], {});\n",
              "          if (!dataTable) return;\n",
              "\n",
              "          const docLinkHtml = 'Like what you see? Visit the ' +\n",
              "            '<a target=\"_blank\" href=https://colab.research.google.com/notebooks/data_table.ipynb>data table notebook</a>'\n",
              "            + ' to learn more about interactive tables.';\n",
              "          element.innerHTML = '';\n",
              "          dataTable['output_type'] = 'display_data';\n",
              "          await google.colab.output.renderOutput(dataTable, element);\n",
              "          const docLink = document.createElement('div');\n",
              "          docLink.innerHTML = docLinkHtml;\n",
              "          element.appendChild(docLink);\n",
              "        }\n",
              "      </script>\n",
              "    </div>\n",
              "  </div>\n",
              "  "
            ]
          },
          "metadata": {},
          "execution_count": 5
        }
      ],
      "source": [
        "oildata= pd.read_csv(\"daily_csv.csv\")\n",
        "oildata"
      ]
    },
    {
      "cell_type": "code",
      "execution_count": null,
      "metadata": {
        "id": "Pusoq9NqQ6hM",
        "colab": {
          "base_uri": "https://localhost:8080/"
        },
        "outputId": "009e3877-3c0f-4b74-c4ef-254a1c9af96b"
      },
      "outputs": [
        {
          "output_type": "stream",
          "name": "stdout",
          "text": [
            "<class 'pandas.core.frame.DataFrame'>\n",
            "RangeIndex: 5953 entries, 0 to 5952\n",
            "Data columns (total 2 columns):\n",
            " #   Column  Non-Null Count  Dtype  \n",
            "---  ------  --------------  -----  \n",
            " 0   Date    5953 non-null   object \n",
            " 1   Price   5952 non-null   float64\n",
            "dtypes: float64(1), object(1)\n",
            "memory usage: 93.1+ KB\n"
          ]
        }
      ],
      "source": [
        "oildata.info()"
      ]
    },
    {
      "cell_type": "code",
      "execution_count": null,
      "metadata": {
        "id": "TYoR3sobRU19"
      },
      "outputs": [],
      "source": [
        "# Converting the Date to a Datetime object\n",
        "\n",
        "oildata['Date'] = pd.to_datetime(oildata['Date'])"
      ]
    },
    {
      "cell_type": "code",
      "execution_count": null,
      "metadata": {
        "id": "FWqMuZ_iRhGj",
        "colab": {
          "base_uri": "https://localhost:8080/"
        },
        "outputId": "17ee3735-37aa-4395-8deb-f3e8c97af043"
      },
      "outputs": [
        {
          "output_type": "stream",
          "name": "stdout",
          "text": [
            "<class 'pandas.core.frame.DataFrame'>\n",
            "RangeIndex: 5953 entries, 0 to 5952\n",
            "Data columns (total 2 columns):\n",
            " #   Column  Non-Null Count  Dtype         \n",
            "---  ------  --------------  -----         \n",
            " 0   Date    5953 non-null   datetime64[ns]\n",
            " 1   Price   5952 non-null   float64       \n",
            "dtypes: datetime64[ns](1), float64(1)\n",
            "memory usage: 93.1 KB\n"
          ]
        }
      ],
      "source": [
        "oildata.info()"
      ]
    },
    {
      "cell_type": "code",
      "execution_count": null,
      "metadata": {
        "id": "XZVvM07XUEdC",
        "colab": {
          "base_uri": "https://localhost:8080/"
        },
        "outputId": "c912bd79-b363-4c19-d768-21ec005bc534"
      },
      "outputs": [
        {
          "output_type": "stream",
          "name": "stdout",
          "text": [
            "Number of missing data : \n",
            "Date     0\n",
            "Price    1\n",
            "dtype: int64\n",
            "\n"
          ]
        }
      ],
      "source": [
        "print(f\"Number of missing data : \\n{oildata.isnull().sum()}\\n\")"
      ]
    },
    {
      "cell_type": "code",
      "execution_count": null,
      "metadata": {
        "id": "5l0LVhBSU73B",
        "colab": {
          "base_uri": "https://localhost:8080/",
          "height": 423
        },
        "outputId": "192b45d3-da4d-40fc-af2d-de992eeab1a7"
      },
      "outputs": [
        {
          "output_type": "execute_result",
          "data": {
            "text/plain": [
              "           Date  Price\n",
              "0    1997-01-07   3.82\n",
              "1    1997-01-08   3.80\n",
              "2    1997-01-09   3.61\n",
              "3    1997-01-10   3.92\n",
              "4    1997-01-13   4.00\n",
              "...         ...    ...\n",
              "5948 2020-08-26   2.52\n",
              "5949 2020-08-27   2.52\n",
              "5950 2020-08-28   2.46\n",
              "5951 2020-08-31   2.30\n",
              "5952 2020-09-01   2.22\n",
              "\n",
              "[5953 rows x 2 columns]"
            ],
            "text/html": [
              "\n",
              "  <div id=\"df-0a539f73-66a7-4b8d-888c-a554d184be9b\">\n",
              "    <div class=\"colab-df-container\">\n",
              "      <div>\n",
              "<style scoped>\n",
              "    .dataframe tbody tr th:only-of-type {\n",
              "        vertical-align: middle;\n",
              "    }\n",
              "\n",
              "    .dataframe tbody tr th {\n",
              "        vertical-align: top;\n",
              "    }\n",
              "\n",
              "    .dataframe thead th {\n",
              "        text-align: right;\n",
              "    }\n",
              "</style>\n",
              "<table border=\"1\" class=\"dataframe\">\n",
              "  <thead>\n",
              "    <tr style=\"text-align: right;\">\n",
              "      <th></th>\n",
              "      <th>Date</th>\n",
              "      <th>Price</th>\n",
              "    </tr>\n",
              "  </thead>\n",
              "  <tbody>\n",
              "    <tr>\n",
              "      <th>0</th>\n",
              "      <td>1997-01-07</td>\n",
              "      <td>3.82</td>\n",
              "    </tr>\n",
              "    <tr>\n",
              "      <th>1</th>\n",
              "      <td>1997-01-08</td>\n",
              "      <td>3.80</td>\n",
              "    </tr>\n",
              "    <tr>\n",
              "      <th>2</th>\n",
              "      <td>1997-01-09</td>\n",
              "      <td>3.61</td>\n",
              "    </tr>\n",
              "    <tr>\n",
              "      <th>3</th>\n",
              "      <td>1997-01-10</td>\n",
              "      <td>3.92</td>\n",
              "    </tr>\n",
              "    <tr>\n",
              "      <th>4</th>\n",
              "      <td>1997-01-13</td>\n",
              "      <td>4.00</td>\n",
              "    </tr>\n",
              "    <tr>\n",
              "      <th>...</th>\n",
              "      <td>...</td>\n",
              "      <td>...</td>\n",
              "    </tr>\n",
              "    <tr>\n",
              "      <th>5948</th>\n",
              "      <td>2020-08-26</td>\n",
              "      <td>2.52</td>\n",
              "    </tr>\n",
              "    <tr>\n",
              "      <th>5949</th>\n",
              "      <td>2020-08-27</td>\n",
              "      <td>2.52</td>\n",
              "    </tr>\n",
              "    <tr>\n",
              "      <th>5950</th>\n",
              "      <td>2020-08-28</td>\n",
              "      <td>2.46</td>\n",
              "    </tr>\n",
              "    <tr>\n",
              "      <th>5951</th>\n",
              "      <td>2020-08-31</td>\n",
              "      <td>2.30</td>\n",
              "    </tr>\n",
              "    <tr>\n",
              "      <th>5952</th>\n",
              "      <td>2020-09-01</td>\n",
              "      <td>2.22</td>\n",
              "    </tr>\n",
              "  </tbody>\n",
              "</table>\n",
              "<p>5953 rows × 2 columns</p>\n",
              "</div>\n",
              "      <button class=\"colab-df-convert\" onclick=\"convertToInteractive('df-0a539f73-66a7-4b8d-888c-a554d184be9b')\"\n",
              "              title=\"Convert this dataframe to an interactive table.\"\n",
              "              style=\"display:none;\">\n",
              "        \n",
              "  <svg xmlns=\"http://www.w3.org/2000/svg\" height=\"24px\"viewBox=\"0 0 24 24\"\n",
              "       width=\"24px\">\n",
              "    <path d=\"M0 0h24v24H0V0z\" fill=\"none\"/>\n",
              "    <path d=\"M18.56 5.44l.94 2.06.94-2.06 2.06-.94-2.06-.94-.94-2.06-.94 2.06-2.06.94zm-11 1L8.5 8.5l.94-2.06 2.06-.94-2.06-.94L8.5 2.5l-.94 2.06-2.06.94zm10 10l.94 2.06.94-2.06 2.06-.94-2.06-.94-.94-2.06-.94 2.06-2.06.94z\"/><path d=\"M17.41 7.96l-1.37-1.37c-.4-.4-.92-.59-1.43-.59-.52 0-1.04.2-1.43.59L10.3 9.45l-7.72 7.72c-.78.78-.78 2.05 0 2.83L4 21.41c.39.39.9.59 1.41.59.51 0 1.02-.2 1.41-.59l7.78-7.78 2.81-2.81c.8-.78.8-2.07 0-2.86zM5.41 20L4 18.59l7.72-7.72 1.47 1.35L5.41 20z\"/>\n",
              "  </svg>\n",
              "      </button>\n",
              "      \n",
              "  <style>\n",
              "    .colab-df-container {\n",
              "      display:flex;\n",
              "      flex-wrap:wrap;\n",
              "      gap: 12px;\n",
              "    }\n",
              "\n",
              "    .colab-df-convert {\n",
              "      background-color: #E8F0FE;\n",
              "      border: none;\n",
              "      border-radius: 50%;\n",
              "      cursor: pointer;\n",
              "      display: none;\n",
              "      fill: #1967D2;\n",
              "      height: 32px;\n",
              "      padding: 0 0 0 0;\n",
              "      width: 32px;\n",
              "    }\n",
              "\n",
              "    .colab-df-convert:hover {\n",
              "      background-color: #E2EBFA;\n",
              "      box-shadow: 0px 1px 2px rgba(60, 64, 67, 0.3), 0px 1px 3px 1px rgba(60, 64, 67, 0.15);\n",
              "      fill: #174EA6;\n",
              "    }\n",
              "\n",
              "    [theme=dark] .colab-df-convert {\n",
              "      background-color: #3B4455;\n",
              "      fill: #D2E3FC;\n",
              "    }\n",
              "\n",
              "    [theme=dark] .colab-df-convert:hover {\n",
              "      background-color: #434B5C;\n",
              "      box-shadow: 0px 1px 3px 1px rgba(0, 0, 0, 0.15);\n",
              "      filter: drop-shadow(0px 1px 2px rgba(0, 0, 0, 0.3));\n",
              "      fill: #FFFFFF;\n",
              "    }\n",
              "  </style>\n",
              "\n",
              "      <script>\n",
              "        const buttonEl =\n",
              "          document.querySelector('#df-0a539f73-66a7-4b8d-888c-a554d184be9b button.colab-df-convert');\n",
              "        buttonEl.style.display =\n",
              "          google.colab.kernel.accessAllowed ? 'block' : 'none';\n",
              "\n",
              "        async function convertToInteractive(key) {\n",
              "          const element = document.querySelector('#df-0a539f73-66a7-4b8d-888c-a554d184be9b');\n",
              "          const dataTable =\n",
              "            await google.colab.kernel.invokeFunction('convertToInteractive',\n",
              "                                                     [key], {});\n",
              "          if (!dataTable) return;\n",
              "\n",
              "          const docLinkHtml = 'Like what you see? Visit the ' +\n",
              "            '<a target=\"_blank\" href=https://colab.research.google.com/notebooks/data_table.ipynb>data table notebook</a>'\n",
              "            + ' to learn more about interactive tables.';\n",
              "          element.innerHTML = '';\n",
              "          dataTable['output_type'] = 'display_data';\n",
              "          await google.colab.output.renderOutput(dataTable, element);\n",
              "          const docLink = document.createElement('div');\n",
              "          docLink.innerHTML = docLinkHtml;\n",
              "          element.appendChild(docLink);\n",
              "        }\n",
              "      </script>\n",
              "    </div>\n",
              "  </div>\n",
              "  "
            ]
          },
          "metadata": {},
          "execution_count": 10
        }
      ],
      "source": [
        "dataRN = oildata.fillna(method='ffill')\n",
        "dataRN"
      ]
    },
    {
      "cell_type": "code",
      "execution_count": null,
      "metadata": {
        "id": "IySZ670KWiae",
        "colab": {
          "base_uri": "https://localhost:8080/"
        },
        "outputId": "122f8c1f-dd29-4f74-f571-3dcccc528690"
      },
      "outputs": [
        {
          "output_type": "stream",
          "name": "stdout",
          "text": [
            "Number of missing data : \n",
            "Date     0\n",
            "Price    0\n",
            "dtype: int64\n",
            "\n"
          ]
        }
      ],
      "source": [
        "print(f\"Number of missing data : \\n{dataRN.isnull().sum()}\\n\")"
      ]
    },
    {
      "cell_type": "code",
      "execution_count": null,
      "metadata": {
        "id": "TVhUyzOOm_q4",
        "colab": {
          "base_uri": "https://localhost:8080/",
          "height": 514
        },
        "outputId": "9de3ae2b-c7c9-4ea7-9e71-a7e7fea80fe1"
      },
      "outputs": [
        {
          "output_type": "display_data",
          "data": {
            "text/plain": [
              "<Figure size 2000x800 with 1 Axes>"
            ],
            "image/png": "[encoded data removed]"
          },
          "metadata": {}
        }
      ],
      "source": [
        "import seaborn as sns\n",
        "plt.rcParams[\"figure.figsize\"] = (20,8)\n",
        "sns.lineplot(data=dataRN, x=\"Date\", y=\"Price\")\n",
        "plt.xticks(rotation = 45) # Rotates X-Axis Ticks by 45-degrees\n",
        "ax = plt.gca()\n",
        "\n",
        "plt.show()"
      ]
    },
    {
      "cell_type": "code",
      "execution_count": null,
      "metadata": {
        "id": "Pun0ZlXAGK0p",
        "colab": {
          "base_uri": "https://localhost:8080/",
          "height": 285
        },
        "outputId": "af4f64ad-6557-44a4-da42-7e6ebb4045cf"
      },
      "outputs": [
        {
          "output_type": "execute_result",
          "data": {
            "text/plain": [
              "<seaborn.axisgrid.PairGrid at 0x7f41b7105bd0>"
            ]
          },
          "metadata": {},
          "execution_count": 13
        },
        {
          "output_type": "display_data",
          "data": {
            "text/plain": [
              "<Figure size 250x250 with 2 Axes>"
            ],
            "image/png": "[encoded data removed]"
          },
          "metadata": {}
        }
      ],
      "source": [
        "sns.pairplot(oildata)"
      ]
    },
    {
      "cell_type": "markdown",
      "metadata": {
        "id": "UBNpJg74W_2G"
      },
      "source": [
        "**Data** **Spliting**"
      ]
    },
    {
      "cell_type": "code",
      "execution_count": null,
      "metadata": {
        "id": "rVNqPuzwAsRY",
        "colab": {
          "base_uri": "https://localhost:8080/",
          "height": 300
        },
        "outputId": "62bfe064-bd94-4136-eb27-b1e794d535ce"
      },
      "outputs": [
        {
          "output_type": "execute_result",
          "data": {
            "text/plain": [
              "             Price\n",
              "count  5953.000000\n",
              "mean      4.184722\n",
              "std       2.190185\n",
              "min       1.050000\n",
              "25%       2.650000\n",
              "50%       3.530000\n",
              "75%       5.240000\n",
              "max      18.480000"
            ],
            "text/html": [
              "\n",
              "  <div id=\"df-8238514b-8b7e-4111-9e0b-134ac912f4b6\">\n",
              "    <div class=\"colab-df-container\">\n",
              "      <div>\n",
              "<style scoped>\n",
              "    .dataframe tbody tr th:only-of-type {\n",
              "        vertical-align: middle;\n",
              "    }\n",
              "\n",
              "    .dataframe tbody tr th {\n",
              "        vertical-align: top;\n",
              "    }\n",
              "\n",
              "    .dataframe thead th {\n",
              "        text-align: right;\n",
              "    }\n",
              "</style>\n",
              "<table border=\"1\" class=\"dataframe\">\n",
              "  <thead>\n",
              "    <tr style=\"text-align: right;\">\n",
              "      <th></th>\n",
              "      <th>Price</th>\n",
              "    </tr>\n",
              "  </thead>\n",
              "  <tbody>\n",
              "    <tr>\n",
              "      <th>count</th>\n",
              "      <td>5953.000000</td>\n",
              "    </tr>\n",
              "    <tr>\n",
              "      <th>mean</th>\n",
              "      <td>4.184722</td>\n",
              "    </tr>\n",
              "    <tr>\n",
              "      <th>std</th>\n",
              "      <td>2.190185</td>\n",
              "    </tr>\n",
              "    <tr>\n",
              "      <th>min</th>\n",
              "      <td>1.050000</td>\n",
              "    </tr>\n",
              "    <tr>\n",
              "      <th>25%</th>\n",
              "      <td>2.650000</td>\n",
              "    </tr>\n",
              "    <tr>\n",
              "      <th>50%</th>\n",
              "      <td>3.530000</td>\n",
              "    </tr>\n",
              "    <tr>\n",
              "      <th>75%</th>\n",
              "      <td>5.240000</td>\n",
              "    </tr>\n",
              "    <tr>\n",
              "      <th>max</th>\n",
              "      <td>18.480000</td>\n",
              "    </tr>\n",
              "  </tbody>\n",
              "</table>\n",
              "</div>\n",
              "      <button class=\"colab-df-convert\" onclick=\"convertToInteractive('df-8238514b-8b7e-4111-9e0b-134ac912f4b6')\"\n",
              "              title=\"Convert this dataframe to an interactive table.\"\n",
              "              style=\"display:none;\">\n",
              "        \n",
              "  <svg xmlns=\"http://www.w3.org/2000/svg\" height=\"24px\"viewBox=\"0 0 24 24\"\n",
              "       width=\"24px\">\n",
              "    <path d=\"M0 0h24v24H0V0z\" fill=\"none\"/>\n",
              "    <path d=\"M18.56 5.44l.94 2.06.94-2.06 2.06-.94-2.06-.94-.94-2.06-.94 2.06-2.06.94zm-11 1L8.5 8.5l.94-2.06 2.06-.94-2.06-.94L8.5 2.5l-.94 2.06-2.06.94zm10 10l.94 2.06.94-2.06 2.06-.94-2.06-.94-.94-2.06-.94 2.06-2.06.94z\"/><path d=\"M17.41 7.96l-1.37-1.37c-.4-.4-.92-.59-1.43-.59-.52 0-1.04.2-1.43.59L10.3 9.45l-7.72 7.72c-.78.78-.78 2.05 0 2.83L4 21.41c.39.39.9.59 1.41.59.51 0 1.02-.2 1.41-.59l7.78-7.78 2.81-2.81c.8-.78.8-2.07 0-2.86zM5.41 20L4 18.59l7.72-7.72 1.47 1.35L5.41 20z\"/>\n",
              "  </svg>\n",
              "      </button>\n",
              "      \n",
              "  <style>\n",
              "    .colab-df-container {\n",
              "      display:flex;\n",
              "      flex-wrap:wrap;\n",
              "      gap: 12px;\n",
              "    }\n",
              "\n",
              "    .colab-df-convert {\n",
              "      background-color: #E8F0FE;\n",
              "      border: none;\n",
              "      border-radius: 50%;\n",
              "      cursor: pointer;\n",
              "      display: none;\n",
              "      fill: #1967D2;\n",
              "      height: 32px;\n",
              "      padding: 0 0 0 0;\n",
              "      width: 32px;\n",
              "    }\n",
              "\n",
              "    .colab-df-convert:hover {\n",
              "      background-color: #E2EBFA;\n",
              "      box-shadow: 0px 1px 2px rgba(60, 64, 67, 0.3), 0px 1px 3px 1px rgba(60, 64, 67, 0.15);\n",
              "      fill: #174EA6;\n",
              "    }\n",
              "\n",
              "    [theme=dark] .colab-df-convert {\n",
              "      background-color: #3B4455;\n",
              "      fill: #D2E3FC;\n",
              "    }\n",
              "\n",
              "    [theme=dark] .colab-df-convert:hover {\n",
              "      background-color: #434B5C;\n",
              "      box-shadow: 0px 1px 3px 1px rgba(0, 0, 0, 0.15);\n",
              "      filter: drop-shadow(0px 1px 2px rgba(0, 0, 0, 0.3));\n",
              "      fill: #FFFFFF;\n",
              "    }\n",
              "  </style>\n",
              "\n",
              "      <script>\n",
              "        const buttonEl =\n",
              "          document.querySelector('#df-8238514b-8b7e-4111-9e0b-134ac912f4b6 button.colab-df-convert');\n",
              "        buttonEl.style.display =\n",
              "          google.colab.kernel.accessAllowed ? 'block' : 'none';\n",
              "\n",
              "        async function convertToInteractive(key) {\n",
              "          const element = document.querySelector('#df-8238514b-8b7e-4111-9e0b-134ac912f4b6');\n",
              "          const dataTable =\n",
              "            await google.colab.kernel.invokeFunction('convertToInteractive',\n",
              "                                                     [key], {});\n",
              "          if (!dataTable) return;\n",
              "\n",
              "          const docLinkHtml = 'Like what you see? Visit the ' +\n",
              "            '<a target=\"_blank\" href=https://colab.research.google.com/notebooks/data_table.ipynb>data table notebook</a>'\n",
              "            + ' to learn more about interactive tables.';\n",
              "          element.innerHTML = '';\n",
              "          dataTable['output_type'] = 'display_data';\n",
              "          await google.colab.output.renderOutput(dataTable, element);\n",
              "          const docLink = document.createElement('div');\n",
              "          docLink.innerHTML = docLinkHtml;\n",
              "          element.appendChild(docLink);\n",
              "        }\n",
              "      </script>\n",
              "    </div>\n",
              "  </div>\n",
              "  "
            ]
          },
          "metadata": {},
          "execution_count": 14
        }
      ],
      "source": [
        "dataRN.describe()"
      ]
    },
    {
      "cell_type": "code",
      "execution_count": null,
      "metadata": {
        "id": "4Accm9La8cIj",
        "colab": {
          "base_uri": "https://localhost:8080/"
        },
        "outputId": "e3ca100d-5c99-4c3f-b1b9-6565777152df"
      },
      "outputs": [
        {
          "output_type": "stream",
          "name": "stdout",
          "text": [
            "4762\n",
            "1191\n"
          ]
        }
      ],
      "source": [
        "# Splitting the dataset to train and test\n",
        "split_ratio = 0.8 # 80% training data, 20% test data,\n",
        "\n",
        "train_length = round(split_ratio * len(dataRN))\n",
        "test_length = round(len(dataRN) - train_length)\n",
        "\n",
        "print(train_length)\n",
        "print(test_length)"
      ]
    },
    {
      "cell_type": "code",
      "execution_count": null,
      "metadata": {
        "id": "h3esdEpRgyii",
        "colab": {
          "base_uri": "https://localhost:8080/",
          "height": 423
        },
        "outputId": "ce9d181a-b14a-4687-c355-61ba3fe16e28"
      },
      "outputs": [
        {
          "output_type": "execute_result",
          "data": {
            "text/plain": [
              "           Date  Price\n",
              "0    1997-01-07   3.82\n",
              "1    1997-01-08   3.80\n",
              "2    1997-01-09   3.61\n",
              "3    1997-01-10   3.92\n",
              "4    1997-01-13   4.00\n",
              "...         ...    ...\n",
              "4757 2015-12-28   2.11\n",
              "4758 2015-12-29   2.39\n",
              "4759 2015-12-30   2.28\n",
              "4760 2015-12-31   2.28\n",
              "4761 2016-01-01   2.28\n",
              "\n",
              "[4762 rows x 2 columns]"
            ],
            "text/html": [
              "\n",
              "  <div id=\"df-bde13854-3321-4f6a-93b2-b5ee0d99deb6\">\n",
              "    <div class=\"colab-df-container\">\n",
              "      <div>\n",
              "<style scoped>\n",
              "    .dataframe tbody tr th:only-of-type {\n",
              "        vertical-align: middle;\n",
              "    }\n",
              "\n",
              "    .dataframe tbody tr th {\n",
              "        vertical-align: top;\n",
              "    }\n",
              "\n",
              "    .dataframe thead th {\n",
              "        text-align: right;\n",
              "    }\n",
              "</style>\n",
              "<table border=\"1\" class=\"dataframe\">\n",
              "  <thead>\n",
              "    <tr style=\"text-align: right;\">\n",
              "      <th></th>\n",
              "      <th>Date</th>\n",
              "      <th>Price</th>\n",
              "    </tr>\n",
              "  </thead>\n",
              "  <tbody>\n",
              "    <tr>\n",
              "      <th>0</th>\n",
              "      <td>1997-01-07</td>\n",
              "      <td>3.82</td>\n",
              "    </tr>\n",
              "    <tr>\n",
              "      <th>1</th>\n",
              "      <td>1997-01-08</td>\n",
              "      <td>3.80</td>\n",
              "    </tr>\n",
              "    <tr>\n",
              "      <th>2</th>\n",
              "      <td>1997-01-09</td>\n",
              "      <td>3.61</td>\n",
              "    </tr>\n",
              "    <tr>\n",
              "      <th>3</th>\n",
              "      <td>1997-01-10</td>\n",
              "      <td>3.92</td>\n",
              "    </tr>\n",
              "    <tr>\n",
              "      <th>4</th>\n",
              "      <td>1997-01-13</td>\n",
              "      <td>4.00</td>\n",
              "    </tr>\n",
              "    <tr>\n",
              "      <th>...</th>\n",
              "      <td>...</td>\n",
              "      <td>...</td>\n",
              "    </tr>\n",
              "    <tr>\n",
              "      <th>4757</th>\n",
              "      <td>2015-12-28</td>\n",
              "      <td>2.11</td>\n",
              "    </tr>\n",
              "    <tr>\n",
              "      <th>4758</th>\n",
              "      <td>2015-12-29</td>\n",
              "      <td>2.39</td>\n",
              "    </tr>\n",
              "    <tr>\n",
              "      <th>4759</th>\n",
              "      <td>2015-12-30</td>\n",
              "      <td>2.28</td>\n",
              "    </tr>\n",
              "    <tr>\n",
              "      <th>4760</th>\n",
              "      <td>2015-12-31</td>\n",
              "      <td>2.28</td>\n",
              "    </tr>\n",
              "    <tr>\n",
              "      <th>4761</th>\n",
              "      <td>2016-01-01</td>\n",
              "      <td>2.28</td>\n",
              "    </tr>\n",
              "  </tbody>\n",
              "</table>\n",
              "<p>4762 rows × 2 columns</p>\n",
              "</div>\n",
              "      <button class=\"colab-df-convert\" onclick=\"convertToInteractive('df-bde13854-3321-4f6a-93b2-b5ee0d99deb6')\"\n",
              "              title=\"Convert this dataframe to an interactive table.\"\n",
              "              style=\"display:none;\">\n",
              "        \n",
              "  <svg xmlns=\"http://www.w3.org/2000/svg\" height=\"24px\"viewBox=\"0 0 24 24\"\n",
              "       width=\"24px\">\n",
              "    <path d=\"M0 0h24v24H0V0z\" fill=\"none\"/>\n",
              "    <path d=\"M18.56 5.44l.94 2.06.94-2.06 2.06-.94-2.06-.94-.94-2.06-.94 2.06-2.06.94zm-11 1L8.5 8.5l.94-2.06 2.06-.94-2.06-.94L8.5 2.5l-.94 2.06-2.06.94zm10 10l.94 2.06.94-2.06 2.06-.94-2.06-.94-.94-2.06-.94 2.06-2.06.94z\"/><path d=\"M17.41 7.96l-1.37-1.37c-.4-.4-.92-.59-1.43-.59-.52 0-1.04.2-1.43.59L10.3 9.45l-7.72 7.72c-.78.78-.78 2.05 0 2.83L4 21.41c.39.39.9.59 1.41.59.51 0 1.02-.2 1.41-.59l7.78-7.78 2.81-2.81c.8-.78.8-2.07 0-2.86zM5.41 20L4 18.59l7.72-7.72 1.47 1.35L5.41 20z\"/>\n",
              "  </svg>\n",
              "      </button>\n",
              "      \n",
              "  <style>\n",
              "    .colab-df-container {\n",
              "      display:flex;\n",
              "      flex-wrap:wrap;\n",
              "      gap: 12px;\n",
              "    }\n",
              "\n",
              "    .colab-df-convert {\n",
              "      background-color: #E8F0FE;\n",
              "      border: none;\n",
              "      border-radius: 50%;\n",
              "      cursor: pointer;\n",
              "      display: none;\n",
              "      fill: #1967D2;\n",
              "      height: 32px;\n",
              "      padding: 0 0 0 0;\n",
              "      width: 32px;\n",
              "    }\n",
              "\n",
              "    .colab-df-convert:hover {\n",
              "      background-color: #E2EBFA;\n",
              "      box-shadow: 0px 1px 2px rgba(60, 64, 67, 0.3), 0px 1px 3px 1px rgba(60, 64, 67, 0.15);\n",
              "      fill: #174EA6;\n",
              "    }\n",
              "\n",
              "    [theme=dark] .colab-df-convert {\n",
              "      background-color: #3B4455;\n",
              "      fill: #D2E3FC;\n",
              "    }\n",
              "\n",
              "    [theme=dark] .colab-df-convert:hover {\n",
              "      background-color: #434B5C;\n",
              "      box-shadow: 0px 1px 3px 1px rgba(0, 0, 0, 0.15);\n",
              "      filter: drop-shadow(0px 1px 2px rgba(0, 0, 0, 0.3));\n",
              "      fill: #FFFFFF;\n",
              "    }\n",
              "  </style>\n",
              "\n",
              "      <script>\n",
              "        const buttonEl =\n",
              "          document.querySelector('#df-bde13854-3321-4f6a-93b2-b5ee0d99deb6 button.colab-df-convert');\n",
              "        buttonEl.style.display =\n",
              "          google.colab.kernel.accessAllowed ? 'block' : 'none';\n",
              "\n",
              "        async function convertToInteractive(key) {\n",
              "          const element = document.querySelector('#df-bde13854-3321-4f6a-93b2-b5ee0d99deb6');\n",
              "          const dataTable =\n",
              "            await google.colab.kernel.invokeFunction('convertToInteractive',\n",
              "                                                     [key], {});\n",
              "          if (!dataTable) return;\n",
              "\n",
              "          const docLinkHtml = 'Like what you see? Visit the ' +\n",
              "            '<a target=\"_blank\" href=https://colab.research.google.com/notebooks/data_table.ipynb>data table notebook</a>'\n",
              "            + ' to learn more about interactive tables.';\n",
              "          element.innerHTML = '';\n",
              "          dataTable['output_type'] = 'display_data';\n",
              "          await google.colab.output.renderOutput(dataTable, element);\n",
              "          const docLink = document.createElement('div');\n",
              "          docLink.innerHTML = docLinkHtml;\n",
              "          element.appendChild(docLink);\n",
              "        }\n",
              "      </script>\n",
              "    </div>\n",
              "  </div>\n",
              "  "
            ]
          },
          "metadata": {},
          "execution_count": 16
        }
      ],
      "source": [
        "traindf = dataRN[:train_length].iloc[:,:] # picking the training samples\n",
        "traindf"
      ]
    },
    {
      "cell_type": "code",
      "execution_count": null,
      "metadata": {
        "id": "S7jH5KRJiDQV",
        "colab": {
          "base_uri": "https://localhost:8080/",
          "height": 527
        },
        "outputId": "2e4e20de-c117-45ae-af22-e94310c64880"
      },
      "outputs": [
        {
          "output_type": "stream",
          "name": "stderr",
          "text": [
            "<ipython-input-17-2dee267b1fbc>:2: SettingWithCopyWarning: \n",
            "A value is trying to be set on a copy of a slice from a DataFrame.\n",
            "Try using .loc[row_indexer,col_indexer] = value instead\n",
            "\n",
            "See the caveats in the documentation: https://pandas.pydata.org/pandas-docs/stable/user_guide/indexing.html#returning-a-view-versus-a-copy\n",
            "  testdf['Date'] = pd.to_datetime(testdf['Date'])\n"
          ]
        },
        {
          "output_type": "execute_result",
          "data": {
            "text/plain": [
              "           Date  Price\n",
              "4762 2016-01-04   2.39\n",
              "4763 2016-01-05   2.33\n",
              "4764 2016-01-06   2.37\n",
              "4765 2016-01-07   2.35\n",
              "4766 2016-01-08   2.47\n",
              "...         ...    ...\n",
              "5948 2020-08-26   2.52\n",
              "5949 2020-08-27   2.52\n",
              "5950 2020-08-28   2.46\n",
              "5951 2020-08-31   2.30\n",
              "5952 2020-09-01   2.22\n",
              "\n",
              "[1191 rows x 2 columns]"
            ],
            "text/html": [
              "\n",
              "  <div id=\"df-b613f198-7a3e-44ed-986f-8b062f065df6\">\n",
              "    <div class=\"colab-df-container\">\n",
              "      <div>\n",
              "<style scoped>\n",
              "    .dataframe tbody tr th:only-of-type {\n",
              "        vertical-align: middle;\n",
              "    }\n",
              "\n",
              "    .dataframe tbody tr th {\n",
              "        vertical-align: top;\n",
              "    }\n",
              "\n",
              "    .dataframe thead th {\n",
              "        text-align: right;\n",
              "    }\n",
              "</style>\n",
              "<table border=\"1\" class=\"dataframe\">\n",
              "  <thead>\n",
              "    <tr style=\"text-align: right;\">\n",
              "      <th></th>\n",
              "      <th>Date</th>\n",
              "      <th>Price</th>\n",
              "    </tr>\n",
              "  </thead>\n",
              "  <tbody>\n",
              "    <tr>\n",
              "      <th>4762</th>\n",
              "      <td>2016-01-04</td>\n",
              "      <td>2.39</td>\n",
              "    </tr>\n",
              "    <tr>\n",
              "      <th>4763</th>\n",
              "      <td>2016-01-05</td>\n",
              "      <td>2.33</td>\n",
              "    </tr>\n",
              "    <tr>\n",
              "      <th>4764</th>\n",
              "      <td>2016-01-06</td>\n",
              "      <td>2.37</td>\n",
              "    </tr>\n",
              "    <tr>\n",
              "      <th>4765</th>\n",
              "      <td>2016-01-07</td>\n",
              "      <td>2.35</td>\n",
              "    </tr>\n",
              "    <tr>\n",
              "      <th>4766</th>\n",
              "      <td>2016-01-08</td>\n",
              "      <td>2.47</td>\n",
              "    </tr>\n",
              "    <tr>\n",
              "      <th>...</th>\n",
              "      <td>...</td>\n",
              "      <td>...</td>\n",
              "    </tr>\n",
              "    <tr>\n",
              "      <th>5948</th>\n",
              "      <td>2020-08-26</td>\n",
              "      <td>2.52</td>\n",
              "    </tr>\n",
              "    <tr>\n",
              "      <th>5949</th>\n",
              "      <td>2020-08-27</td>\n",
              "      <td>2.52</td>\n",
              "    </tr>\n",
              "    <tr>\n",
              "      <th>5950</th>\n",
              "      <td>2020-08-28</td>\n",
              "      <td>2.46</td>\n",
              "    </tr>\n",
              "    <tr>\n",
              "      <th>5951</th>\n",
              "      <td>2020-08-31</td>\n",
              "      <td>2.30</td>\n",
              "    </tr>\n",
              "    <tr>\n",
              "      <th>5952</th>\n",
              "      <td>2020-09-01</td>\n",
              "      <td>2.22</td>\n",
              "    </tr>\n",
              "  </tbody>\n",
              "</table>\n",
              "<p>1191 rows × 2 columns</p>\n",
              "</div>\n",
              "      <button class=\"colab-df-convert\" onclick=\"convertToInteractive('df-b613f198-7a3e-44ed-986f-8b062f065df6')\"\n",
              "              title=\"Convert this dataframe to an interactive table.\"\n",
              "              style=\"display:none;\">\n",
              "        \n",
              "  <svg xmlns=\"http://www.w3.org/2000/svg\" height=\"24px\"viewBox=\"0 0 24 24\"\n",
              "       width=\"24px\">\n",
              "    <path d=\"M0 0h24v24H0V0z\" fill=\"none\"/>\n",
              "    <path d=\"M18.56 5.44l.94 2.06.94-2.06 2.06-.94-2.06-.94-.94-2.06-.94 2.06-2.06.94zm-11 1L8.5 8.5l.94-2.06 2.06-.94-2.06-.94L8.5 2.5l-.94 2.06-2.06.94zm10 10l.94 2.06.94-2.06 2.06-.94-2.06-.94-.94-2.06-.94 2.06-2.06.94z\"/><path d=\"M17.41 7.96l-1.37-1.37c-.4-.4-.92-.59-1.43-.59-.52 0-1.04.2-1.43.59L10.3 9.45l-7.72 7.72c-.78.78-.78 2.05 0 2.83L4 21.41c.39.39.9.59 1.41.59.51 0 1.02-.2 1.41-.59l7.78-7.78 2.81-2.81c.8-.78.8-2.07 0-2.86zM5.41 20L4 18.59l7.72-7.72 1.47 1.35L5.41 20z\"/>\n",
              "  </svg>\n",
              "      </button>\n",
              "      \n",
              "  <style>\n",
              "    .colab-df-container {\n",
              "      display:flex;\n",
              "      flex-wrap:wrap;\n",
              "      gap: 12px;\n",
              "    }\n",
              "\n",
              "    .colab-df-convert {\n",
              "      background-color: #E8F0FE;\n",
              "      border: none;\n",
              "      border-radius: 50%;\n",
              "      cursor: pointer;\n",
              "      display: none;\n",
              "      fill: #1967D2;\n",
              "      height: 32px;\n",
              "      padding: 0 0 0 0;\n",
              "      width: 32px;\n",
              "    }\n",
              "\n",
              "    .colab-df-convert:hover {\n",
              "      background-color: #E2EBFA;\n",
              "      box-shadow: 0px 1px 2px rgba(60, 64, 67, 0.3), 0px 1px 3px 1px rgba(60, 64, 67, 0.15);\n",
              "      fill: #174EA6;\n",
              "    }\n",
              "\n",
              "    [theme=dark] .colab-df-convert {\n",
              "      background-color: #3B4455;\n",
              "      fill: #D2E3FC;\n",
              "    }\n",
              "\n",
              "    [theme=dark] .colab-df-convert:hover {\n",
              "      background-color: #434B5C;\n",
              "      box-shadow: 0px 1px 3px 1px rgba(0, 0, 0, 0.15);\n",
              "      filter: drop-shadow(0px 1px 2px rgba(0, 0, 0, 0.3));\n",
              "      fill: #FFFFFF;\n",
              "    }\n",
              "  </style>\n",
              "\n",
              "      <script>\n",
              "        const buttonEl =\n",
              "          document.querySelector('#df-b613f198-7a3e-44ed-986f-8b062f065df6 button.colab-df-convert');\n",
              "        buttonEl.style.display =\n",
              "          google.colab.kernel.accessAllowed ? 'block' : 'none';\n",
              "\n",
              "        async function convertToInteractive(key) {\n",
              "          const element = document.querySelector('#df-b613f198-7a3e-44ed-986f-8b062f065df6');\n",
              "          const dataTable =\n",
              "            await google.colab.kernel.invokeFunction('convertToInteractive',\n",
              "                                                     [key], {});\n",
              "          if (!dataTable) return;\n",
              "\n",
              "          const docLinkHtml = 'Like what you see? Visit the ' +\n",
              "            '<a target=\"_blank\" href=https://colab.research.google.com/notebooks/data_table.ipynb>data table notebook</a>'\n",
              "            + ' to learn more about interactive tables.';\n",
              "          element.innerHTML = '';\n",
              "          dataTable['output_type'] = 'display_data';\n",
              "          await google.colab.output.renderOutput(dataTable, element);\n",
              "          const docLink = document.createElement('div');\n",
              "          docLink.innerHTML = docLinkHtml;\n",
              "          element.appendChild(docLink);\n",
              "        }\n",
              "      </script>\n",
              "    </div>\n",
              "  </div>\n",
              "  "
            ]
          },
          "metadata": {},
          "execution_count": 17
        }
      ],
      "source": [
        "testdf = dataRN[train_length:train_length+test_length].iloc[:,:] # picking the validation samples\n",
        "testdf['Date'] = pd.to_datetime(testdf['Date'])\n",
        "testdf"
      ]
    },
    {
      "cell_type": "code",
      "execution_count": null,
      "metadata": {
        "id": "sbuH7rftMtDA",
        "colab": {
          "base_uri": "https://localhost:8080/"
        },
        "outputId": "43b710a9-08de-44bd-b03c-1261d2da3123"
      },
      "outputs": [
        {
          "output_type": "stream",
          "name": "stdout",
          "text": [
            "(4762, 2)\n",
            "(1191, 2)\n"
          ]
        }
      ],
      "source": [
        "print(traindf.shape)\n",
        "print(testdf.shape)"
      ]
    },
    {
      "cell_type": "markdown",
      "metadata": {
        "id": "BTw80sRyi5FA"
      },
      "source": [
        "Since We are taking a time series data, we would most likely required to make our prediction prices hence we would pick 'Price' column from our dataset to construct the training data for the model."
      ]
    },
    {
      "cell_type": "code",
      "execution_count": null,
      "metadata": {
        "id": "9fUDRoojixLu",
        "colab": {
          "base_uri": "https://localhost:8080/"
        },
        "outputId": "fde0dcc9-e39b-461d-fc86-3cca146bffa2"
      },
      "outputs": [
        {
          "output_type": "execute_result",
          "data": {
            "text/plain": [
              "(4762, 1)"
            ]
          },
          "metadata": {},
          "execution_count": 19
        }
      ],
      "source": [
        "# Creating train dataset\n",
        "\n",
        "df_train = traindf['Price'].values\n",
        "df_train = np.reshape(df_train,(-1,1))\n",
        "df_train.shape"
      ]
    },
    {
      "cell_type": "code",
      "execution_count": null,
      "metadata": {
        "id": "d8sKrwgaS8CF",
        "colab": {
          "base_uri": "https://localhost:8080/"
        },
        "outputId": "eddbcfc0-8b32-4eca-f50c-38ca6402ff2e"
      },
      "outputs": [
        {
          "output_type": "execute_result",
          "data": {
            "text/plain": [
              "(1191, 1)"
            ]
          },
          "metadata": {},
          "execution_count": 20
        }
      ],
      "source": [
        "# Creating test dataset\n",
        "\n",
        "df_test = testdf['Price'].values\n",
        "df_test = np.reshape(df_test,(-1,1))\n",
        "df_test.shape"
      ]
    },
    {
      "cell_type": "code",
      "execution_count": null,
      "metadata": {
        "id": "zuWEOHUaM52r",
        "colab": {
          "base_uri": "https://localhost:8080/"
        },
        "outputId": "3e58c47f-f477-4223-edc6-baeb718f85c7"
      },
      "outputs": [
        {
          "output_type": "stream",
          "name": "stdout",
          "text": [
            "(4762, 1)\n",
            "----------------\n",
            "(1191, 1)\n"
          ]
        }
      ],
      "source": [
        "# Nomalizing the values to the 0-1 range to reduce the effect of variance\n",
        "# Min-Max Scaler\n",
        "\n",
        "scaler_train = MinMaxScaler()\n",
        "scaler_test = MinMaxScaler()\n",
        "df_train_scaled = scaler_train.fit_transform(df_train)\n",
        "df_test_scaled = scaler_test.fit_transform(df_test)\n",
        "\n",
        "print(df_train_scaled.shape)\n",
        "print('----------------')\n",
        "print(df_test_scaled.shape)"
      ]
    },
    {
      "cell_type": "markdown",
      "metadata": {
        "id": "ygyC2JepyF1d"
      },
      "source": [
        "Transforming our df_train to x_train and y_train\n",
        "\n",
        "So as this is a TIME SERIES dataset, we would try to consider data of a particular time frame to trian and then predict them on the following day\n",
        "\n",
        "So for example, we would take price from:\n",
        "-> day 0-11 and predict the price of 12th\n",
        "-> day 1-12 and predict the price of 13th\n",
        "-> day 2-13 and predict the price of 14th....\n",
        "\n",
        "Hence we prepare the dataset accordingly, Xtrain has all the 12-day prices and the Ytrain has all the forecast prices (13th days)."
      ]
    },
    {
      "cell_type": "code",
      "execution_count": null,
      "metadata": {
        "id": "bZm51MbOIAnt"
      },
      "outputs": [],
      "source": [
        "# look_back = number of features. No of days we look back to predict todays price. Use ACF and PACF to determine this\n",
        "# Steps performed to create a timeseries data\n",
        "\n",
        "def create_dataset(dataRN, look_back=1):\n",
        "    dataX, dataY = [], []\n",
        "    for i in range(look_back,len(dataRN)):\n",
        "      dataX.append(dataRN[i-look_back:i,0])\n",
        "      dataY.append(dataRN[i,0])\n",
        "    return np.array(dataX), np.array(dataY)"
      ]
    },
    {
      "cell_type": "code",
      "execution_count": null,
      "metadata": {
        "id": "h2p1RjzWH4vm"
      },
      "outputs": [],
      "source": [
        "look_back = 12\n",
        "x_train, y_train = create_dataset(df_train_scaled, look_back)\n",
        "x_test, y_test = create_dataset(df_test_scaled, look_back)"
      ]
    },
    {
      "cell_type": "code",
      "execution_count": null,
      "metadata": {
        "id": "N9muSX-bAmMn"
      },
      "outputs": [],
      "source": [
        "x_train = np.reshape(x_train, (x_train.shape[0], x_train.shape[1], 1))\n",
        "y_train = np.reshape(y_train, (y_train.shape[0], 1))\n",
        "\n",
        "x_test = np.reshape(x_test, (x_test.shape[0], x_test.shape[1], 1))\n",
        "y_test = np.reshape(y_test, (y_test.shape[0], 1))"
      ]
    },
    {
      "cell_type": "code",
      "execution_count": null,
      "metadata": {
        "id": "W9qvcxLaIloM",
        "colab": {
          "base_uri": "https://localhost:8080/"
        },
        "outputId": "011952f1-cc59-4749-9ac5-f4a34b00e0a8"
      },
      "outputs": [
        {
          "output_type": "stream",
          "name": "stdout",
          "text": [
            "(4750, 12, 1)\n",
            "(4750, 1)\n"
          ]
        }
      ],
      "source": [
        "print(x_train.shape)\n",
        "print(y_train.shape)"
      ]
    },
    {
      "cell_type": "code",
      "execution_count": null,
      "metadata": {
        "id": "w3Fau459KWS5",
        "colab": {
          "base_uri": "https://localhost:8080/"
        },
        "outputId": "6cf2075d-5ac1-4b21-c8ee-dd75c5572f64"
      },
      "outputs": [
        {
          "output_type": "stream",
          "name": "stdout",
          "text": [
            "(1179, 12, 1)\n",
            "(1179, 1)\n"
          ]
        }
      ],
      "source": [
        "print(x_test.shape)\n",
        "print(y_test.shape)"
      ]
    },
    {
      "cell_type": "code",
      "execution_count": null,
      "metadata": {
        "id": "6xiHieJ4J3nF",
        "colab": {
          "base_uri": "https://localhost:8080/"
        },
        "outputId": "b9413b7a-a530-44eb-f105-7231cd1ccc40"
      },
      "outputs": [
        {
          "output_type": "stream",
          "name": "stdout",
          "text": [
            "[[0.1589214 ]\n",
            " [0.15777395]\n",
            " [0.14687321]\n",
            " [0.16465863]\n",
            " [0.16924842]\n",
            " [0.16982215]\n",
            " [0.18875502]\n",
            " [0.20998279]\n",
            " [0.16408491]\n",
            " [0.12679289]\n",
            " [0.11130235]\n",
            " [0.11474469]]\n",
            "[0.10958118]\n"
          ]
        }
      ],
      "source": [
        "# This is the first sample, data of 0-12 days as x_train[0], original price on 13th day as y_train[0]\n",
        "print(x_train[0])\n",
        "print(y_train[0])"
      ]
    },
    {
      "cell_type": "code",
      "execution_count": null,
      "metadata": {
        "id": "OT1mknNSCMg5"
      },
      "outputs": [],
      "source": [
        "from keras.models import Sequential\n",
        "from keras.layers import SimpleRNN, Dropout, Dense"
      ]
    },
    {
      "cell_type": "code",
      "execution_count": null,
      "metadata": {
        "id": "BamBgFRGJKya",
        "colab": {
          "base_uri": "https://localhost:8080/"
        },
        "outputId": "bd3a281e-a6d0-43d3-e4a9-4b2ae79eba6f"
      },
      "outputs": [
        {
          "output_type": "stream",
          "name": "stdout",
          "text": [
            "Epoch 1/100\n",
            "50/50 [==============================] - 6s 15ms/step - loss: 0.0566 - accuracy: 2.1053e-04\n",
            "Epoch 2/100\n",
            "50/50 [==============================] - 1s 13ms/step - loss: 0.0184 - accuracy: 2.1053e-04\n",
            "Epoch 3/100\n",
            "50/50 [==============================] - 1s 13ms/step - loss: 0.0124 - accuracy: 2.1053e-04\n",
            "Epoch 4/100\n",
            "50/50 [==============================] - 1s 13ms/step - loss: 0.0091 - accuracy: 2.1053e-04\n",
            "Epoch 5/100\n",
            "50/50 [==============================] - 1s 13ms/step - loss: 0.0075 - accuracy: 2.1053e-04\n",
            "Epoch 6/100\n",
            "50/50 [==============================] - 1s 13ms/step - loss: 0.0063 - accuracy: 2.1053e-04\n",
            "Epoch 7/100\n",
            "50/50 [==============================] - 1s 14ms/step - loss: 0.0056 - accuracy: 2.1053e-04\n",
            "Epoch 8/100\n",
            "50/50 [==============================] - 1s 15ms/step - loss: 0.0046 - accuracy: 2.1053e-04\n",
            "Epoch 9/100\n",
            "50/50 [==============================] - 1s 26ms/step - loss: 0.0041 - accuracy: 2.1053e-04\n",
            "Epoch 10/100\n",
            "50/50 [==============================] - 1s 27ms/step - loss: 0.0040 - accuracy: 2.1053e-04\n",
            "Epoch 11/100\n",
            "50/50 [==============================] - 2s 33ms/step - loss: 0.0036 - accuracy: 2.1053e-04\n",
            "Epoch 12/100\n",
            "50/50 [==============================] - 2s 35ms/step - loss: 0.0033 - accuracy: 2.1053e-04\n",
            "Epoch 13/100\n",
            "50/50 [==============================] - 2s 38ms/step - loss: 0.0031 - accuracy: 2.1053e-04\n",
            "Epoch 14/100\n",
            "50/50 [==============================] - 2s 40ms/step - loss: 0.0027 - accuracy: 2.1053e-04\n",
            "Epoch 15/100\n",
            "50/50 [==============================] - 2s 37ms/step - loss: 0.0025 - accuracy: 2.1053e-04\n",
            "Epoch 16/100\n",
            "50/50 [==============================] - 2s 33ms/step - loss: 0.0026 - accuracy: 2.1053e-04\n",
            "Epoch 17/100\n",
            "50/50 [==============================] - 2s 32ms/step - loss: 0.0023 - accuracy: 2.1053e-04\n",
            "Epoch 18/100\n",
            "50/50 [==============================] - 1s 26ms/step - loss: 0.0023 - accuracy: 2.1053e-04\n",
            "Epoch 19/100\n",
            "50/50 [==============================] - 1s 27ms/step - loss: 0.0022 - accuracy: 2.1053e-04\n",
            "Epoch 20/100\n",
            "50/50 [==============================] - 1s 28ms/step - loss: 0.0020 - accuracy: 2.1053e-04\n",
            "Epoch 21/100\n",
            "50/50 [==============================] - 1s 26ms/step - loss: 0.0019 - accuracy: 2.1053e-04\n",
            "Epoch 22/100\n",
            "50/50 [==============================] - 1s 26ms/step - loss: 0.0018 - accuracy: 2.1053e-04\n",
            "Epoch 23/100\n",
            "50/50 [==============================] - 1s 27ms/step - loss: 0.0019 - accuracy: 2.1053e-04\n",
            "Epoch 24/100\n",
            "50/50 [==============================] - 2s 38ms/step - loss: 0.0018 - accuracy: 2.1053e-04\n",
            "Epoch 25/100\n",
            "50/50 [==============================] - 2s 35ms/step - loss: 0.0016 - accuracy: 2.1053e-04\n",
            "Epoch 26/100\n",
            "50/50 [==============================] - 2s 33ms/step - loss: 0.0017 - accuracy: 2.1053e-04\n",
            "Epoch 27/100\n",
            "50/50 [==============================] - 1s 14ms/step - loss: 0.0016 - accuracy: 2.1053e-04\n",
            "Epoch 28/100\n",
            "50/50 [==============================] - 1s 13ms/step - loss: 0.0017 - accuracy: 2.1053e-04\n",
            "Epoch 29/100\n",
            "50/50 [==============================] - 1s 14ms/step - loss: 0.0014 - accuracy: 2.1053e-04\n",
            "Epoch 30/100\n",
            "50/50 [==============================] - 1s 14ms/step - loss: 0.0016 - accuracy: 2.1053e-04\n",
            "Epoch 31/100\n",
            "50/50 [==============================] - 1s 15ms/step - loss: 0.0015 - accuracy: 2.1053e-04\n",
            "Epoch 32/100\n",
            "50/50 [==============================] - 1s 14ms/step - loss: 0.0014 - accuracy: 2.1053e-04\n",
            "Epoch 33/100\n",
            "50/50 [==============================] - 1s 13ms/step - loss: 0.0013 - accuracy: 2.1053e-04\n",
            "Epoch 34/100\n",
            "50/50 [==============================] - 1s 14ms/step - loss: 0.0013 - accuracy: 2.1053e-04\n",
            "Epoch 35/100\n",
            "50/50 [==============================] - 1s 13ms/step - loss: 0.0015 - accuracy: 2.1053e-04\n",
            "Epoch 36/100\n",
            "50/50 [==============================] - 1s 13ms/step - loss: 0.0013 - accuracy: 2.1053e-04\n",
            "Epoch 37/100\n",
            "50/50 [==============================] - 1s 14ms/step - loss: 0.0013 - accuracy: 2.1053e-04\n",
            "Epoch 38/100\n",
            "50/50 [==============================] - 1s 13ms/step - loss: 0.0013 - accuracy: 2.1053e-04\n",
            "Epoch 39/100\n",
            "50/50 [==============================] - 1s 14ms/step - loss: 0.0014 - accuracy: 2.1053e-04\n",
            "Epoch 40/100\n",
            "50/50 [==============================] - 1s 14ms/step - loss: 0.0012 - accuracy: 2.1053e-04\n",
            "Epoch 41/100\n",
            "50/50 [==============================] - 1s 18ms/step - loss: 0.0013 - accuracy: 2.1053e-04\n",
            "Epoch 42/100\n",
            "50/50 [==============================] - 1s 21ms/step - loss: 0.0012 - accuracy: 2.1053e-04\n",
            "Epoch 43/100\n",
            "50/50 [==============================] - 1s 20ms/step - loss: 0.0013 - accuracy: 2.1053e-04\n",
            "Epoch 44/100\n",
            "50/50 [==============================] - 1s 22ms/step - loss: 0.0012 - accuracy: 2.1053e-04\n",
            "Epoch 45/100\n",
            "50/50 [==============================] - 1s 21ms/step - loss: 0.0012 - accuracy: 2.1053e-04\n",
            "Epoch 46/100\n",
            "50/50 [==============================] - 1s 19ms/step - loss: 0.0012 - accuracy: 2.1053e-04\n",
            "Epoch 47/100\n",
            "50/50 [==============================] - 1s 13ms/step - loss: 0.0012 - accuracy: 2.1053e-04\n",
            "Epoch 48/100\n",
            "50/50 [==============================] - 1s 14ms/step - loss: 0.0012 - accuracy: 2.1053e-04\n",
            "Epoch 49/100\n",
            "50/50 [==============================] - 1s 15ms/step - loss: 0.0012 - accuracy: 2.1053e-04\n",
            "Epoch 50/100\n",
            "50/50 [==============================] - 1s 13ms/step - loss: 0.0011 - accuracy: 2.1053e-04\n",
            "Epoch 51/100\n",
            "50/50 [==============================] - 1s 14ms/step - loss: 0.0012 - accuracy: 2.1053e-04\n",
            "Epoch 52/100\n",
            "50/50 [==============================] - 1s 13ms/step - loss: 0.0012 - accuracy: 2.1053e-04\n",
            "Epoch 53/100\n",
            "50/50 [==============================] - 1s 14ms/step - loss: 0.0011 - accuracy: 2.1053e-04\n",
            "Epoch 54/100\n",
            "50/50 [==============================] - 1s 14ms/step - loss: 0.0011 - accuracy: 2.1053e-04\n",
            "Epoch 55/100\n",
            "50/50 [==============================] - 1s 14ms/step - loss: 0.0011 - accuracy: 2.1053e-04\n",
            "Epoch 56/100\n",
            "50/50 [==============================] - 1s 14ms/step - loss: 0.0012 - accuracy: 2.1053e-04\n",
            "Epoch 57/100\n",
            "50/50 [==============================] - 1s 14ms/step - loss: 0.0011 - accuracy: 2.1053e-04\n",
            "Epoch 58/100\n",
            "50/50 [==============================] - 1s 13ms/step - loss: 0.0010 - accuracy: 2.1053e-04\n",
            "Epoch 59/100\n",
            "50/50 [==============================] - 1s 13ms/step - loss: 0.0010 - accuracy: 2.1053e-04\n",
            "Epoch 60/100\n",
            "50/50 [==============================] - 1s 16ms/step - loss: 0.0010 - accuracy: 2.1053e-04\n",
            "Epoch 61/100\n",
            "50/50 [==============================] - 1s 22ms/step - loss: 0.0011 - accuracy: 2.1053e-04\n",
            "Epoch 62/100\n",
            "50/50 [==============================] - 1s 22ms/step - loss: 0.0011 - accuracy: 2.1053e-04\n",
            "Epoch 63/100\n",
            "50/50 [==============================] - 1s 21ms/step - loss: 0.0010 - accuracy: 2.1053e-04\n",
            "Epoch 64/100\n",
            "50/50 [==============================] - 1s 21ms/step - loss: 9.9923e-04 - accuracy: 2.1053e-04\n",
            "Epoch 65/100\n",
            "50/50 [==============================] - 1s 18ms/step - loss: 9.7513e-04 - accuracy: 2.1053e-04\n",
            "Epoch 66/100\n",
            "50/50 [==============================] - 1s 13ms/step - loss: 9.7617e-04 - accuracy: 2.1053e-04\n",
            "Epoch 67/100\n",
            "50/50 [==============================] - 1s 14ms/step - loss: 9.7210e-04 - accuracy: 2.1053e-04\n",
            "Epoch 68/100\n",
            "50/50 [==============================] - 1s 13ms/step - loss: 9.5971e-04 - accuracy: 2.1053e-04\n",
            "Epoch 69/100\n",
            "50/50 [==============================] - 1s 13ms/step - loss: 9.8103e-04 - accuracy: 2.1053e-04\n",
            "Epoch 70/100\n",
            "50/50 [==============================] - 1s 14ms/step - loss: 9.0166e-04 - accuracy: 2.1053e-04\n",
            "Epoch 71/100\n",
            "50/50 [==============================] - 1s 14ms/step - loss: 0.0010 - accuracy: 2.1053e-04\n",
            "Epoch 72/100\n",
            "50/50 [==============================] - 1s 14ms/step - loss: 9.3138e-04 - accuracy: 2.1053e-04\n",
            "Epoch 73/100\n",
            "50/50 [==============================] - 1s 14ms/step - loss: 9.2677e-04 - accuracy: 2.1053e-04\n",
            "Epoch 74/100\n",
            "50/50 [==============================] - 1s 13ms/step - loss: 9.4126e-04 - accuracy: 2.1053e-04\n",
            "Epoch 75/100\n",
            "50/50 [==============================] - 1s 14ms/step - loss: 9.0497e-04 - accuracy: 2.1053e-04\n",
            "Epoch 76/100\n",
            "50/50 [==============================] - 1s 14ms/step - loss: 8.9939e-04 - accuracy: 4.2105e-04\n",
            "Epoch 77/100\n",
            "50/50 [==============================] - 1s 13ms/step - loss: 8.9901e-04 - accuracy: 4.2105e-04\n",
            "Epoch 78/100\n",
            "50/50 [==============================] - 1s 14ms/step - loss: 9.6137e-04 - accuracy: 2.1053e-04\n",
            "Epoch 79/100\n",
            "50/50 [==============================] - 1s 13ms/step - loss: 9.0012e-04 - accuracy: 2.1053e-04\n",
            "Epoch 80/100\n",
            "50/50 [==============================] - 1s 19ms/step - loss: 8.9637e-04 - accuracy: 2.1053e-04\n",
            "Epoch 81/100\n",
            "50/50 [==============================] - 1s 21ms/step - loss: 8.7835e-04 - accuracy: 4.2105e-04\n",
            "Epoch 82/100\n",
            "50/50 [==============================] - 1s 22ms/step - loss: 8.9994e-04 - accuracy: 2.1053e-04\n",
            "Epoch 83/100\n",
            "50/50 [==============================] - 1s 23ms/step - loss: 8.2154e-04 - accuracy: 2.1053e-04\n",
            "Epoch 84/100\n",
            "50/50 [==============================] - 1s 22ms/step - loss: 8.2833e-04 - accuracy: 4.2105e-04\n",
            "Epoch 85/100\n",
            "50/50 [==============================] - 1s 14ms/step - loss: 9.0758e-04 - accuracy: 2.1053e-04\n",
            "Epoch 86/100\n",
            "50/50 [==============================] - 1s 14ms/step - loss: 8.1958e-04 - accuracy: 2.1053e-04\n",
            "Epoch 87/100\n",
            "50/50 [==============================] - 1s 14ms/step - loss: 8.1510e-04 - accuracy: 2.1053e-04\n",
            "Epoch 88/100\n",
            "50/50 [==============================] - 1s 13ms/step - loss: 9.2140e-04 - accuracy: 2.1053e-04\n",
            "Epoch 89/100\n",
            "50/50 [==============================] - 1s 13ms/step - loss: 8.9674e-04 - accuracy: 2.1053e-04\n",
            "Epoch 90/100\n",
            "50/50 [==============================] - 1s 13ms/step - loss: 9.0256e-04 - accuracy: 4.2105e-04\n",
            "Epoch 91/100\n",
            "50/50 [==============================] - 1s 14ms/step - loss: 7.9328e-04 - accuracy: 2.1053e-04\n",
            "Epoch 92/100\n",
            "50/50 [==============================] - 1s 13ms/step - loss: 8.7562e-04 - accuracy: 4.2105e-04\n",
            "Epoch 93/100\n",
            "50/50 [==============================] - 1s 13ms/step - loss: 8.2492e-04 - accuracy: 4.2105e-04\n",
            "Epoch 94/100\n",
            "50/50 [==============================] - 1s 14ms/step - loss: 8.0537e-04 - accuracy: 4.2105e-04\n",
            "Epoch 95/100\n",
            "50/50 [==============================] - 1s 14ms/step - loss: 8.1770e-04 - accuracy: 4.2105e-04\n",
            "Epoch 96/100\n",
            "50/50 [==============================] - 1s 14ms/step - loss: 8.1131e-04 - accuracy: 4.2105e-04\n",
            "Epoch 97/100\n",
            "50/50 [==============================] - 1s 14ms/step - loss: 8.1591e-04 - accuracy: 2.1053e-04\n",
            "Epoch 98/100\n",
            "50/50 [==============================] - 1s 21ms/step - loss: 8.1548e-04 - accuracy: 4.2105e-04\n",
            "Epoch 99/100\n",
            "50/50 [==============================] - 2s 32ms/step - loss: 7.4883e-04 - accuracy: 2.1053e-04\n",
            "Epoch 100/100\n",
            "50/50 [==============================] - 3s 54ms/step - loss: 8.0115e-04 - accuracy: 2.1053e-04\n"
          ]
        }
      ],
      "source": [
        "model = Sequential()\n",
        "# RNN layer 1\n",
        "model.add(SimpleRNN(12, input_shape=(look_back, 1), return_sequences=True))\n",
        "model.add(Dropout(0.1))\n",
        "#RNN layer 2\n",
        "model.add(SimpleRNN(12, return_sequences=True))\n",
        "model.add(Dropout(0.1))\n",
        "#RNN layer 3\n",
        "model.add(SimpleRNN(12, return_sequences=True))\n",
        "model.add(Dropout(0.1))\n",
        "#RNN layer 4\n",
        "model.add(SimpleRNN(12))\n",
        "model.add(Dropout(0.1))\n",
        "\n",
        "# Dense layer\n",
        "model.add(Dense(1))\n",
        "\n",
        "#Compiling the model\n",
        "model.compile(loss='mean_squared_error', optimizer='adam', metrics=['accuracy'])\n",
        "\n",
        "# Training the model\n",
        "training = model.fit(x_train, y_train, epochs=100, batch_size=95)"
      ]
    },
    {
      "cell_type": "code",
      "execution_count": null,
      "metadata": {
        "id": "UGUGVsnz2n2r",
        "colab": {
          "base_uri": "https://localhost:8080/",
          "height": 564
        },
        "outputId": "7ac63a47-076a-43a4-cceb-c0d9d98597da"
      },
      "outputs": [
        {
          "output_type": "display_data",
          "data": {
            "text/plain": [
              "<Figure size 1000x600 with 1 Axes>"
            ],
            "image/png": "[encoded data removed]"
          },
          "metadata": {}
        }
      ],
      "source": [
        "# Trends of Loss\n",
        "plt.figure(figsize =(10,6))\n",
        "plt.plot(training.history[\"loss\"])\n",
        "plt.xlabel(\"Epoch\")\n",
        "plt.ylabel(\"Loss values\")\n",
        "plt.title(\"Simple RNN model, Loss vs Epoch\")\n",
        "plt.show()\n",
        "\n",
        "## DOWNWARD TREND OF LOSS AND HAS SETTLED THERE"
      ]
    },
    {
      "cell_type": "code",
      "source": [
        "model = Sequential()\n",
        "# RNN layer 1\n",
        "model.add(SimpleRNN(12, input_shape=(look_back, 1), return_sequences=True))\n",
        "model.add(Dropout(0.1))\n",
        "#RNN layer 2\n",
        "model.add(SimpleRNN(12, return_sequences=True))\n",
        "model.add(Dropout(0.1))\n",
        "#RNN layer 3\n",
        "model.add(SimpleRNN(12, return_sequences=True))\n",
        "model.add(Dropout(0.1))\n",
        "#RNN layer 4\n",
        "model.add(SimpleRNN(12))\n",
        "model.add(Dropout(0.1))\n",
        "\n",
        "# Dense layer\n",
        "model.add(Dense(1))\n",
        "\n",
        "#Compiling the model\n",
        "model.compile(loss='mean_squared_error', optimizer='adam', metrics=['accuracy'])\n",
        "\n",
        "# Training the model\n",
        "testing = model.fit(x_test, y_test, epochs=50, batch_size=95)"
      ],
      "metadata": {
        "colab": {
          "base_uri": "https://localhost:8080/"
        },
        "id": "9VrGy9XPpNNY",
        "outputId": "28239ad6-4ca5-4c6a-b49a-0b4f335d64b3"
      },
      "execution_count": null,
      "outputs": [
        {
          "output_type": "stream",
          "name": "stdout",
          "text": [
            "Epoch 1/50\n",
            "13/13 [==============================] - 4s 25ms/step - loss: 2.8053 - accuracy: 0.0000e+00\n",
            "Epoch 2/50\n",
            "13/13 [==============================] - 0s 25ms/step - loss: 0.6460 - accuracy: 0.0000e+00\n",
            "Epoch 3/50\n",
            "13/13 [==============================] - 0s 23ms/step - loss: 0.5484 - accuracy: 0.0000e+00\n",
            "Epoch 4/50\n",
            "13/13 [==============================] - 0s 26ms/step - loss: 0.5110 - accuracy: 0.0000e+00\n",
            "Epoch 5/50\n",
            "13/13 [==============================] - 0s 23ms/step - loss: 0.5184 - accuracy: 0.0000e+00\n",
            "Epoch 6/50\n",
            "13/13 [==============================] - 0s 25ms/step - loss: 0.5198 - accuracy: 0.0000e+00\n",
            "Epoch 7/50\n",
            "13/13 [==============================] - 0s 24ms/step - loss: 0.5025 - accuracy: 0.0000e+00\n",
            "Epoch 8/50\n",
            "13/13 [==============================] - 0s 23ms/step - loss: 0.4551 - accuracy: 0.0000e+00\n",
            "Epoch 9/50\n",
            "13/13 [==============================] - 0s 24ms/step - loss: 0.4066 - accuracy: 0.0000e+00\n",
            "Epoch 10/50\n",
            "13/13 [==============================] - 0s 24ms/step - loss: 0.3502 - accuracy: 0.0000e+00\n",
            "Epoch 11/50\n",
            "13/13 [==============================] - 0s 22ms/step - loss: 0.3112 - accuracy: 0.0000e+00\n",
            "Epoch 12/50\n",
            "13/13 [==============================] - 0s 23ms/step - loss: 0.2784 - accuracy: 0.0000e+00\n",
            "Epoch 13/50\n",
            "13/13 [==============================] - 0s 23ms/step - loss: 0.2913 - accuracy: 0.0000e+00\n",
            "Epoch 14/50\n",
            "13/13 [==============================] - 0s 23ms/step - loss: 0.2709 - accuracy: 0.0000e+00\n",
            "Epoch 15/50\n",
            "13/13 [==============================] - 0s 26ms/step - loss: 0.2584 - accuracy: 0.0000e+00\n",
            "Epoch 16/50\n",
            "13/13 [==============================] - 0s 19ms/step - loss: 0.2607 - accuracy: 0.0000e+00\n",
            "Epoch 17/50\n",
            "13/13 [==============================] - 0s 16ms/step - loss: 0.2656 - accuracy: 0.0000e+00\n",
            "Epoch 18/50\n",
            "13/13 [==============================] - 0s 17ms/step - loss: 0.2471 - accuracy: 0.0000e+00\n",
            "Epoch 19/50\n",
            "13/13 [==============================] - 0s 15ms/step - loss: 0.2423 - accuracy: 0.0000e+00\n",
            "Epoch 20/50\n",
            "13/13 [==============================] - 0s 16ms/step - loss: 0.2384 - accuracy: 0.0000e+00\n",
            "Epoch 21/50\n",
            "13/13 [==============================] - 0s 15ms/step - loss: 0.2478 - accuracy: 0.0000e+00\n",
            "Epoch 22/50\n",
            "13/13 [==============================] - 0s 15ms/step - loss: 0.2651 - accuracy: 0.0000e+00\n",
            "Epoch 23/50\n",
            "13/13 [==============================] - 0s 15ms/step - loss: 0.2301 - accuracy: 0.0000e+00\n",
            "Epoch 24/50\n",
            "13/13 [==============================] - 0s 16ms/step - loss: 0.2268 - accuracy: 0.0000e+00\n",
            "Epoch 25/50\n",
            "13/13 [==============================] - 0s 17ms/step - loss: 0.2270 - accuracy: 0.0000e+00\n",
            "Epoch 26/50\n",
            "13/13 [==============================] - 0s 16ms/step - loss: 0.2387 - accuracy: 0.0000e+00\n",
            "Epoch 27/50\n",
            "13/13 [==============================] - 0s 15ms/step - loss: 0.2282 - accuracy: 0.0000e+00\n",
            "Epoch 28/50\n",
            "13/13 [==============================] - 0s 27ms/step - loss: 0.2223 - accuracy: 0.0000e+00\n",
            "Epoch 29/50\n",
            "13/13 [==============================] - 1s 38ms/step - loss: 0.2486 - accuracy: 0.0000e+00\n",
            "Epoch 30/50\n",
            "13/13 [==============================] - 0s 30ms/step - loss: 0.2096 - accuracy: 0.0000e+00\n",
            "Epoch 31/50\n",
            "13/13 [==============================] - 0s 34ms/step - loss: 0.2223 - accuracy: 0.0000e+00\n",
            "Epoch 32/50\n",
            "13/13 [==============================] - 0s 24ms/step - loss: 0.2146 - accuracy: 0.0000e+00\n",
            "Epoch 33/50\n",
            "13/13 [==============================] - 0s 31ms/step - loss: 0.1995 - accuracy: 0.0000e+00\n",
            "Epoch 34/50\n",
            "13/13 [==============================] - 0s 31ms/step - loss: 0.2242 - accuracy: 0.0000e+00\n",
            "Epoch 35/50\n",
            "13/13 [==============================] - 0s 25ms/step - loss: 0.2131 - accuracy: 0.0000e+00\n",
            "Epoch 36/50\n",
            "13/13 [==============================] - 0s 15ms/step - loss: 0.2049 - accuracy: 0.0000e+00\n",
            "Epoch 37/50\n",
            "13/13 [==============================] - 0s 18ms/step - loss: 0.1935 - accuracy: 0.0000e+00\n",
            "Epoch 38/50\n",
            "13/13 [==============================] - 0s 16ms/step - loss: 0.2059 - accuracy: 0.0000e+00\n",
            "Epoch 39/50\n",
            "13/13 [==============================] - 0s 16ms/step - loss: 0.1867 - accuracy: 0.0000e+00\n",
            "Epoch 40/50\n",
            "13/13 [==============================] - 0s 15ms/step - loss: 0.1884 - accuracy: 0.0000e+00\n",
            "Epoch 41/50\n",
            "13/13 [==============================] - 0s 16ms/step - loss: 0.1902 - accuracy: 0.0000e+00\n",
            "Epoch 42/50\n",
            "13/13 [==============================] - 0s 18ms/step - loss: 0.1950 - accuracy: 0.0000e+00\n",
            "Epoch 43/50\n",
            "13/13 [==============================] - 0s 16ms/step - loss: 0.2001 - accuracy: 0.0000e+00\n",
            "Epoch 44/50\n",
            "13/13 [==============================] - 0s 15ms/step - loss: 0.2097 - accuracy: 0.0000e+00\n",
            "Epoch 45/50\n",
            "13/13 [==============================] - 0s 16ms/step - loss: 0.1942 - accuracy: 0.0000e+00\n",
            "Epoch 46/50\n",
            "13/13 [==============================] - 0s 16ms/step - loss: 0.1986 - accuracy: 0.0000e+00\n",
            "Epoch 47/50\n",
            "13/13 [==============================] - 0s 17ms/step - loss: 0.1864 - accuracy: 0.0000e+00\n",
            "Epoch 48/50\n",
            "13/13 [==============================] - 0s 16ms/step - loss: 0.1959 - accuracy: 0.0000e+00\n",
            "Epoch 49/50\n",
            "13/13 [==============================] - 0s 17ms/step - loss: 0.1901 - accuracy: 0.0000e+00\n",
            "Epoch 50/50\n",
            "13/13 [==============================] - 0s 15ms/step - loss: 0.1812 - accuracy: 0.0000e+00\n"
          ]
        }
      ]
    },
    {
      "cell_type": "markdown",
      "source": [
        "**Note:** The problem is that your final model output has a linear activation, making the model a regression, not a classification problem. \"Accuracy\" is defined when the model classifies data correctly according to class, but \"accuracy\" is effectively not defined for a regression problem, due to its continuous property.\n"
      ],
      "metadata": {
        "id": "vgLMDCCrqntp"
      }
    },
    {
      "cell_type": "markdown",
      "metadata": {
        "id": "7zOGFh315VZf"
      },
      "source": [
        "MODELS PREDICTIONS USING RNN, LETS GET THE PREDICTIONS OF MODELS AND COMPARE IT WITH THE ORIGINAL VALUES"
      ]
    },
    {
      "cell_type": "code",
      "execution_count": null,
      "metadata": {
        "id": "3mcVX7FI48fy",
        "colab": {
          "base_uri": "https://localhost:8080/"
        },
        "outputId": "a3c6bff4-6299-42b6-b68b-7f217e588e16"
      },
      "outputs": [
        {
          "output_type": "stream",
          "name": "stdout",
          "text": [
            "149/149 [==============================] - 1s 4ms/step\n"
          ]
        },
        {
          "output_type": "execute_result",
          "data": {
            "text/plain": [
              "(4750, 1)"
            ]
          },
          "metadata": {},
          "execution_count": 32
        }
      ],
      "source": [
        "# Price Predictions\n",
        "preds = model.predict(x_train)\n",
        "# Scale them back to original scale from 0-1\n",
        "preds = scaler_train.inverse_transform(preds)\n",
        "preds.shape\n"
      ]
    },
    {
      "cell_type": "code",
      "execution_count": null,
      "metadata": {
        "id": "bSsfWUxDD1kQ",
        "colab": {
          "base_uri": "https://localhost:8080/"
        },
        "outputId": "d8fd6ec8-eb76-41f3-ffc1-e15f2d8ab010"
      },
      "outputs": [
        {
          "output_type": "execute_result",
          "data": {
            "text/plain": [
              "(4750, 1)"
            ]
          },
          "metadata": {},
          "execution_count": 33
        }
      ],
      "source": [
        "#Original Values\n",
        "# Scale them back to original scale from 0-1\n",
        "y_train = scaler_train.inverse_transform(y_train)\n",
        "y_train.shape"
      ]
    },
    {
      "cell_type": "code",
      "execution_count": null,
      "metadata": {
        "id": "4DP48EkDEI8s",
        "colab": {
          "base_uri": "https://localhost:8080/",
          "height": 331
        },
        "outputId": "7f7ec019-ddeb-46c8-efc2-f98425a52aca"
      },
      "outputs": [
        {
          "output_type": "display_data",
          "data": {
            "text/plain": [
              "<Figure size 2500x600 with 1 Axes>"
            ],
            "image/png": "[encoded data removed]"
          },
          "metadata": {}
        }
      ],
      "source": [
        "# PLOTTING THE ORIGINAL VALUES AND PREDICTIONS ON TRAIN DATASET\n",
        "\n",
        "plt.figure(figsize =(25,6))\n",
        "#Predictions\n",
        "plt.plot(preds, color = \"blue\", label = \"Predictions\")\n",
        "# Original Values\n",
        "plt.plot(y_train, color = \"red\", label = \"Original\")\n",
        "plt.xlabel(\"Days\")\n",
        "plt.ylabel(\"Price Values\")\n",
        "plt.title(\"Simple RNN model, Predictions and Originals\")\n",
        "plt.legend()\n",
        "plt.show()"
      ]
    },
    {
      "cell_type": "markdown",
      "metadata": {
        "id": "axSjuYO8FFim"
      },
      "source": [
        "NOW LETS TEST OUR MODELS PERFORMANCE THE VALIDATION DATASET(X_TEST, Y_TEST)"
      ]
    },
    {
      "cell_type": "code",
      "execution_count": null,
      "metadata": {
        "id": "X-reb7qkFMxV",
        "colab": {
          "base_uri": "https://localhost:8080/"
        },
        "outputId": "873ea48b-1445-4fc5-cfe5-d80b667bf5bf"
      },
      "outputs": [
        {
          "output_type": "stream",
          "name": "stdout",
          "text": [
            "37/37 [==============================] - 0s 5ms/step\n"
          ]
        },
        {
          "output_type": "execute_result",
          "data": {
            "text/plain": [
              "(1179, 1)"
            ]
          },
          "metadata": {},
          "execution_count": 35
        }
      ],
      "source": [
        "# Price Predictions on Test dataset\n",
        "test_preds = model.predict(x_test)\n",
        "# Scale them back to original scale from 0-1\n",
        "test_preds = scaler_test.inverse_transform(test_preds)\n",
        "test_preds.shape"
      ]
    },
    {
      "cell_type": "code",
      "execution_count": null,
      "metadata": {
        "id": "9Xj7n564FdoK",
        "colab": {
          "base_uri": "https://localhost:8080/"
        },
        "outputId": "cb2077c2-07bc-4c0a-df4f-f876de20faa5"
      },
      "outputs": [
        {
          "output_type": "execute_result",
          "data": {
            "text/plain": [
              "(1179, 1)"
            ]
          },
          "metadata": {},
          "execution_count": 36
        }
      ],
      "source": [
        "# Original Values on Test Dataset\n",
        "# Scale them back to original scale from 0-1\n",
        "y_test = scaler_test.inverse_transform(y_test)\n",
        "y_test.shape"
      ]
    },
    {
      "cell_type": "code",
      "execution_count": null,
      "metadata": {
        "id": "HLijEoRpFmUe",
        "colab": {
          "base_uri": "https://localhost:8080/",
          "height": 335
        },
        "outputId": "32eb5f15-294d-4220-d569-0b47fdcbd458"
      },
      "outputs": [
        {
          "output_type": "display_data",
          "data": {
            "text/plain": [
              "<Figure size 2500x600 with 1 Axes>"
            ],
            "image/png": "[encoded data removed]"
          },
          "metadata": {}
        }
      ],
      "source": [
        "# PLOTTING THE ORIGINAL VALUES AND PREDICTIONS ON THE TEST DATASET\n",
        "\n",
        "plt.figure(figsize =(25,6))\n",
        "#Predictions\n",
        "plt.plot(test_preds, color = \"blue\", label = \"Test data Predictions\")\n",
        "# Original Values\n",
        "plt.plot(y_test, color = \"red\", label = \"Test data Originals\")\n",
        "plt.xlabel(\"Days\")\n",
        "plt.ylabel(\"Price Values\")\n",
        "plt.title(\"Simple RNN model, Predictions and Originals on Test Data\")\n",
        "plt.legend()\n",
        "plt.show()"
      ]
    },
    {
      "cell_type": "markdown",
      "metadata": {
        "id": "-6FdDDWfF4gN"
      },
      "source": [
        "<h3>As we can see, the predctions(indicated in blue) is almost very same to the original values(indicated in red) in the above plot except for some very rare outlier cases. Indicating our model has also performed very well on the dataset it hasnt seen(test dataset)"
      ]
    },
    {
      "cell_type": "markdown",
      "metadata": {
        "id": "A2FZxvRoGhMa"
      },
      "source": [
        "<H3> LETS TEST FOR THE LAST POSSIBLE VALUE IN A TEST DATASET\n",
        "<p> i.e, we shall take the last 12 days price and predict 13th days price (which is not in the test dataset as well)."
      ]
    },
    {
      "cell_type": "code",
      "execution_count": null,
      "metadata": {
        "id": "S8_t_vIDGm9p",
        "colab": {
          "base_uri": "https://localhost:8080/"
        },
        "outputId": "8714535a-d93b-4059-dfe9-84a6d2850373"
      },
      "outputs": [
        {
          "output_type": "execute_result",
          "data": {
            "text/plain": [
              "array([2.32, 2.45, 2.43, 2.35, 2.39, 2.57, 2.54, 2.52, 2.52, 2.46, 2.3 ,\n",
              "       2.22])"
            ]
          },
          "metadata": {},
          "execution_count": 38
        }
      ],
      "source": [
        "# getting last 12 days data and converting to array\n",
        "input = oildata.iloc[-12:]['Price'].values  \n",
        "input"
      ]
    },
    {
      "cell_type": "code",
      "execution_count": null,
      "metadata": {
        "id": "IZKnHfoCIIsh",
        "colab": {
          "base_uri": "https://localhost:8080/"
        },
        "outputId": "36a73f7f-10b9-4a67-8445-67feb74306bc"
      },
      "outputs": [
        {
          "output_type": "execute_result",
          "data": {
            "text/plain": [
              "array([[[0.28571429],\n",
              "        [0.65714286],\n",
              "        [0.6       ],\n",
              "        [0.37142857],\n",
              "        [0.48571429],\n",
              "        [1.        ],\n",
              "        [0.91428571],\n",
              "        [0.85714286],\n",
              "        [0.85714286],\n",
              "        [0.68571429],\n",
              "        [0.22857143],\n",
              "        [0.        ]]])"
            ]
          },
          "metadata": {},
          "execution_count": 39
        }
      ],
      "source": [
        "# converting to 2D array and scaling\n",
        "input = scaler_train.fit_transform(input.reshape(-1,1))    \n",
        " # reshaping : converting to 3D array\n",
        "input = np.reshape(input, (1,12,1))                   \n",
        "\n",
        "input"
      ]
    },
    {
      "cell_type": "code",
      "execution_count": null,
      "metadata": {
        "id": "cRUriLUzHfU6",
        "colab": {
          "base_uri": "https://localhost:8080/"
        },
        "outputId": "3e9bb39c-d1da-4967-b237-a0cdcb2f176f"
      },
      "outputs": [
        {
          "output_type": "stream",
          "name": "stdout",
          "text": [
            "1/1 [==============================] - 0s 29ms/step\n",
            "Simple RNN Last day's Price prediction  : 2.26\n"
          ]
        }
      ],
      "source": [
        "pred_RNN = model.predict(input)\n",
        "pred_RNN = scaler_train.inverse_transform(pred_RNN)\n",
        "\n",
        "print(\"Simple RNN Last day's Price prediction  :\", round(pred_RNN[0][0], 2))"
      ]
    },
    {
      "cell_type": "code",
      "execution_count": null,
      "metadata": {
        "id": "yf7Z9UrzQCOo"
      },
      "outputs": [],
      "source": []
    },
    {
      "cell_type": "markdown",
      "metadata": {
        "id": "s-N2Qzyllye5"
      },
      "source": [
        "# FOOD DATA "
      ]
    },
    {
      "cell_type": "code",
      "execution_count": null,
      "metadata": {
        "id": "DMSkiQFbanvb",
        "colab": {
          "base_uri": "https://localhost:8080/",
          "height": 423
        },
        "outputId": "2fc96868-9ed2-4ac4-b3c7-ede889157960"
      },
      "outputs": [
        {
          "output_type": "execute_result",
          "data": {
            "text/plain": [
              "          Date   Price\n",
              "0     3/1/2008  594.00\n",
              "1     4/1/2008  907.00\n",
              "2     5/1/2008  901.80\n",
              "3     6/1/2008  757.00\n",
              "4     7/1/2008  731.75\n",
              "..         ...     ...\n",
              "176  11/1/2022  440.00\n",
              "177  12/1/2022  467.00\n",
              "178   1/1/2023  517.00\n",
              "179   2/1/2023  492.00\n",
              "180   3/1/2023  476.00\n",
              "\n",
              "[181 rows x 2 columns]"
            ],
            "text/html": [
              "\n",
              "  <div id=\"df-6861e971-d525-487f-a1de-7c51de6dbd4c\">\n",
              "    <div class=\"colab-df-container\">\n",
              "      <div>\n",
              "<style scoped>\n",
              "    .dataframe tbody tr th:only-of-type {\n",
              "        vertical-align: middle;\n",
              "    }\n",
              "\n",
              "    .dataframe tbody tr th {\n",
              "        vertical-align: top;\n",
              "    }\n",
              "\n",
              "    .dataframe thead th {\n",
              "        text-align: right;\n",
              "    }\n",
              "</style>\n",
              "<table border=\"1\" class=\"dataframe\">\n",
              "  <thead>\n",
              "    <tr style=\"text-align: right;\">\n",
              "      <th></th>\n",
              "      <th>Date</th>\n",
              "      <th>Price</th>\n",
              "    </tr>\n",
              "  </thead>\n",
              "  <tbody>\n",
              "    <tr>\n",
              "      <th>0</th>\n",
              "      <td>3/1/2008</td>\n",
              "      <td>594.00</td>\n",
              "    </tr>\n",
              "    <tr>\n",
              "      <th>1</th>\n",
              "      <td>4/1/2008</td>\n",
              "      <td>907.00</td>\n",
              "    </tr>\n",
              "    <tr>\n",
              "      <th>2</th>\n",
              "      <td>5/1/2008</td>\n",
              "      <td>901.80</td>\n",
              "    </tr>\n",
              "    <tr>\n",
              "      <th>3</th>\n",
              "      <td>6/1/2008</td>\n",
              "      <td>757.00</td>\n",
              "    </tr>\n",
              "    <tr>\n",
              "      <th>4</th>\n",
              "      <td>7/1/2008</td>\n",
              "      <td>731.75</td>\n",
              "    </tr>\n",
              "    <tr>\n",
              "      <th>...</th>\n",
              "      <td>...</td>\n",
              "      <td>...</td>\n",
              "    </tr>\n",
              "    <tr>\n",
              "      <th>176</th>\n",
              "      <td>11/1/2022</td>\n",
              "      <td>440.00</td>\n",
              "    </tr>\n",
              "    <tr>\n",
              "      <th>177</th>\n",
              "      <td>12/1/2022</td>\n",
              "      <td>467.00</td>\n",
              "    </tr>\n",
              "    <tr>\n",
              "      <th>178</th>\n",
              "      <td>1/1/2023</td>\n",
              "      <td>517.00</td>\n",
              "    </tr>\n",
              "    <tr>\n",
              "      <th>179</th>\n",
              "      <td>2/1/2023</td>\n",
              "      <td>492.00</td>\n",
              "    </tr>\n",
              "    <tr>\n",
              "      <th>180</th>\n",
              "      <td>3/1/2023</td>\n",
              "      <td>476.00</td>\n",
              "    </tr>\n",
              "  </tbody>\n",
              "</table>\n",
              "<p>181 rows × 2 columns</p>\n",
              "</div>\n",
              "      <button class=\"colab-df-convert\" onclick=\"convertToInteractive('df-6861e971-d525-487f-a1de-7c51de6dbd4c')\"\n",
              "              title=\"Convert this dataframe to an interactive table.\"\n",
              "              style=\"display:none;\">\n",
              "        \n",
              "  <svg xmlns=\"http://www.w3.org/2000/svg\" height=\"24px\"viewBox=\"0 0 24 24\"\n",
              "       width=\"24px\">\n",
              "    <path d=\"M0 0h24v24H0V0z\" fill=\"none\"/>\n",
              "    <path d=\"M18.56 5.44l.94 2.06.94-2.06 2.06-.94-2.06-.94-.94-2.06-.94 2.06-2.06.94zm-11 1L8.5 8.5l.94-2.06 2.06-.94-2.06-.94L8.5 2.5l-.94 2.06-2.06.94zm10 10l.94 2.06.94-2.06 2.06-.94-2.06-.94-.94-2.06-.94 2.06-2.06.94z\"/><path d=\"M17.41 7.96l-1.37-1.37c-.4-.4-.92-.59-1.43-.59-.52 0-1.04.2-1.43.59L10.3 9.45l-7.72 7.72c-.78.78-.78 2.05 0 2.83L4 21.41c.39.39.9.59 1.41.59.51 0 1.02-.2 1.41-.59l7.78-7.78 2.81-2.81c.8-.78.8-2.07 0-2.86zM5.41 20L4 18.59l7.72-7.72 1.47 1.35L5.41 20z\"/>\n",
              "  </svg>\n",
              "      </button>\n",
              "      \n",
              "  <style>\n",
              "    .colab-df-container {\n",
              "      display:flex;\n",
              "      flex-wrap:wrap;\n",
              "      gap: 12px;\n",
              "    }\n",
              "\n",
              "    .colab-df-convert {\n",
              "      background-color: #E8F0FE;\n",
              "      border: none;\n",
              "      border-radius: 50%;\n",
              "      cursor: pointer;\n",
              "      display: none;\n",
              "      fill: #1967D2;\n",
              "      height: 32px;\n",
              "      padding: 0 0 0 0;\n",
              "      width: 32px;\n",
              "    }\n",
              "\n",
              "    .colab-df-convert:hover {\n",
              "      background-color: #E2EBFA;\n",
              "      box-shadow: 0px 1px 2px rgba(60, 64, 67, 0.3), 0px 1px 3px 1px rgba(60, 64, 67, 0.15);\n",
              "      fill: #174EA6;\n",
              "    }\n",
              "\n",
              "    [theme=dark] .colab-df-convert {\n",
              "      background-color: #3B4455;\n",
              "      fill: #D2E3FC;\n",
              "    }\n",
              "\n",
              "    [theme=dark] .colab-df-convert:hover {\n",
              "      background-color: #434B5C;\n",
              "      box-shadow: 0px 1px 3px 1px rgba(0, 0, 0, 0.15);\n",
              "      filter: drop-shadow(0px 1px 2px rgba(0, 0, 0, 0.3));\n",
              "      fill: #FFFFFF;\n",
              "    }\n",
              "  </style>\n",
              "\n",
              "      <script>\n",
              "        const buttonEl =\n",
              "          document.querySelector('#df-6861e971-d525-487f-a1de-7c51de6dbd4c button.colab-df-convert');\n",
              "        buttonEl.style.display =\n",
              "          google.colab.kernel.accessAllowed ? 'block' : 'none';\n",
              "\n",
              "        async function convertToInteractive(key) {\n",
              "          const element = document.querySelector('#df-6861e971-d525-487f-a1de-7c51de6dbd4c');\n",
              "          const dataTable =\n",
              "            await google.colab.kernel.invokeFunction('convertToInteractive',\n",
              "                                                     [key], {});\n",
              "          if (!dataTable) return;\n",
              "\n",
              "          const docLinkHtml = 'Like what you see? Visit the ' +\n",
              "            '<a target=\"_blank\" href=https://colab.research.google.com/notebooks/data_table.ipynb>data table notebook</a>'\n",
              "            + ' to learn more about interactive tables.';\n",
              "          element.innerHTML = '';\n",
              "          dataTable['output_type'] = 'display_data';\n",
              "          await google.colab.output.renderOutput(dataTable, element);\n",
              "          const docLink = document.createElement('div');\n",
              "          docLink.innerHTML = docLinkHtml;\n",
              "          element.appendChild(docLink);\n",
              "        }\n",
              "      </script>\n",
              "    </div>\n",
              "  </div>\n",
              "  "
            ]
          },
          "metadata": {},
          "execution_count": 43
        }
      ],
      "source": [
        "fooddata= pd.read_csv(\"fooddata.csv\")\n",
        "fooddata"
      ]
    },
    {
      "cell_type": "code",
      "execution_count": null,
      "metadata": {
        "id": "OWjIn_yea-7_",
        "colab": {
          "base_uri": "https://localhost:8080/"
        },
        "outputId": "b2ece002-d7b5-4e3f-d28e-24084ecfaba6"
      },
      "outputs": [
        {
          "output_type": "stream",
          "name": "stdout",
          "text": [
            "<class 'pandas.core.frame.DataFrame'>\n",
            "RangeIndex: 181 entries, 0 to 180\n",
            "Data columns (total 2 columns):\n",
            " #   Column  Non-Null Count  Dtype  \n",
            "---  ------  --------------  -----  \n",
            " 0   Date    181 non-null    object \n",
            " 1   Price   181 non-null    float64\n",
            "dtypes: float64(1), object(1)\n",
            "memory usage: 3.0+ KB\n"
          ]
        }
      ],
      "source": [
        "fooddata.info()"
      ]
    },
    {
      "cell_type": "code",
      "execution_count": null,
      "metadata": {
        "id": "lJv9b0fkbA-s",
        "colab": {
          "base_uri": "https://localhost:8080/"
        },
        "outputId": "be386fe5-1c16-4585-96c5-42ce2a64fbba"
      },
      "outputs": [
        {
          "output_type": "stream",
          "name": "stdout",
          "text": [
            "Number of missing data : \n",
            "Date     0\n",
            "Price    0\n",
            "dtype: int64\n",
            "\n"
          ]
        }
      ],
      "source": [
        "print(f\"Number of missing data : \\n{fooddata.isnull().sum()}\\n\")"
      ]
    },
    {
      "cell_type": "code",
      "execution_count": null,
      "metadata": {
        "id": "TKcQ8PSFdDt6"
      },
      "outputs": [],
      "source": [
        "fooddata['Date'] = pd.to_datetime(fooddata['Date'])"
      ]
    },
    {
      "cell_type": "code",
      "execution_count": null,
      "metadata": {
        "id": "JSC5-90pQXTu",
        "colab": {
          "base_uri": "https://localhost:8080/",
          "height": 516
        },
        "outputId": "1d172628-7224-4850-b2c3-f460e28eec0a"
      },
      "outputs": [
        {
          "output_type": "display_data",
          "data": {
            "text/plain": [
              "<Figure size 2000x800 with 1 Axes>"
            ],
            "image/png": "[encoded data removed]"
          },
          "metadata": {}
        }
      ],
      "source": [
        "import seaborn as sns\n",
        "plt.rcParams[\"figure.figsize\"] = (20,8)\n",
        "sns.lineplot(data=fooddata, x=\"Date\", y=\"Price\")\n",
        "plt.xticks( rotation = 45) # Rotates X-Axis Ticks by 45-degrees\n",
        "ax = plt.gca()\n",
        "\n",
        "plt.show()"
      ]
    },
    {
      "cell_type": "code",
      "execution_count": null,
      "metadata": {
        "id": "wSSuEhgLFmK9",
        "colab": {
          "base_uri": "https://localhost:8080/",
          "height": 285
        },
        "outputId": "c552f602-b603-46cc-a737-7363bde4e537"
      },
      "outputs": [
        {
          "output_type": "execute_result",
          "data": {
            "text/plain": [
              "<seaborn.axisgrid.PairGrid at 0x7f4153fad900>"
            ]
          },
          "metadata": {},
          "execution_count": 49
        },
        {
          "output_type": "display_data",
          "data": {
            "text/plain": [
              "<Figure size 250x250 with 2 Axes>"
            ],
            "image/png": "[encoded data removed]"
          },
          "metadata": {}
        }
      ],
      "source": [
        "sns.pairplot(fooddata)"
      ]
    },
    {
      "cell_type": "code",
      "execution_count": null,
      "metadata": {
        "id": "sYvzdKHCliLG",
        "colab": {
          "base_uri": "https://localhost:8080/",
          "height": 300
        },
        "outputId": "ad9659ce-fc98-44eb-9555-be08884af80f"
      },
      "outputs": [
        {
          "output_type": "execute_result",
          "data": {
            "text/plain": [
              "            Price\n",
              "count  181.000000\n",
              "mean   476.953315\n",
              "std     89.449581\n",
              "min    357.000000\n",
              "25%    413.000000\n",
              "50%    451.000000\n",
              "75%    533.000000\n",
              "max    907.000000"
            ],
            "text/html": [
              "\n",
              "  <div id=\"df-58719e5a-63cc-4c0f-a66a-b9eebd228b73\">\n",
              "    <div class=\"colab-df-container\">\n",
              "      <div>\n",
              "<style scoped>\n",
              "    .dataframe tbody tr th:only-of-type {\n",
              "        vertical-align: middle;\n",
              "    }\n",
              "\n",
              "    .dataframe tbody tr th {\n",
              "        vertical-align: top;\n",
              "    }\n",
              "\n",
              "    .dataframe thead th {\n",
              "        text-align: right;\n",
              "    }\n",
              "</style>\n",
              "<table border=\"1\" class=\"dataframe\">\n",
              "  <thead>\n",
              "    <tr style=\"text-align: right;\">\n",
              "      <th></th>\n",
              "      <th>Price</th>\n",
              "    </tr>\n",
              "  </thead>\n",
              "  <tbody>\n",
              "    <tr>\n",
              "      <th>count</th>\n",
              "      <td>181.000000</td>\n",
              "    </tr>\n",
              "    <tr>\n",
              "      <th>mean</th>\n",
              "      <td>476.953315</td>\n",
              "    </tr>\n",
              "    <tr>\n",
              "      <th>std</th>\n",
              "      <td>89.449581</td>\n",
              "    </tr>\n",
              "    <tr>\n",
              "      <th>min</th>\n",
              "      <td>357.000000</td>\n",
              "    </tr>\n",
              "    <tr>\n",
              "      <th>25%</th>\n",
              "      <td>413.000000</td>\n",
              "    </tr>\n",
              "    <tr>\n",
              "      <th>50%</th>\n",
              "      <td>451.000000</td>\n",
              "    </tr>\n",
              "    <tr>\n",
              "      <th>75%</th>\n",
              "      <td>533.000000</td>\n",
              "    </tr>\n",
              "    <tr>\n",
              "      <th>max</th>\n",
              "      <td>907.000000</td>\n",
              "    </tr>\n",
              "  </tbody>\n",
              "</table>\n",
              "</div>\n",
              "      <button class=\"colab-df-convert\" onclick=\"convertToInteractive('df-58719e5a-63cc-4c0f-a66a-b9eebd228b73')\"\n",
              "              title=\"Convert this dataframe to an interactive table.\"\n",
              "              style=\"display:none;\">\n",
              "        \n",
              "  <svg xmlns=\"http://www.w3.org/2000/svg\" height=\"24px\"viewBox=\"0 0 24 24\"\n",
              "       width=\"24px\">\n",
              "    <path d=\"M0 0h24v24H0V0z\" fill=\"none\"/>\n",
              "    <path d=\"M18.56 5.44l.94 2.06.94-2.06 2.06-.94-2.06-.94-.94-2.06-.94 2.06-2.06.94zm-11 1L8.5 8.5l.94-2.06 2.06-.94-2.06-.94L8.5 2.5l-.94 2.06-2.06.94zm10 10l.94 2.06.94-2.06 2.06-.94-2.06-.94-.94-2.06-.94 2.06-2.06.94z\"/><path d=\"M17.41 7.96l-1.37-1.37c-.4-.4-.92-.59-1.43-.59-.52 0-1.04.2-1.43.59L10.3 9.45l-7.72 7.72c-.78.78-.78 2.05 0 2.83L4 21.41c.39.39.9.59 1.41.59.51 0 1.02-.2 1.41-.59l7.78-7.78 2.81-2.81c.8-.78.8-2.07 0-2.86zM5.41 20L4 18.59l7.72-7.72 1.47 1.35L5.41 20z\"/>\n",
              "  </svg>\n",
              "      </button>\n",
              "      \n",
              "  <style>\n",
              "    .colab-df-container {\n",
              "      display:flex;\n",
              "      flex-wrap:wrap;\n",
              "      gap: 12px;\n",
              "    }\n",
              "\n",
              "    .colab-df-convert {\n",
              "      background-color: #E8F0FE;\n",
              "      border: none;\n",
              "      border-radius: 50%;\n",
              "      cursor: pointer;\n",
              "      display: none;\n",
              "      fill: #1967D2;\n",
              "      height: 32px;\n",
              "      padding: 0 0 0 0;\n",
              "      width: 32px;\n",
              "    }\n",
              "\n",
              "    .colab-df-convert:hover {\n",
              "      background-color: #E2EBFA;\n",
              "      box-shadow: 0px 1px 2px rgba(60, 64, 67, 0.3), 0px 1px 3px 1px rgba(60, 64, 67, 0.15);\n",
              "      fill: #174EA6;\n",
              "    }\n",
              "\n",
              "    [theme=dark] .colab-df-convert {\n",
              "      background-color: #3B4455;\n",
              "      fill: #D2E3FC;\n",
              "    }\n",
              "\n",
              "    [theme=dark] .colab-df-convert:hover {\n",
              "      background-color: #434B5C;\n",
              "      box-shadow: 0px 1px 3px 1px rgba(0, 0, 0, 0.15);\n",
              "      filter: drop-shadow(0px 1px 2px rgba(0, 0, 0, 0.3));\n",
              "      fill: #FFFFFF;\n",
              "    }\n",
              "  </style>\n",
              "\n",
              "      <script>\n",
              "        const buttonEl =\n",
              "          document.querySelector('#df-58719e5a-63cc-4c0f-a66a-b9eebd228b73 button.colab-df-convert');\n",
              "        buttonEl.style.display =\n",
              "          google.colab.kernel.accessAllowed ? 'block' : 'none';\n",
              "\n",
              "        async function convertToInteractive(key) {\n",
              "          const element = document.querySelector('#df-58719e5a-63cc-4c0f-a66a-b9eebd228b73');\n",
              "          const dataTable =\n",
              "            await google.colab.kernel.invokeFunction('convertToInteractive',\n",
              "                                                     [key], {});\n",
              "          if (!dataTable) return;\n",
              "\n",
              "          const docLinkHtml = 'Like what you see? Visit the ' +\n",
              "            '<a target=\"_blank\" href=https://colab.research.google.com/notebooks/data_table.ipynb>data table notebook</a>'\n",
              "            + ' to learn more about interactive tables.';\n",
              "          element.innerHTML = '';\n",
              "          dataTable['output_type'] = 'display_data';\n",
              "          await google.colab.output.renderOutput(dataTable, element);\n",
              "          const docLink = document.createElement('div');\n",
              "          docLink.innerHTML = docLinkHtml;\n",
              "          element.appendChild(docLink);\n",
              "        }\n",
              "      </script>\n",
              "    </div>\n",
              "  </div>\n",
              "  "
            ]
          },
          "metadata": {},
          "execution_count": 50
        }
      ],
      "source": [
        "fooddata.describe()"
      ]
    },
    {
      "cell_type": "code",
      "execution_count": null,
      "metadata": {
        "id": "f8nPBq2fmILy",
        "colab": {
          "base_uri": "https://localhost:8080/"
        },
        "outputId": "dd19001d-1d9d-4901-c7c5-f76f39f0c628"
      },
      "outputs": [
        {
          "output_type": "stream",
          "name": "stdout",
          "text": [
            "145\n",
            "36\n"
          ]
        }
      ],
      "source": [
        "# Splitting the dataset to train and test\n",
        "split_ratio = 0.8 # 80% training data, 20% test data,\n",
        "\n",
        "train_length = round(split_ratio * len(fooddata))\n",
        "test_length = round(len(fooddata) - train_length)\n",
        "\n",
        "print(train_length)\n",
        "print(test_length)"
      ]
    },
    {
      "cell_type": "code",
      "execution_count": null,
      "metadata": {
        "id": "Hop03kUnmXAZ",
        "colab": {
          "base_uri": "https://localhost:8080/",
          "height": 423
        },
        "outputId": "16b6101e-736a-4a8a-bda2-0695c07e5e97"
      },
      "outputs": [
        {
          "output_type": "execute_result",
          "data": {
            "text/plain": [
              "          Date   Price\n",
              "0   2008-03-01  594.00\n",
              "1   2008-04-01  907.00\n",
              "2   2008-05-01  901.80\n",
              "3   2008-06-01  757.00\n",
              "4   2008-07-01  731.75\n",
              "..         ...     ...\n",
              "140 2019-11-01  421.00\n",
              "141 2019-12-01  432.00\n",
              "142 2020-01-01  451.00\n",
              "143 2020-02-01  450.00\n",
              "144 2020-03-01  494.00\n",
              "\n",
              "[145 rows x 2 columns]"
            ],
            "text/html": [
              "\n",
              "  <div id=\"df-98ecd02d-96fa-48e2-9c66-71edc9728666\">\n",
              "    <div class=\"colab-df-container\">\n",
              "      <div>\n",
              "<style scoped>\n",
              "    .dataframe tbody tr th:only-of-type {\n",
              "        vertical-align: middle;\n",
              "    }\n",
              "\n",
              "    .dataframe tbody tr th {\n",
              "        vertical-align: top;\n",
              "    }\n",
              "\n",
              "    .dataframe thead th {\n",
              "        text-align: right;\n",
              "    }\n",
              "</style>\n",
              "<table border=\"1\" class=\"dataframe\">\n",
              "  <thead>\n",
              "    <tr style=\"text-align: right;\">\n",
              "      <th></th>\n",
              "      <th>Date</th>\n",
              "      <th>Price</th>\n",
              "    </tr>\n",
              "  </thead>\n",
              "  <tbody>\n",
              "    <tr>\n",
              "      <th>0</th>\n",
              "      <td>2008-03-01</td>\n",
              "      <td>594.00</td>\n",
              "    </tr>\n",
              "    <tr>\n",
              "      <th>1</th>\n",
              "      <td>2008-04-01</td>\n",
              "      <td>907.00</td>\n",
              "    </tr>\n",
              "    <tr>\n",
              "      <th>2</th>\n",
              "      <td>2008-05-01</td>\n",
              "      <td>901.80</td>\n",
              "    </tr>\n",
              "    <tr>\n",
              "      <th>3</th>\n",
              "      <td>2008-06-01</td>\n",
              "      <td>757.00</td>\n",
              "    </tr>\n",
              "    <tr>\n",
              "      <th>4</th>\n",
              "      <td>2008-07-01</td>\n",
              "      <td>731.75</td>\n",
              "    </tr>\n",
              "    <tr>\n",
              "      <th>...</th>\n",
              "      <td>...</td>\n",
              "      <td>...</td>\n",
              "    </tr>\n",
              "    <tr>\n",
              "      <th>140</th>\n",
              "      <td>2019-11-01</td>\n",
              "      <td>421.00</td>\n",
              "    </tr>\n",
              "    <tr>\n",
              "      <th>141</th>\n",
              "      <td>2019-12-01</td>\n",
              "      <td>432.00</td>\n",
              "    </tr>\n",
              "    <tr>\n",
              "      <th>142</th>\n",
              "      <td>2020-01-01</td>\n",
              "      <td>451.00</td>\n",
              "    </tr>\n",
              "    <tr>\n",
              "      <th>143</th>\n",
              "      <td>2020-02-01</td>\n",
              "      <td>450.00</td>\n",
              "    </tr>\n",
              "    <tr>\n",
              "      <th>144</th>\n",
              "      <td>2020-03-01</td>\n",
              "      <td>494.00</td>\n",
              "    </tr>\n",
              "  </tbody>\n",
              "</table>\n",
              "<p>145 rows × 2 columns</p>\n",
              "</div>\n",
              "      <button class=\"colab-df-convert\" onclick=\"convertToInteractive('df-98ecd02d-96fa-48e2-9c66-71edc9728666')\"\n",
              "              title=\"Convert this dataframe to an interactive table.\"\n",
              "              style=\"display:none;\">\n",
              "        \n",
              "  <svg xmlns=\"http://www.w3.org/2000/svg\" height=\"24px\"viewBox=\"0 0 24 24\"\n",
              "       width=\"24px\">\n",
              "    <path d=\"M0 0h24v24H0V0z\" fill=\"none\"/>\n",
              "    <path d=\"M18.56 5.44l.94 2.06.94-2.06 2.06-.94-2.06-.94-.94-2.06-.94 2.06-2.06.94zm-11 1L8.5 8.5l.94-2.06 2.06-.94-2.06-.94L8.5 2.5l-.94 2.06-2.06.94zm10 10l.94 2.06.94-2.06 2.06-.94-2.06-.94-.94-2.06-.94 2.06-2.06.94z\"/><path d=\"M17.41 7.96l-1.37-1.37c-.4-.4-.92-.59-1.43-.59-.52 0-1.04.2-1.43.59L10.3 9.45l-7.72 7.72c-.78.78-.78 2.05 0 2.83L4 21.41c.39.39.9.59 1.41.59.51 0 1.02-.2 1.41-.59l7.78-7.78 2.81-2.81c.8-.78.8-2.07 0-2.86zM5.41 20L4 18.59l7.72-7.72 1.47 1.35L5.41 20z\"/>\n",
              "  </svg>\n",
              "      </button>\n",
              "      \n",
              "  <style>\n",
              "    .colab-df-container {\n",
              "      display:flex;\n",
              "      flex-wrap:wrap;\n",
              "      gap: 12px;\n",
              "    }\n",
              "\n",
              "    .colab-df-convert {\n",
              "      background-color: #E8F0FE;\n",
              "      border: none;\n",
              "      border-radius: 50%;\n",
              "      cursor: pointer;\n",
              "      display: none;\n",
              "      fill: #1967D2;\n",
              "      height: 32px;\n",
              "      padding: 0 0 0 0;\n",
              "      width: 32px;\n",
              "    }\n",
              "\n",
              "    .colab-df-convert:hover {\n",
              "      background-color: #E2EBFA;\n",
              "      box-shadow: 0px 1px 2px rgba(60, 64, 67, 0.3), 0px 1px 3px 1px rgba(60, 64, 67, 0.15);\n",
              "      fill: #174EA6;\n",
              "    }\n",
              "\n",
              "    [theme=dark] .colab-df-convert {\n",
              "      background-color: #3B4455;\n",
              "      fill: #D2E3FC;\n",
              "    }\n",
              "\n",
              "    [theme=dark] .colab-df-convert:hover {\n",
              "      background-color: #434B5C;\n",
              "      box-shadow: 0px 1px 3px 1px rgba(0, 0, 0, 0.15);\n",
              "      filter: drop-shadow(0px 1px 2px rgba(0, 0, 0, 0.3));\n",
              "      fill: #FFFFFF;\n",
              "    }\n",
              "  </style>\n",
              "\n",
              "      <script>\n",
              "        const buttonEl =\n",
              "          document.querySelector('#df-98ecd02d-96fa-48e2-9c66-71edc9728666 button.colab-df-convert');\n",
              "        buttonEl.style.display =\n",
              "          google.colab.kernel.accessAllowed ? 'block' : 'none';\n",
              "\n",
              "        async function convertToInteractive(key) {\n",
              "          const element = document.querySelector('#df-98ecd02d-96fa-48e2-9c66-71edc9728666');\n",
              "          const dataTable =\n",
              "            await google.colab.kernel.invokeFunction('convertToInteractive',\n",
              "                                                     [key], {});\n",
              "          if (!dataTable) return;\n",
              "\n",
              "          const docLinkHtml = 'Like what you see? Visit the ' +\n",
              "            '<a target=\"_blank\" href=https://colab.research.google.com/notebooks/data_table.ipynb>data table notebook</a>'\n",
              "            + ' to learn more about interactive tables.';\n",
              "          element.innerHTML = '';\n",
              "          dataTable['output_type'] = 'display_data';\n",
              "          await google.colab.output.renderOutput(dataTable, element);\n",
              "          const docLink = document.createElement('div');\n",
              "          docLink.innerHTML = docLinkHtml;\n",
              "          element.appendChild(docLink);\n",
              "        }\n",
              "      </script>\n",
              "    </div>\n",
              "  </div>\n",
              "  "
            ]
          },
          "metadata": {},
          "execution_count": 54
        }
      ],
      "source": [
        "traindff = fooddata[:train_length].iloc[:,:] # picking the training samples\n",
        "traindff"
      ]
    },
    {
      "cell_type": "code",
      "execution_count": null,
      "metadata": {
        "id": "1Mz9ifGYmkQy",
        "colab": {
          "base_uri": "https://localhost:8080/",
          "height": 1000
        },
        "outputId": "e748bebf-d6f2-4016-dfc5-13733091cac3"
      },
      "outputs": [
        {
          "output_type": "stream",
          "name": "stderr",
          "text": [
            "<ipython-input-55-4f9245a454c1>:2: SettingWithCopyWarning: \n",
            "A value is trying to be set on a copy of a slice from a DataFrame.\n",
            "Try using .loc[row_indexer,col_indexer] = value instead\n",
            "\n",
            "See the caveats in the documentation: https://pandas.pydata.org/pandas-docs/stable/user_guide/indexing.html#returning-a-view-versus-a-copy\n",
            "  testdff['Date'] = pd.to_datetime(testdff['Date'])\n"
          ]
        },
        {
          "output_type": "execute_result",
          "data": {
            "text/plain": [
              "          Date  Price\n",
              "145 2020-04-01  564.0\n",
              "146 2020-05-01  510.0\n",
              "147 2020-06-01  520.0\n",
              "148 2020-07-01  480.0\n",
              "149 2020-08-01  505.0\n",
              "150 2020-09-01  507.0\n",
              "151 2020-10-01  471.0\n",
              "152 2020-11-01  489.0\n",
              "153 2020-12-01  520.0\n",
              "154 2021-01-01  545.0\n",
              "155 2021-02-01  557.0\n",
              "156 2021-03-01  525.0\n",
              "157 2021-04-01  495.0\n",
              "158 2021-05-01  493.0\n",
              "159 2021-06-01  466.0\n",
              "160 2021-07-01  414.0\n",
              "161 2021-08-01  403.0\n",
              "162 2021-09-01  400.0\n",
              "163 2021-10-01  401.0\n",
              "164 2021-11-01  400.0\n",
              "165 2021-12-01  400.0\n",
              "166 2022-01-01  427.0\n",
              "167 2022-02-01  427.0\n",
              "168 2022-03-01  422.0\n",
              "169 2022-04-01  431.0\n",
              "170 2022-05-01  464.0\n",
              "171 2022-06-01  444.0\n",
              "172 2022-07-01  418.0\n",
              "173 2022-08-01  431.0\n",
              "174 2022-09-01  439.0\n",
              "175 2022-10-01  431.0\n",
              "176 2022-11-01  440.0\n",
              "177 2022-12-01  467.0\n",
              "178 2023-01-01  517.0\n",
              "179 2023-02-01  492.0\n",
              "180 2023-03-01  476.0"
            ],
            "text/html": [
              "\n",
              "  <div id=\"df-5fdf83e8-4460-4e29-9628-b6fc6170a7da\">\n",
              "    <div class=\"colab-df-container\">\n",
              "      <div>\n",
              "<style scoped>\n",
              "    .dataframe tbody tr th:only-of-type {\n",
              "        vertical-align: middle;\n",
              "    }\n",
              "\n",
              "    .dataframe tbody tr th {\n",
              "        vertical-align: top;\n",
              "    }\n",
              "\n",
              "    .dataframe thead th {\n",
              "        text-align: right;\n",
              "    }\n",
              "</style>\n",
              "<table border=\"1\" class=\"dataframe\">\n",
              "  <thead>\n",
              "    <tr style=\"text-align: right;\">\n",
              "      <th></th>\n",
              "      <th>Date</th>\n",
              "      <th>Price</th>\n",
              "    </tr>\n",
              "  </thead>\n",
              "  <tbody>\n",
              "    <tr>\n",
              "      <th>145</th>\n",
              "      <td>2020-04-01</td>\n",
              "      <td>564.0</td>\n",
              "    </tr>\n",
              "    <tr>\n",
              "      <th>146</th>\n",
              "      <td>2020-05-01</td>\n",
              "      <td>510.0</td>\n",
              "    </tr>\n",
              "    <tr>\n",
              "      <th>147</th>\n",
              "      <td>2020-06-01</td>\n",
              "      <td>520.0</td>\n",
              "    </tr>\n",
              "    <tr>\n",
              "      <th>148</th>\n",
              "      <td>2020-07-01</td>\n",
              "      <td>480.0</td>\n",
              "    </tr>\n",
              "    <tr>\n",
              "      <th>149</th>\n",
              "      <td>2020-08-01</td>\n",
              "      <td>505.0</td>\n",
              "    </tr>\n",
              "    <tr>\n",
              "      <th>150</th>\n",
              "      <td>2020-09-01</td>\n",
              "      <td>507.0</td>\n",
              "    </tr>\n",
              "    <tr>\n",
              "      <th>151</th>\n",
              "      <td>2020-10-01</td>\n",
              "      <td>471.0</td>\n",
              "    </tr>\n",
              "    <tr>\n",
              "      <th>152</th>\n",
              "      <td>2020-11-01</td>\n",
              "      <td>489.0</td>\n",
              "    </tr>\n",
              "    <tr>\n",
              "      <th>153</th>\n",
              "      <td>2020-12-01</td>\n",
              "      <td>520.0</td>\n",
              "    </tr>\n",
              "    <tr>\n",
              "      <th>154</th>\n",
              "      <td>2021-01-01</td>\n",
              "      <td>545.0</td>\n",
              "    </tr>\n",
              "    <tr>\n",
              "      <th>155</th>\n",
              "      <td>2021-02-01</td>\n",
              "      <td>557.0</td>\n",
              "    </tr>\n",
              "    <tr>\n",
              "      <th>156</th>\n",
              "      <td>2021-03-01</td>\n",
              "      <td>525.0</td>\n",
              "    </tr>\n",
              "    <tr>\n",
              "      <th>157</th>\n",
              "      <td>2021-04-01</td>\n",
              "      <td>495.0</td>\n",
              "    </tr>\n",
              "    <tr>\n",
              "      <th>158</th>\n",
              "      <td>2021-05-01</td>\n",
              "      <td>493.0</td>\n",
              "    </tr>\n",
              "    <tr>\n",
              "      <th>159</th>\n",
              "      <td>2021-06-01</td>\n",
              "      <td>466.0</td>\n",
              "    </tr>\n",
              "    <tr>\n",
              "      <th>160</th>\n",
              "      <td>2021-07-01</td>\n",
              "      <td>414.0</td>\n",
              "    </tr>\n",
              "    <tr>\n",
              "      <th>161</th>\n",
              "      <td>2021-08-01</td>\n",
              "      <td>403.0</td>\n",
              "    </tr>\n",
              "    <tr>\n",
              "      <th>162</th>\n",
              "      <td>2021-09-01</td>\n",
              "      <td>400.0</td>\n",
              "    </tr>\n",
              "    <tr>\n",
              "      <th>163</th>\n",
              "      <td>2021-10-01</td>\n",
              "      <td>401.0</td>\n",
              "    </tr>\n",
              "    <tr>\n",
              "      <th>164</th>\n",
              "      <td>2021-11-01</td>\n",
              "      <td>400.0</td>\n",
              "    </tr>\n",
              "    <tr>\n",
              "      <th>165</th>\n",
              "      <td>2021-12-01</td>\n",
              "      <td>400.0</td>\n",
              "    </tr>\n",
              "    <tr>\n",
              "      <th>166</th>\n",
              "      <td>2022-01-01</td>\n",
              "      <td>427.0</td>\n",
              "    </tr>\n",
              "    <tr>\n",
              "      <th>167</th>\n",
              "      <td>2022-02-01</td>\n",
              "      <td>427.0</td>\n",
              "    </tr>\n",
              "    <tr>\n",
              "      <th>168</th>\n",
              "      <td>2022-03-01</td>\n",
              "      <td>422.0</td>\n",
              "    </tr>\n",
              "    <tr>\n",
              "      <th>169</th>\n",
              "      <td>2022-04-01</td>\n",
              "      <td>431.0</td>\n",
              "    </tr>\n",
              "    <tr>\n",
              "      <th>170</th>\n",
              "      <td>2022-05-01</td>\n",
              "      <td>464.0</td>\n",
              "    </tr>\n",
              "    <tr>\n",
              "      <th>171</th>\n",
              "      <td>2022-06-01</td>\n",
              "      <td>444.0</td>\n",
              "    </tr>\n",
              "    <tr>\n",
              "      <th>172</th>\n",
              "      <td>2022-07-01</td>\n",
              "      <td>418.0</td>\n",
              "    </tr>\n",
              "    <tr>\n",
              "      <th>173</th>\n",
              "      <td>2022-08-01</td>\n",
              "      <td>431.0</td>\n",
              "    </tr>\n",
              "    <tr>\n",
              "      <th>174</th>\n",
              "      <td>2022-09-01</td>\n",
              "      <td>439.0</td>\n",
              "    </tr>\n",
              "    <tr>\n",
              "      <th>175</th>\n",
              "      <td>2022-10-01</td>\n",
              "      <td>431.0</td>\n",
              "    </tr>\n",
              "    <tr>\n",
              "      <th>176</th>\n",
              "      <td>2022-11-01</td>\n",
              "      <td>440.0</td>\n",
              "    </tr>\n",
              "    <tr>\n",
              "      <th>177</th>\n",
              "      <td>2022-12-01</td>\n",
              "      <td>467.0</td>\n",
              "    </tr>\n",
              "    <tr>\n",
              "      <th>178</th>\n",
              "      <td>2023-01-01</td>\n",
              "      <td>517.0</td>\n",
              "    </tr>\n",
              "    <tr>\n",
              "      <th>179</th>\n",
              "      <td>2023-02-01</td>\n",
              "      <td>492.0</td>\n",
              "    </tr>\n",
              "    <tr>\n",
              "      <th>180</th>\n",
              "      <td>2023-03-01</td>\n",
              "      <td>476.0</td>\n",
              "    </tr>\n",
              "  </tbody>\n",
              "</table>\n",
              "</div>\n",
              "      <button class=\"colab-df-convert\" onclick=\"convertToInteractive('df-5fdf83e8-4460-4e29-9628-b6fc6170a7da')\"\n",
              "              title=\"Convert this dataframe to an interactive table.\"\n",
              "              style=\"display:none;\">\n",
              "        \n",
              "  <svg xmlns=\"http://www.w3.org/2000/svg\" height=\"24px\"viewBox=\"0 0 24 24\"\n",
              "       width=\"24px\">\n",
              "    <path d=\"M0 0h24v24H0V0z\" fill=\"none\"/>\n",
              "    <path d=\"M18.56 5.44l.94 2.06.94-2.06 2.06-.94-2.06-.94-.94-2.06-.94 2.06-2.06.94zm-11 1L8.5 8.5l.94-2.06 2.06-.94-2.06-.94L8.5 2.5l-.94 2.06-2.06.94zm10 10l.94 2.06.94-2.06 2.06-.94-2.06-.94-.94-2.06-.94 2.06-2.06.94z\"/><path d=\"M17.41 7.96l-1.37-1.37c-.4-.4-.92-.59-1.43-.59-.52 0-1.04.2-1.43.59L10.3 9.45l-7.72 7.72c-.78.78-.78 2.05 0 2.83L4 21.41c.39.39.9.59 1.41.59.51 0 1.02-.2 1.41-.59l7.78-7.78 2.81-2.81c.8-.78.8-2.07 0-2.86zM5.41 20L4 18.59l7.72-7.72 1.47 1.35L5.41 20z\"/>\n",
              "  </svg>\n",
              "      </button>\n",
              "      \n",
              "  <style>\n",
              "    .colab-df-container {\n",
              "      display:flex;\n",
              "      flex-wrap:wrap;\n",
              "      gap: 12px;\n",
              "    }\n",
              "\n",
              "    .colab-df-convert {\n",
              "      background-color: #E8F0FE;\n",
              "      border: none;\n",
              "      border-radius: 50%;\n",
              "      cursor: pointer;\n",
              "      display: none;\n",
              "      fill: #1967D2;\n",
              "      height: 32px;\n",
              "      padding: 0 0 0 0;\n",
              "      width: 32px;\n",
              "    }\n",
              "\n",
              "    .colab-df-convert:hover {\n",
              "      background-color: #E2EBFA;\n",
              "      box-shadow: 0px 1px 2px rgba(60, 64, 67, 0.3), 0px 1px 3px 1px rgba(60, 64, 67, 0.15);\n",
              "      fill: #174EA6;\n",
              "    }\n",
              "\n",
              "    [theme=dark] .colab-df-convert {\n",
              "      background-color: #3B4455;\n",
              "      fill: #D2E3FC;\n",
              "    }\n",
              "\n",
              "    [theme=dark] .colab-df-convert:hover {\n",
              "      background-color: #434B5C;\n",
              "      box-shadow: 0px 1px 3px 1px rgba(0, 0, 0, 0.15);\n",
              "      filter: drop-shadow(0px 1px 2px rgba(0, 0, 0, 0.3));\n",
              "      fill: #FFFFFF;\n",
              "    }\n",
              "  </style>\n",
              "\n",
              "      <script>\n",
              "        const buttonEl =\n",
              "          document.querySelector('#df-5fdf83e8-4460-4e29-9628-b6fc6170a7da button.colab-df-convert');\n",
              "        buttonEl.style.display =\n",
              "          google.colab.kernel.accessAllowed ? 'block' : 'none';\n",
              "\n",
              "        async function convertToInteractive(key) {\n",
              "          const element = document.querySelector('#df-5fdf83e8-4460-4e29-9628-b6fc6170a7da');\n",
              "          const dataTable =\n",
              "            await google.colab.kernel.invokeFunction('convertToInteractive',\n",
              "                                                     [key], {});\n",
              "          if (!dataTable) return;\n",
              "\n",
              "          const docLinkHtml = 'Like what you see? Visit the ' +\n",
              "            '<a target=\"_blank\" href=https://colab.research.google.com/notebooks/data_table.ipynb>data table notebook</a>'\n",
              "            + ' to learn more about interactive tables.';\n",
              "          element.innerHTML = '';\n",
              "          dataTable['output_type'] = 'display_data';\n",
              "          await google.colab.output.renderOutput(dataTable, element);\n",
              "          const docLink = document.createElement('div');\n",
              "          docLink.innerHTML = docLinkHtml;\n",
              "          element.appendChild(docLink);\n",
              "        }\n",
              "      </script>\n",
              "    </div>\n",
              "  </div>\n",
              "  "
            ]
          },
          "metadata": {},
          "execution_count": 55
        }
      ],
      "source": [
        "testdff = fooddata[train_length:train_length+test_length].iloc[:,:] # picking the validation samples\n",
        "testdff['Date'] = pd.to_datetime(testdff['Date'])\n",
        "testdff"
      ]
    },
    {
      "cell_type": "code",
      "execution_count": null,
      "metadata": {
        "id": "zlwt7x7emw1w",
        "colab": {
          "base_uri": "https://localhost:8080/"
        },
        "outputId": "5cda21cb-d1f1-4419-af80-cb42582bdc1c"
      },
      "outputs": [
        {
          "output_type": "stream",
          "name": "stdout",
          "text": [
            "(145, 2)\n",
            "(36, 2)\n"
          ]
        }
      ],
      "source": [
        "print(traindff.shape)\n",
        "print(testdff.shape)"
      ]
    },
    {
      "cell_type": "code",
      "execution_count": null,
      "metadata": {
        "id": "KBE09X-NogFn",
        "colab": {
          "base_uri": "https://localhost:8080/"
        },
        "outputId": "7245d07f-156d-4bd5-c457-e5157790ebb3"
      },
      "outputs": [
        {
          "output_type": "execute_result",
          "data": {
            "text/plain": [
              "(145, 1)"
            ]
          },
          "metadata": {},
          "execution_count": 57
        }
      ],
      "source": [
        "dff_train = traindff['Price'].values\n",
        "dff_train = np.reshape(dff_train,(-1,1))\n",
        "dff_train.shape"
      ]
    },
    {
      "cell_type": "code",
      "execution_count": null,
      "metadata": {
        "id": "T6W7dVb1otrC",
        "colab": {
          "base_uri": "https://localhost:8080/"
        },
        "outputId": "aa7f5e8a-d134-453b-ef6a-6141d3f2265f"
      },
      "outputs": [
        {
          "output_type": "execute_result",
          "data": {
            "text/plain": [
              "(36, 1)"
            ]
          },
          "metadata": {},
          "execution_count": 58
        }
      ],
      "source": [
        "# Creating test dataset\n",
        "\n",
        "dff_test = testdff['Price'].values\n",
        "dff_test = np.reshape(dff_test,(-1,1))\n",
        "dff_test.shape"
      ]
    },
    {
      "cell_type": "code",
      "execution_count": null,
      "metadata": {
        "id": "IFYriJy_pfvE"
      },
      "outputs": [],
      "source": [
        "def create_dataset(fooddata, look_back=1):\n",
        "    datafX, datafY = [], []\n",
        "    for i in range(look_back,len(fooddata)):\n",
        "      datafX.append(fooddata[i-look_back:i,0])\n",
        "      datafY.append(fooddata[i,0])\n",
        "    return np.array(datafX), np.array(datafY)"
      ]
    },
    {
      "cell_type": "code",
      "execution_count": null,
      "metadata": {
        "id": "7byglKniq_Bp",
        "colab": {
          "base_uri": "https://localhost:8080/"
        },
        "outputId": "bb914783-1029-4369-eb12-4155fd82318a"
      },
      "outputs": [
        {
          "output_type": "stream",
          "name": "stdout",
          "text": [
            "(145, 1)\n",
            "----------------\n",
            "(36, 1)\n"
          ]
        }
      ],
      "source": [
        "# Nomalizing the values to the 0-1 range to reduce the effect of variance\n",
        "# Min-Max Scaler\n",
        "\n",
        "scaler_train = MinMaxScaler()\n",
        "scaler_test = MinMaxScaler()\n",
        "dff_train_scaled = scaler_train.fit_transform(dff_train)\n",
        "dff_test_scaled = scaler_test.fit_transform(dff_test)\n",
        "\n",
        "print(dff_train_scaled.shape)\n",
        "print('----------------')\n",
        "print(dff_test_scaled.shape)"
      ]
    },
    {
      "cell_type": "code",
      "execution_count": null,
      "metadata": {
        "id": "XH0gizYbp3Sw"
      },
      "outputs": [],
      "source": [
        "look_backf = 12\n",
        "x_trainf, y_trainf = create_dataset(dff_train_scaled, look_backf)\n",
        "x_testf, y_testf= create_dataset(dff_test_scaled, look_backf)"
      ]
    },
    {
      "cell_type": "code",
      "execution_count": null,
      "metadata": {
        "id": "gSVp-VsZrUOX"
      },
      "outputs": [],
      "source": [
        "x_trainf = np.reshape(x_trainf, (x_trainf.shape[0], x_trainf.shape[1], 1))\n",
        "y_trainf = np.reshape(y_trainf, (y_trainf.shape[0], 1))\n",
        "\n",
        "x_testf = np.reshape(x_testf, (x_testf.shape[0], x_testf.shape[1], 1))\n",
        "y_testf = np.reshape(y_testf, (y_testf.shape[0], 1))"
      ]
    },
    {
      "cell_type": "code",
      "execution_count": null,
      "metadata": {
        "id": "G44DsZcDpAEH"
      },
      "outputs": [],
      "source": [
        "from keras.models import Sequential\n",
        "from keras.layers import SimpleRNN, Dropout, Dense"
      ]
    },
    {
      "cell_type": "code",
      "execution_count": null,
      "metadata": {
        "id": "xmPqFd7h7ycV",
        "colab": {
          "base_uri": "https://localhost:8080/"
        },
        "outputId": "5cad8b30-e5b4-439c-ad15-56eaff048747"
      },
      "outputs": [
        {
          "output_type": "stream",
          "name": "stdout",
          "text": [
            "Epoch 1/100\n",
            "2/2 [==============================] - 4s 19ms/step - loss: 0.5819 - accuracy: 0.0000e+00\n",
            "Epoch 2/100\n",
            "2/2 [==============================] - 0s 19ms/step - loss: 0.4467 - accuracy: 0.0000e+00\n",
            "Epoch 3/100\n",
            "2/2 [==============================] - 0s 18ms/step - loss: 0.3665 - accuracy: 0.0075\n",
            "Epoch 4/100\n",
            "2/2 [==============================] - 0s 19ms/step - loss: 0.3143 - accuracy: 0.0075\n",
            "Epoch 5/100\n",
            "2/2 [==============================] - 0s 21ms/step - loss: 0.1807 - accuracy: 0.0075\n",
            "Epoch 6/100\n",
            "2/2 [==============================] - 0s 19ms/step - loss: 0.2614 - accuracy: 0.0000e+00\n",
            "Epoch 7/100\n",
            "2/2 [==============================] - 0s 21ms/step - loss: 0.2436 - accuracy: 0.0075\n",
            "Epoch 8/100\n",
            "2/2 [==============================] - 0s 18ms/step - loss: 0.2053 - accuracy: 0.0075\n",
            "Epoch 9/100\n",
            "2/2 [==============================] - 0s 17ms/step - loss: 0.2263 - accuracy: 0.0000e+00\n",
            "Epoch 10/100\n",
            "2/2 [==============================] - 0s 18ms/step - loss: 0.2039 - accuracy: 0.0000e+00\n",
            "Epoch 11/100\n",
            "2/2 [==============================] - 0s 17ms/step - loss: 0.1801 - accuracy: 0.0000e+00\n",
            "Epoch 12/100\n",
            "2/2 [==============================] - 0s 26ms/step - loss: 0.1928 - accuracy: 0.0075\n",
            "Epoch 13/100\n",
            "2/2 [==============================] - 0s 17ms/step - loss: 0.2270 - accuracy: 0.0075\n",
            "Epoch 14/100\n",
            "2/2 [==============================] - 0s 20ms/step - loss: 0.2109 - accuracy: 0.0000e+00\n",
            "Epoch 15/100\n",
            "2/2 [==============================] - 0s 17ms/step - loss: 0.1905 - accuracy: 0.0000e+00\n",
            "Epoch 16/100\n",
            "2/2 [==============================] - 0s 18ms/step - loss: 0.1588 - accuracy: 0.0075\n",
            "Epoch 17/100\n",
            "2/2 [==============================] - 0s 19ms/step - loss: 0.1406 - accuracy: 0.0075\n",
            "Epoch 18/100\n",
            "2/2 [==============================] - 0s 18ms/step - loss: 0.1895 - accuracy: 0.0075\n",
            "Epoch 19/100\n",
            "2/2 [==============================] - 0s 25ms/step - loss: 0.1445 - accuracy: 0.0075\n",
            "Epoch 20/100\n",
            "2/2 [==============================] - 0s 18ms/step - loss: 0.1261 - accuracy: 0.0075\n",
            "Epoch 21/100\n",
            "2/2 [==============================] - 0s 21ms/step - loss: 0.1511 - accuracy: 0.0075\n",
            "Epoch 22/100\n",
            "2/2 [==============================] - 0s 18ms/step - loss: 0.1382 - accuracy: 0.0000e+00\n",
            "Epoch 23/100\n",
            "2/2 [==============================] - 0s 17ms/step - loss: 0.1386 - accuracy: 0.0075\n",
            "Epoch 24/100\n",
            "2/2 [==============================] - 0s 19ms/step - loss: 0.1424 - accuracy: 0.0075\n",
            "Epoch 25/100\n",
            "2/2 [==============================] - 0s 17ms/step - loss: 0.1420 - accuracy: 0.0075\n",
            "Epoch 26/100\n",
            "2/2 [==============================] - 0s 18ms/step - loss: 0.1335 - accuracy: 0.0075\n",
            "Epoch 27/100\n",
            "2/2 [==============================] - 0s 19ms/step - loss: 0.1175 - accuracy: 0.0075\n",
            "Epoch 28/100\n",
            "2/2 [==============================] - 0s 19ms/step - loss: 0.1477 - accuracy: 0.0075\n",
            "Epoch 29/100\n",
            "2/2 [==============================] - 0s 20ms/step - loss: 0.1676 - accuracy: 0.0000e+00\n",
            "Epoch 30/100\n",
            "2/2 [==============================] - 0s 19ms/step - loss: 0.1214 - accuracy: 0.0000e+00\n",
            "Epoch 31/100\n",
            "2/2 [==============================] - 0s 22ms/step - loss: 0.1136 - accuracy: 0.0075\n",
            "Epoch 32/100\n",
            "2/2 [==============================] - 0s 18ms/step - loss: 0.1254 - accuracy: 0.0075\n",
            "Epoch 33/100\n",
            "2/2 [==============================] - 0s 18ms/step - loss: 0.1027 - accuracy: 0.0075\n",
            "Epoch 34/100\n",
            "2/2 [==============================] - 0s 18ms/step - loss: 0.1568 - accuracy: 0.0075\n",
            "Epoch 35/100\n",
            "2/2 [==============================] - 0s 18ms/step - loss: 0.0778 - accuracy: 0.0075\n",
            "Epoch 36/100\n",
            "2/2 [==============================] - 0s 19ms/step - loss: 0.1246 - accuracy: 0.0075\n",
            "Epoch 37/100\n",
            "2/2 [==============================] - 0s 19ms/step - loss: 0.1002 - accuracy: 0.0000e+00\n",
            "Epoch 38/100\n",
            "2/2 [==============================] - 0s 20ms/step - loss: 0.1152 - accuracy: 0.0075\n",
            "Epoch 39/100\n",
            "2/2 [==============================] - 0s 19ms/step - loss: 0.0952 - accuracy: 0.0075\n",
            "Epoch 40/100\n",
            "2/2 [==============================] - 0s 18ms/step - loss: 0.0904 - accuracy: 0.0075\n",
            "Epoch 41/100\n",
            "2/2 [==============================] - 0s 18ms/step - loss: 0.0936 - accuracy: 0.0075\n",
            "Epoch 42/100\n",
            "2/2 [==============================] - 0s 20ms/step - loss: 0.0982 - accuracy: 0.0075\n",
            "Epoch 43/100\n",
            "2/2 [==============================] - 0s 19ms/step - loss: 0.0718 - accuracy: 0.0075\n",
            "Epoch 44/100\n",
            "2/2 [==============================] - 0s 19ms/step - loss: 0.0986 - accuracy: 0.0075\n",
            "Epoch 45/100\n",
            "2/2 [==============================] - 0s 18ms/step - loss: 0.0960 - accuracy: 0.0075\n",
            "Epoch 46/100\n",
            "2/2 [==============================] - 0s 19ms/step - loss: 0.0876 - accuracy: 0.0075\n",
            "Epoch 47/100\n",
            "2/2 [==============================] - 0s 28ms/step - loss: 0.0982 - accuracy: 0.0075\n",
            "Epoch 48/100\n",
            "2/2 [==============================] - 0s 20ms/step - loss: 0.0764 - accuracy: 0.0075\n",
            "Epoch 49/100\n",
            "2/2 [==============================] - 0s 17ms/step - loss: 0.0972 - accuracy: 0.0075\n",
            "Epoch 50/100\n",
            "2/2 [==============================] - 0s 20ms/step - loss: 0.0929 - accuracy: 0.0075\n",
            "Epoch 51/100\n",
            "2/2 [==============================] - 0s 18ms/step - loss: 0.0831 - accuracy: 0.0075\n",
            "Epoch 52/100\n",
            "2/2 [==============================] - 0s 19ms/step - loss: 0.0805 - accuracy: 0.0075\n",
            "Epoch 53/100\n",
            "2/2 [==============================] - 0s 24ms/step - loss: 0.0933 - accuracy: 0.0075\n",
            "Epoch 54/100\n",
            "2/2 [==============================] - 0s 20ms/step - loss: 0.0832 - accuracy: 0.0075\n",
            "Epoch 55/100\n",
            "2/2 [==============================] - 0s 19ms/step - loss: 0.0849 - accuracy: 0.0075\n",
            "Epoch 56/100\n",
            "2/2 [==============================] - 0s 18ms/step - loss: 0.0644 - accuracy: 0.0075\n",
            "Epoch 57/100\n",
            "2/2 [==============================] - 0s 19ms/step - loss: 0.0866 - accuracy: 0.0075\n",
            "Epoch 58/100\n",
            "2/2 [==============================] - 0s 24ms/step - loss: 0.0771 - accuracy: 0.0075\n",
            "Epoch 59/100\n",
            "2/2 [==============================] - 0s 23ms/step - loss: 0.0909 - accuracy: 0.0075\n",
            "Epoch 60/100\n",
            "2/2 [==============================] - 0s 18ms/step - loss: 0.0817 - accuracy: 0.0075\n",
            "Epoch 61/100\n",
            "2/2 [==============================] - 0s 17ms/step - loss: 0.0842 - accuracy: 0.0075\n",
            "Epoch 62/100\n",
            "2/2 [==============================] - 0s 18ms/step - loss: 0.0773 - accuracy: 0.0075\n",
            "Epoch 63/100\n",
            "2/2 [==============================] - 0s 17ms/step - loss: 0.0865 - accuracy: 0.0075\n",
            "Epoch 64/100\n",
            "2/2 [==============================] - 0s 25ms/step - loss: 0.0752 - accuracy: 0.0075\n",
            "Epoch 65/100\n",
            "2/2 [==============================] - 0s 18ms/step - loss: 0.0878 - accuracy: 0.0075\n",
            "Epoch 66/100\n",
            "2/2 [==============================] - 0s 18ms/step - loss: 0.0694 - accuracy: 0.0075\n",
            "Epoch 67/100\n",
            "2/2 [==============================] - 0s 18ms/step - loss: 0.0689 - accuracy: 0.0075\n",
            "Epoch 68/100\n",
            "2/2 [==============================] - 0s 17ms/step - loss: 0.0768 - accuracy: 0.0075\n",
            "Epoch 69/100\n",
            "2/2 [==============================] - 0s 18ms/step - loss: 0.0669 - accuracy: 0.0075\n",
            "Epoch 70/100\n",
            "2/2 [==============================] - 0s 31ms/step - loss: 0.0605 - accuracy: 0.0000e+00\n",
            "Epoch 71/100\n",
            "2/2 [==============================] - 0s 18ms/step - loss: 0.0577 - accuracy: 0.0075\n",
            "Epoch 72/100\n",
            "2/2 [==============================] - 0s 25ms/step - loss: 0.0454 - accuracy: 0.0075\n",
            "Epoch 73/100\n",
            "2/2 [==============================] - 0s 18ms/step - loss: 0.0569 - accuracy: 0.0075\n",
            "Epoch 74/100\n",
            "2/2 [==============================] - 0s 19ms/step - loss: 0.0628 - accuracy: 0.0075\n",
            "Epoch 75/100\n",
            "2/2 [==============================] - 0s 20ms/step - loss: 0.0588 - accuracy: 0.0075\n",
            "Epoch 76/100\n",
            "2/2 [==============================] - 0s 18ms/step - loss: 0.0578 - accuracy: 0.0075\n",
            "Epoch 77/100\n",
            "2/2 [==============================] - 0s 20ms/step - loss: 0.0507 - accuracy: 0.0075\n",
            "Epoch 78/100\n",
            "2/2 [==============================] - 0s 19ms/step - loss: 0.0441 - accuracy: 0.0075\n",
            "Epoch 79/100\n",
            "2/2 [==============================] - 0s 30ms/step - loss: 0.0470 - accuracy: 0.0075\n",
            "Epoch 80/100\n",
            "2/2 [==============================] - 0s 21ms/step - loss: 0.0563 - accuracy: 0.0075\n",
            "Epoch 81/100\n",
            "2/2 [==============================] - 0s 25ms/step - loss: 0.0539 - accuracy: 0.0075\n",
            "Epoch 82/100\n",
            "2/2 [==============================] - 0s 18ms/step - loss: 0.0546 - accuracy: 0.0075\n",
            "Epoch 83/100\n",
            "2/2 [==============================] - 0s 20ms/step - loss: 0.0582 - accuracy: 0.0075\n",
            "Epoch 84/100\n",
            "2/2 [==============================] - 0s 18ms/step - loss: 0.0663 - accuracy: 0.0075\n",
            "Epoch 85/100\n",
            "2/2 [==============================] - 0s 21ms/step - loss: 0.0581 - accuracy: 0.0075\n",
            "Epoch 86/100\n",
            "2/2 [==============================] - 0s 19ms/step - loss: 0.0635 - accuracy: 0.0075\n",
            "Epoch 87/100\n",
            "2/2 [==============================] - 0s 19ms/step - loss: 0.0377 - accuracy: 0.0075\n",
            "Epoch 88/100\n",
            "2/2 [==============================] - 0s 21ms/step - loss: 0.0533 - accuracy: 0.0075\n",
            "Epoch 89/100\n",
            "2/2 [==============================] - 0s 19ms/step - loss: 0.0529 - accuracy: 0.0075\n",
            "Epoch 90/100\n",
            "2/2 [==============================] - 0s 19ms/step - loss: 0.0377 - accuracy: 0.0075\n",
            "Epoch 91/100\n",
            "2/2 [==============================] - 0s 20ms/step - loss: 0.0493 - accuracy: 0.0075\n",
            "Epoch 92/100\n",
            "2/2 [==============================] - 0s 29ms/step - loss: 0.0468 - accuracy: 0.0075\n",
            "Epoch 93/100\n",
            "2/2 [==============================] - 0s 19ms/step - loss: 0.0407 - accuracy: 0.0075\n",
            "Epoch 94/100\n",
            "2/2 [==============================] - 0s 21ms/step - loss: 0.0485 - accuracy: 0.0075\n",
            "Epoch 95/100\n",
            "2/2 [==============================] - 0s 21ms/step - loss: 0.0487 - accuracy: 0.0075\n",
            "Epoch 96/100\n",
            "2/2 [==============================] - 0s 30ms/step - loss: 0.0476 - accuracy: 0.0075\n",
            "Epoch 97/100\n",
            "2/2 [==============================] - 0s 20ms/step - loss: 0.0428 - accuracy: 0.0075\n",
            "Epoch 98/100\n",
            "2/2 [==============================] - 0s 23ms/step - loss: 0.0483 - accuracy: 0.0075\n",
            "Epoch 99/100\n",
            "2/2 [==============================] - 0s 19ms/step - loss: 0.0476 - accuracy: 0.0075\n",
            "Epoch 100/100\n",
            "2/2 [==============================] - 0s 26ms/step - loss: 0.0485 - accuracy: 0.0075\n"
          ]
        }
      ],
      "source": [
        "model = Sequential()\n",
        "# RNN layer 1\n",
        "model.add(SimpleRNN(12, input_shape=(look_backf, 1), return_sequences=True))\n",
        "model.add(Dropout(0.1))\n",
        "#RNN layer 2\n",
        "model.add(SimpleRNN(12, return_sequences=True))\n",
        "model.add(Dropout(0.1))\n",
        "#RNN layer 3\n",
        "model.add(SimpleRNN(12, return_sequences=True))\n",
        "model.add(Dropout(0.1))\n",
        "#RNN layer 4\n",
        "model.add(SimpleRNN(12))\n",
        "model.add(Dropout(0.1))\n",
        "\n",
        "# Dense layer\n",
        "model.add(Dense(1))\n",
        "\n",
        "#Compiling the model\n",
        "model.compile(loss='mean_squared_error', optimizer='adam', metrics=['accuracy'])\n",
        "\n",
        "# Training the model\n",
        "training = model.fit(x_trainf, y_trainf, epochs=100, batch_size=95)"
      ]
    },
    {
      "cell_type": "code",
      "source": [
        "# Trends of Loss\n",
        "plt.figure(figsize =(10,6))\n",
        "plt.plot(training.history[\"loss\"])\n",
        "plt.xlabel(\"Epoch\")\n",
        "plt.ylabel(\"Loss values\")\n",
        "plt.title(\"Simple RNN model, Loss vs Epoch\")\n",
        "plt.show()\n",
        "\n",
        "## DOWNWARD TREND OF LOSS AND HAS SETTLED THERE"
      ],
      "metadata": {
        "colab": {
          "base_uri": "https://localhost:8080/",
          "height": 564
        },
        "id": "FndPMJqfgysC",
        "outputId": "1e9be5b9-734b-47b4-b8f9-9ac57169825f"
      },
      "execution_count": null,
      "outputs": [
        {
          "output_type": "display_data",
          "data": {
            "text/plain": [
              "<Figure size 1000x600 with 1 Axes>"
            ],
            "image/png": "[encoded data removed]"
          },
          "metadata": {}
        }
      ]
    },
    {
      "cell_type": "code",
      "source": [
        "model = Sequential()\n",
        "# RNN layer 1\n",
        "model.add(SimpleRNN(12, input_shape=(look_backf, 1), return_sequences=True))\n",
        "model.add(Dropout(0.1))\n",
        "#RNN layer 2\n",
        "model.add(SimpleRNN(12, return_sequences=True))\n",
        "model.add(Dropout(0.1))\n",
        "#RNN layer 3\n",
        "model.add(SimpleRNN(12, return_sequences=True))\n",
        "model.add(Dropout(0.1))\n",
        "#RNN layer 4\n",
        "model.add(SimpleRNN(12))\n",
        "model.add(Dropout(0.1))\n",
        "\n",
        "# Dense layer\n",
        "model.add(Dense(1))\n",
        "\n",
        "#Compiling the model\n",
        "model.compile(loss='mean_squared_error', optimizer='adam', metrics=['accuracy'])\n",
        "\n",
        "# Training the model\n",
        "testing = model.fit(x_testf, y_testf, epochs=100, batch_size=95)"
      ],
      "metadata": {
        "colab": {
          "base_uri": "https://localhost:8080/"
        },
        "id": "6A8CDIflozIA",
        "outputId": "a32729ef-a983-4856-92b2-67f3236c879c"
      },
      "execution_count": null,
      "outputs": [
        {
          "output_type": "stream",
          "name": "stdout",
          "text": [
            "Epoch 1/100\n",
            "1/1 [==============================] - 5s 5s/step - loss: 0.9177 - accuracy: 0.0000e+00\n",
            "Epoch 2/100\n",
            "1/1 [==============================] - 0s 43ms/step - loss: 0.6614 - accuracy: 0.0417\n",
            "Epoch 3/100\n",
            "1/1 [==============================] - 0s 51ms/step - loss: 0.7446 - accuracy: 0.0833\n",
            "Epoch 4/100\n",
            "1/1 [==============================] - 0s 55ms/step - loss: 0.9708 - accuracy: 0.0833\n",
            "Epoch 5/100\n",
            "1/1 [==============================] - 0s 40ms/step - loss: 0.9661 - accuracy: 0.0417\n",
            "Epoch 6/100\n",
            "1/1 [==============================] - 0s 45ms/step - loss: 0.5831 - accuracy: 0.0833\n",
            "Epoch 7/100\n",
            "1/1 [==============================] - 0s 50ms/step - loss: 0.6205 - accuracy: 0.1250\n",
            "Epoch 8/100\n",
            "1/1 [==============================] - 0s 46ms/step - loss: 0.4067 - accuracy: 0.0833\n",
            "Epoch 9/100\n",
            "1/1 [==============================] - 0s 32ms/step - loss: 0.5721 - accuracy: 0.0833\n",
            "Epoch 10/100\n",
            "1/1 [==============================] - 0s 26ms/step - loss: 0.6291 - accuracy: 0.0833\n",
            "Epoch 11/100\n",
            "1/1 [==============================] - 0s 39ms/step - loss: 0.5349 - accuracy: 0.0833\n",
            "Epoch 12/100\n",
            "1/1 [==============================] - 0s 37ms/step - loss: 0.5542 - accuracy: 0.0833\n",
            "Epoch 13/100\n",
            "1/1 [==============================] - 0s 35ms/step - loss: 0.4950 - accuracy: 0.0417\n",
            "Epoch 14/100\n",
            "1/1 [==============================] - 0s 37ms/step - loss: 0.4716 - accuracy: 0.0417\n",
            "Epoch 15/100\n",
            "1/1 [==============================] - 0s 47ms/step - loss: 0.2642 - accuracy: 0.1250\n",
            "Epoch 16/100\n",
            "1/1 [==============================] - 0s 40ms/step - loss: 0.4407 - accuracy: 0.0833\n",
            "Epoch 17/100\n",
            "1/1 [==============================] - 0s 36ms/step - loss: 0.2789 - accuracy: 0.0833\n",
            "Epoch 18/100\n",
            "1/1 [==============================] - 0s 36ms/step - loss: 0.2798 - accuracy: 0.1250\n",
            "Epoch 19/100\n",
            "1/1 [==============================] - 0s 39ms/step - loss: 0.3742 - accuracy: 0.1250\n",
            "Epoch 20/100\n",
            "1/1 [==============================] - 0s 32ms/step - loss: 0.2164 - accuracy: 0.0833\n",
            "Epoch 21/100\n",
            "1/1 [==============================] - 0s 30ms/step - loss: 0.3765 - accuracy: 0.0833\n",
            "Epoch 22/100\n",
            "1/1 [==============================] - 0s 38ms/step - loss: 0.2528 - accuracy: 0.0833\n",
            "Epoch 23/100\n",
            "1/1 [==============================] - 0s 37ms/step - loss: 0.3618 - accuracy: 0.1250\n",
            "Epoch 24/100\n",
            "1/1 [==============================] - 0s 27ms/step - loss: 0.4404 - accuracy: 0.0833\n",
            "Epoch 25/100\n",
            "1/1 [==============================] - 0s 50ms/step - loss: 0.2181 - accuracy: 0.0833\n",
            "Epoch 26/100\n",
            "1/1 [==============================] - 0s 60ms/step - loss: 0.2974 - accuracy: 0.0833\n",
            "Epoch 27/100\n",
            "1/1 [==============================] - 0s 57ms/step - loss: 0.2045 - accuracy: 0.0833\n",
            "Epoch 28/100\n",
            "1/1 [==============================] - 0s 46ms/step - loss: 0.3174 - accuracy: 0.0833\n",
            "Epoch 29/100\n",
            "1/1 [==============================] - 0s 53ms/step - loss: 0.1959 - accuracy: 0.0833\n",
            "Epoch 30/100\n",
            "1/1 [==============================] - 0s 57ms/step - loss: 0.2839 - accuracy: 0.1250\n",
            "Epoch 31/100\n",
            "1/1 [==============================] - 0s 47ms/step - loss: 0.1277 - accuracy: 0.0417\n",
            "Epoch 32/100\n",
            "1/1 [==============================] - 0s 51ms/step - loss: 0.1921 - accuracy: 0.1250\n",
            "Epoch 33/100\n",
            "1/1 [==============================] - 0s 39ms/step - loss: 0.2062 - accuracy: 0.0833\n",
            "Epoch 34/100\n",
            "1/1 [==============================] - 0s 48ms/step - loss: 0.2342 - accuracy: 0.0833\n",
            "Epoch 35/100\n",
            "1/1 [==============================] - 0s 42ms/step - loss: 0.1992 - accuracy: 0.0833\n",
            "Epoch 36/100\n",
            "1/1 [==============================] - 0s 52ms/step - loss: 0.2388 - accuracy: 0.0417\n",
            "Epoch 37/100\n",
            "1/1 [==============================] - 0s 40ms/step - loss: 0.1852 - accuracy: 0.0833\n",
            "Epoch 38/100\n",
            "1/1 [==============================] - 0s 47ms/step - loss: 0.1589 - accuracy: 0.0000e+00\n",
            "Epoch 39/100\n",
            "1/1 [==============================] - 0s 51ms/step - loss: 0.2029 - accuracy: 0.0417\n",
            "Epoch 40/100\n",
            "1/1 [==============================] - 0s 51ms/step - loss: 0.2021 - accuracy: 0.1250\n",
            "Epoch 41/100\n",
            "1/1 [==============================] - 0s 45ms/step - loss: 0.1741 - accuracy: 0.0833\n",
            "Epoch 42/100\n",
            "1/1 [==============================] - 0s 45ms/step - loss: 0.1574 - accuracy: 0.0417\n",
            "Epoch 43/100\n",
            "1/1 [==============================] - 0s 39ms/step - loss: 0.1292 - accuracy: 0.1250\n",
            "Epoch 44/100\n",
            "1/1 [==============================] - 0s 37ms/step - loss: 0.2381 - accuracy: 0.0000e+00\n",
            "Epoch 45/100\n",
            "1/1 [==============================] - 0s 40ms/step - loss: 0.2151 - accuracy: 0.0833\n",
            "Epoch 46/100\n",
            "1/1 [==============================] - 0s 31ms/step - loss: 0.1046 - accuracy: 0.0833\n",
            "Epoch 47/100\n",
            "1/1 [==============================] - 0s 33ms/step - loss: 0.1672 - accuracy: 0.1250\n",
            "Epoch 48/100\n",
            "1/1 [==============================] - 0s 37ms/step - loss: 0.1159 - accuracy: 0.0833\n",
            "Epoch 49/100\n",
            "1/1 [==============================] - 0s 36ms/step - loss: 0.2203 - accuracy: 0.0833\n",
            "Epoch 50/100\n",
            "1/1 [==============================] - 0s 36ms/step - loss: 0.2108 - accuracy: 0.1250\n",
            "Epoch 51/100\n",
            "1/1 [==============================] - 0s 36ms/step - loss: 0.1623 - accuracy: 0.1250\n",
            "Epoch 52/100\n",
            "1/1 [==============================] - 0s 36ms/step - loss: 0.1419 - accuracy: 0.0833\n",
            "Epoch 53/100\n",
            "1/1 [==============================] - 0s 40ms/step - loss: 0.2556 - accuracy: 0.1250\n",
            "Epoch 54/100\n",
            "1/1 [==============================] - 0s 53ms/step - loss: 0.2589 - accuracy: 0.0833\n",
            "Epoch 55/100\n",
            "1/1 [==============================] - 0s 57ms/step - loss: 0.1172 - accuracy: 0.1250\n",
            "Epoch 56/100\n",
            "1/1 [==============================] - 0s 47ms/step - loss: 0.1860 - accuracy: 0.0417\n",
            "Epoch 57/100\n",
            "1/1 [==============================] - 0s 44ms/step - loss: 0.1461 - accuracy: 0.1250\n",
            "Epoch 58/100\n",
            "1/1 [==============================] - 0s 43ms/step - loss: 0.2115 - accuracy: 0.0417\n",
            "Epoch 59/100\n",
            "1/1 [==============================] - 0s 42ms/step - loss: 0.2077 - accuracy: 0.0417\n",
            "Epoch 60/100\n",
            "1/1 [==============================] - 0s 33ms/step - loss: 0.0981 - accuracy: 0.1250\n",
            "Epoch 61/100\n",
            "1/1 [==============================] - 0s 42ms/step - loss: 0.1073 - accuracy: 0.1250\n",
            "Epoch 62/100\n",
            "1/1 [==============================] - 0s 39ms/step - loss: 0.1042 - accuracy: 0.1250\n",
            "Epoch 63/100\n",
            "1/1 [==============================] - 0s 41ms/step - loss: 0.1817 - accuracy: 0.1250\n",
            "Epoch 64/100\n",
            "1/1 [==============================] - 0s 62ms/step - loss: 0.1509 - accuracy: 0.0833\n",
            "Epoch 65/100\n",
            "1/1 [==============================] - 0s 46ms/step - loss: 0.1822 - accuracy: 0.1250\n",
            "Epoch 66/100\n",
            "1/1 [==============================] - 0s 52ms/step - loss: 0.1551 - accuracy: 0.1250\n",
            "Epoch 67/100\n",
            "1/1 [==============================] - 0s 50ms/step - loss: 0.1059 - accuracy: 0.0833\n",
            "Epoch 68/100\n",
            "1/1 [==============================] - 0s 39ms/step - loss: 0.1570 - accuracy: 0.0000e+00\n",
            "Epoch 69/100\n",
            "1/1 [==============================] - 0s 43ms/step - loss: 0.1338 - accuracy: 0.1250\n",
            "Epoch 70/100\n",
            "1/1 [==============================] - 0s 37ms/step - loss: 0.1511 - accuracy: 0.0833\n",
            "Epoch 71/100\n",
            "1/1 [==============================] - 0s 45ms/step - loss: 0.0996 - accuracy: 0.1250\n",
            "Epoch 72/100\n",
            "1/1 [==============================] - 0s 42ms/step - loss: 0.0973 - accuracy: 0.1250\n",
            "Epoch 73/100\n",
            "1/1 [==============================] - 0s 45ms/step - loss: 0.2104 - accuracy: 0.0833\n",
            "Epoch 74/100\n",
            "1/1 [==============================] - 0s 49ms/step - loss: 0.2082 - accuracy: 0.1250\n",
            "Epoch 75/100\n",
            "1/1 [==============================] - 0s 47ms/step - loss: 0.1777 - accuracy: 0.1250\n",
            "Epoch 76/100\n",
            "1/1 [==============================] - 0s 43ms/step - loss: 0.1333 - accuracy: 0.0833\n",
            "Epoch 77/100\n",
            "1/1 [==============================] - 0s 37ms/step - loss: 0.1294 - accuracy: 0.0833\n",
            "Epoch 78/100\n",
            "1/1 [==============================] - 0s 33ms/step - loss: 0.1188 - accuracy: 0.0833\n",
            "Epoch 79/100\n",
            "1/1 [==============================] - 0s 31ms/step - loss: 0.1584 - accuracy: 0.1250\n",
            "Epoch 80/100\n",
            "1/1 [==============================] - 0s 37ms/step - loss: 0.1911 - accuracy: 0.0417\n",
            "Epoch 81/100\n",
            "1/1 [==============================] - 0s 33ms/step - loss: 0.1320 - accuracy: 0.1250\n",
            "Epoch 82/100\n",
            "1/1 [==============================] - 0s 41ms/step - loss: 0.1716 - accuracy: 0.0000e+00\n",
            "Epoch 83/100\n",
            "1/1 [==============================] - 0s 33ms/step - loss: 0.1432 - accuracy: 0.0833\n",
            "Epoch 84/100\n",
            "1/1 [==============================] - 0s 41ms/step - loss: 0.1198 - accuracy: 0.0833\n",
            "Epoch 85/100\n",
            "1/1 [==============================] - 0s 35ms/step - loss: 0.1007 - accuracy: 0.1250\n",
            "Epoch 86/100\n",
            "1/1 [==============================] - 0s 34ms/step - loss: 0.0768 - accuracy: 0.1250\n",
            "Epoch 87/100\n",
            "1/1 [==============================] - 0s 27ms/step - loss: 0.1149 - accuracy: 0.0833\n",
            "Epoch 88/100\n",
            "1/1 [==============================] - 0s 43ms/step - loss: 0.0738 - accuracy: 0.1250\n",
            "Epoch 89/100\n",
            "1/1 [==============================] - 0s 33ms/step - loss: 0.1054 - accuracy: 0.0833\n",
            "Epoch 90/100\n",
            "1/1 [==============================] - 0s 34ms/step - loss: 0.1373 - accuracy: 0.1250\n",
            "Epoch 91/100\n",
            "1/1 [==============================] - 0s 33ms/step - loss: 0.1271 - accuracy: 0.0833\n",
            "Epoch 92/100\n",
            "1/1 [==============================] - 0s 36ms/step - loss: 0.1902 - accuracy: 0.1250\n",
            "Epoch 93/100\n",
            "1/1 [==============================] - 0s 35ms/step - loss: 0.1358 - accuracy: 0.1250\n",
            "Epoch 94/100\n",
            "1/1 [==============================] - 0s 35ms/step - loss: 0.1724 - accuracy: 0.0833\n",
            "Epoch 95/100\n",
            "1/1 [==============================] - 0s 44ms/step - loss: 0.0868 - accuracy: 0.1250\n",
            "Epoch 96/100\n",
            "1/1 [==============================] - 0s 40ms/step - loss: 0.1183 - accuracy: 0.0833\n",
            "Epoch 97/100\n",
            "1/1 [==============================] - 0s 33ms/step - loss: 0.1761 - accuracy: 0.1250\n",
            "Epoch 98/100\n",
            "1/1 [==============================] - 0s 32ms/step - loss: 0.0874 - accuracy: 0.1250\n",
            "Epoch 99/100\n",
            "1/1 [==============================] - 0s 37ms/step - loss: 0.1047 - accuracy: 0.0833\n",
            "Epoch 100/100\n",
            "1/1 [==============================] - 0s 29ms/step - loss: 0.1672 - accuracy: 0.0833\n"
          ]
        }
      ]
    },
    {
      "cell_type": "code",
      "source": [
        "# Price Predictions\n",
        "predsf = model.predict(x_trainf)\n",
        "# Scale them back to original scale from 0-1\n",
        "predsf = scaler_train.inverse_transform(predsf)\n",
        "predsf.shape"
      ],
      "metadata": {
        "colab": {
          "base_uri": "https://localhost:8080/"
        },
        "id": "nECjo5USXcf2",
        "outputId": "c91870c6-7125-4763-d2a7-2a02a0729b4d"
      },
      "execution_count": null,
      "outputs": [
        {
          "output_type": "stream",
          "name": "stdout",
          "text": [
            "5/5 [==============================] - 0s 30ms/step\n"
          ]
        },
        {
          "output_type": "execute_result",
          "data": {
            "text/plain": [
              "(133, 1)"
            ]
          },
          "metadata": {},
          "execution_count": 67
        }
      ]
    },
    {
      "cell_type": "code",
      "source": [
        "# Price Predictions on Test dataset\n",
        "testf_preds = model.predict(x_testf)\n",
        "# Scale them back to original scale from 0-1\n",
        "testf_preds = scaler_test.inverse_transform(testf_preds)\n",
        "testf_preds.shape"
      ],
      "metadata": {
        "id": "wAIlp7WiTmy8",
        "colab": {
          "base_uri": "https://localhost:8080/"
        },
        "outputId": "d79c1746-5695-4d82-bc41-d10ab700f91f"
      },
      "execution_count": null,
      "outputs": [
        {
          "output_type": "stream",
          "name": "stdout",
          "text": [
            "1/1 [==============================] - 0s 64ms/step\n"
          ]
        },
        {
          "output_type": "execute_result",
          "data": {
            "text/plain": [
              "(24, 1)"
            ]
          },
          "metadata": {},
          "execution_count": 68
        }
      ]
    },
    {
      "cell_type": "markdown",
      "metadata": {
        "id": "ZiAr1C6D-08a"
      },
      "source": [
        "U.S INFLATION PREDICTION\n",
        "\n",
        "This dataset provides monthly data of US Consumer Price Index (CPI). Average of CPI for all US cities, in a given month, is provided. Details of columns:\n",
        "\n",
        "Yearmon - Year-month in date format. Day is provided as 1 for each month.\n",
        "CPI - Consumer price index"
      ]
    },
    {
      "cell_type": "code",
      "source": [
        "cpidata= pd.read_csv(\"uscpi.csv\")\n",
        "cpidata"
      ],
      "metadata": {
        "colab": {
          "base_uri": "https://localhost:8080/",
          "height": 423
        },
        "id": "UQ3oma8PbMC5",
        "outputId": "54d83be3-8fd4-43f2-be4c-9f809b4b3c08"
      },
      "execution_count": null,
      "outputs": [
        {
          "output_type": "execute_result",
          "data": {
            "text/plain": [
              "          Year      CPI\n",
              "0    1/10/1999  168.200\n",
              "1    1/11/1999  168.300\n",
              "2    1/12/1999  168.300\n",
              "3     1/1/2000  168.800\n",
              "4     1/2/2000  169.800\n",
              "..         ...      ...\n",
              "257   1/3/2021  264.877\n",
              "258   1/4/2021  267.054\n",
              "259   1/5/2021  269.195\n",
              "260   1/6/2021  271.696\n",
              "261   1/7/2021  273.003\n",
              "\n",
              "[262 rows x 2 columns]"
            ],
            "text/html": [
              "\n",
              "  <div id=\"df-a7689f1c-09f7-4b7a-b617-f61f3d5f2d95\">\n",
              "    <div class=\"colab-df-container\">\n",
              "      <div>\n",
              "<style scoped>\n",
              "    .dataframe tbody tr th:only-of-type {\n",
              "        vertical-align: middle;\n",
              "    }\n",
              "\n",
              "    .dataframe tbody tr th {\n",
              "        vertical-align: top;\n",
              "    }\n",
              "\n",
              "    .dataframe thead th {\n",
              "        text-align: right;\n",
              "    }\n",
              "</style>\n",
              "<table border=\"1\" class=\"dataframe\">\n",
              "  <thead>\n",
              "    <tr style=\"text-align: right;\">\n",
              "      <th></th>\n",
              "      <th>Year</th>\n",
              "      <th>CPI</th>\n",
              "    </tr>\n",
              "  </thead>\n",
              "  <tbody>\n",
              "    <tr>\n",
              "      <th>0</th>\n",
              "      <td>1/10/1999</td>\n",
              "      <td>168.200</td>\n",
              "    </tr>\n",
              "    <tr>\n",
              "      <th>1</th>\n",
              "      <td>1/11/1999</td>\n",
              "      <td>168.300</td>\n",
              "    </tr>\n",
              "    <tr>\n",
              "      <th>2</th>\n",
              "      <td>1/12/1999</td>\n",
              "      <td>168.300</td>\n",
              "    </tr>\n",
              "    <tr>\n",
              "      <th>3</th>\n",
              "      <td>1/1/2000</td>\n",
              "      <td>168.800</td>\n",
              "    </tr>\n",
              "    <tr>\n",
              "      <th>4</th>\n",
              "      <td>1/2/2000</td>\n",
              "      <td>169.800</td>\n",
              "    </tr>\n",
              "    <tr>\n",
              "      <th>...</th>\n",
              "      <td>...</td>\n",
              "      <td>...</td>\n",
              "    </tr>\n",
              "    <tr>\n",
              "      <th>257</th>\n",
              "      <td>1/3/2021</td>\n",
              "      <td>264.877</td>\n",
              "    </tr>\n",
              "    <tr>\n",
              "      <th>258</th>\n",
              "      <td>1/4/2021</td>\n",
              "      <td>267.054</td>\n",
              "    </tr>\n",
              "    <tr>\n",
              "      <th>259</th>\n",
              "      <td>1/5/2021</td>\n",
              "      <td>269.195</td>\n",
              "    </tr>\n",
              "    <tr>\n",
              "      <th>260</th>\n",
              "      <td>1/6/2021</td>\n",
              "      <td>271.696</td>\n",
              "    </tr>\n",
              "    <tr>\n",
              "      <th>261</th>\n",
              "      <td>1/7/2021</td>\n",
              "      <td>273.003</td>\n",
              "    </tr>\n",
              "  </tbody>\n",
              "</table>\n",
              "<p>262 rows × 2 columns</p>\n",
              "</div>\n",
              "      <button class=\"colab-df-convert\" onclick=\"convertToInteractive('df-a7689f1c-09f7-4b7a-b617-f61f3d5f2d95')\"\n",
              "              title=\"Convert this dataframe to an interactive table.\"\n",
              "              style=\"display:none;\">\n",
              "        \n",
              "  <svg xmlns=\"http://www.w3.org/2000/svg\" height=\"24px\"viewBox=\"0 0 24 24\"\n",
              "       width=\"24px\">\n",
              "    <path d=\"M0 0h24v24H0V0z\" fill=\"none\"/>\n",
              "    <path d=\"M18.56 5.44l.94 2.06.94-2.06 2.06-.94-2.06-.94-.94-2.06-.94 2.06-2.06.94zm-11 1L8.5 8.5l.94-2.06 2.06-.94-2.06-.94L8.5 2.5l-.94 2.06-2.06.94zm10 10l.94 2.06.94-2.06 2.06-.94-2.06-.94-.94-2.06-.94 2.06-2.06.94z\"/><path d=\"M17.41 7.96l-1.37-1.37c-.4-.4-.92-.59-1.43-.59-.52 0-1.04.2-1.43.59L10.3 9.45l-7.72 7.72c-.78.78-.78 2.05 0 2.83L4 21.41c.39.39.9.59 1.41.59.51 0 1.02-.2 1.41-.59l7.78-7.78 2.81-2.81c.8-.78.8-2.07 0-2.86zM5.41 20L4 18.59l7.72-7.72 1.47 1.35L5.41 20z\"/>\n",
              "  </svg>\n",
              "      </button>\n",
              "      \n",
              "  <style>\n",
              "    .colab-df-container {\n",
              "      display:flex;\n",
              "      flex-wrap:wrap;\n",
              "      gap: 12px;\n",
              "    }\n",
              "\n",
              "    .colab-df-convert {\n",
              "      background-color: #E8F0FE;\n",
              "      border: none;\n",
              "      border-radius: 50%;\n",
              "      cursor: pointer;\n",
              "      display: none;\n",
              "      fill: #1967D2;\n",
              "      height: 32px;\n",
              "      padding: 0 0 0 0;\n",
              "      width: 32px;\n",
              "    }\n",
              "\n",
              "    .colab-df-convert:hover {\n",
              "      background-color: #E2EBFA;\n",
              "      box-shadow: 0px 1px 2px rgba(60, 64, 67, 0.3), 0px 1px 3px 1px rgba(60, 64, 67, 0.15);\n",
              "      fill: #174EA6;\n",
              "    }\n",
              "\n",
              "    [theme=dark] .colab-df-convert {\n",
              "      background-color: #3B4455;\n",
              "      fill: #D2E3FC;\n",
              "    }\n",
              "\n",
              "    [theme=dark] .colab-df-convert:hover {\n",
              "      background-color: #434B5C;\n",
              "      box-shadow: 0px 1px 3px 1px rgba(0, 0, 0, 0.15);\n",
              "      filter: drop-shadow(0px 1px 2px rgba(0, 0, 0, 0.3));\n",
              "      fill: #FFFFFF;\n",
              "    }\n",
              "  </style>\n",
              "\n",
              "      <script>\n",
              "        const buttonEl =\n",
              "          document.querySelector('#df-a7689f1c-09f7-4b7a-b617-f61f3d5f2d95 button.colab-df-convert');\n",
              "        buttonEl.style.display =\n",
              "          google.colab.kernel.accessAllowed ? 'block' : 'none';\n",
              "\n",
              "        async function convertToInteractive(key) {\n",
              "          const element = document.querySelector('#df-a7689f1c-09f7-4b7a-b617-f61f3d5f2d95');\n",
              "          const dataTable =\n",
              "            await google.colab.kernel.invokeFunction('convertToInteractive',\n",
              "                                                     [key], {});\n",
              "          if (!dataTable) return;\n",
              "\n",
              "          const docLinkHtml = 'Like what you see? Visit the ' +\n",
              "            '<a target=\"_blank\" href=https://colab.research.google.com/notebooks/data_table.ipynb>data table notebook</a>'\n",
              "            + ' to learn more about interactive tables.';\n",
              "          element.innerHTML = '';\n",
              "          dataTable['output_type'] = 'display_data';\n",
              "          await google.colab.output.renderOutput(dataTable, element);\n",
              "          const docLink = document.createElement('div');\n",
              "          docLink.innerHTML = docLinkHtml;\n",
              "          element.appendChild(docLink);\n",
              "        }\n",
              "      </script>\n",
              "    </div>\n",
              "  </div>\n",
              "  "
            ]
          },
          "metadata": {},
          "execution_count": 70
        }
      ]
    },
    {
      "cell_type": "code",
      "source": [
        "cpidata.info()"
      ],
      "metadata": {
        "colab": {
          "base_uri": "https://localhost:8080/"
        },
        "id": "qK_B4lx4b9ch",
        "outputId": "060c6b8a-a274-4a68-82a4-c8ccffa412c7"
      },
      "execution_count": null,
      "outputs": [
        {
          "output_type": "stream",
          "name": "stdout",
          "text": [
            "<class 'pandas.core.frame.DataFrame'>\n",
            "RangeIndex: 262 entries, 0 to 261\n",
            "Data columns (total 2 columns):\n",
            " #   Column  Non-Null Count  Dtype  \n",
            "---  ------  --------------  -----  \n",
            " 0   Year    262 non-null    object \n",
            " 1   CPI     262 non-null    float64\n",
            "dtypes: float64(1), object(1)\n",
            "memory usage: 4.2+ KB\n"
          ]
        }
      ]
    },
    {
      "cell_type": "code",
      "source": [
        "print(f\"Number of missing data : \\n{cpidata.isnull().sum()}\\n\")"
      ],
      "metadata": {
        "colab": {
          "base_uri": "https://localhost:8080/"
        },
        "id": "UzAyBpIrcB8O",
        "outputId": "17d24ead-be62-42b6-d684-64553f557eaf"
      },
      "execution_count": null,
      "outputs": [
        {
          "output_type": "stream",
          "name": "stdout",
          "text": [
            "Number of missing data : \n",
            "Year    0\n",
            "CPI     0\n",
            "dtype: int64\n",
            "\n"
          ]
        }
      ]
    },
    {
      "cell_type": "code",
      "source": [
        "cpidata['Year'] = pd.to_datetime(cpidata['Year'])"
      ],
      "metadata": {
        "id": "wYIw8gf9cJrD"
      },
      "execution_count": null,
      "outputs": []
    },
    {
      "cell_type": "code",
      "source": [
        "import seaborn as sns\n",
        "plt.rcParams[\"figure.figsize\"] = (20,8)\n",
        "sns.lineplot(data=cpidata, x=\"Year\", y=\"CPI\")\n",
        "plt.xticks( rotation = 45) # Rotates X-Axis Ticks by 45-degrees\n",
        "ax = plt.gca()\n",
        "\n",
        "plt.show()"
      ],
      "metadata": {
        "colab": {
          "base_uri": "https://localhost:8080/",
          "height": 516
        },
        "id": "a3WwdYe5cU16",
        "outputId": "364c3884-8926-4ef9-e14d-2491a7a6c348"
      },
      "execution_count": null,
      "outputs": [
        {
          "output_type": "display_data",
          "data": {
            "text/plain": [
              "<Figure size 2000x800 with 1 Axes>"
            ],
            "image/png": "[encoded data removed]"
          },
          "metadata": {}
        }
      ]
    },
    {
      "cell_type": "code",
      "source": [
        "sns.pairplot(cpidata)"
      ],
      "metadata": {
        "colab": {
          "base_uri": "https://localhost:8080/",
          "height": 285
        },
        "id": "y4v-w2A1crjG",
        "outputId": "cb214540-6bd0-47ce-9a6f-a974d3c50bf6"
      },
      "execution_count": null,
      "outputs": [
        {
          "output_type": "execute_result",
          "data": {
            "text/plain": [
              "<seaborn.axisgrid.PairGrid at 0x7f41b7105db0>"
            ]
          },
          "metadata": {},
          "execution_count": 76
        },
        {
          "output_type": "display_data",
          "data": {
            "text/plain": [
              "<Figure size 250x250 with 2 Axes>"
            ],
            "image/png": "[encoded data removed]"
          },
          "metadata": {}
        }
      ]
    },
    {
      "cell_type": "code",
      "source": [
        "cpidata.describe()"
      ],
      "metadata": {
        "colab": {
          "base_uri": "https://localhost:8080/",
          "height": 300
        },
        "id": "vofB1X6XcwL9",
        "outputId": "2ea40e26-edc9-4ad2-d448-152133073300"
      },
      "execution_count": null,
      "outputs": [
        {
          "output_type": "execute_result",
          "data": {
            "text/plain": [
              "              CPI\n",
              "count  262.000000\n",
              "mean   218.197771\n",
              "std     27.767416\n",
              "min    168.200000\n",
              "25%    193.575000\n",
              "50%    218.809000\n",
              "75%    238.564250\n",
              "max    273.003000"
            ],
            "text/html": [
              "\n",
              "  <div id=\"df-fb1c5b89-f393-438f-899f-215305436d31\">\n",
              "    <div class=\"colab-df-container\">\n",
              "      <div>\n",
              "<style scoped>\n",
              "    .dataframe tbody tr th:only-of-type {\n",
              "        vertical-align: middle;\n",
              "    }\n",
              "\n",
              "    .dataframe tbody tr th {\n",
              "        vertical-align: top;\n",
              "    }\n",
              "\n",
              "    .dataframe thead th {\n",
              "        text-align: right;\n",
              "    }\n",
              "</style>\n",
              "<table border=\"1\" class=\"dataframe\">\n",
              "  <thead>\n",
              "    <tr style=\"text-align: right;\">\n",
              "      <th></th>\n",
              "      <th>CPI</th>\n",
              "    </tr>\n",
              "  </thead>\n",
              "  <tbody>\n",
              "    <tr>\n",
              "      <th>count</th>\n",
              "      <td>262.000000</td>\n",
              "    </tr>\n",
              "    <tr>\n",
              "      <th>mean</th>\n",
              "      <td>218.197771</td>\n",
              "    </tr>\n",
              "    <tr>\n",
              "      <th>std</th>\n",
              "      <td>27.767416</td>\n",
              "    </tr>\n",
              "    <tr>\n",
              "      <th>min</th>\n",
              "      <td>168.200000</td>\n",
              "    </tr>\n",
              "    <tr>\n",
              "      <th>25%</th>\n",
              "      <td>193.575000</td>\n",
              "    </tr>\n",
              "    <tr>\n",
              "      <th>50%</th>\n",
              "      <td>218.809000</td>\n",
              "    </tr>\n",
              "    <tr>\n",
              "      <th>75%</th>\n",
              "      <td>238.564250</td>\n",
              "    </tr>\n",
              "    <tr>\n",
              "      <th>max</th>\n",
              "      <td>273.003000</td>\n",
              "    </tr>\n",
              "  </tbody>\n",
              "</table>\n",
              "</div>\n",
              "      <button class=\"colab-df-convert\" onclick=\"convertToInteractive('df-fb1c5b89-f393-438f-899f-215305436d31')\"\n",
              "              title=\"Convert this dataframe to an interactive table.\"\n",
              "              style=\"display:none;\">\n",
              "        \n",
              "  <svg xmlns=\"http://www.w3.org/2000/svg\" height=\"24px\"viewBox=\"0 0 24 24\"\n",
              "       width=\"24px\">\n",
              "    <path d=\"M0 0h24v24H0V0z\" fill=\"none\"/>\n",
              "    <path d=\"M18.56 5.44l.94 2.06.94-2.06 2.06-.94-2.06-.94-.94-2.06-.94 2.06-2.06.94zm-11 1L8.5 8.5l.94-2.06 2.06-.94-2.06-.94L8.5 2.5l-.94 2.06-2.06.94zm10 10l.94 2.06.94-2.06 2.06-.94-2.06-.94-.94-2.06-.94 2.06-2.06.94z\"/><path d=\"M17.41 7.96l-1.37-1.37c-.4-.4-.92-.59-1.43-.59-.52 0-1.04.2-1.43.59L10.3 9.45l-7.72 7.72c-.78.78-.78 2.05 0 2.83L4 21.41c.39.39.9.59 1.41.59.51 0 1.02-.2 1.41-.59l7.78-7.78 2.81-2.81c.8-.78.8-2.07 0-2.86zM5.41 20L4 18.59l7.72-7.72 1.47 1.35L5.41 20z\"/>\n",
              "  </svg>\n",
              "      </button>\n",
              "      \n",
              "  <style>\n",
              "    .colab-df-container {\n",
              "      display:flex;\n",
              "      flex-wrap:wrap;\n",
              "      gap: 12px;\n",
              "    }\n",
              "\n",
              "    .colab-df-convert {\n",
              "      background-color: #E8F0FE;\n",
              "      border: none;\n",
              "      border-radius: 50%;\n",
              "      cursor: pointer;\n",
              "      display: none;\n",
              "      fill: #1967D2;\n",
              "      height: 32px;\n",
              "      padding: 0 0 0 0;\n",
              "      width: 32px;\n",
              "    }\n",
              "\n",
              "    .colab-df-convert:hover {\n",
              "      background-color: #E2EBFA;\n",
              "      box-shadow: 0px 1px 2px rgba(60, 64, 67, 0.3), 0px 1px 3px 1px rgba(60, 64, 67, 0.15);\n",
              "      fill: #174EA6;\n",
              "    }\n",
              "\n",
              "    [theme=dark] .colab-df-convert {\n",
              "      background-color: #3B4455;\n",
              "      fill: #D2E3FC;\n",
              "    }\n",
              "\n",
              "    [theme=dark] .colab-df-convert:hover {\n",
              "      background-color: #434B5C;\n",
              "      box-shadow: 0px 1px 3px 1px rgba(0, 0, 0, 0.15);\n",
              "      filter: drop-shadow(0px 1px 2px rgba(0, 0, 0, 0.3));\n",
              "      fill: #FFFFFF;\n",
              "    }\n",
              "  </style>\n",
              "\n",
              "      <script>\n",
              "        const buttonEl =\n",
              "          document.querySelector('#df-fb1c5b89-f393-438f-899f-215305436d31 button.colab-df-convert');\n",
              "        buttonEl.style.display =\n",
              "          google.colab.kernel.accessAllowed ? 'block' : 'none';\n",
              "\n",
              "        async function convertToInteractive(key) {\n",
              "          const element = document.querySelector('#df-fb1c5b89-f393-438f-899f-215305436d31');\n",
              "          const dataTable =\n",
              "            await google.colab.kernel.invokeFunction('convertToInteractive',\n",
              "                                                     [key], {});\n",
              "          if (!dataTable) return;\n",
              "\n",
              "          const docLinkHtml = 'Like what you see? Visit the ' +\n",
              "            '<a target=\"_blank\" href=https://colab.research.google.com/notebooks/data_table.ipynb>data table notebook</a>'\n",
              "            + ' to learn more about interactive tables.';\n",
              "          element.innerHTML = '';\n",
              "          dataTable['output_type'] = 'display_data';\n",
              "          await google.colab.output.renderOutput(dataTable, element);\n",
              "          const docLink = document.createElement('div');\n",
              "          docLink.innerHTML = docLinkHtml;\n",
              "          element.appendChild(docLink);\n",
              "        }\n",
              "      </script>\n",
              "    </div>\n",
              "  </div>\n",
              "  "
            ]
          },
          "metadata": {},
          "execution_count": 77
        }
      ]
    },
    {
      "cell_type": "code",
      "source": [
        "# Splitting the dataset to train and test\n",
        "split_ratio = 0.8 # 80% training data, 20% test data,\n",
        "\n",
        "traincpi_length = round(split_ratio * len(cpidata))\n",
        "testcpi_length = round(len(cpidata) - traincpi_length)\n",
        "\n",
        "#print(traincpi_length)\n",
        "#print(testcpi_length)"
      ],
      "metadata": {
        "id": "B8swaebxczOu"
      },
      "execution_count": null,
      "outputs": []
    },
    {
      "cell_type": "code",
      "source": [
        "traincpi = cpidata[:traincpi_length].iloc[:,:] # picking the training samples\n",
        "traincpi"
      ],
      "metadata": {
        "colab": {
          "base_uri": "https://localhost:8080/",
          "height": 423
        },
        "id": "jn2nXwd4dXk5",
        "outputId": "d4143f91-8c74-47c9-8400-9aa4a7e9aa1a"
      },
      "execution_count": null,
      "outputs": [
        {
          "output_type": "execute_result",
          "data": {
            "text/plain": [
              "          Year      CPI\n",
              "0   1999-01-10  168.200\n",
              "1   1999-01-11  168.300\n",
              "2   1999-01-12  168.300\n",
              "3   2000-01-01  168.800\n",
              "4   2000-01-02  169.800\n",
              "..         ...      ...\n",
              "205 2016-01-11  241.353\n",
              "206 2016-01-12  241.432\n",
              "207 2017-01-01  242.839\n",
              "208 2017-01-02  243.603\n",
              "209 2017-01-03  243.801\n",
              "\n",
              "[210 rows x 2 columns]"
            ],
            "text/html": [
              "\n",
              "  <div id=\"df-aac8320e-9918-4a7e-8427-d033bb4c4d87\">\n",
              "    <div class=\"colab-df-container\">\n",
              "      <div>\n",
              "<style scoped>\n",
              "    .dataframe tbody tr th:only-of-type {\n",
              "        vertical-align: middle;\n",
              "    }\n",
              "\n",
              "    .dataframe tbody tr th {\n",
              "        vertical-align: top;\n",
              "    }\n",
              "\n",
              "    .dataframe thead th {\n",
              "        text-align: right;\n",
              "    }\n",
              "</style>\n",
              "<table border=\"1\" class=\"dataframe\">\n",
              "  <thead>\n",
              "    <tr style=\"text-align: right;\">\n",
              "      <th></th>\n",
              "      <th>Year</th>\n",
              "      <th>CPI</th>\n",
              "    </tr>\n",
              "  </thead>\n",
              "  <tbody>\n",
              "    <tr>\n",
              "      <th>0</th>\n",
              "      <td>1999-01-10</td>\n",
              "      <td>168.200</td>\n",
              "    </tr>\n",
              "    <tr>\n",
              "      <th>1</th>\n",
              "      <td>1999-01-11</td>\n",
              "      <td>168.300</td>\n",
              "    </tr>\n",
              "    <tr>\n",
              "      <th>2</th>\n",
              "      <td>1999-01-12</td>\n",
              "      <td>168.300</td>\n",
              "    </tr>\n",
              "    <tr>\n",
              "      <th>3</th>\n",
              "      <td>2000-01-01</td>\n",
              "      <td>168.800</td>\n",
              "    </tr>\n",
              "    <tr>\n",
              "      <th>4</th>\n",
              "      <td>2000-01-02</td>\n",
              "      <td>169.800</td>\n",
              "    </tr>\n",
              "    <tr>\n",
              "      <th>...</th>\n",
              "      <td>...</td>\n",
              "      <td>...</td>\n",
              "    </tr>\n",
              "    <tr>\n",
              "      <th>205</th>\n",
              "      <td>2016-01-11</td>\n",
              "      <td>241.353</td>\n",
              "    </tr>\n",
              "    <tr>\n",
              "      <th>206</th>\n",
              "      <td>2016-01-12</td>\n",
              "      <td>241.432</td>\n",
              "    </tr>\n",
              "    <tr>\n",
              "      <th>207</th>\n",
              "      <td>2017-01-01</td>\n",
              "      <td>242.839</td>\n",
              "    </tr>\n",
              "    <tr>\n",
              "      <th>208</th>\n",
              "      <td>2017-01-02</td>\n",
              "      <td>243.603</td>\n",
              "    </tr>\n",
              "    <tr>\n",
              "      <th>209</th>\n",
              "      <td>2017-01-03</td>\n",
              "      <td>243.801</td>\n",
              "    </tr>\n",
              "  </tbody>\n",
              "</table>\n",
              "<p>210 rows × 2 columns</p>\n",
              "</div>\n",
              "      <button class=\"colab-df-convert\" onclick=\"convertToInteractive('df-aac8320e-9918-4a7e-8427-d033bb4c4d87')\"\n",
              "              title=\"Convert this dataframe to an interactive table.\"\n",
              "              style=\"display:none;\">\n",
              "        \n",
              "  <svg xmlns=\"http://www.w3.org/2000/svg\" height=\"24px\"viewBox=\"0 0 24 24\"\n",
              "       width=\"24px\">\n",
              "    <path d=\"M0 0h24v24H0V0z\" fill=\"none\"/>\n",
              "    <path d=\"M18.56 5.44l.94 2.06.94-2.06 2.06-.94-2.06-.94-.94-2.06-.94 2.06-2.06.94zm-11 1L8.5 8.5l.94-2.06 2.06-.94-2.06-.94L8.5 2.5l-.94 2.06-2.06.94zm10 10l.94 2.06.94-2.06 2.06-.94-2.06-.94-.94-2.06-.94 2.06-2.06.94z\"/><path d=\"M17.41 7.96l-1.37-1.37c-.4-.4-.92-.59-1.43-.59-.52 0-1.04.2-1.43.59L10.3 9.45l-7.72 7.72c-.78.78-.78 2.05 0 2.83L4 21.41c.39.39.9.59 1.41.59.51 0 1.02-.2 1.41-.59l7.78-7.78 2.81-2.81c.8-.78.8-2.07 0-2.86zM5.41 20L4 18.59l7.72-7.72 1.47 1.35L5.41 20z\"/>\n",
              "  </svg>\n",
              "      </button>\n",
              "      \n",
              "  <style>\n",
              "    .colab-df-container {\n",
              "      display:flex;\n",
              "      flex-wrap:wrap;\n",
              "      gap: 12px;\n",
              "    }\n",
              "\n",
              "    .colab-df-convert {\n",
              "      background-color: #E8F0FE;\n",
              "      border: none;\n",
              "      border-radius: 50%;\n",
              "      cursor: pointer;\n",
              "      display: none;\n",
              "      fill: #1967D2;\n",
              "      height: 32px;\n",
              "      padding: 0 0 0 0;\n",
              "      width: 32px;\n",
              "    }\n",
              "\n",
              "    .colab-df-convert:hover {\n",
              "      background-color: #E2EBFA;\n",
              "      box-shadow: 0px 1px 2px rgba(60, 64, 67, 0.3), 0px 1px 3px 1px rgba(60, 64, 67, 0.15);\n",
              "      fill: #174EA6;\n",
              "    }\n",
              "\n",
              "    [theme=dark] .colab-df-convert {\n",
              "      background-color: #3B4455;\n",
              "      fill: #D2E3FC;\n",
              "    }\n",
              "\n",
              "    [theme=dark] .colab-df-convert:hover {\n",
              "      background-color: #434B5C;\n",
              "      box-shadow: 0px 1px 3px 1px rgba(0, 0, 0, 0.15);\n",
              "      filter: drop-shadow(0px 1px 2px rgba(0, 0, 0, 0.3));\n",
              "      fill: #FFFFFF;\n",
              "    }\n",
              "  </style>\n",
              "\n",
              "      <script>\n",
              "        const buttonEl =\n",
              "          document.querySelector('#df-aac8320e-9918-4a7e-8427-d033bb4c4d87 button.colab-df-convert');\n",
              "        buttonEl.style.display =\n",
              "          google.colab.kernel.accessAllowed ? 'block' : 'none';\n",
              "\n",
              "        async function convertToInteractive(key) {\n",
              "          const element = document.querySelector('#df-aac8320e-9918-4a7e-8427-d033bb4c4d87');\n",
              "          const dataTable =\n",
              "            await google.colab.kernel.invokeFunction('convertToInteractive',\n",
              "                                                     [key], {});\n",
              "          if (!dataTable) return;\n",
              "\n",
              "          const docLinkHtml = 'Like what you see? Visit the ' +\n",
              "            '<a target=\"_blank\" href=https://colab.research.google.com/notebooks/data_table.ipynb>data table notebook</a>'\n",
              "            + ' to learn more about interactive tables.';\n",
              "          element.innerHTML = '';\n",
              "          dataTable['output_type'] = 'display_data';\n",
              "          await google.colab.output.renderOutput(dataTable, element);\n",
              "          const docLink = document.createElement('div');\n",
              "          docLink.innerHTML = docLinkHtml;\n",
              "          element.appendChild(docLink);\n",
              "        }\n",
              "      </script>\n",
              "    </div>\n",
              "  </div>\n",
              "  "
            ]
          },
          "metadata": {},
          "execution_count": 80
        }
      ]
    },
    {
      "cell_type": "code",
      "source": [
        "testcpi = cpidata[traincpi_length:traincpi_length+testcpi_length].iloc[:,:] # picking the validation samples\n",
        "testcpi['Year'] = pd.to_datetime(testcpi['Year'])\n",
        "testcpi"
      ],
      "metadata": {
        "colab": {
          "base_uri": "https://localhost:8080/",
          "height": 1000
        },
        "id": "Kih6uu20djmj",
        "outputId": "f61c13ca-3a78-405c-f880-21e2ee70a31c"
      },
      "execution_count": null,
      "outputs": [
        {
          "output_type": "stream",
          "name": "stderr",
          "text": [
            "<ipython-input-82-38bf247fb054>:2: SettingWithCopyWarning: \n",
            "A value is trying to be set on a copy of a slice from a DataFrame.\n",
            "Try using .loc[row_indexer,col_indexer] = value instead\n",
            "\n",
            "See the caveats in the documentation: https://pandas.pydata.org/pandas-docs/stable/user_guide/indexing.html#returning-a-view-versus-a-copy\n",
            "  testcpi['Year'] = pd.to_datetime(testcpi['Year'])\n"
          ]
        },
        {
          "output_type": "execute_result",
          "data": {
            "text/plain": [
              "          Year      CPI\n",
              "210 2017-01-04  244.524\n",
              "211 2017-01-05  244.733\n",
              "212 2017-01-06  244.955\n",
              "213 2017-01-07  244.786\n",
              "214 2017-01-08  245.519\n",
              "215 2017-01-09  246.819\n",
              "216 2017-01-10  246.663\n",
              "217 2017-01-11  246.669\n",
              "218 2017-01-12  246.524\n",
              "219 2018-01-01  247.867\n",
              "220 2018-01-02  248.991\n",
              "221 2018-01-03  249.554\n",
              "222 2018-01-04  250.546\n",
              "223 2018-01-05  251.588\n",
              "224 2018-01-06  251.989\n",
              "225 2018-01-07  252.006\n",
              "226 2018-01-08  252.146\n",
              "227 2018-01-09  252.439\n",
              "228 2018-01-10  252.885\n",
              "229 2018-01-11  252.038\n",
              "230 2018-01-12  251.233\n",
              "231 2019-01-01  251.712\n",
              "232 2019-01-02  252.776\n",
              "233 2019-01-03  254.202\n",
              "234 2019-01-04  255.548\n",
              "235 2019-01-05  256.092\n",
              "236 2019-01-06  256.143\n",
              "237 2019-01-07  256.571\n",
              "238 2019-01-08  256.558\n",
              "239 2019-01-09  256.759\n",
              "240 2019-01-10  257.346\n",
              "241 2019-01-11  257.208\n",
              "242 2019-01-12  256.974\n",
              "243 2020-01-01  257.971\n",
              "244 2020-01-02  258.678\n",
              "245 2020-01-03  258.115\n",
              "246 2020-01-04  256.389\n",
              "247 2020-01-05  256.394\n",
              "248 2020-01-06  257.797\n",
              "249 2020-01-07  259.101\n",
              "250 2020-01-08  259.918\n",
              "251 2020-01-09  260.280\n",
              "252 2020-01-10  260.388\n",
              "253 2020-01-11  260.229\n",
              "254 2020-01-12  260.474\n",
              "255 2021-01-01  261.582\n",
              "256 2021-01-02  263.014\n",
              "257 2021-01-03  264.877\n",
              "258 2021-01-04  267.054\n",
              "259 2021-01-05  269.195\n",
              "260 2021-01-06  271.696\n",
              "261 2021-01-07  273.003"
            ],
            "text/html": [
              "\n",
              "  <div id=\"df-04faef2c-3554-4991-b361-c50d97ec3a2d\">\n",
              "    <div class=\"colab-df-container\">\n",
              "      <div>\n",
              "<style scoped>\n",
              "    .dataframe tbody tr th:only-of-type {\n",
              "        vertical-align: middle;\n",
              "    }\n",
              "\n",
              "    .dataframe tbody tr th {\n",
              "        vertical-align: top;\n",
              "    }\n",
              "\n",
              "    .dataframe thead th {\n",
              "        text-align: right;\n",
              "    }\n",
              "</style>\n",
              "<table border=\"1\" class=\"dataframe\">\n",
              "  <thead>\n",
              "    <tr style=\"text-align: right;\">\n",
              "      <th></th>\n",
              "      <th>Year</th>\n",
              "      <th>CPI</th>\n",
              "    </tr>\n",
              "  </thead>\n",
              "  <tbody>\n",
              "    <tr>\n",
              "      <th>210</th>\n",
              "      <td>2017-01-04</td>\n",
              "      <td>244.524</td>\n",
              "    </tr>\n",
              "    <tr>\n",
              "      <th>211</th>\n",
              "      <td>2017-01-05</td>\n",
              "      <td>244.733</td>\n",
              "    </tr>\n",
              "    <tr>\n",
              "      <th>212</th>\n",
              "      <td>2017-01-06</td>\n",
              "      <td>244.955</td>\n",
              "    </tr>\n",
              "    <tr>\n",
              "      <th>213</th>\n",
              "      <td>2017-01-07</td>\n",
              "      <td>244.786</td>\n",
              "    </tr>\n",
              "    <tr>\n",
              "      <th>214</th>\n",
              "      <td>2017-01-08</td>\n",
              "      <td>245.519</td>\n",
              "    </tr>\n",
              "    <tr>\n",
              "      <th>215</th>\n",
              "      <td>2017-01-09</td>\n",
              "      <td>246.819</td>\n",
              "    </tr>\n",
              "    <tr>\n",
              "      <th>216</th>\n",
              "      <td>2017-01-10</td>\n",
              "      <td>246.663</td>\n",
              "    </tr>\n",
              "    <tr>\n",
              "      <th>217</th>\n",
              "      <td>2017-01-11</td>\n",
              "      <td>246.669</td>\n",
              "    </tr>\n",
              "    <tr>\n",
              "      <th>218</th>\n",
              "      <td>2017-01-12</td>\n",
              "      <td>246.524</td>\n",
              "    </tr>\n",
              "    <tr>\n",
              "      <th>219</th>\n",
              "      <td>2018-01-01</td>\n",
              "      <td>247.867</td>\n",
              "    </tr>\n",
              "    <tr>\n",
              "      <th>220</th>\n",
              "      <td>2018-01-02</td>\n",
              "      <td>248.991</td>\n",
              "    </tr>\n",
              "    <tr>\n",
              "      <th>221</th>\n",
              "      <td>2018-01-03</td>\n",
              "      <td>249.554</td>\n",
              "    </tr>\n",
              "    <tr>\n",
              "      <th>222</th>\n",
              "      <td>2018-01-04</td>\n",
              "      <td>250.546</td>\n",
              "    </tr>\n",
              "    <tr>\n",
              "      <th>223</th>\n",
              "      <td>2018-01-05</td>\n",
              "      <td>251.588</td>\n",
              "    </tr>\n",
              "    <tr>\n",
              "      <th>224</th>\n",
              "      <td>2018-01-06</td>\n",
              "      <td>251.989</td>\n",
              "    </tr>\n",
              "    <tr>\n",
              "      <th>225</th>\n",
              "      <td>2018-01-07</td>\n",
              "      <td>252.006</td>\n",
              "    </tr>\n",
              "    <tr>\n",
              "      <th>226</th>\n",
              "      <td>2018-01-08</td>\n",
              "      <td>252.146</td>\n",
              "    </tr>\n",
              "    <tr>\n",
              "      <th>227</th>\n",
              "      <td>2018-01-09</td>\n",
              "      <td>252.439</td>\n",
              "    </tr>\n",
              "    <tr>\n",
              "      <th>228</th>\n",
              "      <td>2018-01-10</td>\n",
              "      <td>252.885</td>\n",
              "    </tr>\n",
              "    <tr>\n",
              "      <th>229</th>\n",
              "      <td>2018-01-11</td>\n",
              "      <td>252.038</td>\n",
              "    </tr>\n",
              "    <tr>\n",
              "      <th>230</th>\n",
              "      <td>2018-01-12</td>\n",
              "      <td>251.233</td>\n",
              "    </tr>\n",
              "    <tr>\n",
              "      <th>231</th>\n",
              "      <td>2019-01-01</td>\n",
              "      <td>251.712</td>\n",
              "    </tr>\n",
              "    <tr>\n",
              "      <th>232</th>\n",
              "      <td>2019-01-02</td>\n",
              "      <td>252.776</td>\n",
              "    </tr>\n",
              "    <tr>\n",
              "      <th>233</th>\n",
              "      <td>2019-01-03</td>\n",
              "      <td>254.202</td>\n",
              "    </tr>\n",
              "    <tr>\n",
              "      <th>234</th>\n",
              "      <td>2019-01-04</td>\n",
              "      <td>255.548</td>\n",
              "    </tr>\n",
              "    <tr>\n",
              "      <th>235</th>\n",
              "      <td>2019-01-05</td>\n",
              "      <td>256.092</td>\n",
              "    </tr>\n",
              "    <tr>\n",
              "      <th>236</th>\n",
              "      <td>2019-01-06</td>\n",
              "      <td>256.143</td>\n",
              "    </tr>\n",
              "    <tr>\n",
              "      <th>237</th>\n",
              "      <td>2019-01-07</td>\n",
              "      <td>256.571</td>\n",
              "    </tr>\n",
              "    <tr>\n",
              "      <th>238</th>\n",
              "      <td>2019-01-08</td>\n",
              "      <td>256.558</td>\n",
              "    </tr>\n",
              "    <tr>\n",
              "      <th>239</th>\n",
              "      <td>2019-01-09</td>\n",
              "      <td>256.759</td>\n",
              "    </tr>\n",
              "    <tr>\n",
              "      <th>240</th>\n",
              "      <td>2019-01-10</td>\n",
              "      <td>257.346</td>\n",
              "    </tr>\n",
              "    <tr>\n",
              "      <th>241</th>\n",
              "      <td>2019-01-11</td>\n",
              "      <td>257.208</td>\n",
              "    </tr>\n",
              "    <tr>\n",
              "      <th>242</th>\n",
              "      <td>2019-01-12</td>\n",
              "      <td>256.974</td>\n",
              "    </tr>\n",
              "    <tr>\n",
              "      <th>243</th>\n",
              "      <td>2020-01-01</td>\n",
              "      <td>257.971</td>\n",
              "    </tr>\n",
              "    <tr>\n",
              "      <th>244</th>\n",
              "      <td>2020-01-02</td>\n",
              "      <td>258.678</td>\n",
              "    </tr>\n",
              "    <tr>\n",
              "      <th>245</th>\n",
              "      <td>2020-01-03</td>\n",
              "      <td>258.115</td>\n",
              "    </tr>\n",
              "    <tr>\n",
              "      <th>246</th>\n",
              "      <td>2020-01-04</td>\n",
              "      <td>256.389</td>\n",
              "    </tr>\n",
              "    <tr>\n",
              "      <th>247</th>\n",
              "      <td>2020-01-05</td>\n",
              "      <td>256.394</td>\n",
              "    </tr>\n",
              "    <tr>\n",
              "      <th>248</th>\n",
              "      <td>2020-01-06</td>\n",
              "      <td>257.797</td>\n",
              "    </tr>\n",
              "    <tr>\n",
              "      <th>249</th>\n",
              "      <td>2020-01-07</td>\n",
              "      <td>259.101</td>\n",
              "    </tr>\n",
              "    <tr>\n",
              "      <th>250</th>\n",
              "      <td>2020-01-08</td>\n",
              "      <td>259.918</td>\n",
              "    </tr>\n",
              "    <tr>\n",
              "      <th>251</th>\n",
              "      <td>2020-01-09</td>\n",
              "      <td>260.280</td>\n",
              "    </tr>\n",
              "    <tr>\n",
              "      <th>252</th>\n",
              "      <td>2020-01-10</td>\n",
              "      <td>260.388</td>\n",
              "    </tr>\n",
              "    <tr>\n",
              "      <th>253</th>\n",
              "      <td>2020-01-11</td>\n",
              "      <td>260.229</td>\n",
              "    </tr>\n",
              "    <tr>\n",
              "      <th>254</th>\n",
              "      <td>2020-01-12</td>\n",
              "      <td>260.474</td>\n",
              "    </tr>\n",
              "    <tr>\n",
              "      <th>255</th>\n",
              "      <td>2021-01-01</td>\n",
              "      <td>261.582</td>\n",
              "    </tr>\n",
              "    <tr>\n",
              "      <th>256</th>\n",
              "      <td>2021-01-02</td>\n",
              "      <td>263.014</td>\n",
              "    </tr>\n",
              "    <tr>\n",
              "      <th>257</th>\n",
              "      <td>2021-01-03</td>\n",
              "      <td>264.877</td>\n",
              "    </tr>\n",
              "    <tr>\n",
              "      <th>258</th>\n",
              "      <td>2021-01-04</td>\n",
              "      <td>267.054</td>\n",
              "    </tr>\n",
              "    <tr>\n",
              "      <th>259</th>\n",
              "      <td>2021-01-05</td>\n",
              "      <td>269.195</td>\n",
              "    </tr>\n",
              "    <tr>\n",
              "      <th>260</th>\n",
              "      <td>2021-01-06</td>\n",
              "      <td>271.696</td>\n",
              "    </tr>\n",
              "    <tr>\n",
              "      <th>261</th>\n",
              "      <td>2021-01-07</td>\n",
              "      <td>273.003</td>\n",
              "    </tr>\n",
              "  </tbody>\n",
              "</table>\n",
              "</div>\n",
              "      <button class=\"colab-df-convert\" onclick=\"convertToInteractive('df-04faef2c-3554-4991-b361-c50d97ec3a2d')\"\n",
              "              title=\"Convert this dataframe to an interactive table.\"\n",
              "              style=\"display:none;\">\n",
              "        \n",
              "  <svg xmlns=\"http://www.w3.org/2000/svg\" height=\"24px\"viewBox=\"0 0 24 24\"\n",
              "       width=\"24px\">\n",
              "    <path d=\"M0 0h24v24H0V0z\" fill=\"none\"/>\n",
              "    <path d=\"M18.56 5.44l.94 2.06.94-2.06 2.06-.94-2.06-.94-.94-2.06-.94 2.06-2.06.94zm-11 1L8.5 8.5l.94-2.06 2.06-.94-2.06-.94L8.5 2.5l-.94 2.06-2.06.94zm10 10l.94 2.06.94-2.06 2.06-.94-2.06-.94-.94-2.06-.94 2.06-2.06.94z\"/><path d=\"M17.41 7.96l-1.37-1.37c-.4-.4-.92-.59-1.43-.59-.52 0-1.04.2-1.43.59L10.3 9.45l-7.72 7.72c-.78.78-.78 2.05 0 2.83L4 21.41c.39.39.9.59 1.41.59.51 0 1.02-.2 1.41-.59l7.78-7.78 2.81-2.81c.8-.78.8-2.07 0-2.86zM5.41 20L4 18.59l7.72-7.72 1.47 1.35L5.41 20z\"/>\n",
              "  </svg>\n",
              "      </button>\n",
              "      \n",
              "  <style>\n",
              "    .colab-df-container {\n",
              "      display:flex;\n",
              "      flex-wrap:wrap;\n",
              "      gap: 12px;\n",
              "    }\n",
              "\n",
              "    .colab-df-convert {\n",
              "      background-color: #E8F0FE;\n",
              "      border: none;\n",
              "      border-radius: 50%;\n",
              "      cursor: pointer;\n",
              "      display: none;\n",
              "      fill: #1967D2;\n",
              "      height: 32px;\n",
              "      padding: 0 0 0 0;\n",
              "      width: 32px;\n",
              "    }\n",
              "\n",
              "    .colab-df-convert:hover {\n",
              "      background-color: #E2EBFA;\n",
              "      box-shadow: 0px 1px 2px rgba(60, 64, 67, 0.3), 0px 1px 3px 1px rgba(60, 64, 67, 0.15);\n",
              "      fill: #174EA6;\n",
              "    }\n",
              "\n",
              "    [theme=dark] .colab-df-convert {\n",
              "      background-color: #3B4455;\n",
              "      fill: #D2E3FC;\n",
              "    }\n",
              "\n",
              "    [theme=dark] .colab-df-convert:hover {\n",
              "      background-color: #434B5C;\n",
              "      box-shadow: 0px 1px 3px 1px rgba(0, 0, 0, 0.15);\n",
              "      filter: drop-shadow(0px 1px 2px rgba(0, 0, 0, 0.3));\n",
              "      fill: #FFFFFF;\n",
              "    }\n",
              "  </style>\n",
              "\n",
              "      <script>\n",
              "        const buttonEl =\n",
              "          document.querySelector('#df-04faef2c-3554-4991-b361-c50d97ec3a2d button.colab-df-convert');\n",
              "        buttonEl.style.display =\n",
              "          google.colab.kernel.accessAllowed ? 'block' : 'none';\n",
              "\n",
              "        async function convertToInteractive(key) {\n",
              "          const element = document.querySelector('#df-04faef2c-3554-4991-b361-c50d97ec3a2d');\n",
              "          const dataTable =\n",
              "            await google.colab.kernel.invokeFunction('convertToInteractive',\n",
              "                                                     [key], {});\n",
              "          if (!dataTable) return;\n",
              "\n",
              "          const docLinkHtml = 'Like what you see? Visit the ' +\n",
              "            '<a target=\"_blank\" href=https://colab.research.google.com/notebooks/data_table.ipynb>data table notebook</a>'\n",
              "            + ' to learn more about interactive tables.';\n",
              "          element.innerHTML = '';\n",
              "          dataTable['output_type'] = 'display_data';\n",
              "          await google.colab.output.renderOutput(dataTable, element);\n",
              "          const docLink = document.createElement('div');\n",
              "          docLink.innerHTML = docLinkHtml;\n",
              "          element.appendChild(docLink);\n",
              "        }\n",
              "      </script>\n",
              "    </div>\n",
              "  </div>\n",
              "  "
            ]
          },
          "metadata": {},
          "execution_count": 82
        }
      ]
    },
    {
      "cell_type": "code",
      "source": [
        "cpi_train = traincpi['CPI'].values\n",
        "cpi_train = np.reshape(cpi_train,(-1,1))\n",
        "cpi_train.shape"
      ],
      "metadata": {
        "colab": {
          "base_uri": "https://localhost:8080/"
        },
        "id": "oV5MmhYCd9s8",
        "outputId": "9f137c71-4cc7-4f64-ab64-057c7a6fea2c"
      },
      "execution_count": null,
      "outputs": [
        {
          "output_type": "execute_result",
          "data": {
            "text/plain": [
              "(210, 1)"
            ]
          },
          "metadata": {},
          "execution_count": 84
        }
      ]
    },
    {
      "cell_type": "code",
      "source": [
        "# Creating test dataset\n",
        "\n",
        "cpi_test = testcpi['CPI'].values\n",
        "cpi_test = np.reshape(cpi_test,(-1,1))\n",
        "cpi_test.shape"
      ],
      "metadata": {
        "colab": {
          "base_uri": "https://localhost:8080/"
        },
        "id": "sXbxfIrFfBj1",
        "outputId": "5a63f01b-7bf2-48d3-f1d9-9a3bd4be80b1"
      },
      "execution_count": null,
      "outputs": [
        {
          "output_type": "execute_result",
          "data": {
            "text/plain": [
              "(52, 1)"
            ]
          },
          "metadata": {},
          "execution_count": 87
        }
      ]
    },
    {
      "cell_type": "code",
      "source": [
        "def create_dataset(cpidata, look_back=1):\n",
        "    datacpiX, datacpiY = [], []\n",
        "    for i in range(look_back,len(cpidata)):\n",
        "      datacpiX.append(cpidata[i-look_back:i,0])\n",
        "      datacpiY.append(cpidata[i,0])\n",
        "    return np.array(datacpiX), np.array(datacpiY)"
      ],
      "metadata": {
        "id": "BpodDWpheRMt"
      },
      "execution_count": null,
      "outputs": []
    },
    {
      "cell_type": "code",
      "source": [
        "# Nomalizing the values to the 0-1 range to reduce the effect of variance\n",
        "# Min-Max Scaler\n",
        "\n",
        "scaler_train = MinMaxScaler()\n",
        "scaler_test = MinMaxScaler()\n",
        "cpi_train_scaled = scaler_train.fit_transform(cpi_train)\n",
        "cpi_test_scaled = scaler_test.fit_transform(cpi_test)\n",
        "\n",
        "print(cpi_train_scaled.shape)\n",
        "print('----------------')\n",
        "print(cpi_test_scaled.shape)"
      ],
      "metadata": {
        "colab": {
          "base_uri": "https://localhost:8080/"
        },
        "id": "JQHWAbo_epTy",
        "outputId": "d7eab6d2-f0d3-414e-9685-de7e35c7ddcc"
      },
      "execution_count": null,
      "outputs": [
        {
          "output_type": "stream",
          "name": "stdout",
          "text": [
            "(210, 1)\n",
            "----------------\n",
            "(52, 1)\n"
          ]
        }
      ]
    },
    {
      "cell_type": "code",
      "source": [
        "look_backcpi = 12\n",
        "x_traincpi, y_traincpi = create_dataset(cpi_train_scaled, look_backcpi)\n",
        "x_testcpi, y_testcpi= create_dataset(cpi_test_scaled, look_backcpi)"
      ],
      "metadata": {
        "id": "ZwlkDZ_5fMuM"
      },
      "execution_count": null,
      "outputs": []
    },
    {
      "cell_type": "code",
      "source": [
        "x_traincpi = np.reshape(x_traincpi, (x_traincpi.shape[0], x_traincpi.shape[1], 1))\n",
        "y_traincpi = np.reshape(y_traincpi, (y_traincpi.shape[0], 1))\n",
        "\n",
        "x_testcpi = np.reshape(x_testcpi, (x_testcpi.shape[0], x_testcpi.shape[1], 1))\n",
        "y_testcpi = np.reshape(y_testcpi, (y_testcpi.shape[0], 1))"
      ],
      "metadata": {
        "id": "Nf6zITH1fbx6"
      },
      "execution_count": null,
      "outputs": []
    },
    {
      "cell_type": "code",
      "source": [
        "model = Sequential()\n",
        "# RNN layer 1\n",
        "model.add(SimpleRNN(12, input_shape=(look_backcpi, 1), return_sequences=True))\n",
        "model.add(Dropout(0.1))\n",
        "#RNN layer 2\n",
        "model.add(SimpleRNN(12, return_sequences=True))\n",
        "model.add(Dropout(0.1))\n",
        "#RNN layer 3\n",
        "model.add(SimpleRNN(12, return_sequences=True))\n",
        "model.add(Dropout(0.1))\n",
        "#RNN layer 4\n",
        "model.add(SimpleRNN(12))\n",
        "model.add(Dropout(0.1))\n",
        "\n",
        "# Dense layer\n",
        "model.add(Dense(1))\n",
        "\n",
        "#Compiling the model\n",
        "model.compile(loss='mean_squared_error', optimizer='adam', metrics=['accuracy'])\n",
        "\n",
        "# Training the model\n",
        "training = model.fit(x_traincpi, y_traincpi, epochs=100, batch_size=95)"
      ],
      "metadata": {
        "colab": {
          "base_uri": "https://localhost:8080/"
        },
        "id": "bZLNuxoJfws8",
        "outputId": "86e5430e-1e84-43e5-ba69-4172072cd7cd"
      },
      "execution_count": null,
      "outputs": [
        {
          "output_type": "stream",
          "name": "stdout",
          "text": [
            "Epoch 1/100\n",
            "3/3 [==============================] - 5s 18ms/step - loss: 5.2187 - accuracy: 0.0000e+00\n",
            "Epoch 2/100\n",
            "3/3 [==============================] - 0s 18ms/step - loss: 3.3962 - accuracy: 0.0000e+00\n",
            "Epoch 3/100\n",
            "3/3 [==============================] - 0s 15ms/step - loss: 1.8987 - accuracy: 0.0000e+00\n",
            "Epoch 4/100\n",
            "3/3 [==============================] - 0s 16ms/step - loss: 0.8983 - accuracy: 0.0051\n",
            "Epoch 5/100\n",
            "3/3 [==============================] - 0s 16ms/step - loss: 0.4905 - accuracy: 0.0051\n",
            "Epoch 6/100\n",
            "3/3 [==============================] - 0s 15ms/step - loss: 0.5786 - accuracy: 0.0000e+00\n",
            "Epoch 7/100\n",
            "3/3 [==============================] - 0s 16ms/step - loss: 0.4446 - accuracy: 0.0000e+00\n",
            "Epoch 8/100\n",
            "3/3 [==============================] - 0s 19ms/step - loss: 0.3758 - accuracy: 0.0051\n",
            "Epoch 9/100\n",
            "3/3 [==============================] - 0s 19ms/step - loss: 0.2960 - accuracy: 0.0000e+00\n",
            "Epoch 10/100\n",
            "3/3 [==============================] - 0s 15ms/step - loss: 0.2040 - accuracy: 0.0051\n",
            "Epoch 11/100\n",
            "3/3 [==============================] - 0s 19ms/step - loss: 0.2533 - accuracy: 0.0051\n",
            "Epoch 12/100\n",
            "3/3 [==============================] - 0s 15ms/step - loss: 0.1841 - accuracy: 0.0000e+00\n",
            "Epoch 13/100\n",
            "3/3 [==============================] - 0s 15ms/step - loss: 0.1955 - accuracy: 0.0051\n",
            "Epoch 14/100\n",
            "3/3 [==============================] - 0s 15ms/step - loss: 0.1957 - accuracy: 0.0051\n",
            "Epoch 15/100\n",
            "3/3 [==============================] - 0s 15ms/step - loss: 0.1746 - accuracy: 0.0051\n",
            "Epoch 16/100\n",
            "3/3 [==============================] - 0s 15ms/step - loss: 0.1768 - accuracy: 0.0051\n",
            "Epoch 17/100\n",
            "3/3 [==============================] - 0s 16ms/step - loss: 0.1885 - accuracy: 0.0000e+00\n",
            "Epoch 18/100\n",
            "3/3 [==============================] - 0s 20ms/step - loss: 0.1414 - accuracy: 0.0051\n",
            "Epoch 19/100\n",
            "3/3 [==============================] - 0s 17ms/step - loss: 0.1575 - accuracy: 0.0051\n",
            "Epoch 20/100\n",
            "3/3 [==============================] - 0s 15ms/step - loss: 0.1515 - accuracy: 0.0051\n",
            "Epoch 21/100\n",
            "3/3 [==============================] - 0s 15ms/step - loss: 0.1665 - accuracy: 0.0000e+00\n",
            "Epoch 22/100\n",
            "3/3 [==============================] - 0s 15ms/step - loss: 0.1515 - accuracy: 0.0000e+00\n",
            "Epoch 23/100\n",
            "3/3 [==============================] - 0s 16ms/step - loss: 0.1738 - accuracy: 0.0051\n",
            "Epoch 24/100\n",
            "3/3 [==============================] - 0s 15ms/step - loss: 0.1339 - accuracy: 0.0051\n",
            "Epoch 25/100\n",
            "3/3 [==============================] - 0s 16ms/step - loss: 0.1419 - accuracy: 0.0051\n",
            "Epoch 26/100\n",
            "3/3 [==============================] - 0s 21ms/step - loss: 0.1590 - accuracy: 0.0000e+00\n",
            "Epoch 27/100\n",
            "3/3 [==============================] - 0s 15ms/step - loss: 0.1364 - accuracy: 0.0051\n",
            "Epoch 28/100\n",
            "3/3 [==============================] - 0s 19ms/step - loss: 0.1446 - accuracy: 0.0051\n",
            "Epoch 29/100\n",
            "3/3 [==============================] - 0s 16ms/step - loss: 0.1382 - accuracy: 0.0051\n",
            "Epoch 30/100\n",
            "3/3 [==============================] - 0s 18ms/step - loss: 0.1257 - accuracy: 0.0051\n",
            "Epoch 31/100\n",
            "3/3 [==============================] - 0s 16ms/step - loss: 0.1455 - accuracy: 0.0051\n",
            "Epoch 32/100\n",
            "3/3 [==============================] - 0s 17ms/step - loss: 0.1424 - accuracy: 0.0000e+00\n",
            "Epoch 33/100\n",
            "3/3 [==============================] - 0s 15ms/step - loss: 0.1257 - accuracy: 0.0000e+00\n",
            "Epoch 34/100\n",
            "3/3 [==============================] - 0s 22ms/step - loss: 0.1152 - accuracy: 0.0000e+00\n",
            "Epoch 35/100\n",
            "3/3 [==============================] - 0s 16ms/step - loss: 0.1142 - accuracy: 0.0051\n",
            "Epoch 36/100\n",
            "3/3 [==============================] - 0s 20ms/step - loss: 0.1204 - accuracy: 0.0051\n",
            "Epoch 37/100\n",
            "3/3 [==============================] - 0s 16ms/step - loss: 0.1389 - accuracy: 0.0051\n",
            "Epoch 38/100\n",
            "3/3 [==============================] - 0s 16ms/step - loss: 0.1483 - accuracy: 0.0051\n",
            "Epoch 39/100\n",
            "3/3 [==============================] - 0s 16ms/step - loss: 0.1452 - accuracy: 0.0051\n",
            "Epoch 40/100\n",
            "3/3 [==============================] - 0s 16ms/step - loss: 0.1282 - accuracy: 0.0051\n",
            "Epoch 41/100\n",
            "3/3 [==============================] - 0s 16ms/step - loss: 0.1168 - accuracy: 0.0051\n",
            "Epoch 42/100\n",
            "3/3 [==============================] - 0s 20ms/step - loss: 0.1067 - accuracy: 0.0000e+00\n",
            "Epoch 43/100\n",
            "3/3 [==============================] - 0s 28ms/step - loss: 0.1040 - accuracy: 0.0051\n",
            "Epoch 44/100\n",
            "3/3 [==============================] - 0s 16ms/step - loss: 0.1389 - accuracy: 0.0051\n",
            "Epoch 45/100\n",
            "3/3 [==============================] - 0s 14ms/step - loss: 0.1218 - accuracy: 0.0051\n",
            "Epoch 46/100\n",
            "3/3 [==============================] - 0s 15ms/step - loss: 0.1046 - accuracy: 0.0051\n",
            "Epoch 47/100\n",
            "3/3 [==============================] - 0s 15ms/step - loss: 0.1359 - accuracy: 0.0051\n",
            "Epoch 48/100\n",
            "3/3 [==============================] - 0s 18ms/step - loss: 0.1060 - accuracy: 0.0051\n",
            "Epoch 49/100\n",
            "3/3 [==============================] - 0s 15ms/step - loss: 0.1130 - accuracy: 0.0051\n",
            "Epoch 50/100\n",
            "3/3 [==============================] - 0s 22ms/step - loss: 0.1319 - accuracy: 0.0051\n",
            "Epoch 51/100\n",
            "3/3 [==============================] - 0s 17ms/step - loss: 0.1114 - accuracy: 0.0051\n",
            "Epoch 52/100\n",
            "3/3 [==============================] - 0s 18ms/step - loss: 0.1159 - accuracy: 0.0051\n",
            "Epoch 53/100\n",
            "3/3 [==============================] - 0s 15ms/step - loss: 0.1201 - accuracy: 0.0000e+00\n",
            "Epoch 54/100\n",
            "3/3 [==============================] - 0s 17ms/step - loss: 0.1149 - accuracy: 0.0051\n",
            "Epoch 55/100\n",
            "3/3 [==============================] - 0s 16ms/step - loss: 0.0906 - accuracy: 0.0051\n",
            "Epoch 56/100\n",
            "3/3 [==============================] - 0s 20ms/step - loss: 0.1230 - accuracy: 0.0051\n",
            "Epoch 57/100\n",
            "3/3 [==============================] - 0s 15ms/step - loss: 0.0982 - accuracy: 0.0051\n",
            "Epoch 58/100\n",
            "3/3 [==============================] - 0s 16ms/step - loss: 0.1143 - accuracy: 0.0051\n",
            "Epoch 59/100\n",
            "3/3 [==============================] - 0s 17ms/step - loss: 0.1094 - accuracy: 0.0051\n",
            "Epoch 60/100\n",
            "3/3 [==============================] - 0s 16ms/step - loss: 0.0744 - accuracy: 0.0051\n",
            "Epoch 61/100\n",
            "3/3 [==============================] - 0s 23ms/step - loss: 0.1193 - accuracy: 0.0051\n",
            "Epoch 62/100\n",
            "3/3 [==============================] - 0s 15ms/step - loss: 0.0867 - accuracy: 0.0051\n",
            "Epoch 63/100\n",
            "3/3 [==============================] - 0s 15ms/step - loss: 0.0943 - accuracy: 0.0051\n",
            "Epoch 64/100\n",
            "3/3 [==============================] - 0s 17ms/step - loss: 0.1064 - accuracy: 0.0000e+00\n",
            "Epoch 65/100\n",
            "3/3 [==============================] - 0s 15ms/step - loss: 0.0993 - accuracy: 0.0051\n",
            "Epoch 66/100\n",
            "3/3 [==============================] - 0s 15ms/step - loss: 0.1281 - accuracy: 0.0051\n",
            "Epoch 67/100\n",
            "3/3 [==============================] - 0s 15ms/step - loss: 0.0820 - accuracy: 0.0051\n",
            "Epoch 68/100\n",
            "3/3 [==============================] - 0s 19ms/step - loss: 0.0891 - accuracy: 0.0051\n",
            "Epoch 69/100\n",
            "3/3 [==============================] - 0s 16ms/step - loss: 0.0862 - accuracy: 0.0051\n",
            "Epoch 70/100\n",
            "3/3 [==============================] - 0s 20ms/step - loss: 0.0975 - accuracy: 0.0051\n",
            "Epoch 71/100\n",
            "3/3 [==============================] - 0s 15ms/step - loss: 0.1078 - accuracy: 0.0051\n",
            "Epoch 72/100\n",
            "3/3 [==============================] - 0s 16ms/step - loss: 0.0862 - accuracy: 0.0051\n",
            "Epoch 73/100\n",
            "3/3 [==============================] - 0s 18ms/step - loss: 0.1039 - accuracy: 0.0051\n",
            "Epoch 74/100\n",
            "3/3 [==============================] - 0s 16ms/step - loss: 0.0916 - accuracy: 0.0051\n",
            "Epoch 75/100\n",
            "3/3 [==============================] - 0s 15ms/step - loss: 0.0883 - accuracy: 0.0051\n",
            "Epoch 76/100\n",
            "3/3 [==============================] - 0s 17ms/step - loss: 0.1122 - accuracy: 0.0051\n",
            "Epoch 77/100\n",
            "3/3 [==============================] - 0s 15ms/step - loss: 0.0898 - accuracy: 0.0051\n",
            "Epoch 78/100\n",
            "3/3 [==============================] - 0s 18ms/step - loss: 0.1134 - accuracy: 0.0000e+00\n",
            "Epoch 79/100\n",
            "3/3 [==============================] - 0s 17ms/step - loss: 0.1084 - accuracy: 0.0051\n",
            "Epoch 80/100\n",
            "3/3 [==============================] - 0s 20ms/step - loss: 0.0805 - accuracy: 0.0051\n",
            "Epoch 81/100\n",
            "3/3 [==============================] - 0s 15ms/step - loss: 0.0796 - accuracy: 0.0051\n",
            "Epoch 82/100\n",
            "3/3 [==============================] - 0s 19ms/step - loss: 0.0792 - accuracy: 0.0051\n",
            "Epoch 83/100\n",
            "3/3 [==============================] - 0s 15ms/step - loss: 0.0952 - accuracy: 0.0051\n",
            "Epoch 84/100\n",
            "3/3 [==============================] - 0s 18ms/step - loss: 0.0892 - accuracy: 0.0051\n",
            "Epoch 85/100\n",
            "3/3 [==============================] - 0s 15ms/step - loss: 0.0865 - accuracy: 0.0051\n",
            "Epoch 86/100\n",
            "3/3 [==============================] - 0s 18ms/step - loss: 0.0907 - accuracy: 0.0051\n",
            "Epoch 87/100\n",
            "3/3 [==============================] - 0s 16ms/step - loss: 0.0999 - accuracy: 0.0051\n",
            "Epoch 88/100\n",
            "3/3 [==============================] - 0s 18ms/step - loss: 0.0767 - accuracy: 0.0051\n",
            "Epoch 89/100\n",
            "3/3 [==============================] - 0s 16ms/step - loss: 0.0800 - accuracy: 0.0051\n",
            "Epoch 90/100\n",
            "3/3 [==============================] - 0s 17ms/step - loss: 0.0877 - accuracy: 0.0051\n",
            "Epoch 91/100\n",
            "3/3 [==============================] - 0s 16ms/step - loss: 0.0898 - accuracy: 0.0051\n",
            "Epoch 92/100\n",
            "3/3 [==============================] - 0s 16ms/step - loss: 0.0992 - accuracy: 0.0051\n",
            "Epoch 93/100\n",
            "3/3 [==============================] - 0s 16ms/step - loss: 0.0717 - accuracy: 0.0051\n",
            "Epoch 94/100\n",
            "3/3 [==============================] - 0s 16ms/step - loss: 0.0736 - accuracy: 0.0051\n",
            "Epoch 95/100\n",
            "3/3 [==============================] - 0s 15ms/step - loss: 0.0720 - accuracy: 0.0051\n",
            "Epoch 96/100\n",
            "3/3 [==============================] - 0s 19ms/step - loss: 0.0725 - accuracy: 0.0000e+00\n",
            "Epoch 97/100\n",
            "3/3 [==============================] - 0s 21ms/step - loss: 0.0833 - accuracy: 0.0051\n",
            "Epoch 98/100\n",
            "3/3 [==============================] - 0s 16ms/step - loss: 0.0761 - accuracy: 0.0051\n",
            "Epoch 99/100\n",
            "3/3 [==============================] - 0s 15ms/step - loss: 0.0695 - accuracy: 0.0051\n",
            "Epoch 100/100\n",
            "3/3 [==============================] - 0s 16ms/step - loss: 0.0790 - accuracy: 0.0051\n"
          ]
        }
      ]
    },
    {
      "cell_type": "code",
      "source": [
        "# Trends of Loss\n",
        "plt.figure(figsize =(10,6))\n",
        "plt.plot(training.history[\"loss\"])\n",
        "plt.xlabel(\"Epoch\")\n",
        "plt.ylabel(\"Loss values\")\n",
        "plt.title(\"Simple RNN model, Loss vs Epoch\")\n",
        "plt.show()\n",
        "\n",
        "## DOWNWARD TREND OF LOSS AND HAS SETTLED THERE"
      ],
      "metadata": {
        "colab": {
          "base_uri": "https://localhost:8080/",
          "height": 564
        },
        "id": "wDiOUZ2dg_DI",
        "outputId": "b54d26b8-24af-4897-9f39-7395519394c6"
      },
      "execution_count": null,
      "outputs": [
        {
          "output_type": "display_data",
          "data": {
            "text/plain": [
              "<Figure size 1000x600 with 1 Axes>"
            ],
            "image/png": "[encoded data removed]"
          },
          "metadata": {}
        }
      ]
    },
    {
      "cell_type": "code",
      "source": [
        "model = Sequential()\n",
        "# RNN layer 1\n",
        "model.add(SimpleRNN(12, input_shape=(look_backcpi, 1), return_sequences=True))\n",
        "model.add(Dropout(0.1))\n",
        "#RNN layer 2\n",
        "model.add(SimpleRNN(12, return_sequences=True))\n",
        "model.add(Dropout(0.1))\n",
        "#RNN layer 3\n",
        "model.add(SimpleRNN(12, return_sequences=True))\n",
        "model.add(Dropout(0.1))\n",
        "#RNN layer 4\n",
        "model.add(SimpleRNN(12))\n",
        "model.add(Dropout(0.1))\n",
        "\n",
        "# Dense layer\n",
        "model.add(Dense(1))\n",
        "\n",
        "#Compiling the model\n",
        "model.compile(loss='mean_squared_error', optimizer='adam', metrics=['accuracy'])\n",
        "\n",
        "# Training the model\n",
        "testcpi = model.fit(x_testcpi, y_testcpi, epochs=10, batch_size=95)"
      ],
      "metadata": {
        "colab": {
          "base_uri": "https://localhost:8080/"
        },
        "id": "2B9OqrC5nQgC",
        "outputId": "b9eb4a5f-1e06-42bc-af9d-2d6a8b162efd"
      },
      "execution_count": null,
      "outputs": [
        {
          "output_type": "stream",
          "name": "stdout",
          "text": [
            "Epoch 1/10\n",
            "1/1 [==============================] - 6s 6s/step - loss: 0.7782 - accuracy: 0.0250\n",
            "Epoch 2/10\n",
            "1/1 [==============================] - 0s 50ms/step - loss: 0.3925 - accuracy: 0.0250\n",
            "Epoch 3/10\n",
            "1/1 [==============================] - 0s 39ms/step - loss: 0.5525 - accuracy: 0.0000e+00\n",
            "Epoch 4/10\n",
            "1/1 [==============================] - 0s 39ms/step - loss: 0.2955 - accuracy: 0.0250\n",
            "Epoch 5/10\n",
            "1/1 [==============================] - 0s 35ms/step - loss: 0.3133 - accuracy: 0.0000e+00\n",
            "Epoch 6/10\n",
            "1/1 [==============================] - 0s 46ms/step - loss: 0.5769 - accuracy: 0.0000e+00\n",
            "Epoch 7/10\n",
            "1/1 [==============================] - 0s 40ms/step - loss: 0.4050 - accuracy: 0.0000e+00\n",
            "Epoch 8/10\n",
            "1/1 [==============================] - 0s 35ms/step - loss: 0.3061 - accuracy: 0.0000e+00\n",
            "Epoch 9/10\n",
            "1/1 [==============================] - 0s 42ms/step - loss: 0.3372 - accuracy: 0.0000e+00\n",
            "Epoch 10/10\n",
            "1/1 [==============================] - 0s 35ms/step - loss: 0.4146 - accuracy: 0.0250\n"
          ]
        }
      ]
    },
    {
      "cell_type": "code",
      "source": [
        "# Price Predictions\n",
        "predscpi = model.predict(x_traincpi)\n",
        "# Scale them back to original scale from 0-1\n",
        "predscpi = scaler_train.inverse_transform(predscpi)\n",
        "predscpi.shape"
      ],
      "metadata": {
        "colab": {
          "base_uri": "https://localhost:8080/"
        },
        "id": "Js8r57V2gN7o",
        "outputId": "c737ebfe-0486-43f3-86bd-6209b29d2266"
      },
      "execution_count": null,
      "outputs": [
        {
          "output_type": "stream",
          "name": "stdout",
          "text": [
            "7/7 [==============================] - 0s 14ms/step\n"
          ]
        },
        {
          "output_type": "execute_result",
          "data": {
            "text/plain": [
              "(198, 1)"
            ]
          },
          "metadata": {},
          "execution_count": 94
        }
      ]
    },
    {
      "cell_type": "code",
      "source": [
        "# Price Predictions on Test dataset\n",
        "testcpi_predcpi = model.predict(x_testcpi)\n",
        "# Scale them back to original scale from 0-1\n",
        "testf_predcpi = scaler_test.inverse_transform(testcpi_predcpi)\n",
        "testcpi_predcpi.shape"
      ],
      "metadata": {
        "colab": {
          "base_uri": "https://localhost:8080/"
        },
        "id": "y3biaSzCgcMv",
        "outputId": "da96e2e8-6617-40e0-dfe3-8193b14c5342"
      },
      "execution_count": null,
      "outputs": [
        {
          "output_type": "stream",
          "name": "stdout",
          "text": [
            "2/2 [==============================] - 0s 27ms/step\n"
          ]
        },
        {
          "output_type": "execute_result",
          "data": {
            "text/plain": [
              "(40, 1)"
            ]
          },
          "metadata": {},
          "execution_count": 95
        }
      ]
    },
    {
      "cell_type": "code",
      "source": [
        "#from sklearn.ensemble import RandomForestClassifier\n",
        "#model = RandomForestClassifier()\n",
        "#model.fit(x_traincpi, y_traincpi)\n",
        "\n",
        "\n",
        "#predscpi = model.predict(x_testcpi)\n",
        "#ac_KNN = accuracy_score(y_testcpi,predscpi)\n",
        "#print(ac_KNN)\n"
      ],
      "metadata": {
        "id": "OCp_nmKBid44"
      },
      "execution_count": null,
      "outputs": []
    },
    {
      "cell_type": "markdown",
      "source": [
        "Found array with dim 3. RandomForestClassifier expected <= 2.\n",
        "\n",
        "Data set is unfit to run with RFC and other base models because the data set shape has 3D and 2D shape values."
      ],
      "metadata": {
        "id": "1_I_2xtAmfuJ"
      }
    }
  ],
  "metadata": {
    "colab": {
      "provenance": [],
      "include_colab_link": true
    },
    "kernelspec": {
      "display_name": "Python 3",
      "name": "python3"
    },
    "language_info": {
      "name": "python"
    }
  },
  "nbformat": 4,
  "nbformat_minor": 0
}