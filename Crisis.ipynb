{
  "cells": [
    {
      "cell_type": "markdown",
      "metadata": {
        "id": "view-in-github",
        "colab_type": "text"
      },
      "source": [
        "<a href=\"https://colab.research.google.com/github/Naveenkuupireddy/ASE-PROJECT/blob/main/Crisis.ipynb\" target=\"_parent\"><img src=\"https://colab.research.google.com/assets/colab-badge.svg\" alt=\"Open In Colab\"/></a>"
      ]
    },
    {
      "cell_type": "code",
      "execution_count": null,
      "metadata": {
        "id": "t7ZnvOMaP9rx"
      },
      "outputs": [],
      "source": [
        "import numpy as np\n",
        "import pandas as pd\n",
        "import seaborn as sns\n",
        "from sklearn.model_selection import train_test_split\n",
        "from sklearn.preprocessing import MinMaxScaler\n",
        "from matplotlib import pyplot as plt"
      ]
    },
    {
      "cell_type": "code",
      "execution_count": null,
      "metadata": {
        "id": "dthwhpQSyv1k",
        "outputId": "99b7f813-b580-4f37-e33b-1e1cf0131e09",
        "colab": {
          "base_uri": "https://localhost:8080/"
        }
      },
      "outputs": [
        {
          "output_type": "stream",
          "name": "stdout",
          "text": [
            "Drive already mounted at /content/drive; to attempt to forcibly remount, call drive.mount(\"/content/drive\", force_remount=True).\n"
          ]
        }
      ],
      "source": [
        "from google.colab import drive\n",
        "drive.mount(\"/content/drive\")"
      ]
    },
    {
      "cell_type": "code",
      "execution_count": null,
      "metadata": {
        "colab": {
          "base_uri": "https://localhost:8080/"
        },
        "id": "6ZmAMDsJTN5g",
        "outputId": "c1567d9b-cec5-4124-cc96-9ecedd81fc31"
      },
      "outputs": [
        {
          "output_type": "stream",
          "name": "stdout",
          "text": [
            "\u001b[0m\u001b[01;34mMyDrive\u001b[0m/\n"
          ]
        }
      ],
      "source": [
        "%ls '/content/drive'"
      ]
    },
    {
      "cell_type": "code",
      "execution_count": null,
      "metadata": {
        "id": "Fzqia_dZTUTr",
        "outputId": "5056fe63-53da-463e-ca23-b1c14f357667",
        "colab": {
          "base_uri": "https://localhost:8080/"
        }
      },
      "outputs": [
        {
          "output_type": "stream",
          "name": "stdout",
          "text": [
            "/content/drive/MyDrive/ASE Database\n"
          ]
        }
      ],
      "source": [
        "%cd \"/content/drive/MyDrive/ASE Database\""
      ]
    },
    {
      "cell_type": "code",
      "execution_count": null,
      "metadata": {
        "id": "IakeW1wfTpFJ",
        "outputId": "8beaf8f5-c0aa-44ff-88ff-7a00a180870e",
        "colab": {
          "base_uri": "https://localhost:8080/",
          "height": 423
        }
      },
      "outputs": [
        {
          "output_type": "execute_result",
          "data": {
            "text/plain": [
              "            Date  Price\n",
              "0     1997-01-07   3.82\n",
              "1     1997-01-08   3.80\n",
              "2     1997-01-09   3.61\n",
              "3     1997-01-10   3.92\n",
              "4     1997-01-13   4.00\n",
              "...          ...    ...\n",
              "5948  2020-08-26   2.52\n",
              "5949  2020-08-27   2.52\n",
              "5950  2020-08-28   2.46\n",
              "5951  2020-08-31   2.30\n",
              "5952  2020-09-01   2.22\n",
              "\n",
              "[5953 rows x 2 columns]"
            ],
            "text/html": [
              "\n",
              "  <div id=\"df-ac5c4243-d736-4796-b181-48637cdf87f1\">\n",
              "    <div class=\"colab-df-container\">\n",
              "      <div>\n",
              "<style scoped>\n",
              "    .dataframe tbody tr th:only-of-type {\n",
              "        vertical-align: middle;\n",
              "    }\n",
              "\n",
              "    .dataframe tbody tr th {\n",
              "        vertical-align: top;\n",
              "    }\n",
              "\n",
              "    .dataframe thead th {\n",
              "        text-align: right;\n",
              "    }\n",
              "</style>\n",
              "<table border=\"1\" class=\"dataframe\">\n",
              "  <thead>\n",
              "    <tr style=\"text-align: right;\">\n",
              "      <th></th>\n",
              "      <th>Date</th>\n",
              "      <th>Price</th>\n",
              "    </tr>\n",
              "  </thead>\n",
              "  <tbody>\n",
              "    <tr>\n",
              "      <th>0</th>\n",
              "      <td>1997-01-07</td>\n",
              "      <td>3.82</td>\n",
              "    </tr>\n",
              "    <tr>\n",
              "      <th>1</th>\n",
              "      <td>1997-01-08</td>\n",
              "      <td>3.80</td>\n",
              "    </tr>\n",
              "    <tr>\n",
              "      <th>2</th>\n",
              "      <td>1997-01-09</td>\n",
              "      <td>3.61</td>\n",
              "    </tr>\n",
              "    <tr>\n",
              "      <th>3</th>\n",
              "      <td>1997-01-10</td>\n",
              "      <td>3.92</td>\n",
              "    </tr>\n",
              "    <tr>\n",
              "      <th>4</th>\n",
              "      <td>1997-01-13</td>\n",
              "      <td>4.00</td>\n",
              "    </tr>\n",
              "    <tr>\n",
              "      <th>...</th>\n",
              "      <td>...</td>\n",
              "      <td>...</td>\n",
              "    </tr>\n",
              "    <tr>\n",
              "      <th>5948</th>\n",
              "      <td>2020-08-26</td>\n",
              "      <td>2.52</td>\n",
              "    </tr>\n",
              "    <tr>\n",
              "      <th>5949</th>\n",
              "      <td>2020-08-27</td>\n",
              "      <td>2.52</td>\n",
              "    </tr>\n",
              "    <tr>\n",
              "      <th>5950</th>\n",
              "      <td>2020-08-28</td>\n",
              "      <td>2.46</td>\n",
              "    </tr>\n",
              "    <tr>\n",
              "      <th>5951</th>\n",
              "      <td>2020-08-31</td>\n",
              "      <td>2.30</td>\n",
              "    </tr>\n",
              "    <tr>\n",
              "      <th>5952</th>\n",
              "      <td>2020-09-01</td>\n",
              "      <td>2.22</td>\n",
              "    </tr>\n",
              "  </tbody>\n",
              "</table>\n",
              "<p>5953 rows × 2 columns</p>\n",
              "</div>\n",
              "      <button class=\"colab-df-convert\" onclick=\"convertToInteractive('df-ac5c4243-d736-4796-b181-48637cdf87f1')\"\n",
              "              title=\"Convert this dataframe to an interactive table.\"\n",
              "              style=\"display:none;\">\n",
              "        \n",
              "  <svg xmlns=\"http://www.w3.org/2000/svg\" height=\"24px\"viewBox=\"0 0 24 24\"\n",
              "       width=\"24px\">\n",
              "    <path d=\"M0 0h24v24H0V0z\" fill=\"none\"/>\n",
              "    <path d=\"M18.56 5.44l.94 2.06.94-2.06 2.06-.94-2.06-.94-.94-2.06-.94 2.06-2.06.94zm-11 1L8.5 8.5l.94-2.06 2.06-.94-2.06-.94L8.5 2.5l-.94 2.06-2.06.94zm10 10l.94 2.06.94-2.06 2.06-.94-2.06-.94-.94-2.06-.94 2.06-2.06.94z\"/><path d=\"M17.41 7.96l-1.37-1.37c-.4-.4-.92-.59-1.43-.59-.52 0-1.04.2-1.43.59L10.3 9.45l-7.72 7.72c-.78.78-.78 2.05 0 2.83L4 21.41c.39.39.9.59 1.41.59.51 0 1.02-.2 1.41-.59l7.78-7.78 2.81-2.81c.8-.78.8-2.07 0-2.86zM5.41 20L4 18.59l7.72-7.72 1.47 1.35L5.41 20z\"/>\n",
              "  </svg>\n",
              "      </button>\n",
              "      \n",
              "  <style>\n",
              "    .colab-df-container {\n",
              "      display:flex;\n",
              "      flex-wrap:wrap;\n",
              "      gap: 12px;\n",
              "    }\n",
              "\n",
              "    .colab-df-convert {\n",
              "      background-color: #E8F0FE;\n",
              "      border: none;\n",
              "      border-radius: 50%;\n",
              "      cursor: pointer;\n",
              "      display: none;\n",
              "      fill: #1967D2;\n",
              "      height: 32px;\n",
              "      padding: 0 0 0 0;\n",
              "      width: 32px;\n",
              "    }\n",
              "\n",
              "    .colab-df-convert:hover {\n",
              "      background-color: #E2EBFA;\n",
              "      box-shadow: 0px 1px 2px rgba(60, 64, 67, 0.3), 0px 1px 3px 1px rgba(60, 64, 67, 0.15);\n",
              "      fill: #174EA6;\n",
              "    }\n",
              "\n",
              "    [theme=dark] .colab-df-convert {\n",
              "      background-color: #3B4455;\n",
              "      fill: #D2E3FC;\n",
              "    }\n",
              "\n",
              "    [theme=dark] .colab-df-convert:hover {\n",
              "      background-color: #434B5C;\n",
              "      box-shadow: 0px 1px 3px 1px rgba(0, 0, 0, 0.15);\n",
              "      filter: drop-shadow(0px 1px 2px rgba(0, 0, 0, 0.3));\n",
              "      fill: #FFFFFF;\n",
              "    }\n",
              "  </style>\n",
              "\n",
              "      <script>\n",
              "        const buttonEl =\n",
              "          document.querySelector('#df-ac5c4243-d736-4796-b181-48637cdf87f1 button.colab-df-convert');\n",
              "        buttonEl.style.display =\n",
              "          google.colab.kernel.accessAllowed ? 'block' : 'none';\n",
              "\n",
              "        async function convertToInteractive(key) {\n",
              "          const element = document.querySelector('#df-ac5c4243-d736-4796-b181-48637cdf87f1');\n",
              "          const dataTable =\n",
              "            await google.colab.kernel.invokeFunction('convertToInteractive',\n",
              "                                                     [key], {});\n",
              "          if (!dataTable) return;\n",
              "\n",
              "          const docLinkHtml = 'Like what you see? Visit the ' +\n",
              "            '<a target=\"_blank\" href=https://colab.research.google.com/notebooks/data_table.ipynb>data table notebook</a>'\n",
              "            + ' to learn more about interactive tables.';\n",
              "          element.innerHTML = '';\n",
              "          dataTable['output_type'] = 'display_data';\n",
              "          await google.colab.output.renderOutput(dataTable, element);\n",
              "          const docLink = document.createElement('div');\n",
              "          docLink.innerHTML = docLinkHtml;\n",
              "          element.appendChild(docLink);\n",
              "        }\n",
              "      </script>\n",
              "    </div>\n",
              "  </div>\n",
              "  "
            ]
          },
          "metadata": {},
          "execution_count": 25
        }
      ],
      "source": [
        "oildata= pd.read_csv(\"daily_csv.csv\")\n",
        "oildata"
      ]
    },
    {
      "cell_type": "code",
      "execution_count": null,
      "metadata": {
        "id": "Pusoq9NqQ6hM",
        "colab": {
          "base_uri": "https://localhost:8080/"
        },
        "outputId": "b8bb830e-f3f0-4b5f-8352-a638e9d0ebc2"
      },
      "outputs": [
        {
          "output_type": "stream",
          "name": "stdout",
          "text": [
            "<class 'pandas.core.frame.DataFrame'>\n",
            "RangeIndex: 5953 entries, 0 to 5952\n",
            "Data columns (total 2 columns):\n",
            " #   Column  Non-Null Count  Dtype  \n",
            "---  ------  --------------  -----  \n",
            " 0   Date    5953 non-null   object \n",
            " 1   Price   5952 non-null   float64\n",
            "dtypes: float64(1), object(1)\n",
            "memory usage: 93.1+ KB\n"
          ]
        }
      ],
      "source": [
        "oildata.info()"
      ]
    },
    {
      "cell_type": "code",
      "execution_count": null,
      "metadata": {
        "id": "TYoR3sobRU19"
      },
      "outputs": [],
      "source": [
        "# Converting the Date to a Datetime object\n",
        "\n",
        "oildata['Date'] = pd.to_datetime(oildata['Date'])"
      ]
    },
    {
      "cell_type": "code",
      "execution_count": null,
      "metadata": {
        "id": "FWqMuZ_iRhGj",
        "colab": {
          "base_uri": "https://localhost:8080/"
        },
        "outputId": "71d7bc57-f19d-49bc-c4a4-22aba5565490"
      },
      "outputs": [
        {
          "output_type": "stream",
          "name": "stdout",
          "text": [
            "<class 'pandas.core.frame.DataFrame'>\n",
            "RangeIndex: 5953 entries, 0 to 5952\n",
            "Data columns (total 2 columns):\n",
            " #   Column  Non-Null Count  Dtype         \n",
            "---  ------  --------------  -----         \n",
            " 0   Date    5953 non-null   datetime64[ns]\n",
            " 1   Price   5952 non-null   float64       \n",
            "dtypes: datetime64[ns](1), float64(1)\n",
            "memory usage: 93.1 KB\n"
          ]
        }
      ],
      "source": [
        "oildata.info()"
      ]
    },
    {
      "cell_type": "code",
      "execution_count": null,
      "metadata": {
        "id": "XZVvM07XUEdC",
        "colab": {
          "base_uri": "https://localhost:8080/"
        },
        "outputId": "82e80159-8426-4ea9-cc78-4d70eb9ae0a6"
      },
      "outputs": [
        {
          "output_type": "stream",
          "name": "stdout",
          "text": [
            "Number of missing data : \n",
            "Date     0\n",
            "Price    1\n",
            "dtype: int64\n",
            "\n"
          ]
        }
      ],
      "source": [
        "print(f\"Number of missing data : \\n{oildata.isnull().sum()}\\n\")"
      ]
    },
    {
      "cell_type": "code",
      "execution_count": null,
      "metadata": {
        "id": "5l0LVhBSU73B",
        "colab": {
          "base_uri": "https://localhost:8080/",
          "height": 423
        },
        "outputId": "bd0fe834-62aa-406a-8f1a-9b8fe3d9568d"
      },
      "outputs": [
        {
          "output_type": "execute_result",
          "data": {
            "text/plain": [
              "           Date  Price\n",
              "0    1997-01-07   3.82\n",
              "1    1997-01-08   3.80\n",
              "2    1997-01-09   3.61\n",
              "3    1997-01-10   3.92\n",
              "4    1997-01-13   4.00\n",
              "...         ...    ...\n",
              "5948 2020-08-26   2.52\n",
              "5949 2020-08-27   2.52\n",
              "5950 2020-08-28   2.46\n",
              "5951 2020-08-31   2.30\n",
              "5952 2020-09-01   2.22\n",
              "\n",
              "[5953 rows x 2 columns]"
            ],
            "text/html": [
              "\n",
              "  <div id=\"df-115bcf73-56ac-4d5c-8e39-89b2621e0c17\">\n",
              "    <div class=\"colab-df-container\">\n",
              "      <div>\n",
              "<style scoped>\n",
              "    .dataframe tbody tr th:only-of-type {\n",
              "        vertical-align: middle;\n",
              "    }\n",
              "\n",
              "    .dataframe tbody tr th {\n",
              "        vertical-align: top;\n",
              "    }\n",
              "\n",
              "    .dataframe thead th {\n",
              "        text-align: right;\n",
              "    }\n",
              "</style>\n",
              "<table border=\"1\" class=\"dataframe\">\n",
              "  <thead>\n",
              "    <tr style=\"text-align: right;\">\n",
              "      <th></th>\n",
              "      <th>Date</th>\n",
              "      <th>Price</th>\n",
              "    </tr>\n",
              "  </thead>\n",
              "  <tbody>\n",
              "    <tr>\n",
              "      <th>0</th>\n",
              "      <td>1997-01-07</td>\n",
              "      <td>3.82</td>\n",
              "    </tr>\n",
              "    <tr>\n",
              "      <th>1</th>\n",
              "      <td>1997-01-08</td>\n",
              "      <td>3.80</td>\n",
              "    </tr>\n",
              "    <tr>\n",
              "      <th>2</th>\n",
              "      <td>1997-01-09</td>\n",
              "      <td>3.61</td>\n",
              "    </tr>\n",
              "    <tr>\n",
              "      <th>3</th>\n",
              "      <td>1997-01-10</td>\n",
              "      <td>3.92</td>\n",
              "    </tr>\n",
              "    <tr>\n",
              "      <th>4</th>\n",
              "      <td>1997-01-13</td>\n",
              "      <td>4.00</td>\n",
              "    </tr>\n",
              "    <tr>\n",
              "      <th>...</th>\n",
              "      <td>...</td>\n",
              "      <td>...</td>\n",
              "    </tr>\n",
              "    <tr>\n",
              "      <th>5948</th>\n",
              "      <td>2020-08-26</td>\n",
              "      <td>2.52</td>\n",
              "    </tr>\n",
              "    <tr>\n",
              "      <th>5949</th>\n",
              "      <td>2020-08-27</td>\n",
              "      <td>2.52</td>\n",
              "    </tr>\n",
              "    <tr>\n",
              "      <th>5950</th>\n",
              "      <td>2020-08-28</td>\n",
              "      <td>2.46</td>\n",
              "    </tr>\n",
              "    <tr>\n",
              "      <th>5951</th>\n",
              "      <td>2020-08-31</td>\n",
              "      <td>2.30</td>\n",
              "    </tr>\n",
              "    <tr>\n",
              "      <th>5952</th>\n",
              "      <td>2020-09-01</td>\n",
              "      <td>2.22</td>\n",
              "    </tr>\n",
              "  </tbody>\n",
              "</table>\n",
              "<p>5953 rows × 2 columns</p>\n",
              "</div>\n",
              "      <button class=\"colab-df-convert\" onclick=\"convertToInteractive('df-115bcf73-56ac-4d5c-8e39-89b2621e0c17')\"\n",
              "              title=\"Convert this dataframe to an interactive table.\"\n",
              "              style=\"display:none;\">\n",
              "        \n",
              "  <svg xmlns=\"http://www.w3.org/2000/svg\" height=\"24px\"viewBox=\"0 0 24 24\"\n",
              "       width=\"24px\">\n",
              "    <path d=\"M0 0h24v24H0V0z\" fill=\"none\"/>\n",
              "    <path d=\"M18.56 5.44l.94 2.06.94-2.06 2.06-.94-2.06-.94-.94-2.06-.94 2.06-2.06.94zm-11 1L8.5 8.5l.94-2.06 2.06-.94-2.06-.94L8.5 2.5l-.94 2.06-2.06.94zm10 10l.94 2.06.94-2.06 2.06-.94-2.06-.94-.94-2.06-.94 2.06-2.06.94z\"/><path d=\"M17.41 7.96l-1.37-1.37c-.4-.4-.92-.59-1.43-.59-.52 0-1.04.2-1.43.59L10.3 9.45l-7.72 7.72c-.78.78-.78 2.05 0 2.83L4 21.41c.39.39.9.59 1.41.59.51 0 1.02-.2 1.41-.59l7.78-7.78 2.81-2.81c.8-.78.8-2.07 0-2.86zM5.41 20L4 18.59l7.72-7.72 1.47 1.35L5.41 20z\"/>\n",
              "  </svg>\n",
              "      </button>\n",
              "      \n",
              "  <style>\n",
              "    .colab-df-container {\n",
              "      display:flex;\n",
              "      flex-wrap:wrap;\n",
              "      gap: 12px;\n",
              "    }\n",
              "\n",
              "    .colab-df-convert {\n",
              "      background-color: #E8F0FE;\n",
              "      border: none;\n",
              "      border-radius: 50%;\n",
              "      cursor: pointer;\n",
              "      display: none;\n",
              "      fill: #1967D2;\n",
              "      height: 32px;\n",
              "      padding: 0 0 0 0;\n",
              "      width: 32px;\n",
              "    }\n",
              "\n",
              "    .colab-df-convert:hover {\n",
              "      background-color: #E2EBFA;\n",
              "      box-shadow: 0px 1px 2px rgba(60, 64, 67, 0.3), 0px 1px 3px 1px rgba(60, 64, 67, 0.15);\n",
              "      fill: #174EA6;\n",
              "    }\n",
              "\n",
              "    [theme=dark] .colab-df-convert {\n",
              "      background-color: #3B4455;\n",
              "      fill: #D2E3FC;\n",
              "    }\n",
              "\n",
              "    [theme=dark] .colab-df-convert:hover {\n",
              "      background-color: #434B5C;\n",
              "      box-shadow: 0px 1px 3px 1px rgba(0, 0, 0, 0.15);\n",
              "      filter: drop-shadow(0px 1px 2px rgba(0, 0, 0, 0.3));\n",
              "      fill: #FFFFFF;\n",
              "    }\n",
              "  </style>\n",
              "\n",
              "      <script>\n",
              "        const buttonEl =\n",
              "          document.querySelector('#df-115bcf73-56ac-4d5c-8e39-89b2621e0c17 button.colab-df-convert');\n",
              "        buttonEl.style.display =\n",
              "          google.colab.kernel.accessAllowed ? 'block' : 'none';\n",
              "\n",
              "        async function convertToInteractive(key) {\n",
              "          const element = document.querySelector('#df-115bcf73-56ac-4d5c-8e39-89b2621e0c17');\n",
              "          const dataTable =\n",
              "            await google.colab.kernel.invokeFunction('convertToInteractive',\n",
              "                                                     [key], {});\n",
              "          if (!dataTable) return;\n",
              "\n",
              "          const docLinkHtml = 'Like what you see? Visit the ' +\n",
              "            '<a target=\"_blank\" href=https://colab.research.google.com/notebooks/data_table.ipynb>data table notebook</a>'\n",
              "            + ' to learn more about interactive tables.';\n",
              "          element.innerHTML = '';\n",
              "          dataTable['output_type'] = 'display_data';\n",
              "          await google.colab.output.renderOutput(dataTable, element);\n",
              "          const docLink = document.createElement('div');\n",
              "          docLink.innerHTML = docLinkHtml;\n",
              "          element.appendChild(docLink);\n",
              "        }\n",
              "      </script>\n",
              "    </div>\n",
              "  </div>\n",
              "  "
            ]
          },
          "metadata": {},
          "execution_count": 30
        }
      ],
      "source": [
        "dataRN = oildata.fillna(method='ffill')\n",
        "dataRN"
      ]
    },
    {
      "cell_type": "code",
      "execution_count": null,
      "metadata": {
        "id": "IySZ670KWiae",
        "colab": {
          "base_uri": "https://localhost:8080/"
        },
        "outputId": "051393c0-b7c2-4d89-efcc-09017e5d6af1"
      },
      "outputs": [
        {
          "output_type": "stream",
          "name": "stdout",
          "text": [
            "Number of missing data : \n",
            "Date     0\n",
            "Price    0\n",
            "dtype: int64\n",
            "\n"
          ]
        }
      ],
      "source": [
        "print(f\"Number of missing data : \\n{dataRN.isnull().sum()}\\n\")"
      ]
    },
    {
      "cell_type": "code",
      "execution_count": null,
      "metadata": {
        "id": "Pun0ZlXAGK0p",
        "colab": {
          "base_uri": "https://localhost:8080/",
          "height": 285
        },
        "outputId": "196658f8-5756-4e52-b2bc-12eb621c6b5d"
      },
      "outputs": [
        {
          "output_type": "execute_result",
          "data": {
            "text/plain": [
              "<seaborn.axisgrid.PairGrid at 0x7f3bec545f60>"
            ]
          },
          "metadata": {},
          "execution_count": 32
        },
        {
          "output_type": "display_data",
          "data": {
            "text/plain": [
              "<Figure size 250x250 with 2 Axes>"
            ],
            "image/png": "[encoded data removed]"
          },
          "metadata": {}
        }
      ],
      "source": [
        "sns.pairplot(oildata)"
      ]
    },
    {
      "cell_type": "code",
      "execution_count": null,
      "metadata": {
        "id": "TVhUyzOOm_q4",
        "colab": {
          "base_uri": "https://localhost:8080/",
          "height": 514
        },
        "outputId": "6feaf66d-e292-4ccc-e217-bf8f54682bdd"
      },
      "outputs": [
        {
          "output_type": "display_data",
          "data": {
            "text/plain": [
              "<Figure size 2000x800 with 1 Axes>"
            ],
            "image/png": "[encoded data removed]"
          },
          "metadata": {}
        }
      ],
      "source": [
        "import seaborn as sns\n",
        "plt.rcParams[\"figure.figsize\"] = (20,8)\n",
        "sns.lineplot(data=dataRN, x=\"Date\", y=\"Price\")\n",
        "plt.xticks(rotation = 45) # Rotates X-Axis Ticks by 45-degrees\n",
        "ax = plt.gca()\n",
        "\n",
        "plt.show()"
      ]
    },
    {
      "cell_type": "markdown",
      "metadata": {
        "id": "UBNpJg74W_2G"
      },
      "source": [
        "**Data** **Spliting**"
      ]
    },
    {
      "cell_type": "code",
      "execution_count": null,
      "metadata": {
        "id": "rVNqPuzwAsRY",
        "colab": {
          "base_uri": "https://localhost:8080/",
          "height": 300
        },
        "outputId": "1b5ef7ba-51e7-4dc6-a237-8716cb8430bb"
      },
      "outputs": [
        {
          "output_type": "execute_result",
          "data": {
            "text/plain": [
              "             Price\n",
              "count  5953.000000\n",
              "mean      4.184722\n",
              "std       2.190185\n",
              "min       1.050000\n",
              "25%       2.650000\n",
              "50%       3.530000\n",
              "75%       5.240000\n",
              "max      18.480000"
            ],
            "text/html": [
              "\n",
              "  <div id=\"df-e19189fe-df0b-4395-b38c-29ef4b0c50c7\">\n",
              "    <div class=\"colab-df-container\">\n",
              "      <div>\n",
              "<style scoped>\n",
              "    .dataframe tbody tr th:only-of-type {\n",
              "        vertical-align: middle;\n",
              "    }\n",
              "\n",
              "    .dataframe tbody tr th {\n",
              "        vertical-align: top;\n",
              "    }\n",
              "\n",
              "    .dataframe thead th {\n",
              "        text-align: right;\n",
              "    }\n",
              "</style>\n",
              "<table border=\"1\" class=\"dataframe\">\n",
              "  <thead>\n",
              "    <tr style=\"text-align: right;\">\n",
              "      <th></th>\n",
              "      <th>Price</th>\n",
              "    </tr>\n",
              "  </thead>\n",
              "  <tbody>\n",
              "    <tr>\n",
              "      <th>count</th>\n",
              "      <td>5953.000000</td>\n",
              "    </tr>\n",
              "    <tr>\n",
              "      <th>mean</th>\n",
              "      <td>4.184722</td>\n",
              "    </tr>\n",
              "    <tr>\n",
              "      <th>std</th>\n",
              "      <td>2.190185</td>\n",
              "    </tr>\n",
              "    <tr>\n",
              "      <th>min</th>\n",
              "      <td>1.050000</td>\n",
              "    </tr>\n",
              "    <tr>\n",
              "      <th>25%</th>\n",
              "      <td>2.650000</td>\n",
              "    </tr>\n",
              "    <tr>\n",
              "      <th>50%</th>\n",
              "      <td>3.530000</td>\n",
              "    </tr>\n",
              "    <tr>\n",
              "      <th>75%</th>\n",
              "      <td>5.240000</td>\n",
              "    </tr>\n",
              "    <tr>\n",
              "      <th>max</th>\n",
              "      <td>18.480000</td>\n",
              "    </tr>\n",
              "  </tbody>\n",
              "</table>\n",
              "</div>\n",
              "      <button class=\"colab-df-convert\" onclick=\"convertToInteractive('df-e19189fe-df0b-4395-b38c-29ef4b0c50c7')\"\n",
              "              title=\"Convert this dataframe to an interactive table.\"\n",
              "              style=\"display:none;\">\n",
              "        \n",
              "  <svg xmlns=\"http://www.w3.org/2000/svg\" height=\"24px\"viewBox=\"0 0 24 24\"\n",
              "       width=\"24px\">\n",
              "    <path d=\"M0 0h24v24H0V0z\" fill=\"none\"/>\n",
              "    <path d=\"M18.56 5.44l.94 2.06.94-2.06 2.06-.94-2.06-.94-.94-2.06-.94 2.06-2.06.94zm-11 1L8.5 8.5l.94-2.06 2.06-.94-2.06-.94L8.5 2.5l-.94 2.06-2.06.94zm10 10l.94 2.06.94-2.06 2.06-.94-2.06-.94-.94-2.06-.94 2.06-2.06.94z\"/><path d=\"M17.41 7.96l-1.37-1.37c-.4-.4-.92-.59-1.43-.59-.52 0-1.04.2-1.43.59L10.3 9.45l-7.72 7.72c-.78.78-.78 2.05 0 2.83L4 21.41c.39.39.9.59 1.41.59.51 0 1.02-.2 1.41-.59l7.78-7.78 2.81-2.81c.8-.78.8-2.07 0-2.86zM5.41 20L4 18.59l7.72-7.72 1.47 1.35L5.41 20z\"/>\n",
              "  </svg>\n",
              "      </button>\n",
              "      \n",
              "  <style>\n",
              "    .colab-df-container {\n",
              "      display:flex;\n",
              "      flex-wrap:wrap;\n",
              "      gap: 12px;\n",
              "    }\n",
              "\n",
              "    .colab-df-convert {\n",
              "      background-color: #E8F0FE;\n",
              "      border: none;\n",
              "      border-radius: 50%;\n",
              "      cursor: pointer;\n",
              "      display: none;\n",
              "      fill: #1967D2;\n",
              "      height: 32px;\n",
              "      padding: 0 0 0 0;\n",
              "      width: 32px;\n",
              "    }\n",
              "\n",
              "    .colab-df-convert:hover {\n",
              "      background-color: #E2EBFA;\n",
              "      box-shadow: 0px 1px 2px rgba(60, 64, 67, 0.3), 0px 1px 3px 1px rgba(60, 64, 67, 0.15);\n",
              "      fill: #174EA6;\n",
              "    }\n",
              "\n",
              "    [theme=dark] .colab-df-convert {\n",
              "      background-color: #3B4455;\n",
              "      fill: #D2E3FC;\n",
              "    }\n",
              "\n",
              "    [theme=dark] .colab-df-convert:hover {\n",
              "      background-color: #434B5C;\n",
              "      box-shadow: 0px 1px 3px 1px rgba(0, 0, 0, 0.15);\n",
              "      filter: drop-shadow(0px 1px 2px rgba(0, 0, 0, 0.3));\n",
              "      fill: #FFFFFF;\n",
              "    }\n",
              "  </style>\n",
              "\n",
              "      <script>\n",
              "        const buttonEl =\n",
              "          document.querySelector('#df-e19189fe-df0b-4395-b38c-29ef4b0c50c7 button.colab-df-convert');\n",
              "        buttonEl.style.display =\n",
              "          google.colab.kernel.accessAllowed ? 'block' : 'none';\n",
              "\n",
              "        async function convertToInteractive(key) {\n",
              "          const element = document.querySelector('#df-e19189fe-df0b-4395-b38c-29ef4b0c50c7');\n",
              "          const dataTable =\n",
              "            await google.colab.kernel.invokeFunction('convertToInteractive',\n",
              "                                                     [key], {});\n",
              "          if (!dataTable) return;\n",
              "\n",
              "          const docLinkHtml = 'Like what you see? Visit the ' +\n",
              "            '<a target=\"_blank\" href=https://colab.research.google.com/notebooks/data_table.ipynb>data table notebook</a>'\n",
              "            + ' to learn more about interactive tables.';\n",
              "          element.innerHTML = '';\n",
              "          dataTable['output_type'] = 'display_data';\n",
              "          await google.colab.output.renderOutput(dataTable, element);\n",
              "          const docLink = document.createElement('div');\n",
              "          docLink.innerHTML = docLinkHtml;\n",
              "          element.appendChild(docLink);\n",
              "        }\n",
              "      </script>\n",
              "    </div>\n",
              "  </div>\n",
              "  "
            ]
          },
          "metadata": {},
          "execution_count": 34
        }
      ],
      "source": [
        "dataRN.describe()"
      ]
    },
    {
      "cell_type": "code",
      "execution_count": null,
      "metadata": {
        "id": "4Accm9La8cIj",
        "colab": {
          "base_uri": "https://localhost:8080/"
        },
        "outputId": "3b0426d9-edc9-4d79-9560-098e53099b71"
      },
      "outputs": [
        {
          "output_type": "stream",
          "name": "stdout",
          "text": [
            "4762\n",
            "1191\n"
          ]
        }
      ],
      "source": [
        "# Splitting the dataset to train and test\n",
        "split_ratio = 0.8 # 80% training data, 20% test data,\n",
        "\n",
        "train_length = round(split_ratio * len(dataRN))\n",
        "test_length = round(len(dataRN) - train_length)\n",
        "\n",
        "print(train_length)\n",
        "print(test_length)"
      ]
    },
    {
      "cell_type": "code",
      "execution_count": null,
      "metadata": {
        "id": "h3esdEpRgyii",
        "colab": {
          "base_uri": "https://localhost:8080/",
          "height": 423
        },
        "outputId": "4d6ad1bd-6758-4ddb-f67a-8d2aa75c5f43"
      },
      "outputs": [
        {
          "output_type": "execute_result",
          "data": {
            "text/plain": [
              "           Date  Price\n",
              "0    1997-01-07   3.82\n",
              "1    1997-01-08   3.80\n",
              "2    1997-01-09   3.61\n",
              "3    1997-01-10   3.92\n",
              "4    1997-01-13   4.00\n",
              "...         ...    ...\n",
              "4757 2015-12-28   2.11\n",
              "4758 2015-12-29   2.39\n",
              "4759 2015-12-30   2.28\n",
              "4760 2015-12-31   2.28\n",
              "4761 2016-01-01   2.28\n",
              "\n",
              "[4762 rows x 2 columns]"
            ],
            "text/html": [
              "\n",
              "  <div id=\"df-4abed993-857a-4e62-a1a3-09cec512795e\">\n",
              "    <div class=\"colab-df-container\">\n",
              "      <div>\n",
              "<style scoped>\n",
              "    .dataframe tbody tr th:only-of-type {\n",
              "        vertical-align: middle;\n",
              "    }\n",
              "\n",
              "    .dataframe tbody tr th {\n",
              "        vertical-align: top;\n",
              "    }\n",
              "\n",
              "    .dataframe thead th {\n",
              "        text-align: right;\n",
              "    }\n",
              "</style>\n",
              "<table border=\"1\" class=\"dataframe\">\n",
              "  <thead>\n",
              "    <tr style=\"text-align: right;\">\n",
              "      <th></th>\n",
              "      <th>Date</th>\n",
              "      <th>Price</th>\n",
              "    </tr>\n",
              "  </thead>\n",
              "  <tbody>\n",
              "    <tr>\n",
              "      <th>0</th>\n",
              "      <td>1997-01-07</td>\n",
              "      <td>3.82</td>\n",
              "    </tr>\n",
              "    <tr>\n",
              "      <th>1</th>\n",
              "      <td>1997-01-08</td>\n",
              "      <td>3.80</td>\n",
              "    </tr>\n",
              "    <tr>\n",
              "      <th>2</th>\n",
              "      <td>1997-01-09</td>\n",
              "      <td>3.61</td>\n",
              "    </tr>\n",
              "    <tr>\n",
              "      <th>3</th>\n",
              "      <td>1997-01-10</td>\n",
              "      <td>3.92</td>\n",
              "    </tr>\n",
              "    <tr>\n",
              "      <th>4</th>\n",
              "      <td>1997-01-13</td>\n",
              "      <td>4.00</td>\n",
              "    </tr>\n",
              "    <tr>\n",
              "      <th>...</th>\n",
              "      <td>...</td>\n",
              "      <td>...</td>\n",
              "    </tr>\n",
              "    <tr>\n",
              "      <th>4757</th>\n",
              "      <td>2015-12-28</td>\n",
              "      <td>2.11</td>\n",
              "    </tr>\n",
              "    <tr>\n",
              "      <th>4758</th>\n",
              "      <td>2015-12-29</td>\n",
              "      <td>2.39</td>\n",
              "    </tr>\n",
              "    <tr>\n",
              "      <th>4759</th>\n",
              "      <td>2015-12-30</td>\n",
              "      <td>2.28</td>\n",
              "    </tr>\n",
              "    <tr>\n",
              "      <th>4760</th>\n",
              "      <td>2015-12-31</td>\n",
              "      <td>2.28</td>\n",
              "    </tr>\n",
              "    <tr>\n",
              "      <th>4761</th>\n",
              "      <td>2016-01-01</td>\n",
              "      <td>2.28</td>\n",
              "    </tr>\n",
              "  </tbody>\n",
              "</table>\n",
              "<p>4762 rows × 2 columns</p>\n",
              "</div>\n",
              "      <button class=\"colab-df-convert\" onclick=\"convertToInteractive('df-4abed993-857a-4e62-a1a3-09cec512795e')\"\n",
              "              title=\"Convert this dataframe to an interactive table.\"\n",
              "              style=\"display:none;\">\n",
              "        \n",
              "  <svg xmlns=\"http://www.w3.org/2000/svg\" height=\"24px\"viewBox=\"0 0 24 24\"\n",
              "       width=\"24px\">\n",
              "    <path d=\"M0 0h24v24H0V0z\" fill=\"none\"/>\n",
              "    <path d=\"M18.56 5.44l.94 2.06.94-2.06 2.06-.94-2.06-.94-.94-2.06-.94 2.06-2.06.94zm-11 1L8.5 8.5l.94-2.06 2.06-.94-2.06-.94L8.5 2.5l-.94 2.06-2.06.94zm10 10l.94 2.06.94-2.06 2.06-.94-2.06-.94-.94-2.06-.94 2.06-2.06.94z\"/><path d=\"M17.41 7.96l-1.37-1.37c-.4-.4-.92-.59-1.43-.59-.52 0-1.04.2-1.43.59L10.3 9.45l-7.72 7.72c-.78.78-.78 2.05 0 2.83L4 21.41c.39.39.9.59 1.41.59.51 0 1.02-.2 1.41-.59l7.78-7.78 2.81-2.81c.8-.78.8-2.07 0-2.86zM5.41 20L4 18.59l7.72-7.72 1.47 1.35L5.41 20z\"/>\n",
              "  </svg>\n",
              "      </button>\n",
              "      \n",
              "  <style>\n",
              "    .colab-df-container {\n",
              "      display:flex;\n",
              "      flex-wrap:wrap;\n",
              "      gap: 12px;\n",
              "    }\n",
              "\n",
              "    .colab-df-convert {\n",
              "      background-color: #E8F0FE;\n",
              "      border: none;\n",
              "      border-radius: 50%;\n",
              "      cursor: pointer;\n",
              "      display: none;\n",
              "      fill: #1967D2;\n",
              "      height: 32px;\n",
              "      padding: 0 0 0 0;\n",
              "      width: 32px;\n",
              "    }\n",
              "\n",
              "    .colab-df-convert:hover {\n",
              "      background-color: #E2EBFA;\n",
              "      box-shadow: 0px 1px 2px rgba(60, 64, 67, 0.3), 0px 1px 3px 1px rgba(60, 64, 67, 0.15);\n",
              "      fill: #174EA6;\n",
              "    }\n",
              "\n",
              "    [theme=dark] .colab-df-convert {\n",
              "      background-color: #3B4455;\n",
              "      fill: #D2E3FC;\n",
              "    }\n",
              "\n",
              "    [theme=dark] .colab-df-convert:hover {\n",
              "      background-color: #434B5C;\n",
              "      box-shadow: 0px 1px 3px 1px rgba(0, 0, 0, 0.15);\n",
              "      filter: drop-shadow(0px 1px 2px rgba(0, 0, 0, 0.3));\n",
              "      fill: #FFFFFF;\n",
              "    }\n",
              "  </style>\n",
              "\n",
              "      <script>\n",
              "        const buttonEl =\n",
              "          document.querySelector('#df-4abed993-857a-4e62-a1a3-09cec512795e button.colab-df-convert');\n",
              "        buttonEl.style.display =\n",
              "          google.colab.kernel.accessAllowed ? 'block' : 'none';\n",
              "\n",
              "        async function convertToInteractive(key) {\n",
              "          const element = document.querySelector('#df-4abed993-857a-4e62-a1a3-09cec512795e');\n",
              "          const dataTable =\n",
              "            await google.colab.kernel.invokeFunction('convertToInteractive',\n",
              "                                                     [key], {});\n",
              "          if (!dataTable) return;\n",
              "\n",
              "          const docLinkHtml = 'Like what you see? Visit the ' +\n",
              "            '<a target=\"_blank\" href=https://colab.research.google.com/notebooks/data_table.ipynb>data table notebook</a>'\n",
              "            + ' to learn more about interactive tables.';\n",
              "          element.innerHTML = '';\n",
              "          dataTable['output_type'] = 'display_data';\n",
              "          await google.colab.output.renderOutput(dataTable, element);\n",
              "          const docLink = document.createElement('div');\n",
              "          docLink.innerHTML = docLinkHtml;\n",
              "          element.appendChild(docLink);\n",
              "        }\n",
              "      </script>\n",
              "    </div>\n",
              "  </div>\n",
              "  "
            ]
          },
          "metadata": {},
          "execution_count": 36
        }
      ],
      "source": [
        "traindf = dataRN[:train_length].iloc[:,:] # picking the training samples\n",
        "traindf"
      ]
    },
    {
      "cell_type": "code",
      "execution_count": null,
      "metadata": {
        "id": "S7jH5KRJiDQV",
        "colab": {
          "base_uri": "https://localhost:8080/",
          "height": 527
        },
        "outputId": "11238e18-dc55-4e1d-ba41-b7da060f6616"
      },
      "outputs": [
        {
          "output_type": "stream",
          "name": "stderr",
          "text": [
            "<ipython-input-37-2dee267b1fbc>:2: SettingWithCopyWarning: \n",
            "A value is trying to be set on a copy of a slice from a DataFrame.\n",
            "Try using .loc[row_indexer,col_indexer] = value instead\n",
            "\n",
            "See the caveats in the documentation: https://pandas.pydata.org/pandas-docs/stable/user_guide/indexing.html#returning-a-view-versus-a-copy\n",
            "  testdf['Date'] = pd.to_datetime(testdf['Date'])\n"
          ]
        },
        {
          "output_type": "execute_result",
          "data": {
            "text/plain": [
              "           Date  Price\n",
              "4762 2016-01-04   2.39\n",
              "4763 2016-01-05   2.33\n",
              "4764 2016-01-06   2.37\n",
              "4765 2016-01-07   2.35\n",
              "4766 2016-01-08   2.47\n",
              "...         ...    ...\n",
              "5948 2020-08-26   2.52\n",
              "5949 2020-08-27   2.52\n",
              "5950 2020-08-28   2.46\n",
              "5951 2020-08-31   2.30\n",
              "5952 2020-09-01   2.22\n",
              "\n",
              "[1191 rows x 2 columns]"
            ],
            "text/html": [
              "\n",
              "  <div id=\"df-14b04058-cc71-4744-99a7-7feec9e6e0d9\">\n",
              "    <div class=\"colab-df-container\">\n",
              "      <div>\n",
              "<style scoped>\n",
              "    .dataframe tbody tr th:only-of-type {\n",
              "        vertical-align: middle;\n",
              "    }\n",
              "\n",
              "    .dataframe tbody tr th {\n",
              "        vertical-align: top;\n",
              "    }\n",
              "\n",
              "    .dataframe thead th {\n",
              "        text-align: right;\n",
              "    }\n",
              "</style>\n",
              "<table border=\"1\" class=\"dataframe\">\n",
              "  <thead>\n",
              "    <tr style=\"text-align: right;\">\n",
              "      <th></th>\n",
              "      <th>Date</th>\n",
              "      <th>Price</th>\n",
              "    </tr>\n",
              "  </thead>\n",
              "  <tbody>\n",
              "    <tr>\n",
              "      <th>4762</th>\n",
              "      <td>2016-01-04</td>\n",
              "      <td>2.39</td>\n",
              "    </tr>\n",
              "    <tr>\n",
              "      <th>4763</th>\n",
              "      <td>2016-01-05</td>\n",
              "      <td>2.33</td>\n",
              "    </tr>\n",
              "    <tr>\n",
              "      <th>4764</th>\n",
              "      <td>2016-01-06</td>\n",
              "      <td>2.37</td>\n",
              "    </tr>\n",
              "    <tr>\n",
              "      <th>4765</th>\n",
              "      <td>2016-01-07</td>\n",
              "      <td>2.35</td>\n",
              "    </tr>\n",
              "    <tr>\n",
              "      <th>4766</th>\n",
              "      <td>2016-01-08</td>\n",
              "      <td>2.47</td>\n",
              "    </tr>\n",
              "    <tr>\n",
              "      <th>...</th>\n",
              "      <td>...</td>\n",
              "      <td>...</td>\n",
              "    </tr>\n",
              "    <tr>\n",
              "      <th>5948</th>\n",
              "      <td>2020-08-26</td>\n",
              "      <td>2.52</td>\n",
              "    </tr>\n",
              "    <tr>\n",
              "      <th>5949</th>\n",
              "      <td>2020-08-27</td>\n",
              "      <td>2.52</td>\n",
              "    </tr>\n",
              "    <tr>\n",
              "      <th>5950</th>\n",
              "      <td>2020-08-28</td>\n",
              "      <td>2.46</td>\n",
              "    </tr>\n",
              "    <tr>\n",
              "      <th>5951</th>\n",
              "      <td>2020-08-31</td>\n",
              "      <td>2.30</td>\n",
              "    </tr>\n",
              "    <tr>\n",
              "      <th>5952</th>\n",
              "      <td>2020-09-01</td>\n",
              "      <td>2.22</td>\n",
              "    </tr>\n",
              "  </tbody>\n",
              "</table>\n",
              "<p>1191 rows × 2 columns</p>\n",
              "</div>\n",
              "      <button class=\"colab-df-convert\" onclick=\"convertToInteractive('df-14b04058-cc71-4744-99a7-7feec9e6e0d9')\"\n",
              "              title=\"Convert this dataframe to an interactive table.\"\n",
              "              style=\"display:none;\">\n",
              "        \n",
              "  <svg xmlns=\"http://www.w3.org/2000/svg\" height=\"24px\"viewBox=\"0 0 24 24\"\n",
              "       width=\"24px\">\n",
              "    <path d=\"M0 0h24v24H0V0z\" fill=\"none\"/>\n",
              "    <path d=\"M18.56 5.44l.94 2.06.94-2.06 2.06-.94-2.06-.94-.94-2.06-.94 2.06-2.06.94zm-11 1L8.5 8.5l.94-2.06 2.06-.94-2.06-.94L8.5 2.5l-.94 2.06-2.06.94zm10 10l.94 2.06.94-2.06 2.06-.94-2.06-.94-.94-2.06-.94 2.06-2.06.94z\"/><path d=\"M17.41 7.96l-1.37-1.37c-.4-.4-.92-.59-1.43-.59-.52 0-1.04.2-1.43.59L10.3 9.45l-7.72 7.72c-.78.78-.78 2.05 0 2.83L4 21.41c.39.39.9.59 1.41.59.51 0 1.02-.2 1.41-.59l7.78-7.78 2.81-2.81c.8-.78.8-2.07 0-2.86zM5.41 20L4 18.59l7.72-7.72 1.47 1.35L5.41 20z\"/>\n",
              "  </svg>\n",
              "      </button>\n",
              "      \n",
              "  <style>\n",
              "    .colab-df-container {\n",
              "      display:flex;\n",
              "      flex-wrap:wrap;\n",
              "      gap: 12px;\n",
              "    }\n",
              "\n",
              "    .colab-df-convert {\n",
              "      background-color: #E8F0FE;\n",
              "      border: none;\n",
              "      border-radius: 50%;\n",
              "      cursor: pointer;\n",
              "      display: none;\n",
              "      fill: #1967D2;\n",
              "      height: 32px;\n",
              "      padding: 0 0 0 0;\n",
              "      width: 32px;\n",
              "    }\n",
              "\n",
              "    .colab-df-convert:hover {\n",
              "      background-color: #E2EBFA;\n",
              "      box-shadow: 0px 1px 2px rgba(60, 64, 67, 0.3), 0px 1px 3px 1px rgba(60, 64, 67, 0.15);\n",
              "      fill: #174EA6;\n",
              "    }\n",
              "\n",
              "    [theme=dark] .colab-df-convert {\n",
              "      background-color: #3B4455;\n",
              "      fill: #D2E3FC;\n",
              "    }\n",
              "\n",
              "    [theme=dark] .colab-df-convert:hover {\n",
              "      background-color: #434B5C;\n",
              "      box-shadow: 0px 1px 3px 1px rgba(0, 0, 0, 0.15);\n",
              "      filter: drop-shadow(0px 1px 2px rgba(0, 0, 0, 0.3));\n",
              "      fill: #FFFFFF;\n",
              "    }\n",
              "  </style>\n",
              "\n",
              "      <script>\n",
              "        const buttonEl =\n",
              "          document.querySelector('#df-14b04058-cc71-4744-99a7-7feec9e6e0d9 button.colab-df-convert');\n",
              "        buttonEl.style.display =\n",
              "          google.colab.kernel.accessAllowed ? 'block' : 'none';\n",
              "\n",
              "        async function convertToInteractive(key) {\n",
              "          const element = document.querySelector('#df-14b04058-cc71-4744-99a7-7feec9e6e0d9');\n",
              "          const dataTable =\n",
              "            await google.colab.kernel.invokeFunction('convertToInteractive',\n",
              "                                                     [key], {});\n",
              "          if (!dataTable) return;\n",
              "\n",
              "          const docLinkHtml = 'Like what you see? Visit the ' +\n",
              "            '<a target=\"_blank\" href=https://colab.research.google.com/notebooks/data_table.ipynb>data table notebook</a>'\n",
              "            + ' to learn more about interactive tables.';\n",
              "          element.innerHTML = '';\n",
              "          dataTable['output_type'] = 'display_data';\n",
              "          await google.colab.output.renderOutput(dataTable, element);\n",
              "          const docLink = document.createElement('div');\n",
              "          docLink.innerHTML = docLinkHtml;\n",
              "          element.appendChild(docLink);\n",
              "        }\n",
              "      </script>\n",
              "    </div>\n",
              "  </div>\n",
              "  "
            ]
          },
          "metadata": {},
          "execution_count": 37
        }
      ],
      "source": [
        "testdf = dataRN[train_length:train_length+test_length].iloc[:,:] # picking the validation samples\n",
        "testdf['Date'] = pd.to_datetime(testdf['Date'])\n",
        "testdf"
      ]
    },
    {
      "cell_type": "code",
      "execution_count": null,
      "metadata": {
        "id": "sbuH7rftMtDA",
        "colab": {
          "base_uri": "https://localhost:8080/"
        },
        "outputId": "4cc88e98-0f26-4b03-f2ee-48356bc22018"
      },
      "outputs": [
        {
          "output_type": "stream",
          "name": "stdout",
          "text": [
            "(4762, 2)\n",
            "(1191, 2)\n"
          ]
        }
      ],
      "source": [
        "print(traindf.shape)\n",
        "print(testdf.shape)"
      ]
    },
    {
      "cell_type": "markdown",
      "metadata": {
        "id": "BTw80sRyi5FA"
      },
      "source": [
        "Since We are taking a time series data, we would most likely required to make our prediction prices hence we would pick 'Price' column from our dataset to construct the training data for the model."
      ]
    },
    {
      "cell_type": "code",
      "execution_count": null,
      "metadata": {
        "id": "9fUDRoojixLu",
        "colab": {
          "base_uri": "https://localhost:8080/"
        },
        "outputId": "c008436a-9b6c-4646-accf-10f3f60f7594"
      },
      "outputs": [
        {
          "output_type": "execute_result",
          "data": {
            "text/plain": [
              "(4762, 1)"
            ]
          },
          "metadata": {},
          "execution_count": 39
        }
      ],
      "source": [
        "# Creating train dataset\n",
        "\n",
        "df_train = traindf['Price'].values\n",
        "df_train = np.reshape(df_train,(-1,1))\n",
        "df_train.shape"
      ]
    },
    {
      "cell_type": "code",
      "execution_count": null,
      "metadata": {
        "id": "d8sKrwgaS8CF",
        "colab": {
          "base_uri": "https://localhost:8080/"
        },
        "outputId": "26bc5d0f-0d43-4a27-9061-440777abf6f5"
      },
      "outputs": [
        {
          "output_type": "execute_result",
          "data": {
            "text/plain": [
              "(1191, 1)"
            ]
          },
          "metadata": {},
          "execution_count": 40
        }
      ],
      "source": [
        "# Creating test dataset\n",
        "\n",
        "df_test = testdf['Price'].values\n",
        "df_test = np.reshape(df_test,(-1,1))\n",
        "df_test.shape"
      ]
    },
    {
      "cell_type": "code",
      "execution_count": null,
      "metadata": {
        "id": "zuWEOHUaM52r",
        "colab": {
          "base_uri": "https://localhost:8080/"
        },
        "outputId": "38d6a8b4-eb9a-4eb2-a655-c30f2d3ce315"
      },
      "outputs": [
        {
          "output_type": "stream",
          "name": "stdout",
          "text": [
            "(4762, 1)\n",
            "----------------\n",
            "(1191, 1)\n"
          ]
        }
      ],
      "source": [
        "# Nomalizing the values to the 0-1 range to reduce the effect of variance\n",
        "# Min-Max Scaler\n",
        "\n",
        "scaler_train = MinMaxScaler()\n",
        "scaler_test = MinMaxScaler()\n",
        "df_train_scaled = scaler_train.fit_transform(df_train)\n",
        "df_test_scaled = scaler_test.fit_transform(df_test)\n",
        "\n",
        "print(df_train_scaled.shape)\n",
        "print('----------------')\n",
        "print(df_test_scaled.shape)"
      ]
    },
    {
      "cell_type": "markdown",
      "metadata": {
        "id": "ygyC2JepyF1d"
      },
      "source": [
        "Transforming our df_train to x_train and y_train\n",
        "\n",
        "So as this is a TIME SERIES dataset, we would try to consider data of a particular time frame to trian and then predict them on the following day\n",
        "\n",
        "So for example, we would take price from:\n",
        "-> day 0-11 and predict the price of 12th\n",
        "-> day 1-12 and predict the price of 13th\n",
        "-> day 2-13 and predict the price of 14th....\n",
        "\n",
        "Hence we prepare the dataset accordingly, Xtrain has all the 12-day prices and the Ytrain has all the forecast prices (13th days)."
      ]
    },
    {
      "cell_type": "code",
      "execution_count": null,
      "metadata": {
        "id": "bZm51MbOIAnt"
      },
      "outputs": [],
      "source": [
        "# look_back = number of features. No of days we look back to predict todays price. Use ACF and PACF to determine this\n",
        "# Steps performed to create a timeseries data\n",
        "\n",
        "def create_dataset(dataRN, look_back=1):\n",
        "    dataX, dataY = [], []\n",
        "    for i in range(look_back,len(dataRN)):\n",
        "      dataX.append(dataRN[i-look_back:i,0])\n",
        "      dataY.append(dataRN[i,0])\n",
        "    return np.array(dataX), np.array(dataY)"
      ]
    },
    {
      "cell_type": "code",
      "execution_count": null,
      "metadata": {
        "id": "h2p1RjzWH4vm"
      },
      "outputs": [],
      "source": [
        "look_back = 12\n",
        "x_train, y_train = create_dataset(df_train_scaled, look_back)\n",
        "x_test, y_test = create_dataset(df_test_scaled, look_back)"
      ]
    },
    {
      "cell_type": "code",
      "execution_count": null,
      "metadata": {
        "id": "N9muSX-bAmMn"
      },
      "outputs": [],
      "source": [
        "x_train = np.reshape(x_train, (x_train.shape[0], x_train.shape[1], 1))\n",
        "y_train = np.reshape(y_train, (y_train.shape[0], 1))\n",
        "\n",
        "x_test = np.reshape(x_test, (x_test.shape[0], x_test.shape[1], 1))\n",
        "y_test = np.reshape(y_test, (y_test.shape[0], 1))"
      ]
    },
    {
      "cell_type": "code",
      "execution_count": null,
      "metadata": {
        "id": "W9qvcxLaIloM",
        "colab": {
          "base_uri": "https://localhost:8080/"
        },
        "outputId": "40c306e2-7aee-4ac0-88f3-a118479f60fb"
      },
      "outputs": [
        {
          "output_type": "stream",
          "name": "stdout",
          "text": [
            "(4750, 12, 1)\n",
            "(4750, 1)\n"
          ]
        }
      ],
      "source": [
        "print(x_train.shape)\n",
        "print(y_train.shape)"
      ]
    },
    {
      "cell_type": "code",
      "execution_count": null,
      "metadata": {
        "id": "w3Fau459KWS5",
        "colab": {
          "base_uri": "https://localhost:8080/"
        },
        "outputId": "d06207bd-4eec-4ff3-ced9-6e6b0cc406f9"
      },
      "outputs": [
        {
          "output_type": "stream",
          "name": "stdout",
          "text": [
            "(1179, 12, 1)\n",
            "(1179, 1)\n"
          ]
        }
      ],
      "source": [
        "print(x_test.shape)\n",
        "print(y_test.shape)"
      ]
    },
    {
      "cell_type": "code",
      "execution_count": null,
      "metadata": {
        "id": "6xiHieJ4J3nF",
        "colab": {
          "base_uri": "https://localhost:8080/"
        },
        "outputId": "b5f66462-edee-4e1c-b150-99c516749f1d"
      },
      "outputs": [
        {
          "output_type": "stream",
          "name": "stdout",
          "text": [
            "[[0.1589214 ]\n",
            " [0.15777395]\n",
            " [0.14687321]\n",
            " [0.16465863]\n",
            " [0.16924842]\n",
            " [0.16982215]\n",
            " [0.18875502]\n",
            " [0.20998279]\n",
            " [0.16408491]\n",
            " [0.12679289]\n",
            " [0.11130235]\n",
            " [0.11474469]]\n",
            "[0.10958118]\n"
          ]
        }
      ],
      "source": [
        "# This is the first sample, data of 0-12 days as x_train[0], original price on 13th day as y_train[0]\n",
        "print(x_train[0])\n",
        "print(y_train[0])"
      ]
    },
    {
      "cell_type": "code",
      "execution_count": null,
      "metadata": {
        "id": "OT1mknNSCMg5"
      },
      "outputs": [],
      "source": [
        "from keras.models import Sequential\n",
        "from keras.layers import SimpleRNN, Dropout, Dense"
      ]
    },
    {
      "cell_type": "code",
      "execution_count": null,
      "metadata": {
        "id": "BamBgFRGJKya",
        "colab": {
          "base_uri": "https://localhost:8080/"
        },
        "outputId": "f94f431a-2aad-42be-d3cb-182c42207500"
      },
      "outputs": [
        {
          "output_type": "stream",
          "name": "stdout",
          "text": [
            "Epoch 1/100\n",
            "50/50 [==============================] - 6s 21ms/step - loss: 0.1821 - accuracy: 2.1053e-04\n",
            "Epoch 2/100\n",
            "50/50 [==============================] - 1s 15ms/step - loss: 0.0949 - accuracy: 2.1053e-04\n",
            "Epoch 3/100\n",
            "50/50 [==============================] - 1s 13ms/step - loss: 0.0464 - accuracy: 2.1053e-04\n",
            "Epoch 4/100\n",
            "50/50 [==============================] - 1s 13ms/step - loss: 0.0257 - accuracy: 2.1053e-04\n",
            "Epoch 5/100\n",
            "50/50 [==============================] - 1s 13ms/step - loss: 0.0179 - accuracy: 2.1053e-04\n",
            "Epoch 6/100\n",
            "50/50 [==============================] - 1s 12ms/step - loss: 0.0128 - accuracy: 2.1053e-04\n",
            "Epoch 7/100\n",
            "50/50 [==============================] - 1s 13ms/step - loss: 0.0100 - accuracy: 2.1053e-04\n",
            "Epoch 8/100\n",
            "50/50 [==============================] - 1s 13ms/step - loss: 0.0080 - accuracy: 2.1053e-04\n",
            "Epoch 9/100\n",
            "50/50 [==============================] - 1s 13ms/step - loss: 0.0067 - accuracy: 2.1053e-04\n",
            "Epoch 10/100\n",
            "50/50 [==============================] - 1s 13ms/step - loss: 0.0058 - accuracy: 2.1053e-04\n",
            "Epoch 11/100\n",
            "50/50 [==============================] - 1s 12ms/step - loss: 0.0048 - accuracy: 2.1053e-04\n",
            "Epoch 12/100\n",
            "50/50 [==============================] - 1s 13ms/step - loss: 0.0044 - accuracy: 2.1053e-04\n",
            "Epoch 13/100\n",
            "50/50 [==============================] - 1s 13ms/step - loss: 0.0039 - accuracy: 2.1053e-04\n",
            "Epoch 14/100\n",
            "50/50 [==============================] - 1s 13ms/step - loss: 0.0035 - accuracy: 2.1053e-04\n",
            "Epoch 15/100\n",
            "50/50 [==============================] - 1s 14ms/step - loss: 0.0030 - accuracy: 2.1053e-04\n",
            "Epoch 16/100\n",
            "50/50 [==============================] - 1s 13ms/step - loss: 0.0030 - accuracy: 2.1053e-04\n",
            "Epoch 17/100\n",
            "50/50 [==============================] - 1s 16ms/step - loss: 0.0027 - accuracy: 2.1053e-04\n",
            "Epoch 18/100\n",
            "50/50 [==============================] - 1s 21ms/step - loss: 0.0024 - accuracy: 2.1053e-04\n",
            "Epoch 19/100\n",
            "50/50 [==============================] - 1s 22ms/step - loss: 0.0025 - accuracy: 2.1053e-04\n",
            "Epoch 20/100\n",
            "50/50 [==============================] - 1s 21ms/step - loss: 0.0022 - accuracy: 2.1053e-04\n",
            "Epoch 21/100\n",
            "50/50 [==============================] - 1s 21ms/step - loss: 0.0022 - accuracy: 2.1053e-04\n",
            "Epoch 22/100\n",
            "50/50 [==============================] - 1s 12ms/step - loss: 0.0021 - accuracy: 2.1053e-04\n",
            "Epoch 23/100\n",
            "50/50 [==============================] - 1s 13ms/step - loss: 0.0019 - accuracy: 2.1053e-04\n",
            "Epoch 24/100\n",
            "50/50 [==============================] - 1s 12ms/step - loss: 0.0019 - accuracy: 2.1053e-04\n",
            "Epoch 25/100\n",
            "50/50 [==============================] - 1s 12ms/step - loss: 0.0018 - accuracy: 2.1053e-04\n",
            "Epoch 26/100\n",
            "50/50 [==============================] - 1s 13ms/step - loss: 0.0018 - accuracy: 2.1053e-04\n",
            "Epoch 27/100\n",
            "50/50 [==============================] - 1s 13ms/step - loss: 0.0016 - accuracy: 2.1053e-04\n",
            "Epoch 28/100\n",
            "50/50 [==============================] - 1s 13ms/step - loss: 0.0018 - accuracy: 2.1053e-04\n",
            "Epoch 29/100\n",
            "50/50 [==============================] - 1s 12ms/step - loss: 0.0016 - accuracy: 2.1053e-04\n",
            "Epoch 30/100\n",
            "50/50 [==============================] - 1s 13ms/step - loss: 0.0016 - accuracy: 2.1053e-04\n",
            "Epoch 31/100\n",
            "50/50 [==============================] - 1s 13ms/step - loss: 0.0014 - accuracy: 2.1053e-04\n",
            "Epoch 32/100\n",
            "50/50 [==============================] - 1s 13ms/step - loss: 0.0016 - accuracy: 2.1053e-04\n",
            "Epoch 33/100\n",
            "50/50 [==============================] - 1s 13ms/step - loss: 0.0013 - accuracy: 2.1053e-04\n",
            "Epoch 34/100\n",
            "50/50 [==============================] - 1s 13ms/step - loss: 0.0014 - accuracy: 2.1053e-04\n",
            "Epoch 35/100\n",
            "50/50 [==============================] - 1s 13ms/step - loss: 0.0013 - accuracy: 2.1053e-04\n",
            "Epoch 36/100\n",
            "50/50 [==============================] - 1s 12ms/step - loss: 0.0012 - accuracy: 2.1053e-04\n",
            "Epoch 37/100\n",
            "50/50 [==============================] - 1s 17ms/step - loss: 0.0012 - accuracy: 2.1053e-04\n",
            "Epoch 38/100\n",
            "50/50 [==============================] - 1s 21ms/step - loss: 0.0013 - accuracy: 2.1053e-04\n",
            "Epoch 39/100\n",
            "50/50 [==============================] - 1s 21ms/step - loss: 0.0012 - accuracy: 2.1053e-04\n",
            "Epoch 40/100\n",
            "50/50 [==============================] - 1s 20ms/step - loss: 0.0011 - accuracy: 2.1053e-04\n",
            "Epoch 41/100\n",
            "50/50 [==============================] - 1s 20ms/step - loss: 0.0011 - accuracy: 2.1053e-04\n",
            "Epoch 42/100\n",
            "50/50 [==============================] - 1s 15ms/step - loss: 0.0011 - accuracy: 2.1053e-04\n",
            "Epoch 43/100\n",
            "50/50 [==============================] - 1s 13ms/step - loss: 0.0011 - accuracy: 2.1053e-04\n",
            "Epoch 44/100\n",
            "50/50 [==============================] - 1s 13ms/step - loss: 0.0010 - accuracy: 2.1053e-04\n",
            "Epoch 45/100\n",
            "50/50 [==============================] - 1s 13ms/step - loss: 0.0011 - accuracy: 2.1053e-04\n",
            "Epoch 46/100\n",
            "50/50 [==============================] - 1s 13ms/step - loss: 0.0011 - accuracy: 2.1053e-04\n",
            "Epoch 47/100\n",
            "50/50 [==============================] - 1s 13ms/step - loss: 0.0011 - accuracy: 2.1053e-04\n",
            "Epoch 48/100\n",
            "50/50 [==============================] - 1s 13ms/step - loss: 0.0010 - accuracy: 2.1053e-04\n",
            "Epoch 49/100\n",
            "50/50 [==============================] - 1s 13ms/step - loss: 0.0010 - accuracy: 2.1053e-04\n",
            "Epoch 50/100\n",
            "50/50 [==============================] - 1s 13ms/step - loss: 9.9333e-04 - accuracy: 4.2105e-04\n",
            "Epoch 51/100\n",
            "50/50 [==============================] - 1s 13ms/step - loss: 9.9233e-04 - accuracy: 2.1053e-04\n",
            "Epoch 52/100\n",
            "50/50 [==============================] - 1s 12ms/step - loss: 9.2372e-04 - accuracy: 2.1053e-04\n",
            "Epoch 53/100\n",
            "50/50 [==============================] - 1s 12ms/step - loss: 9.3232e-04 - accuracy: 4.2105e-04\n",
            "Epoch 54/100\n",
            "50/50 [==============================] - 1s 13ms/step - loss: 9.5153e-04 - accuracy: 2.1053e-04\n",
            "Epoch 55/100\n",
            "50/50 [==============================] - 1s 13ms/step - loss: 8.2144e-04 - accuracy: 2.1053e-04\n",
            "Epoch 56/100\n",
            "50/50 [==============================] - 1s 13ms/step - loss: 9.1611e-04 - accuracy: 2.1053e-04\n",
            "Epoch 57/100\n",
            "50/50 [==============================] - 1s 15ms/step - loss: 9.0937e-04 - accuracy: 2.1053e-04\n",
            "Epoch 58/100\n",
            "50/50 [==============================] - 1s 22ms/step - loss: 9.3664e-04 - accuracy: 2.1053e-04\n",
            "Epoch 59/100\n",
            "50/50 [==============================] - 1s 21ms/step - loss: 9.4496e-04 - accuracy: 2.1053e-04\n",
            "Epoch 60/100\n",
            "50/50 [==============================] - 1s 22ms/step - loss: 9.0769e-04 - accuracy: 2.1053e-04\n",
            "Epoch 61/100\n",
            "50/50 [==============================] - 1s 21ms/step - loss: 8.5436e-04 - accuracy: 2.1053e-04\n",
            "Epoch 62/100\n",
            "50/50 [==============================] - 1s 13ms/step - loss: 8.5721e-04 - accuracy: 2.1053e-04\n",
            "Epoch 63/100\n",
            "50/50 [==============================] - 1s 13ms/step - loss: 8.4089e-04 - accuracy: 4.2105e-04\n",
            "Epoch 64/100\n",
            "50/50 [==============================] - 1s 13ms/step - loss: 8.3637e-04 - accuracy: 2.1053e-04\n",
            "Epoch 65/100\n",
            "50/50 [==============================] - 1s 13ms/step - loss: 8.5819e-04 - accuracy: 2.1053e-04\n",
            "Epoch 66/100\n",
            "50/50 [==============================] - 1s 14ms/step - loss: 8.2210e-04 - accuracy: 2.1053e-04\n",
            "Epoch 67/100\n",
            "50/50 [==============================] - 1s 12ms/step - loss: 9.0157e-04 - accuracy: 2.1053e-04\n",
            "Epoch 68/100\n",
            "50/50 [==============================] - 1s 13ms/step - loss: 7.9004e-04 - accuracy: 2.1053e-04\n",
            "Epoch 69/100\n",
            "50/50 [==============================] - 1s 13ms/step - loss: 8.4777e-04 - accuracy: 2.1053e-04\n",
            "Epoch 70/100\n",
            "50/50 [==============================] - 1s 12ms/step - loss: 7.9944e-04 - accuracy: 2.1053e-04\n",
            "Epoch 71/100\n",
            "50/50 [==============================] - 1s 12ms/step - loss: 8.0843e-04 - accuracy: 4.2105e-04\n",
            "Epoch 72/100\n",
            "50/50 [==============================] - 1s 13ms/step - loss: 8.4805e-04 - accuracy: 2.1053e-04\n",
            "Epoch 73/100\n",
            "50/50 [==============================] - 1s 13ms/step - loss: 8.0875e-04 - accuracy: 2.1053e-04\n",
            "Epoch 74/100\n",
            "50/50 [==============================] - 1s 12ms/step - loss: 6.9996e-04 - accuracy: 4.2105e-04\n",
            "Epoch 75/100\n",
            "50/50 [==============================] - 1s 13ms/step - loss: 7.5828e-04 - accuracy: 2.1053e-04\n",
            "Epoch 76/100\n",
            "50/50 [==============================] - 1s 13ms/step - loss: 7.7024e-04 - accuracy: 2.1053e-04\n",
            "Epoch 77/100\n",
            "50/50 [==============================] - 1s 17ms/step - loss: 7.8906e-04 - accuracy: 4.2105e-04\n",
            "Epoch 78/100\n",
            "50/50 [==============================] - 1s 21ms/step - loss: 7.4572e-04 - accuracy: 2.1053e-04\n",
            "Epoch 79/100\n",
            "50/50 [==============================] - 1s 21ms/step - loss: 7.5000e-04 - accuracy: 2.1053e-04\n",
            "Epoch 80/100\n",
            "50/50 [==============================] - 1s 21ms/step - loss: 7.4582e-04 - accuracy: 2.1053e-04\n",
            "Epoch 81/100\n",
            "50/50 [==============================] - 1s 21ms/step - loss: 7.5243e-04 - accuracy: 2.1053e-04\n",
            "Epoch 82/100\n",
            "50/50 [==============================] - 1s 14ms/step - loss: 7.1105e-04 - accuracy: 4.2105e-04\n",
            "Epoch 83/100\n",
            "50/50 [==============================] - 1s 13ms/step - loss: 7.3580e-04 - accuracy: 4.2105e-04\n",
            "Epoch 84/100\n",
            "50/50 [==============================] - 1s 12ms/step - loss: 6.8214e-04 - accuracy: 2.1053e-04\n",
            "Epoch 85/100\n",
            "50/50 [==============================] - 1s 13ms/step - loss: 7.2646e-04 - accuracy: 2.1053e-04\n",
            "Epoch 86/100\n",
            "50/50 [==============================] - 1s 13ms/step - loss: 6.8984e-04 - accuracy: 4.2105e-04\n",
            "Epoch 87/100\n",
            "50/50 [==============================] - 1s 13ms/step - loss: 7.0892e-04 - accuracy: 2.1053e-04\n",
            "Epoch 88/100\n",
            "50/50 [==============================] - 1s 13ms/step - loss: 6.9860e-04 - accuracy: 4.2105e-04\n",
            "Epoch 89/100\n",
            "50/50 [==============================] - 1s 12ms/step - loss: 6.8860e-04 - accuracy: 2.1053e-04\n",
            "Epoch 90/100\n",
            "50/50 [==============================] - 1s 13ms/step - loss: 6.5042e-04 - accuracy: 4.2105e-04\n",
            "Epoch 91/100\n",
            "50/50 [==============================] - 1s 13ms/step - loss: 7.3498e-04 - accuracy: 2.1053e-04\n",
            "Epoch 92/100\n",
            "50/50 [==============================] - 1s 12ms/step - loss: 7.0213e-04 - accuracy: 4.2105e-04\n",
            "Epoch 93/100\n",
            "50/50 [==============================] - 1s 13ms/step - loss: 6.6763e-04 - accuracy: 2.1053e-04\n",
            "Epoch 94/100\n",
            "50/50 [==============================] - 1s 13ms/step - loss: 6.4151e-04 - accuracy: 4.2105e-04\n",
            "Epoch 95/100\n",
            "50/50 [==============================] - 1s 13ms/step - loss: 6.9001e-04 - accuracy: 2.1053e-04\n",
            "Epoch 96/100\n",
            "50/50 [==============================] - 1s 12ms/step - loss: 7.0649e-04 - accuracy: 2.1053e-04\n",
            "Epoch 97/100\n",
            "50/50 [==============================] - 1s 14ms/step - loss: 6.7206e-04 - accuracy: 2.1053e-04\n",
            "Epoch 98/100\n",
            "50/50 [==============================] - 1s 21ms/step - loss: 7.2738e-04 - accuracy: 2.1053e-04\n",
            "Epoch 99/100\n",
            "50/50 [==============================] - 1s 21ms/step - loss: 6.8158e-04 - accuracy: 4.2105e-04\n",
            "Epoch 100/100\n",
            "50/50 [==============================] - 1s 21ms/step - loss: 6.6401e-04 - accuracy: 4.2105e-04\n"
          ]
        }
      ],
      "source": [
        "model = Sequential()\n",
        "# RNN layer 1\n",
        "model.add(SimpleRNN(12, input_shape=(look_back, 1), return_sequences=True))\n",
        "model.add(Dropout(0.1))\n",
        "#RNN layer 2\n",
        "model.add(SimpleRNN(12, return_sequences=True))\n",
        "model.add(Dropout(0.1))\n",
        "#RNN layer 3\n",
        "model.add(SimpleRNN(12, return_sequences=True))\n",
        "model.add(Dropout(0.1))\n",
        "#RNN layer 4\n",
        "model.add(SimpleRNN(12))\n",
        "model.add(Dropout(0.1))\n",
        "\n",
        "# Dense layer\n",
        "model.add(Dense(1))\n",
        "\n",
        "#Compiling the model\n",
        "model.compile(loss='mean_squared_error', optimizer='adam', metrics=['accuracy'])\n",
        "\n",
        "# Training the model\n",
        "training = model.fit(x_train, y_train, epochs=100, batch_size=95)"
      ]
    },
    {
      "cell_type": "code",
      "execution_count": null,
      "metadata": {
        "id": "UGUGVsnz2n2r",
        "colab": {
          "base_uri": "https://localhost:8080/",
          "height": 564
        },
        "outputId": "c684cdd3-27bb-4850-e9fc-4775280be4ac"
      },
      "outputs": [
        {
          "output_type": "display_data",
          "data": {
            "text/plain": [
              "<Figure size 1000x600 with 1 Axes>"
            ],
            "image/png": "[encoded data removed]"
          },
          "metadata": {}
        }
      ],
      "source": [
        "# Trends of Loss\n",
        "plt.figure(figsize =(10,6))\n",
        "plt.plot(training.history[\"loss\"])\n",
        "plt.xlabel(\"Epoch\")\n",
        "plt.ylabel(\"Loss values\")\n",
        "plt.title(\"Simple RNN model, Loss vs Epoch\")\n",
        "plt.show()\n",
        "\n",
        "## DOWNWARD TREND OF LOSS AND HAS SETTLED THERE"
      ]
    },
    {
      "cell_type": "code",
      "source": [
        "model = Sequential()\n",
        "# RNN layer 1\n",
        "model.add(SimpleRNN(12, input_shape=(look_back, 1), return_sequences=True))\n",
        "model.add(Dropout(0.1))\n",
        "#RNN layer 2\n",
        "model.add(SimpleRNN(12, return_sequences=True))\n",
        "model.add(Dropout(0.1))\n",
        "#RNN layer 3\n",
        "model.add(SimpleRNN(12, return_sequences=True))\n",
        "model.add(Dropout(0.1))\n",
        "#RNN layer 4\n",
        "model.add(SimpleRNN(12))\n",
        "model.add(Dropout(0.1))\n",
        "\n",
        "# Dense layer\n",
        "model.add(Dense(1))\n",
        "\n",
        "#Compiling the model\n",
        "model.compile(loss='mean_squared_error', optimizer='adam', metrics=['accuracy'])\n",
        "\n",
        "# Testing the model\n",
        "testing = model.fit(x_test, y_test, epochs=50, batch_size=95)"
      ],
      "metadata": {
        "colab": {
          "base_uri": "https://localhost:8080/"
        },
        "id": "9VrGy9XPpNNY",
        "outputId": "82defd6e-48f0-4802-bf27-cb85d38a862e"
      },
      "execution_count": null,
      "outputs": [
        {
          "output_type": "stream",
          "name": "stdout",
          "text": [
            "Epoch 1/50\n",
            "13/13 [==============================] - 4s 16ms/step - loss: 0.4112 - accuracy: 0.0000e+00\n",
            "Epoch 2/50\n",
            "13/13 [==============================] - 0s 14ms/step - loss: 0.2031 - accuracy: 0.0017\n",
            "Epoch 3/50\n",
            "13/13 [==============================] - 0s 15ms/step - loss: 0.1723 - accuracy: 0.0025\n",
            "Epoch 4/50\n",
            "13/13 [==============================] - 0s 16ms/step - loss: 0.1490 - accuracy: 8.4818e-04\n",
            "Epoch 5/50\n",
            "13/13 [==============================] - 0s 15ms/step - loss: 0.1280 - accuracy: 0.0017\n",
            "Epoch 6/50\n",
            "13/13 [==============================] - 0s 15ms/step - loss: 0.1235 - accuracy: 0.0017\n",
            "Epoch 7/50\n",
            "13/13 [==============================] - 0s 15ms/step - loss: 0.1110 - accuracy: 0.0025\n",
            "Epoch 8/50\n",
            "13/13 [==============================] - 0s 14ms/step - loss: 0.0978 - accuracy: 0.0017\n",
            "Epoch 9/50\n",
            "13/13 [==============================] - 0s 15ms/step - loss: 0.0878 - accuracy: 0.0017\n",
            "Epoch 10/50\n",
            "13/13 [==============================] - 0s 14ms/step - loss: 0.0821 - accuracy: 0.0017\n",
            "Epoch 11/50\n",
            "13/13 [==============================] - 0s 15ms/step - loss: 0.0726 - accuracy: 8.4818e-04\n",
            "Epoch 12/50\n",
            "13/13 [==============================] - 0s 15ms/step - loss: 0.0628 - accuracy: 8.4818e-04\n",
            "Epoch 13/50\n",
            "13/13 [==============================] - 0s 14ms/step - loss: 0.0645 - accuracy: 8.4818e-04\n",
            "Epoch 14/50\n",
            "13/13 [==============================] - 0s 14ms/step - loss: 0.0587 - accuracy: 8.4818e-04\n",
            "Epoch 15/50\n",
            "13/13 [==============================] - 0s 14ms/step - loss: 0.0485 - accuracy: 8.4818e-04\n",
            "Epoch 16/50\n",
            "13/13 [==============================] - 0s 16ms/step - loss: 0.0435 - accuracy: 8.4818e-04\n",
            "Epoch 17/50\n",
            "13/13 [==============================] - 0s 15ms/step - loss: 0.0417 - accuracy: 8.4818e-04\n",
            "Epoch 18/50\n",
            "13/13 [==============================] - 0s 16ms/step - loss: 0.0357 - accuracy: 0.0017\n",
            "Epoch 19/50\n",
            "13/13 [==============================] - 0s 14ms/step - loss: 0.0368 - accuracy: 0.0017\n",
            "Epoch 20/50\n",
            "13/13 [==============================] - 0s 14ms/step - loss: 0.0326 - accuracy: 8.4818e-04\n",
            "Epoch 21/50\n",
            "13/13 [==============================] - 0s 14ms/step - loss: 0.0324 - accuracy: 8.4818e-04\n",
            "Epoch 22/50\n",
            "13/13 [==============================] - 0s 14ms/step - loss: 0.0276 - accuracy: 0.0017\n",
            "Epoch 23/50\n",
            "13/13 [==============================] - 0s 14ms/step - loss: 0.0249 - accuracy: 8.4818e-04\n",
            "Epoch 24/50\n",
            "13/13 [==============================] - 0s 15ms/step - loss: 0.0233 - accuracy: 0.0017\n",
            "Epoch 25/50\n",
            "13/13 [==============================] - 0s 15ms/step - loss: 0.0216 - accuracy: 0.0017\n",
            "Epoch 26/50\n",
            "13/13 [==============================] - 0s 14ms/step - loss: 0.0201 - accuracy: 8.4818e-04\n",
            "Epoch 27/50\n",
            "13/13 [==============================] - 0s 16ms/step - loss: 0.0202 - accuracy: 0.0017\n",
            "Epoch 28/50\n",
            "13/13 [==============================] - 0s 14ms/step - loss: 0.0191 - accuracy: 8.4818e-04\n",
            "Epoch 29/50\n",
            "13/13 [==============================] - 0s 14ms/step - loss: 0.0169 - accuracy: 0.0017\n",
            "Epoch 30/50\n",
            "13/13 [==============================] - 0s 15ms/step - loss: 0.0177 - accuracy: 8.4818e-04\n",
            "Epoch 31/50\n",
            "13/13 [==============================] - 0s 15ms/step - loss: 0.0166 - accuracy: 8.4818e-04\n",
            "Epoch 32/50\n",
            "13/13 [==============================] - 0s 18ms/step - loss: 0.0167 - accuracy: 8.4818e-04\n",
            "Epoch 33/50\n",
            "13/13 [==============================] - 0s 22ms/step - loss: 0.0152 - accuracy: 8.4818e-04\n",
            "Epoch 34/50\n",
            "13/13 [==============================] - 0s 22ms/step - loss: 0.0144 - accuracy: 0.0017\n",
            "Epoch 35/50\n",
            "13/13 [==============================] - 0s 23ms/step - loss: 0.0136 - accuracy: 8.4818e-04\n",
            "Epoch 36/50\n",
            "13/13 [==============================] - 0s 22ms/step - loss: 0.0139 - accuracy: 0.0017\n",
            "Epoch 37/50\n",
            "13/13 [==============================] - 0s 22ms/step - loss: 0.0139 - accuracy: 8.4818e-04\n",
            "Epoch 38/50\n",
            "13/13 [==============================] - 0s 23ms/step - loss: 0.0120 - accuracy: 8.4818e-04\n",
            "Epoch 39/50\n",
            "13/13 [==============================] - 0s 23ms/step - loss: 0.0110 - accuracy: 0.0017\n",
            "Epoch 40/50\n",
            "13/13 [==============================] - 0s 24ms/step - loss: 0.0111 - accuracy: 8.4818e-04\n",
            "Epoch 41/50\n",
            "13/13 [==============================] - 0s 23ms/step - loss: 0.0092 - accuracy: 0.0017\n",
            "Epoch 42/50\n",
            "13/13 [==============================] - 0s 26ms/step - loss: 0.0106 - accuracy: 8.4818e-04\n",
            "Epoch 43/50\n",
            "13/13 [==============================] - 0s 25ms/step - loss: 0.0106 - accuracy: 8.4818e-04\n",
            "Epoch 44/50\n",
            "13/13 [==============================] - 0s 23ms/step - loss: 0.0102 - accuracy: 8.4818e-04\n",
            "Epoch 45/50\n",
            "13/13 [==============================] - 0s 23ms/step - loss: 0.0102 - accuracy: 8.4818e-04\n",
            "Epoch 46/50\n",
            "13/13 [==============================] - 0s 23ms/step - loss: 0.0093 - accuracy: 0.0017\n",
            "Epoch 47/50\n",
            "13/13 [==============================] - 0s 24ms/step - loss: 0.0083 - accuracy: 8.4818e-04\n",
            "Epoch 48/50\n",
            "13/13 [==============================] - 0s 15ms/step - loss: 0.0072 - accuracy: 0.0017\n",
            "Epoch 49/50\n",
            "13/13 [==============================] - 0s 15ms/step - loss: 0.0084 - accuracy: 8.4818e-04\n",
            "Epoch 50/50\n",
            "13/13 [==============================] - 0s 15ms/step - loss: 0.0077 - accuracy: 8.4818e-04\n"
          ]
        }
      ]
    },
    {
      "cell_type": "markdown",
      "source": [
        "**Note:** The problem is that your final model output has a linear activation, making the model a regression, not a classification problem. \"Accuracy\" is defined when the model classifies data correctly according to class, but \"accuracy\" is effectively not defined for a regression problem, due to its continuous property.\n"
      ],
      "metadata": {
        "id": "vgLMDCCrqntp"
      }
    },
    {
      "cell_type": "markdown",
      "metadata": {
        "id": "7zOGFh315VZf"
      },
      "source": [
        "MODELS PREDICTIONS USING RNN, LETS GET THE PREDICTIONS OF MODELS AND COMPARE IT WITH THE ORIGINAL VALUES"
      ]
    },
    {
      "cell_type": "code",
      "execution_count": null,
      "metadata": {
        "id": "3mcVX7FI48fy",
        "colab": {
          "base_uri": "https://localhost:8080/"
        },
        "outputId": "d2b198a2-bb06-4a41-b370-ecef4317ea58"
      },
      "outputs": [
        {
          "output_type": "stream",
          "name": "stdout",
          "text": [
            "149/149 [==============================] - 1s 5ms/step\n"
          ]
        },
        {
          "output_type": "execute_result",
          "data": {
            "text/plain": [
              "(4750, 1)"
            ]
          },
          "metadata": {},
          "execution_count": 52
        }
      ],
      "source": [
        "# Price Predictions\n",
        "preds = model.predict(x_train)\n",
        "# Scale them back to original scale from 0-1\n",
        "preds = scaler_train.inverse_transform(preds)\n",
        "preds.shape\n"
      ]
    },
    {
      "cell_type": "code",
      "execution_count": null,
      "metadata": {
        "id": "bSsfWUxDD1kQ",
        "colab": {
          "base_uri": "https://localhost:8080/"
        },
        "outputId": "115642d5-1221-463a-8acb-ee4129fe16a6"
      },
      "outputs": [
        {
          "output_type": "execute_result",
          "data": {
            "text/plain": [
              "(4750, 1)"
            ]
          },
          "metadata": {},
          "execution_count": 53
        }
      ],
      "source": [
        "#Original Values\n",
        "# Scale them back to original scale from 0-1\n",
        "y_train = scaler_train.inverse_transform(y_train)\n",
        "y_train.shape"
      ]
    },
    {
      "cell_type": "code",
      "execution_count": null,
      "metadata": {
        "id": "4DP48EkDEI8s",
        "colab": {
          "base_uri": "https://localhost:8080/",
          "height": 331
        },
        "outputId": "21cf6a33-11b8-41d1-f6fd-4790c5116f06"
      },
      "outputs": [
        {
          "output_type": "display_data",
          "data": {
            "text/plain": [
              "<Figure size 2500x600 with 1 Axes>"
            ],
            "image/png": "[encoded data removed]"
          },
          "metadata": {}
        }
      ],
      "source": [
        "# PLOTTING THE ORIGINAL VALUES AND PREDICTIONS ON TRAIN DATASET\n",
        "\n",
        "plt.figure(figsize =(25,6))\n",
        "#Predictions\n",
        "plt.plot(preds, color = \"blue\", label = \"Predictions\")\n",
        "# Original Values\n",
        "plt.plot(y_train, color = \"red\", label = \"Original\")\n",
        "plt.xlabel(\"Days\")\n",
        "plt.ylabel(\"Price Values\")\n",
        "plt.title(\"Simple RNN model, Predictions and Originals\")\n",
        "plt.legend()\n",
        "plt.show()"
      ]
    },
    {
      "cell_type": "markdown",
      "metadata": {
        "id": "axSjuYO8FFim"
      },
      "source": [
        "NOW LETS TEST OUR MODELS PERFORMANCE THE VALIDATION DATASET(X_TEST, Y_TEST)"
      ]
    },
    {
      "cell_type": "code",
      "execution_count": null,
      "metadata": {
        "id": "X-reb7qkFMxV",
        "colab": {
          "base_uri": "https://localhost:8080/"
        },
        "outputId": "7cd45f7c-308a-44d8-ea72-0c3d59c07748"
      },
      "outputs": [
        {
          "output_type": "stream",
          "name": "stdout",
          "text": [
            "37/37 [==============================] - 0s 6ms/step\n"
          ]
        },
        {
          "output_type": "execute_result",
          "data": {
            "text/plain": [
              "(1179, 1)"
            ]
          },
          "metadata": {},
          "execution_count": 55
        }
      ],
      "source": [
        "# Price Predictions on Test dataset\n",
        "test_preds = model.predict(x_test)\n",
        "# Scale them back to original scale from 0-1\n",
        "test_preds = scaler_test.inverse_transform(test_preds)\n",
        "test_preds.shape"
      ]
    },
    {
      "cell_type": "code",
      "execution_count": null,
      "metadata": {
        "id": "9Xj7n564FdoK",
        "colab": {
          "base_uri": "https://localhost:8080/"
        },
        "outputId": "b12a610e-0d9a-44eb-e828-6311f7d42a5e"
      },
      "outputs": [
        {
          "output_type": "execute_result",
          "data": {
            "text/plain": [
              "(1179, 1)"
            ]
          },
          "metadata": {},
          "execution_count": 56
        }
      ],
      "source": [
        "# Original Values on Test Dataset\n",
        "# Scale them back to original scale from 0-1\n",
        "y_test = scaler_test.inverse_transform(y_test)\n",
        "y_test.shape"
      ]
    },
    {
      "cell_type": "code",
      "execution_count": null,
      "metadata": {
        "id": "HLijEoRpFmUe",
        "colab": {
          "base_uri": "https://localhost:8080/",
          "height": 335
        },
        "outputId": "7621d2ac-b626-4d4f-d4da-9f348aa5fbc9"
      },
      "outputs": [
        {
          "output_type": "display_data",
          "data": {
            "text/plain": [
              "<Figure size 2500x600 with 1 Axes>"
            ],
            "image/png": "[encoded data removed]"
          },
          "metadata": {}
        }
      ],
      "source": [
        "# PLOTTING THE ORIGINAL VALUES AND PREDICTIONS ON THE TEST DATASET\n",
        "\n",
        "plt.figure(figsize =(25,6))\n",
        "#Predictions\n",
        "plt.plot(test_preds, color = \"blue\", label = \"Test data Predictions\")\n",
        "# Original Values\n",
        "plt.plot(y_test, color = \"red\", label = \"Test data Originals\")\n",
        "plt.xlabel(\"Days\")\n",
        "plt.ylabel(\"Price Values\")\n",
        "plt.title(\"Simple RNN model, Predictions and Originals on Test Data\")\n",
        "plt.legend()\n",
        "plt.show()"
      ]
    },
    {
      "cell_type": "markdown",
      "metadata": {
        "id": "-6FdDDWfF4gN"
      },
      "source": [
        "<h3>As we can see, the predctions(indicated in blue) is almost very same to the original values(indicated in red) in the above plot except for some very rare outlier cases. Indicating our model has also performed very well on the dataset it hasnt seen(test dataset)"
      ]
    },
    {
      "cell_type": "markdown",
      "metadata": {
        "id": "A2FZxvRoGhMa"
      },
      "source": [
        "<H3> LETS TEST FOR THE LAST POSSIBLE VALUE IN A TEST DATASET\n",
        "<p> i.e, we shall take the last 12 days price and predict 13th days price (which is not in the test dataset as well)."
      ]
    },
    {
      "cell_type": "code",
      "execution_count": null,
      "metadata": {
        "id": "S8_t_vIDGm9p",
        "colab": {
          "base_uri": "https://localhost:8080/"
        },
        "outputId": "ea6fe67c-9095-4f15-e52c-1d01d89f9b40"
      },
      "outputs": [
        {
          "output_type": "execute_result",
          "data": {
            "text/plain": [
              "array([2.32, 2.45, 2.43, 2.35, 2.39, 2.57, 2.54, 2.52, 2.52, 2.46, 2.3 ,\n",
              "       2.22])"
            ]
          },
          "metadata": {},
          "execution_count": 58
        }
      ],
      "source": [
        "# getting last 12 days data and converting to array\n",
        "input = oildata.iloc[-12:]['Price'].values  \n",
        "input"
      ]
    },
    {
      "cell_type": "code",
      "execution_count": null,
      "metadata": {
        "id": "IZKnHfoCIIsh",
        "colab": {
          "base_uri": "https://localhost:8080/"
        },
        "outputId": "63674e2b-27ab-4e81-a6d6-8e2956a94703"
      },
      "outputs": [
        {
          "output_type": "execute_result",
          "data": {
            "text/plain": [
              "array([[[0.28571429],\n",
              "        [0.65714286],\n",
              "        [0.6       ],\n",
              "        [0.37142857],\n",
              "        [0.48571429],\n",
              "        [1.        ],\n",
              "        [0.91428571],\n",
              "        [0.85714286],\n",
              "        [0.85714286],\n",
              "        [0.68571429],\n",
              "        [0.22857143],\n",
              "        [0.        ]]])"
            ]
          },
          "metadata": {},
          "execution_count": 59
        }
      ],
      "source": [
        "# converting to 2D array and scaling\n",
        "input = scaler_train.fit_transform(input.reshape(-1,1))    \n",
        " # reshaping : converting to 3D array\n",
        "input = np.reshape(input, (1,12,1))                   \n",
        "\n",
        "input"
      ]
    },
    {
      "cell_type": "code",
      "execution_count": null,
      "metadata": {
        "id": "cRUriLUzHfU6",
        "colab": {
          "base_uri": "https://localhost:8080/"
        },
        "outputId": "2a8696b5-4e06-483e-df4d-d051eb5b4f1d"
      },
      "outputs": [
        {
          "output_type": "stream",
          "name": "stdout",
          "text": [
            "1/1 [==============================] - 0s 35ms/step\n",
            "Simple RNN Last day's Price prediction  : 2.32\n"
          ]
        }
      ],
      "source": [
        "pred_RNN = model.predict(input)\n",
        "pred_RNN = scaler_train.inverse_transform(pred_RNN)\n",
        "\n",
        "print(\"Simple RNN Last day's Price prediction  :\", round(pred_RNN[0][0], 2))"
      ]
    },
    {
      "cell_type": "code",
      "execution_count": null,
      "metadata": {
        "id": "yf7Z9UrzQCOo"
      },
      "outputs": [],
      "source": []
    },
    {
      "cell_type": "markdown",
      "metadata": {
        "id": "s-N2Qzyllye5"
      },
      "source": [
        "# FOOD DATA "
      ]
    },
    {
      "cell_type": "code",
      "execution_count": null,
      "metadata": {
        "id": "DMSkiQFbanvb",
        "colab": {
          "base_uri": "https://localhost:8080/",
          "height": 423
        },
        "outputId": "6aae8880-ee58-4dbc-b934-decf70cb602a"
      },
      "outputs": [
        {
          "output_type": "execute_result",
          "data": {
            "text/plain": [
              "          Date   Price\n",
              "0     3/1/2008  594.00\n",
              "1     4/1/2008  907.00\n",
              "2     5/1/2008  901.80\n",
              "3     6/1/2008  757.00\n",
              "4     7/1/2008  731.75\n",
              "..         ...     ...\n",
              "176  11/1/2022  440.00\n",
              "177  12/1/2022  467.00\n",
              "178   1/1/2023  517.00\n",
              "179   2/1/2023  492.00\n",
              "180   3/1/2023  476.00\n",
              "\n",
              "[181 rows x 2 columns]"
            ],
            "text/html": [
              "\n",
              "  <div id=\"df-aa85e53f-5358-4267-b772-052e96556eca\">\n",
              "    <div class=\"colab-df-container\">\n",
              "      <div>\n",
              "<style scoped>\n",
              "    .dataframe tbody tr th:only-of-type {\n",
              "        vertical-align: middle;\n",
              "    }\n",
              "\n",
              "    .dataframe tbody tr th {\n",
              "        vertical-align: top;\n",
              "    }\n",
              "\n",
              "    .dataframe thead th {\n",
              "        text-align: right;\n",
              "    }\n",
              "</style>\n",
              "<table border=\"1\" class=\"dataframe\">\n",
              "  <thead>\n",
              "    <tr style=\"text-align: right;\">\n",
              "      <th></th>\n",
              "      <th>Date</th>\n",
              "      <th>Price</th>\n",
              "    </tr>\n",
              "  </thead>\n",
              "  <tbody>\n",
              "    <tr>\n",
              "      <th>0</th>\n",
              "      <td>3/1/2008</td>\n",
              "      <td>594.00</td>\n",
              "    </tr>\n",
              "    <tr>\n",
              "      <th>1</th>\n",
              "      <td>4/1/2008</td>\n",
              "      <td>907.00</td>\n",
              "    </tr>\n",
              "    <tr>\n",
              "      <th>2</th>\n",
              "      <td>5/1/2008</td>\n",
              "      <td>901.80</td>\n",
              "    </tr>\n",
              "    <tr>\n",
              "      <th>3</th>\n",
              "      <td>6/1/2008</td>\n",
              "      <td>757.00</td>\n",
              "    </tr>\n",
              "    <tr>\n",
              "      <th>4</th>\n",
              "      <td>7/1/2008</td>\n",
              "      <td>731.75</td>\n",
              "    </tr>\n",
              "    <tr>\n",
              "      <th>...</th>\n",
              "      <td>...</td>\n",
              "      <td>...</td>\n",
              "    </tr>\n",
              "    <tr>\n",
              "      <th>176</th>\n",
              "      <td>11/1/2022</td>\n",
              "      <td>440.00</td>\n",
              "    </tr>\n",
              "    <tr>\n",
              "      <th>177</th>\n",
              "      <td>12/1/2022</td>\n",
              "      <td>467.00</td>\n",
              "    </tr>\n",
              "    <tr>\n",
              "      <th>178</th>\n",
              "      <td>1/1/2023</td>\n",
              "      <td>517.00</td>\n",
              "    </tr>\n",
              "    <tr>\n",
              "      <th>179</th>\n",
              "      <td>2/1/2023</td>\n",
              "      <td>492.00</td>\n",
              "    </tr>\n",
              "    <tr>\n",
              "      <th>180</th>\n",
              "      <td>3/1/2023</td>\n",
              "      <td>476.00</td>\n",
              "    </tr>\n",
              "  </tbody>\n",
              "</table>\n",
              "<p>181 rows × 2 columns</p>\n",
              "</div>\n",
              "      <button class=\"colab-df-convert\" onclick=\"convertToInteractive('df-aa85e53f-5358-4267-b772-052e96556eca')\"\n",
              "              title=\"Convert this dataframe to an interactive table.\"\n",
              "              style=\"display:none;\">\n",
              "        \n",
              "  <svg xmlns=\"http://www.w3.org/2000/svg\" height=\"24px\"viewBox=\"0 0 24 24\"\n",
              "       width=\"24px\">\n",
              "    <path d=\"M0 0h24v24H0V0z\" fill=\"none\"/>\n",
              "    <path d=\"M18.56 5.44l.94 2.06.94-2.06 2.06-.94-2.06-.94-.94-2.06-.94 2.06-2.06.94zm-11 1L8.5 8.5l.94-2.06 2.06-.94-2.06-.94L8.5 2.5l-.94 2.06-2.06.94zm10 10l.94 2.06.94-2.06 2.06-.94-2.06-.94-.94-2.06-.94 2.06-2.06.94z\"/><path d=\"M17.41 7.96l-1.37-1.37c-.4-.4-.92-.59-1.43-.59-.52 0-1.04.2-1.43.59L10.3 9.45l-7.72 7.72c-.78.78-.78 2.05 0 2.83L4 21.41c.39.39.9.59 1.41.59.51 0 1.02-.2 1.41-.59l7.78-7.78 2.81-2.81c.8-.78.8-2.07 0-2.86zM5.41 20L4 18.59l7.72-7.72 1.47 1.35L5.41 20z\"/>\n",
              "  </svg>\n",
              "      </button>\n",
              "      \n",
              "  <style>\n",
              "    .colab-df-container {\n",
              "      display:flex;\n",
              "      flex-wrap:wrap;\n",
              "      gap: 12px;\n",
              "    }\n",
              "\n",
              "    .colab-df-convert {\n",
              "      background-color: #E8F0FE;\n",
              "      border: none;\n",
              "      border-radius: 50%;\n",
              "      cursor: pointer;\n",
              "      display: none;\n",
              "      fill: #1967D2;\n",
              "      height: 32px;\n",
              "      padding: 0 0 0 0;\n",
              "      width: 32px;\n",
              "    }\n",
              "\n",
              "    .colab-df-convert:hover {\n",
              "      background-color: #E2EBFA;\n",
              "      box-shadow: 0px 1px 2px rgba(60, 64, 67, 0.3), 0px 1px 3px 1px rgba(60, 64, 67, 0.15);\n",
              "      fill: #174EA6;\n",
              "    }\n",
              "\n",
              "    [theme=dark] .colab-df-convert {\n",
              "      background-color: #3B4455;\n",
              "      fill: #D2E3FC;\n",
              "    }\n",
              "\n",
              "    [theme=dark] .colab-df-convert:hover {\n",
              "      background-color: #434B5C;\n",
              "      box-shadow: 0px 1px 3px 1px rgba(0, 0, 0, 0.15);\n",
              "      filter: drop-shadow(0px 1px 2px rgba(0, 0, 0, 0.3));\n",
              "      fill: #FFFFFF;\n",
              "    }\n",
              "  </style>\n",
              "\n",
              "      <script>\n",
              "        const buttonEl =\n",
              "          document.querySelector('#df-aa85e53f-5358-4267-b772-052e96556eca button.colab-df-convert');\n",
              "        buttonEl.style.display =\n",
              "          google.colab.kernel.accessAllowed ? 'block' : 'none';\n",
              "\n",
              "        async function convertToInteractive(key) {\n",
              "          const element = document.querySelector('#df-aa85e53f-5358-4267-b772-052e96556eca');\n",
              "          const dataTable =\n",
              "            await google.colab.kernel.invokeFunction('convertToInteractive',\n",
              "                                                     [key], {});\n",
              "          if (!dataTable) return;\n",
              "\n",
              "          const docLinkHtml = 'Like what you see? Visit the ' +\n",
              "            '<a target=\"_blank\" href=https://colab.research.google.com/notebooks/data_table.ipynb>data table notebook</a>'\n",
              "            + ' to learn more about interactive tables.';\n",
              "          element.innerHTML = '';\n",
              "          dataTable['output_type'] = 'display_data';\n",
              "          await google.colab.output.renderOutput(dataTable, element);\n",
              "          const docLink = document.createElement('div');\n",
              "          docLink.innerHTML = docLinkHtml;\n",
              "          element.appendChild(docLink);\n",
              "        }\n",
              "      </script>\n",
              "    </div>\n",
              "  </div>\n",
              "  "
            ]
          },
          "metadata": {},
          "execution_count": 61
        }
      ],
      "source": [
        "fooddata= pd.read_csv(\"fooddata.csv\")\n",
        "fooddata"
      ]
    },
    {
      "cell_type": "code",
      "execution_count": null,
      "metadata": {
        "id": "OWjIn_yea-7_",
        "colab": {
          "base_uri": "https://localhost:8080/"
        },
        "outputId": "4e901e12-42c3-425a-d580-2b0f45e5b4a8"
      },
      "outputs": [
        {
          "output_type": "stream",
          "name": "stdout",
          "text": [
            "<class 'pandas.core.frame.DataFrame'>\n",
            "RangeIndex: 181 entries, 0 to 180\n",
            "Data columns (total 2 columns):\n",
            " #   Column  Non-Null Count  Dtype  \n",
            "---  ------  --------------  -----  \n",
            " 0   Date    181 non-null    object \n",
            " 1   Price   181 non-null    float64\n",
            "dtypes: float64(1), object(1)\n",
            "memory usage: 3.0+ KB\n"
          ]
        }
      ],
      "source": [
        "fooddata.info()"
      ]
    },
    {
      "cell_type": "code",
      "execution_count": null,
      "metadata": {
        "id": "lJv9b0fkbA-s",
        "colab": {
          "base_uri": "https://localhost:8080/"
        },
        "outputId": "0d9d96ed-516e-46cb-d5f7-831da3f1f3dc"
      },
      "outputs": [
        {
          "output_type": "stream",
          "name": "stdout",
          "text": [
            "Number of missing data : \n",
            "Date     0\n",
            "Price    0\n",
            "dtype: int64\n",
            "\n"
          ]
        }
      ],
      "source": [
        "print(f\"Number of missing data : \\n{fooddata.isnull().sum()}\\n\")"
      ]
    },
    {
      "cell_type": "code",
      "execution_count": null,
      "metadata": {
        "id": "TKcQ8PSFdDt6"
      },
      "outputs": [],
      "source": [
        "fooddata['Date'] = pd.to_datetime(fooddata['Date'])"
      ]
    },
    {
      "cell_type": "code",
      "execution_count": null,
      "metadata": {
        "id": "JSC5-90pQXTu",
        "colab": {
          "base_uri": "https://localhost:8080/",
          "height": 516
        },
        "outputId": "3c161111-2bfc-4564-ff51-34385ca0fa66"
      },
      "outputs": [
        {
          "output_type": "display_data",
          "data": {
            "text/plain": [
              "<Figure size 2000x800 with 1 Axes>"
            ],
            "image/png": "[encoded data removed]"
          },
          "metadata": {}
        }
      ],
      "source": [
        "import seaborn as sns\n",
        "plt.rcParams[\"figure.figsize\"] = (20,8)\n",
        "sns.lineplot(data=fooddata, x=\"Date\", y=\"Price\")\n",
        "plt.xticks( rotation = 45) # Rotates X-Axis Ticks by 45-degrees\n",
        "ax = plt.gca()\n",
        "\n",
        "plt.show()"
      ]
    },
    {
      "cell_type": "code",
      "execution_count": null,
      "metadata": {
        "id": "wSSuEhgLFmK9",
        "colab": {
          "base_uri": "https://localhost:8080/",
          "height": 285
        },
        "outputId": "292cd116-c4aa-4c41-9877-20873e79dbd5"
      },
      "outputs": [
        {
          "output_type": "execute_result",
          "data": {
            "text/plain": [
              "<seaborn.axisgrid.PairGrid at 0x7f3b8b0d88e0>"
            ]
          },
          "metadata": {},
          "execution_count": 66
        },
        {
          "output_type": "display_data",
          "data": {
            "text/plain": [
              "<Figure size 250x250 with 2 Axes>"
            ],
            "image/png": "[encoded data removed]"
          },
          "metadata": {}
        }
      ],
      "source": [
        "sns.pairplot(fooddata)"
      ]
    },
    {
      "cell_type": "code",
      "execution_count": null,
      "metadata": {
        "id": "sYvzdKHCliLG",
        "colab": {
          "base_uri": "https://localhost:8080/",
          "height": 300
        },
        "outputId": "6604b13c-2c76-4b8c-f36f-d859b2c01739"
      },
      "outputs": [
        {
          "output_type": "execute_result",
          "data": {
            "text/plain": [
              "            Price\n",
              "count  181.000000\n",
              "mean   476.953315\n",
              "std     89.449581\n",
              "min    357.000000\n",
              "25%    413.000000\n",
              "50%    451.000000\n",
              "75%    533.000000\n",
              "max    907.000000"
            ],
            "text/html": [
              "\n",
              "  <div id=\"df-a92d3602-04ec-4fbf-8451-3711d2789eef\">\n",
              "    <div class=\"colab-df-container\">\n",
              "      <div>\n",
              "<style scoped>\n",
              "    .dataframe tbody tr th:only-of-type {\n",
              "        vertical-align: middle;\n",
              "    }\n",
              "\n",
              "    .dataframe tbody tr th {\n",
              "        vertical-align: top;\n",
              "    }\n",
              "\n",
              "    .dataframe thead th {\n",
              "        text-align: right;\n",
              "    }\n",
              "</style>\n",
              "<table border=\"1\" class=\"dataframe\">\n",
              "  <thead>\n",
              "    <tr style=\"text-align: right;\">\n",
              "      <th></th>\n",
              "      <th>Price</th>\n",
              "    </tr>\n",
              "  </thead>\n",
              "  <tbody>\n",
              "    <tr>\n",
              "      <th>count</th>\n",
              "      <td>181.000000</td>\n",
              "    </tr>\n",
              "    <tr>\n",
              "      <th>mean</th>\n",
              "      <td>476.953315</td>\n",
              "    </tr>\n",
              "    <tr>\n",
              "      <th>std</th>\n",
              "      <td>89.449581</td>\n",
              "    </tr>\n",
              "    <tr>\n",
              "      <th>min</th>\n",
              "      <td>357.000000</td>\n",
              "    </tr>\n",
              "    <tr>\n",
              "      <th>25%</th>\n",
              "      <td>413.000000</td>\n",
              "    </tr>\n",
              "    <tr>\n",
              "      <th>50%</th>\n",
              "      <td>451.000000</td>\n",
              "    </tr>\n",
              "    <tr>\n",
              "      <th>75%</th>\n",
              "      <td>533.000000</td>\n",
              "    </tr>\n",
              "    <tr>\n",
              "      <th>max</th>\n",
              "      <td>907.000000</td>\n",
              "    </tr>\n",
              "  </tbody>\n",
              "</table>\n",
              "</div>\n",
              "      <button class=\"colab-df-convert\" onclick=\"convertToInteractive('df-a92d3602-04ec-4fbf-8451-3711d2789eef')\"\n",
              "              title=\"Convert this dataframe to an interactive table.\"\n",
              "              style=\"display:none;\">\n",
              "        \n",
              "  <svg xmlns=\"http://www.w3.org/2000/svg\" height=\"24px\"viewBox=\"0 0 24 24\"\n",
              "       width=\"24px\">\n",
              "    <path d=\"M0 0h24v24H0V0z\" fill=\"none\"/>\n",
              "    <path d=\"M18.56 5.44l.94 2.06.94-2.06 2.06-.94-2.06-.94-.94-2.06-.94 2.06-2.06.94zm-11 1L8.5 8.5l.94-2.06 2.06-.94-2.06-.94L8.5 2.5l-.94 2.06-2.06.94zm10 10l.94 2.06.94-2.06 2.06-.94-2.06-.94-.94-2.06-.94 2.06-2.06.94z\"/><path d=\"M17.41 7.96l-1.37-1.37c-.4-.4-.92-.59-1.43-.59-.52 0-1.04.2-1.43.59L10.3 9.45l-7.72 7.72c-.78.78-.78 2.05 0 2.83L4 21.41c.39.39.9.59 1.41.59.51 0 1.02-.2 1.41-.59l7.78-7.78 2.81-2.81c.8-.78.8-2.07 0-2.86zM5.41 20L4 18.59l7.72-7.72 1.47 1.35L5.41 20z\"/>\n",
              "  </svg>\n",
              "      </button>\n",
              "      \n",
              "  <style>\n",
              "    .colab-df-container {\n",
              "      display:flex;\n",
              "      flex-wrap:wrap;\n",
              "      gap: 12px;\n",
              "    }\n",
              "\n",
              "    .colab-df-convert {\n",
              "      background-color: #E8F0FE;\n",
              "      border: none;\n",
              "      border-radius: 50%;\n",
              "      cursor: pointer;\n",
              "      display: none;\n",
              "      fill: #1967D2;\n",
              "      height: 32px;\n",
              "      padding: 0 0 0 0;\n",
              "      width: 32px;\n",
              "    }\n",
              "\n",
              "    .colab-df-convert:hover {\n",
              "      background-color: #E2EBFA;\n",
              "      box-shadow: 0px 1px 2px rgba(60, 64, 67, 0.3), 0px 1px 3px 1px rgba(60, 64, 67, 0.15);\n",
              "      fill: #174EA6;\n",
              "    }\n",
              "\n",
              "    [theme=dark] .colab-df-convert {\n",
              "      background-color: #3B4455;\n",
              "      fill: #D2E3FC;\n",
              "    }\n",
              "\n",
              "    [theme=dark] .colab-df-convert:hover {\n",
              "      background-color: #434B5C;\n",
              "      box-shadow: 0px 1px 3px 1px rgba(0, 0, 0, 0.15);\n",
              "      filter: drop-shadow(0px 1px 2px rgba(0, 0, 0, 0.3));\n",
              "      fill: #FFFFFF;\n",
              "    }\n",
              "  </style>\n",
              "\n",
              "      <script>\n",
              "        const buttonEl =\n",
              "          document.querySelector('#df-a92d3602-04ec-4fbf-8451-3711d2789eef button.colab-df-convert');\n",
              "        buttonEl.style.display =\n",
              "          google.colab.kernel.accessAllowed ? 'block' : 'none';\n",
              "\n",
              "        async function convertToInteractive(key) {\n",
              "          const element = document.querySelector('#df-a92d3602-04ec-4fbf-8451-3711d2789eef');\n",
              "          const dataTable =\n",
              "            await google.colab.kernel.invokeFunction('convertToInteractive',\n",
              "                                                     [key], {});\n",
              "          if (!dataTable) return;\n",
              "\n",
              "          const docLinkHtml = 'Like what you see? Visit the ' +\n",
              "            '<a target=\"_blank\" href=https://colab.research.google.com/notebooks/data_table.ipynb>data table notebook</a>'\n",
              "            + ' to learn more about interactive tables.';\n",
              "          element.innerHTML = '';\n",
              "          dataTable['output_type'] = 'display_data';\n",
              "          await google.colab.output.renderOutput(dataTable, element);\n",
              "          const docLink = document.createElement('div');\n",
              "          docLink.innerHTML = docLinkHtml;\n",
              "          element.appendChild(docLink);\n",
              "        }\n",
              "      </script>\n",
              "    </div>\n",
              "  </div>\n",
              "  "
            ]
          },
          "metadata": {},
          "execution_count": 67
        }
      ],
      "source": [
        "fooddata.describe()"
      ]
    },
    {
      "cell_type": "code",
      "execution_count": null,
      "metadata": {
        "id": "f8nPBq2fmILy",
        "colab": {
          "base_uri": "https://localhost:8080/"
        },
        "outputId": "163b7941-1de0-46ab-8b9a-1002c67f13cd"
      },
      "outputs": [
        {
          "output_type": "stream",
          "name": "stdout",
          "text": [
            "145\n",
            "36\n"
          ]
        }
      ],
      "source": [
        "# Splitting the dataset to train and test\n",
        "split_ratio = 0.8 # 80% training data, 20% test data,\n",
        "\n",
        "train_length = round(split_ratio * len(fooddata))\n",
        "test_length = round(len(fooddata) - train_length)\n",
        "\n",
        "print(train_length)\n",
        "print(test_length)"
      ]
    },
    {
      "cell_type": "code",
      "execution_count": null,
      "metadata": {
        "id": "Hop03kUnmXAZ",
        "colab": {
          "base_uri": "https://localhost:8080/",
          "height": 423
        },
        "outputId": "77755584-36db-4ca1-c932-19bb9b30d0bd"
      },
      "outputs": [
        {
          "output_type": "execute_result",
          "data": {
            "text/plain": [
              "          Date   Price\n",
              "0   2008-03-01  594.00\n",
              "1   2008-04-01  907.00\n",
              "2   2008-05-01  901.80\n",
              "3   2008-06-01  757.00\n",
              "4   2008-07-01  731.75\n",
              "..         ...     ...\n",
              "140 2019-11-01  421.00\n",
              "141 2019-12-01  432.00\n",
              "142 2020-01-01  451.00\n",
              "143 2020-02-01  450.00\n",
              "144 2020-03-01  494.00\n",
              "\n",
              "[145 rows x 2 columns]"
            ],
            "text/html": [
              "\n",
              "  <div id=\"df-4c2814e0-7745-44bf-be06-39e7d594c68c\">\n",
              "    <div class=\"colab-df-container\">\n",
              "      <div>\n",
              "<style scoped>\n",
              "    .dataframe tbody tr th:only-of-type {\n",
              "        vertical-align: middle;\n",
              "    }\n",
              "\n",
              "    .dataframe tbody tr th {\n",
              "        vertical-align: top;\n",
              "    }\n",
              "\n",
              "    .dataframe thead th {\n",
              "        text-align: right;\n",
              "    }\n",
              "</style>\n",
              "<table border=\"1\" class=\"dataframe\">\n",
              "  <thead>\n",
              "    <tr style=\"text-align: right;\">\n",
              "      <th></th>\n",
              "      <th>Date</th>\n",
              "      <th>Price</th>\n",
              "    </tr>\n",
              "  </thead>\n",
              "  <tbody>\n",
              "    <tr>\n",
              "      <th>0</th>\n",
              "      <td>2008-03-01</td>\n",
              "      <td>594.00</td>\n",
              "    </tr>\n",
              "    <tr>\n",
              "      <th>1</th>\n",
              "      <td>2008-04-01</td>\n",
              "      <td>907.00</td>\n",
              "    </tr>\n",
              "    <tr>\n",
              "      <th>2</th>\n",
              "      <td>2008-05-01</td>\n",
              "      <td>901.80</td>\n",
              "    </tr>\n",
              "    <tr>\n",
              "      <th>3</th>\n",
              "      <td>2008-06-01</td>\n",
              "      <td>757.00</td>\n",
              "    </tr>\n",
              "    <tr>\n",
              "      <th>4</th>\n",
              "      <td>2008-07-01</td>\n",
              "      <td>731.75</td>\n",
              "    </tr>\n",
              "    <tr>\n",
              "      <th>...</th>\n",
              "      <td>...</td>\n",
              "      <td>...</td>\n",
              "    </tr>\n",
              "    <tr>\n",
              "      <th>140</th>\n",
              "      <td>2019-11-01</td>\n",
              "      <td>421.00</td>\n",
              "    </tr>\n",
              "    <tr>\n",
              "      <th>141</th>\n",
              "      <td>2019-12-01</td>\n",
              "      <td>432.00</td>\n",
              "    </tr>\n",
              "    <tr>\n",
              "      <th>142</th>\n",
              "      <td>2020-01-01</td>\n",
              "      <td>451.00</td>\n",
              "    </tr>\n",
              "    <tr>\n",
              "      <th>143</th>\n",
              "      <td>2020-02-01</td>\n",
              "      <td>450.00</td>\n",
              "    </tr>\n",
              "    <tr>\n",
              "      <th>144</th>\n",
              "      <td>2020-03-01</td>\n",
              "      <td>494.00</td>\n",
              "    </tr>\n",
              "  </tbody>\n",
              "</table>\n",
              "<p>145 rows × 2 columns</p>\n",
              "</div>\n",
              "      <button class=\"colab-df-convert\" onclick=\"convertToInteractive('df-4c2814e0-7745-44bf-be06-39e7d594c68c')\"\n",
              "              title=\"Convert this dataframe to an interactive table.\"\n",
              "              style=\"display:none;\">\n",
              "        \n",
              "  <svg xmlns=\"http://www.w3.org/2000/svg\" height=\"24px\"viewBox=\"0 0 24 24\"\n",
              "       width=\"24px\">\n",
              "    <path d=\"M0 0h24v24H0V0z\" fill=\"none\"/>\n",
              "    <path d=\"M18.56 5.44l.94 2.06.94-2.06 2.06-.94-2.06-.94-.94-2.06-.94 2.06-2.06.94zm-11 1L8.5 8.5l.94-2.06 2.06-.94-2.06-.94L8.5 2.5l-.94 2.06-2.06.94zm10 10l.94 2.06.94-2.06 2.06-.94-2.06-.94-.94-2.06-.94 2.06-2.06.94z\"/><path d=\"M17.41 7.96l-1.37-1.37c-.4-.4-.92-.59-1.43-.59-.52 0-1.04.2-1.43.59L10.3 9.45l-7.72 7.72c-.78.78-.78 2.05 0 2.83L4 21.41c.39.39.9.59 1.41.59.51 0 1.02-.2 1.41-.59l7.78-7.78 2.81-2.81c.8-.78.8-2.07 0-2.86zM5.41 20L4 18.59l7.72-7.72 1.47 1.35L5.41 20z\"/>\n",
              "  </svg>\n",
              "      </button>\n",
              "      \n",
              "  <style>\n",
              "    .colab-df-container {\n",
              "      display:flex;\n",
              "      flex-wrap:wrap;\n",
              "      gap: 12px;\n",
              "    }\n",
              "\n",
              "    .colab-df-convert {\n",
              "      background-color: #E8F0FE;\n",
              "      border: none;\n",
              "      border-radius: 50%;\n",
              "      cursor: pointer;\n",
              "      display: none;\n",
              "      fill: #1967D2;\n",
              "      height: 32px;\n",
              "      padding: 0 0 0 0;\n",
              "      width: 32px;\n",
              "    }\n",
              "\n",
              "    .colab-df-convert:hover {\n",
              "      background-color: #E2EBFA;\n",
              "      box-shadow: 0px 1px 2px rgba(60, 64, 67, 0.3), 0px 1px 3px 1px rgba(60, 64, 67, 0.15);\n",
              "      fill: #174EA6;\n",
              "    }\n",
              "\n",
              "    [theme=dark] .colab-df-convert {\n",
              "      background-color: #3B4455;\n",
              "      fill: #D2E3FC;\n",
              "    }\n",
              "\n",
              "    [theme=dark] .colab-df-convert:hover {\n",
              "      background-color: #434B5C;\n",
              "      box-shadow: 0px 1px 3px 1px rgba(0, 0, 0, 0.15);\n",
              "      filter: drop-shadow(0px 1px 2px rgba(0, 0, 0, 0.3));\n",
              "      fill: #FFFFFF;\n",
              "    }\n",
              "  </style>\n",
              "\n",
              "      <script>\n",
              "        const buttonEl =\n",
              "          document.querySelector('#df-4c2814e0-7745-44bf-be06-39e7d594c68c button.colab-df-convert');\n",
              "        buttonEl.style.display =\n",
              "          google.colab.kernel.accessAllowed ? 'block' : 'none';\n",
              "\n",
              "        async function convertToInteractive(key) {\n",
              "          const element = document.querySelector('#df-4c2814e0-7745-44bf-be06-39e7d594c68c');\n",
              "          const dataTable =\n",
              "            await google.colab.kernel.invokeFunction('convertToInteractive',\n",
              "                                                     [key], {});\n",
              "          if (!dataTable) return;\n",
              "\n",
              "          const docLinkHtml = 'Like what you see? Visit the ' +\n",
              "            '<a target=\"_blank\" href=https://colab.research.google.com/notebooks/data_table.ipynb>data table notebook</a>'\n",
              "            + ' to learn more about interactive tables.';\n",
              "          element.innerHTML = '';\n",
              "          dataTable['output_type'] = 'display_data';\n",
              "          await google.colab.output.renderOutput(dataTable, element);\n",
              "          const docLink = document.createElement('div');\n",
              "          docLink.innerHTML = docLinkHtml;\n",
              "          element.appendChild(docLink);\n",
              "        }\n",
              "      </script>\n",
              "    </div>\n",
              "  </div>\n",
              "  "
            ]
          },
          "metadata": {},
          "execution_count": 69
        }
      ],
      "source": [
        "traindff = fooddata[:train_length].iloc[:,:] # picking the training samples\n",
        "traindff"
      ]
    },
    {
      "cell_type": "code",
      "execution_count": null,
      "metadata": {
        "id": "1Mz9ifGYmkQy",
        "colab": {
          "base_uri": "https://localhost:8080/",
          "height": 1000
        },
        "outputId": "dc2180d7-cf84-4152-86d7-472b7009cbb0"
      },
      "outputs": [
        {
          "output_type": "stream",
          "name": "stderr",
          "text": [
            "<ipython-input-70-4f9245a454c1>:2: SettingWithCopyWarning: \n",
            "A value is trying to be set on a copy of a slice from a DataFrame.\n",
            "Try using .loc[row_indexer,col_indexer] = value instead\n",
            "\n",
            "See the caveats in the documentation: https://pandas.pydata.org/pandas-docs/stable/user_guide/indexing.html#returning-a-view-versus-a-copy\n",
            "  testdff['Date'] = pd.to_datetime(testdff['Date'])\n"
          ]
        },
        {
          "output_type": "execute_result",
          "data": {
            "text/plain": [
              "          Date  Price\n",
              "145 2020-04-01  564.0\n",
              "146 2020-05-01  510.0\n",
              "147 2020-06-01  520.0\n",
              "148 2020-07-01  480.0\n",
              "149 2020-08-01  505.0\n",
              "150 2020-09-01  507.0\n",
              "151 2020-10-01  471.0\n",
              "152 2020-11-01  489.0\n",
              "153 2020-12-01  520.0\n",
              "154 2021-01-01  545.0\n",
              "155 2021-02-01  557.0\n",
              "156 2021-03-01  525.0\n",
              "157 2021-04-01  495.0\n",
              "158 2021-05-01  493.0\n",
              "159 2021-06-01  466.0\n",
              "160 2021-07-01  414.0\n",
              "161 2021-08-01  403.0\n",
              "162 2021-09-01  400.0\n",
              "163 2021-10-01  401.0\n",
              "164 2021-11-01  400.0\n",
              "165 2021-12-01  400.0\n",
              "166 2022-01-01  427.0\n",
              "167 2022-02-01  427.0\n",
              "168 2022-03-01  422.0\n",
              "169 2022-04-01  431.0\n",
              "170 2022-05-01  464.0\n",
              "171 2022-06-01  444.0\n",
              "172 2022-07-01  418.0\n",
              "173 2022-08-01  431.0\n",
              "174 2022-09-01  439.0\n",
              "175 2022-10-01  431.0\n",
              "176 2022-11-01  440.0\n",
              "177 2022-12-01  467.0\n",
              "178 2023-01-01  517.0\n",
              "179 2023-02-01  492.0\n",
              "180 2023-03-01  476.0"
            ],
            "text/html": [
              "\n",
              "  <div id=\"df-e845ded7-e70e-4b10-8817-84e41411fd8d\">\n",
              "    <div class=\"colab-df-container\">\n",
              "      <div>\n",
              "<style scoped>\n",
              "    .dataframe tbody tr th:only-of-type {\n",
              "        vertical-align: middle;\n",
              "    }\n",
              "\n",
              "    .dataframe tbody tr th {\n",
              "        vertical-align: top;\n",
              "    }\n",
              "\n",
              "    .dataframe thead th {\n",
              "        text-align: right;\n",
              "    }\n",
              "</style>\n",
              "<table border=\"1\" class=\"dataframe\">\n",
              "  <thead>\n",
              "    <tr style=\"text-align: right;\">\n",
              "      <th></th>\n",
              "      <th>Date</th>\n",
              "      <th>Price</th>\n",
              "    </tr>\n",
              "  </thead>\n",
              "  <tbody>\n",
              "    <tr>\n",
              "      <th>145</th>\n",
              "      <td>2020-04-01</td>\n",
              "      <td>564.0</td>\n",
              "    </tr>\n",
              "    <tr>\n",
              "      <th>146</th>\n",
              "      <td>2020-05-01</td>\n",
              "      <td>510.0</td>\n",
              "    </tr>\n",
              "    <tr>\n",
              "      <th>147</th>\n",
              "      <td>2020-06-01</td>\n",
              "      <td>520.0</td>\n",
              "    </tr>\n",
              "    <tr>\n",
              "      <th>148</th>\n",
              "      <td>2020-07-01</td>\n",
              "      <td>480.0</td>\n",
              "    </tr>\n",
              "    <tr>\n",
              "      <th>149</th>\n",
              "      <td>2020-08-01</td>\n",
              "      <td>505.0</td>\n",
              "    </tr>\n",
              "    <tr>\n",
              "      <th>150</th>\n",
              "      <td>2020-09-01</td>\n",
              "      <td>507.0</td>\n",
              "    </tr>\n",
              "    <tr>\n",
              "      <th>151</th>\n",
              "      <td>2020-10-01</td>\n",
              "      <td>471.0</td>\n",
              "    </tr>\n",
              "    <tr>\n",
              "      <th>152</th>\n",
              "      <td>2020-11-01</td>\n",
              "      <td>489.0</td>\n",
              "    </tr>\n",
              "    <tr>\n",
              "      <th>153</th>\n",
              "      <td>2020-12-01</td>\n",
              "      <td>520.0</td>\n",
              "    </tr>\n",
              "    <tr>\n",
              "      <th>154</th>\n",
              "      <td>2021-01-01</td>\n",
              "      <td>545.0</td>\n",
              "    </tr>\n",
              "    <tr>\n",
              "      <th>155</th>\n",
              "      <td>2021-02-01</td>\n",
              "      <td>557.0</td>\n",
              "    </tr>\n",
              "    <tr>\n",
              "      <th>156</th>\n",
              "      <td>2021-03-01</td>\n",
              "      <td>525.0</td>\n",
              "    </tr>\n",
              "    <tr>\n",
              "      <th>157</th>\n",
              "      <td>2021-04-01</td>\n",
              "      <td>495.0</td>\n",
              "    </tr>\n",
              "    <tr>\n",
              "      <th>158</th>\n",
              "      <td>2021-05-01</td>\n",
              "      <td>493.0</td>\n",
              "    </tr>\n",
              "    <tr>\n",
              "      <th>159</th>\n",
              "      <td>2021-06-01</td>\n",
              "      <td>466.0</td>\n",
              "    </tr>\n",
              "    <tr>\n",
              "      <th>160</th>\n",
              "      <td>2021-07-01</td>\n",
              "      <td>414.0</td>\n",
              "    </tr>\n",
              "    <tr>\n",
              "      <th>161</th>\n",
              "      <td>2021-08-01</td>\n",
              "      <td>403.0</td>\n",
              "    </tr>\n",
              "    <tr>\n",
              "      <th>162</th>\n",
              "      <td>2021-09-01</td>\n",
              "      <td>400.0</td>\n",
              "    </tr>\n",
              "    <tr>\n",
              "      <th>163</th>\n",
              "      <td>2021-10-01</td>\n",
              "      <td>401.0</td>\n",
              "    </tr>\n",
              "    <tr>\n",
              "      <th>164</th>\n",
              "      <td>2021-11-01</td>\n",
              "      <td>400.0</td>\n",
              "    </tr>\n",
              "    <tr>\n",
              "      <th>165</th>\n",
              "      <td>2021-12-01</td>\n",
              "      <td>400.0</td>\n",
              "    </tr>\n",
              "    <tr>\n",
              "      <th>166</th>\n",
              "      <td>2022-01-01</td>\n",
              "      <td>427.0</td>\n",
              "    </tr>\n",
              "    <tr>\n",
              "      <th>167</th>\n",
              "      <td>2022-02-01</td>\n",
              "      <td>427.0</td>\n",
              "    </tr>\n",
              "    <tr>\n",
              "      <th>168</th>\n",
              "      <td>2022-03-01</td>\n",
              "      <td>422.0</td>\n",
              "    </tr>\n",
              "    <tr>\n",
              "      <th>169</th>\n",
              "      <td>2022-04-01</td>\n",
              "      <td>431.0</td>\n",
              "    </tr>\n",
              "    <tr>\n",
              "      <th>170</th>\n",
              "      <td>2022-05-01</td>\n",
              "      <td>464.0</td>\n",
              "    </tr>\n",
              "    <tr>\n",
              "      <th>171</th>\n",
              "      <td>2022-06-01</td>\n",
              "      <td>444.0</td>\n",
              "    </tr>\n",
              "    <tr>\n",
              "      <th>172</th>\n",
              "      <td>2022-07-01</td>\n",
              "      <td>418.0</td>\n",
              "    </tr>\n",
              "    <tr>\n",
              "      <th>173</th>\n",
              "      <td>2022-08-01</td>\n",
              "      <td>431.0</td>\n",
              "    </tr>\n",
              "    <tr>\n",
              "      <th>174</th>\n",
              "      <td>2022-09-01</td>\n",
              "      <td>439.0</td>\n",
              "    </tr>\n",
              "    <tr>\n",
              "      <th>175</th>\n",
              "      <td>2022-10-01</td>\n",
              "      <td>431.0</td>\n",
              "    </tr>\n",
              "    <tr>\n",
              "      <th>176</th>\n",
              "      <td>2022-11-01</td>\n",
              "      <td>440.0</td>\n",
              "    </tr>\n",
              "    <tr>\n",
              "      <th>177</th>\n",
              "      <td>2022-12-01</td>\n",
              "      <td>467.0</td>\n",
              "    </tr>\n",
              "    <tr>\n",
              "      <th>178</th>\n",
              "      <td>2023-01-01</td>\n",
              "      <td>517.0</td>\n",
              "    </tr>\n",
              "    <tr>\n",
              "      <th>179</th>\n",
              "      <td>2023-02-01</td>\n",
              "      <td>492.0</td>\n",
              "    </tr>\n",
              "    <tr>\n",
              "      <th>180</th>\n",
              "      <td>2023-03-01</td>\n",
              "      <td>476.0</td>\n",
              "    </tr>\n",
              "  </tbody>\n",
              "</table>\n",
              "</div>\n",
              "      <button class=\"colab-df-convert\" onclick=\"convertToInteractive('df-e845ded7-e70e-4b10-8817-84e41411fd8d')\"\n",
              "              title=\"Convert this dataframe to an interactive table.\"\n",
              "              style=\"display:none;\">\n",
              "        \n",
              "  <svg xmlns=\"http://www.w3.org/2000/svg\" height=\"24px\"viewBox=\"0 0 24 24\"\n",
              "       width=\"24px\">\n",
              "    <path d=\"M0 0h24v24H0V0z\" fill=\"none\"/>\n",
              "    <path d=\"M18.56 5.44l.94 2.06.94-2.06 2.06-.94-2.06-.94-.94-2.06-.94 2.06-2.06.94zm-11 1L8.5 8.5l.94-2.06 2.06-.94-2.06-.94L8.5 2.5l-.94 2.06-2.06.94zm10 10l.94 2.06.94-2.06 2.06-.94-2.06-.94-.94-2.06-.94 2.06-2.06.94z\"/><path d=\"M17.41 7.96l-1.37-1.37c-.4-.4-.92-.59-1.43-.59-.52 0-1.04.2-1.43.59L10.3 9.45l-7.72 7.72c-.78.78-.78 2.05 0 2.83L4 21.41c.39.39.9.59 1.41.59.51 0 1.02-.2 1.41-.59l7.78-7.78 2.81-2.81c.8-.78.8-2.07 0-2.86zM5.41 20L4 18.59l7.72-7.72 1.47 1.35L5.41 20z\"/>\n",
              "  </svg>\n",
              "      </button>\n",
              "      \n",
              "  <style>\n",
              "    .colab-df-container {\n",
              "      display:flex;\n",
              "      flex-wrap:wrap;\n",
              "      gap: 12px;\n",
              "    }\n",
              "\n",
              "    .colab-df-convert {\n",
              "      background-color: #E8F0FE;\n",
              "      border: none;\n",
              "      border-radius: 50%;\n",
              "      cursor: pointer;\n",
              "      display: none;\n",
              "      fill: #1967D2;\n",
              "      height: 32px;\n",
              "      padding: 0 0 0 0;\n",
              "      width: 32px;\n",
              "    }\n",
              "\n",
              "    .colab-df-convert:hover {\n",
              "      background-color: #E2EBFA;\n",
              "      box-shadow: 0px 1px 2px rgba(60, 64, 67, 0.3), 0px 1px 3px 1px rgba(60, 64, 67, 0.15);\n",
              "      fill: #174EA6;\n",
              "    }\n",
              "\n",
              "    [theme=dark] .colab-df-convert {\n",
              "      background-color: #3B4455;\n",
              "      fill: #D2E3FC;\n",
              "    }\n",
              "\n",
              "    [theme=dark] .colab-df-convert:hover {\n",
              "      background-color: #434B5C;\n",
              "      box-shadow: 0px 1px 3px 1px rgba(0, 0, 0, 0.15);\n",
              "      filter: drop-shadow(0px 1px 2px rgba(0, 0, 0, 0.3));\n",
              "      fill: #FFFFFF;\n",
              "    }\n",
              "  </style>\n",
              "\n",
              "      <script>\n",
              "        const buttonEl =\n",
              "          document.querySelector('#df-e845ded7-e70e-4b10-8817-84e41411fd8d button.colab-df-convert');\n",
              "        buttonEl.style.display =\n",
              "          google.colab.kernel.accessAllowed ? 'block' : 'none';\n",
              "\n",
              "        async function convertToInteractive(key) {\n",
              "          const element = document.querySelector('#df-e845ded7-e70e-4b10-8817-84e41411fd8d');\n",
              "          const dataTable =\n",
              "            await google.colab.kernel.invokeFunction('convertToInteractive',\n",
              "                                                     [key], {});\n",
              "          if (!dataTable) return;\n",
              "\n",
              "          const docLinkHtml = 'Like what you see? Visit the ' +\n",
              "            '<a target=\"_blank\" href=https://colab.research.google.com/notebooks/data_table.ipynb>data table notebook</a>'\n",
              "            + ' to learn more about interactive tables.';\n",
              "          element.innerHTML = '';\n",
              "          dataTable['output_type'] = 'display_data';\n",
              "          await google.colab.output.renderOutput(dataTable, element);\n",
              "          const docLink = document.createElement('div');\n",
              "          docLink.innerHTML = docLinkHtml;\n",
              "          element.appendChild(docLink);\n",
              "        }\n",
              "      </script>\n",
              "    </div>\n",
              "  </div>\n",
              "  "
            ]
          },
          "metadata": {},
          "execution_count": 70
        }
      ],
      "source": [
        "testdff = fooddata[train_length:train_length+test_length].iloc[:,:] # picking the validation samples\n",
        "testdff['Date'] = pd.to_datetime(testdff['Date'])\n",
        "testdff"
      ]
    },
    {
      "cell_type": "code",
      "execution_count": null,
      "metadata": {
        "id": "zlwt7x7emw1w",
        "colab": {
          "base_uri": "https://localhost:8080/"
        },
        "outputId": "f65f4525-847a-4976-b441-5dd03dafd715"
      },
      "outputs": [
        {
          "output_type": "stream",
          "name": "stdout",
          "text": [
            "(145, 2)\n",
            "(36, 2)\n"
          ]
        }
      ],
      "source": [
        "print(traindff.shape)\n",
        "print(testdff.shape)"
      ]
    },
    {
      "cell_type": "code",
      "execution_count": null,
      "metadata": {
        "id": "KBE09X-NogFn",
        "colab": {
          "base_uri": "https://localhost:8080/"
        },
        "outputId": "827bc997-eaa0-4624-d65f-91f22b8a6df5"
      },
      "outputs": [
        {
          "output_type": "execute_result",
          "data": {
            "text/plain": [
              "(145, 1)"
            ]
          },
          "metadata": {},
          "execution_count": 72
        }
      ],
      "source": [
        "dff_train = traindff['Price'].values\n",
        "dff_train = np.reshape(dff_train,(-1,1))\n",
        "dff_train.shape"
      ]
    },
    {
      "cell_type": "code",
      "execution_count": null,
      "metadata": {
        "id": "T6W7dVb1otrC",
        "colab": {
          "base_uri": "https://localhost:8080/"
        },
        "outputId": "54bc9ea6-7ca4-49e1-d00a-eec37fc237cb"
      },
      "outputs": [
        {
          "output_type": "execute_result",
          "data": {
            "text/plain": [
              "(36, 1)"
            ]
          },
          "metadata": {},
          "execution_count": 73
        }
      ],
      "source": [
        "# Creating test dataset\n",
        "\n",
        "dff_test = testdff['Price'].values\n",
        "dff_test = np.reshape(dff_test,(-1,1))\n",
        "dff_test.shape"
      ]
    },
    {
      "cell_type": "code",
      "execution_count": null,
      "metadata": {
        "id": "IFYriJy_pfvE"
      },
      "outputs": [],
      "source": [
        "def create_dataset(fooddata, look_back=1):\n",
        "    datafX, datafY = [], []\n",
        "    for i in range(look_back,len(fooddata)):\n",
        "      datafX.append(fooddata[i-look_back:i,0])\n",
        "      datafY.append(fooddata[i,0])\n",
        "    return np.array(datafX), np.array(datafY)"
      ]
    },
    {
      "cell_type": "code",
      "execution_count": null,
      "metadata": {
        "id": "7byglKniq_Bp",
        "colab": {
          "base_uri": "https://localhost:8080/"
        },
        "outputId": "3fce16ad-7e80-4b72-8328-84780ea2bf05"
      },
      "outputs": [
        {
          "output_type": "stream",
          "name": "stdout",
          "text": [
            "(145, 1)\n",
            "----------------\n",
            "(36, 1)\n"
          ]
        }
      ],
      "source": [
        "# Nomalizing the values to the 0-1 range to reduce the effect of variance\n",
        "# Min-Max Scaler\n",
        "\n",
        "scaler_train = MinMaxScaler()\n",
        "scaler_test = MinMaxScaler()\n",
        "dff_train_scaled = scaler_train.fit_transform(dff_train)\n",
        "dff_test_scaled = scaler_test.fit_transform(dff_test)\n",
        "\n",
        "print(dff_train_scaled.shape)\n",
        "print('----------------')\n",
        "print(dff_test_scaled.shape)"
      ]
    },
    {
      "cell_type": "code",
      "execution_count": null,
      "metadata": {
        "id": "XH0gizYbp3Sw"
      },
      "outputs": [],
      "source": [
        "look_backf = 12\n",
        "x_trainf, y_trainf = create_dataset(dff_train_scaled, look_backf)\n",
        "x_testf, y_testf= create_dataset(dff_test_scaled, look_backf)"
      ]
    },
    {
      "cell_type": "code",
      "execution_count": null,
      "metadata": {
        "id": "gSVp-VsZrUOX"
      },
      "outputs": [],
      "source": [
        "x_trainf = np.reshape(x_trainf, (x_trainf.shape[0], x_trainf.shape[1], 1))\n",
        "y_trainf = np.reshape(y_trainf, (y_trainf.shape[0], 1))\n",
        "\n",
        "x_testf = np.reshape(x_testf, (x_testf.shape[0], x_testf.shape[1], 1))\n",
        "y_testf = np.reshape(y_testf, (y_testf.shape[0], 1))"
      ]
    },
    {
      "cell_type": "code",
      "execution_count": null,
      "metadata": {
        "id": "G44DsZcDpAEH"
      },
      "outputs": [],
      "source": [
        "from keras.models import Sequential\n",
        "from keras.layers import SimpleRNN, Dropout, Dense"
      ]
    },
    {
      "cell_type": "code",
      "execution_count": null,
      "metadata": {
        "id": "xmPqFd7h7ycV",
        "colab": {
          "base_uri": "https://localhost:8080/"
        },
        "outputId": "79983be4-cd34-4673-aafe-2b380954c7ab"
      },
      "outputs": [
        {
          "output_type": "stream",
          "name": "stdout",
          "text": [
            "Epoch 1/100\n",
            "2/2 [==============================] - 4s 18ms/step - loss: 0.2831 - accuracy: 0.0075\n",
            "Epoch 2/100\n",
            "2/2 [==============================] - 0s 18ms/step - loss: 0.2910 - accuracy: 0.0075\n",
            "Epoch 3/100\n",
            "2/2 [==============================] - 0s 19ms/step - loss: 0.1785 - accuracy: 0.0075\n",
            "Epoch 4/100\n",
            "2/2 [==============================] - 0s 18ms/step - loss: 0.1748 - accuracy: 0.0075\n",
            "Epoch 5/100\n",
            "2/2 [==============================] - 0s 28ms/step - loss: 0.1427 - accuracy: 0.0075\n",
            "Epoch 6/100\n",
            "2/2 [==============================] - 0s 18ms/step - loss: 0.1464 - accuracy: 0.0075\n",
            "Epoch 7/100\n",
            "2/2 [==============================] - 0s 17ms/step - loss: 0.1378 - accuracy: 0.0075\n",
            "Epoch 8/100\n",
            "2/2 [==============================] - 0s 19ms/step - loss: 0.1501 - accuracy: 0.0075\n",
            "Epoch 9/100\n",
            "2/2 [==============================] - 0s 18ms/step - loss: 0.1658 - accuracy: 0.0075\n",
            "Epoch 10/100\n",
            "2/2 [==============================] - 0s 17ms/step - loss: 0.1748 - accuracy: 0.0075\n",
            "Epoch 11/100\n",
            "2/2 [==============================] - 0s 19ms/step - loss: 0.1424 - accuracy: 0.0075\n",
            "Epoch 12/100\n",
            "2/2 [==============================] - 0s 19ms/step - loss: 0.1384 - accuracy: 0.0075\n",
            "Epoch 13/100\n",
            "2/2 [==============================] - 0s 19ms/step - loss: 0.1467 - accuracy: 0.0075\n",
            "Epoch 14/100\n",
            "2/2 [==============================] - 0s 18ms/step - loss: 0.1392 - accuracy: 0.0075\n",
            "Epoch 15/100\n",
            "2/2 [==============================] - 0s 19ms/step - loss: 0.1710 - accuracy: 0.0075\n",
            "Epoch 16/100\n",
            "2/2 [==============================] - 0s 20ms/step - loss: 0.1072 - accuracy: 0.0000e+00\n",
            "Epoch 17/100\n",
            "2/2 [==============================] - 0s 17ms/step - loss: 0.1108 - accuracy: 0.0075\n",
            "Epoch 18/100\n",
            "2/2 [==============================] - 0s 18ms/step - loss: 0.0860 - accuracy: 0.0000e+00\n",
            "Epoch 19/100\n",
            "2/2 [==============================] - 0s 18ms/step - loss: 0.1179 - accuracy: 0.0075\n",
            "Epoch 20/100\n",
            "2/2 [==============================] - 0s 18ms/step - loss: 0.1127 - accuracy: 0.0075\n",
            "Epoch 21/100\n",
            "2/2 [==============================] - 0s 30ms/step - loss: 0.1020 - accuracy: 0.0075\n",
            "Epoch 22/100\n",
            "2/2 [==============================] - 0s 19ms/step - loss: 0.1196 - accuracy: 0.0075\n",
            "Epoch 23/100\n",
            "2/2 [==============================] - 0s 18ms/step - loss: 0.1105 - accuracy: 0.0075\n",
            "Epoch 24/100\n",
            "2/2 [==============================] - 0s 18ms/step - loss: 0.1117 - accuracy: 0.0075\n",
            "Epoch 25/100\n",
            "2/2 [==============================] - 0s 18ms/step - loss: 0.1040 - accuracy: 0.0075\n",
            "Epoch 26/100\n",
            "2/2 [==============================] - 0s 18ms/step - loss: 0.1015 - accuracy: 0.0075\n",
            "Epoch 27/100\n",
            "2/2 [==============================] - 0s 18ms/step - loss: 0.0986 - accuracy: 0.0075\n",
            "Epoch 28/100\n",
            "2/2 [==============================] - 0s 18ms/step - loss: 0.0897 - accuracy: 0.0075\n",
            "Epoch 29/100\n",
            "2/2 [==============================] - 0s 17ms/step - loss: 0.0913 - accuracy: 0.0075\n",
            "Epoch 30/100\n",
            "2/2 [==============================] - 0s 29ms/step - loss: 0.0982 - accuracy: 0.0075\n",
            "Epoch 31/100\n",
            "2/2 [==============================] - 0s 18ms/step - loss: 0.0909 - accuracy: 0.0075\n",
            "Epoch 32/100\n",
            "2/2 [==============================] - 0s 18ms/step - loss: 0.0806 - accuracy: 0.0075\n",
            "Epoch 33/100\n",
            "2/2 [==============================] - 0s 17ms/step - loss: 0.0647 - accuracy: 0.0075\n",
            "Epoch 34/100\n",
            "2/2 [==============================] - 0s 18ms/step - loss: 0.0876 - accuracy: 0.0075\n",
            "Epoch 35/100\n",
            "2/2 [==============================] - 0s 17ms/step - loss: 0.0932 - accuracy: 0.0075\n",
            "Epoch 36/100\n",
            "2/2 [==============================] - 0s 17ms/step - loss: 0.0688 - accuracy: 0.0075\n",
            "Epoch 37/100\n",
            "2/2 [==============================] - 0s 17ms/step - loss: 0.0868 - accuracy: 0.0075\n",
            "Epoch 38/100\n",
            "2/2 [==============================] - 0s 17ms/step - loss: 0.0919 - accuracy: 0.0075\n",
            "Epoch 39/100\n",
            "2/2 [==============================] - 0s 17ms/step - loss: 0.0653 - accuracy: 0.0075\n",
            "Epoch 40/100\n",
            "2/2 [==============================] - 0s 17ms/step - loss: 0.0865 - accuracy: 0.0000e+00\n",
            "Epoch 41/100\n",
            "2/2 [==============================] - 0s 17ms/step - loss: 0.0708 - accuracy: 0.0075\n",
            "Epoch 42/100\n",
            "2/2 [==============================] - 0s 16ms/step - loss: 0.0644 - accuracy: 0.0075\n",
            "Epoch 43/100\n",
            "2/2 [==============================] - 0s 17ms/step - loss: 0.0625 - accuracy: 0.0075\n",
            "Epoch 44/100\n",
            "2/2 [==============================] - 0s 17ms/step - loss: 0.0810 - accuracy: 0.0075\n",
            "Epoch 45/100\n",
            "2/2 [==============================] - 0s 21ms/step - loss: 0.0650 - accuracy: 0.0075\n",
            "Epoch 46/100\n",
            "2/2 [==============================] - 0s 23ms/step - loss: 0.0793 - accuracy: 0.0075\n",
            "Epoch 47/100\n",
            "2/2 [==============================] - 0s 17ms/step - loss: 0.0596 - accuracy: 0.0075\n",
            "Epoch 48/100\n",
            "2/2 [==============================] - 0s 17ms/step - loss: 0.0702 - accuracy: 0.0075\n",
            "Epoch 49/100\n",
            "2/2 [==============================] - 0s 18ms/step - loss: 0.0665 - accuracy: 0.0075\n",
            "Epoch 50/100\n",
            "2/2 [==============================] - 0s 18ms/step - loss: 0.0798 - accuracy: 0.0075\n",
            "Epoch 51/100\n",
            "2/2 [==============================] - 0s 22ms/step - loss: 0.0451 - accuracy: 0.0075\n",
            "Epoch 52/100\n",
            "2/2 [==============================] - 0s 19ms/step - loss: 0.0622 - accuracy: 0.0075\n",
            "Epoch 53/100\n",
            "2/2 [==============================] - 0s 17ms/step - loss: 0.0513 - accuracy: 0.0075\n",
            "Epoch 54/100\n",
            "2/2 [==============================] - 0s 18ms/step - loss: 0.0566 - accuracy: 0.0075\n",
            "Epoch 55/100\n",
            "2/2 [==============================] - 0s 19ms/step - loss: 0.0643 - accuracy: 0.0075\n",
            "Epoch 56/100\n",
            "2/2 [==============================] - 0s 19ms/step - loss: 0.0460 - accuracy: 0.0075\n",
            "Epoch 57/100\n",
            "2/2 [==============================] - 0s 19ms/step - loss: 0.0470 - accuracy: 0.0075\n",
            "Epoch 58/100\n",
            "2/2 [==============================] - 0s 17ms/step - loss: 0.0655 - accuracy: 0.0075\n",
            "Epoch 59/100\n",
            "2/2 [==============================] - 0s 17ms/step - loss: 0.0412 - accuracy: 0.0075\n",
            "Epoch 60/100\n",
            "2/2 [==============================] - 0s 17ms/step - loss: 0.0627 - accuracy: 0.0075\n",
            "Epoch 61/100\n",
            "2/2 [==============================] - 0s 21ms/step - loss: 0.0461 - accuracy: 0.0075\n",
            "Epoch 62/100\n",
            "2/2 [==============================] - 0s 21ms/step - loss: 0.0607 - accuracy: 0.0075\n",
            "Epoch 63/100\n",
            "2/2 [==============================] - 0s 22ms/step - loss: 0.0419 - accuracy: 0.0075\n",
            "Epoch 64/100\n",
            "2/2 [==============================] - 0s 18ms/step - loss: 0.0547 - accuracy: 0.0075\n",
            "Epoch 65/100\n",
            "2/2 [==============================] - 0s 18ms/step - loss: 0.0364 - accuracy: 0.0075\n",
            "Epoch 66/100\n",
            "2/2 [==============================] - 0s 19ms/step - loss: 0.0447 - accuracy: 0.0075\n",
            "Epoch 67/100\n",
            "2/2 [==============================] - 0s 18ms/step - loss: 0.0445 - accuracy: 0.0075\n",
            "Epoch 68/100\n",
            "2/2 [==============================] - 0s 18ms/step - loss: 0.0472 - accuracy: 0.0075\n",
            "Epoch 69/100\n",
            "2/2 [==============================] - 0s 18ms/step - loss: 0.0365 - accuracy: 0.0075\n",
            "Epoch 70/100\n",
            "2/2 [==============================] - 0s 18ms/step - loss: 0.0496 - accuracy: 0.0075\n",
            "Epoch 71/100\n",
            "2/2 [==============================] - 0s 18ms/step - loss: 0.0383 - accuracy: 0.0075\n",
            "Epoch 72/100\n",
            "2/2 [==============================] - 0s 18ms/step - loss: 0.0419 - accuracy: 0.0075\n",
            "Epoch 73/100\n",
            "2/2 [==============================] - 0s 18ms/step - loss: 0.0417 - accuracy: 0.0075\n",
            "Epoch 74/100\n",
            "2/2 [==============================] - 0s 21ms/step - loss: 0.0484 - accuracy: 0.0075\n",
            "Epoch 75/100\n",
            "2/2 [==============================] - 0s 19ms/step - loss: 0.0349 - accuracy: 0.0075\n",
            "Epoch 76/100\n",
            "2/2 [==============================] - 0s 18ms/step - loss: 0.0321 - accuracy: 0.0075\n",
            "Epoch 77/100\n",
            "2/2 [==============================] - 0s 19ms/step - loss: 0.0378 - accuracy: 0.0075\n",
            "Epoch 78/100\n",
            "2/2 [==============================] - 0s 19ms/step - loss: 0.0314 - accuracy: 0.0075\n",
            "Epoch 79/100\n",
            "2/2 [==============================] - 0s 18ms/step - loss: 0.0286 - accuracy: 0.0075\n",
            "Epoch 80/100\n",
            "2/2 [==============================] - 0s 19ms/step - loss: 0.0409 - accuracy: 0.0075\n",
            "Epoch 81/100\n",
            "2/2 [==============================] - 0s 19ms/step - loss: 0.0373 - accuracy: 0.0075\n",
            "Epoch 82/100\n",
            "2/2 [==============================] - 0s 18ms/step - loss: 0.0432 - accuracy: 0.0075\n",
            "Epoch 83/100\n",
            "2/2 [==============================] - 0s 19ms/step - loss: 0.0437 - accuracy: 0.0075\n",
            "Epoch 84/100\n",
            "2/2 [==============================] - 0s 18ms/step - loss: 0.0312 - accuracy: 0.0075\n",
            "Epoch 85/100\n",
            "2/2 [==============================] - 0s 19ms/step - loss: 0.0313 - accuracy: 0.0075\n",
            "Epoch 86/100\n",
            "2/2 [==============================] - 0s 19ms/step - loss: 0.0272 - accuracy: 0.0075\n",
            "Epoch 87/100\n",
            "2/2 [==============================] - 0s 18ms/step - loss: 0.0325 - accuracy: 0.0075\n",
            "Epoch 88/100\n",
            "2/2 [==============================] - 0s 19ms/step - loss: 0.0301 - accuracy: 0.0075\n",
            "Epoch 89/100\n",
            "2/2 [==============================] - 0s 19ms/step - loss: 0.0325 - accuracy: 0.0075\n",
            "Epoch 90/100\n",
            "2/2 [==============================] - 0s 18ms/step - loss: 0.0269 - accuracy: 0.0075\n",
            "Epoch 91/100\n",
            "2/2 [==============================] - 0s 20ms/step - loss: 0.0423 - accuracy: 0.0075\n",
            "Epoch 92/100\n",
            "2/2 [==============================] - 0s 21ms/step - loss: 0.0338 - accuracy: 0.0075\n",
            "Epoch 93/100\n",
            "2/2 [==============================] - 0s 19ms/step - loss: 0.0352 - accuracy: 0.0075\n",
            "Epoch 94/100\n",
            "2/2 [==============================] - 0s 19ms/step - loss: 0.0338 - accuracy: 0.0075\n",
            "Epoch 95/100\n",
            "2/2 [==============================] - 0s 24ms/step - loss: 0.0361 - accuracy: 0.0075\n",
            "Epoch 96/100\n",
            "2/2 [==============================] - 0s 19ms/step - loss: 0.0200 - accuracy: 0.0075\n",
            "Epoch 97/100\n",
            "2/2 [==============================] - 0s 18ms/step - loss: 0.0255 - accuracy: 0.0075\n",
            "Epoch 98/100\n",
            "2/2 [==============================] - 0s 18ms/step - loss: 0.0213 - accuracy: 0.0075\n",
            "Epoch 99/100\n",
            "2/2 [==============================] - 0s 18ms/step - loss: 0.0264 - accuracy: 0.0075\n",
            "Epoch 100/100\n",
            "2/2 [==============================] - 0s 19ms/step - loss: 0.0262 - accuracy: 0.0075\n"
          ]
        }
      ],
      "source": [
        "model = Sequential()\n",
        "# RNN layer 1\n",
        "model.add(SimpleRNN(12, input_shape=(look_backf, 1), return_sequences=True))\n",
        "model.add(Dropout(0.1))\n",
        "#RNN layer 2\n",
        "model.add(SimpleRNN(12, return_sequences=True))\n",
        "model.add(Dropout(0.1))\n",
        "#RNN layer 3\n",
        "model.add(SimpleRNN(12, return_sequences=True))\n",
        "model.add(Dropout(0.1))\n",
        "#RNN layer 4\n",
        "model.add(SimpleRNN(12))\n",
        "model.add(Dropout(0.1))\n",
        "\n",
        "# Dense layer\n",
        "model.add(Dense(1))\n",
        "\n",
        "#Compiling the model\n",
        "model.compile(loss='mean_squared_error', optimizer='adam', metrics=['accuracy'])\n",
        "\n",
        "# Training the model\n",
        "training = model.fit(x_trainf, y_trainf, epochs=100, batch_size=95)"
      ]
    },
    {
      "cell_type": "code",
      "source": [
        "# Trends of Loss\n",
        "plt.figure(figsize =(10,6))\n",
        "plt.plot(training.history[\"loss\"])\n",
        "plt.xlabel(\"Epoch\")\n",
        "plt.ylabel(\"Loss values\")\n",
        "plt.title(\"Simple RNN model, Loss vs Epoch\")\n",
        "plt.show()\n",
        "\n",
        "## DOWNWARD TREND OF LOSS AND HAS SETTLED THERE"
      ],
      "metadata": {
        "colab": {
          "base_uri": "https://localhost:8080/",
          "height": 564
        },
        "id": "FndPMJqfgysC",
        "outputId": "692574cb-a0ff-4e57-c128-27fe90a7b4fa"
      },
      "execution_count": null,
      "outputs": [
        {
          "output_type": "display_data",
          "data": {
            "text/plain": [
              "<Figure size 1000x600 with 1 Axes>"
            ],
            "image/png": "[encoded data removed]"
          },
          "metadata": {}
        }
      ]
    },
    {
      "cell_type": "code",
      "source": [
        "model = Sequential()\n",
        "# RNN layer 1\n",
        "model.add(SimpleRNN(12, input_shape=(look_backf, 1), return_sequences=True))\n",
        "model.add(Dropout(0.1))\n",
        "#RNN layer 2\n",
        "model.add(SimpleRNN(12, return_sequences=True))\n",
        "model.add(Dropout(0.1))\n",
        "#RNN layer 3\n",
        "model.add(SimpleRNN(12, return_sequences=True))\n",
        "model.add(Dropout(0.1))\n",
        "#RNN layer 4\n",
        "model.add(SimpleRNN(12))\n",
        "model.add(Dropout(0.1))\n",
        "\n",
        "# Dense layer\n",
        "model.add(Dense(1))\n",
        "\n",
        "#Compiling the model\n",
        "model.compile(loss='mean_squared_error', optimizer='adam', metrics=['accuracy'])\n",
        "\n",
        "# Testing the model\n",
        "testing = model.fit(x_testf, y_testf, epochs=100, batch_size=95)"
      ],
      "metadata": {
        "colab": {
          "base_uri": "https://localhost:8080/"
        },
        "id": "6A8CDIflozIA",
        "outputId": "f433332d-1d4b-49fa-ea02-f3c8dcb437e4"
      },
      "execution_count": null,
      "outputs": [
        {
          "output_type": "stream",
          "name": "stdout",
          "text": [
            "Epoch 1/100\n",
            "1/1 [==============================] - 5s 5s/step - loss: 0.5822 - accuracy: 0.0833\n",
            "Epoch 2/100\n",
            "1/1 [==============================] - 0s 20ms/step - loss: 0.3609 - accuracy: 0.0417\n",
            "Epoch 3/100\n",
            "1/1 [==============================] - 0s 20ms/step - loss: 0.4837 - accuracy: 0.0833\n",
            "Epoch 4/100\n",
            "1/1 [==============================] - 0s 20ms/step - loss: 0.4109 - accuracy: 0.0417\n",
            "Epoch 5/100\n",
            "1/1 [==============================] - 0s 19ms/step - loss: 0.1444 - accuracy: 0.0833\n",
            "Epoch 6/100\n",
            "1/1 [==============================] - 0s 22ms/step - loss: 0.2425 - accuracy: 0.1250\n",
            "Epoch 7/100\n",
            "1/1 [==============================] - 0s 20ms/step - loss: 0.2881 - accuracy: 0.0417\n",
            "Epoch 8/100\n",
            "1/1 [==============================] - 0s 23ms/step - loss: 0.2040 - accuracy: 0.0417\n",
            "Epoch 9/100\n",
            "1/1 [==============================] - 0s 21ms/step - loss: 0.2808 - accuracy: 0.1250\n",
            "Epoch 10/100\n",
            "1/1 [==============================] - 0s 22ms/step - loss: 0.2241 - accuracy: 0.1250\n",
            "Epoch 11/100\n",
            "1/1 [==============================] - 0s 21ms/step - loss: 0.2937 - accuracy: 0.1250\n",
            "Epoch 12/100\n",
            "1/1 [==============================] - 0s 23ms/step - loss: 0.2113 - accuracy: 0.1250\n",
            "Epoch 13/100\n",
            "1/1 [==============================] - 0s 21ms/step - loss: 0.1871 - accuracy: 0.1250\n",
            "Epoch 14/100\n",
            "1/1 [==============================] - 0s 22ms/step - loss: 0.3047 - accuracy: 0.1250\n",
            "Epoch 15/100\n",
            "1/1 [==============================] - 0s 22ms/step - loss: 0.2923 - accuracy: 0.1250\n",
            "Epoch 16/100\n",
            "1/1 [==============================] - 0s 21ms/step - loss: 0.2378 - accuracy: 0.0833\n",
            "Epoch 17/100\n",
            "1/1 [==============================] - 0s 24ms/step - loss: 0.2179 - accuracy: 0.0417\n",
            "Epoch 18/100\n",
            "1/1 [==============================] - 0s 22ms/step - loss: 0.2851 - accuracy: 0.0833\n",
            "Epoch 19/100\n",
            "1/1 [==============================] - 0s 26ms/step - loss: 0.3784 - accuracy: 0.0833\n",
            "Epoch 20/100\n",
            "1/1 [==============================] - 0s 20ms/step - loss: 0.1475 - accuracy: 0.0833\n",
            "Epoch 21/100\n",
            "1/1 [==============================] - 0s 20ms/step - loss: 0.2182 - accuracy: 0.0833\n",
            "Epoch 22/100\n",
            "1/1 [==============================] - 0s 21ms/step - loss: 0.4460 - accuracy: 0.0000e+00\n",
            "Epoch 23/100\n",
            "1/1 [==============================] - 0s 20ms/step - loss: 0.1786 - accuracy: 0.0833\n",
            "Epoch 24/100\n",
            "1/1 [==============================] - 0s 20ms/step - loss: 0.2101 - accuracy: 0.1250\n",
            "Epoch 25/100\n",
            "1/1 [==============================] - 0s 24ms/step - loss: 0.1458 - accuracy: 0.0833\n",
            "Epoch 26/100\n",
            "1/1 [==============================] - 0s 28ms/step - loss: 0.1329 - accuracy: 0.0833\n",
            "Epoch 27/100\n",
            "1/1 [==============================] - 0s 32ms/step - loss: 0.2110 - accuracy: 0.0833\n",
            "Epoch 28/100\n",
            "1/1 [==============================] - 0s 29ms/step - loss: 0.1938 - accuracy: 0.1250\n",
            "Epoch 29/100\n",
            "1/1 [==============================] - 0s 26ms/step - loss: 0.3702 - accuracy: 0.0833\n",
            "Epoch 30/100\n",
            "1/1 [==============================] - 0s 24ms/step - loss: 0.2639 - accuracy: 0.1250\n",
            "Epoch 31/100\n",
            "1/1 [==============================] - 0s 24ms/step - loss: 0.1869 - accuracy: 0.1250\n",
            "Epoch 32/100\n",
            "1/1 [==============================] - 0s 27ms/step - loss: 0.1269 - accuracy: 0.1250\n",
            "Epoch 33/100\n",
            "1/1 [==============================] - 0s 24ms/step - loss: 0.1496 - accuracy: 0.1250\n",
            "Epoch 34/100\n",
            "1/1 [==============================] - 0s 25ms/step - loss: 0.1989 - accuracy: 0.0000e+00\n",
            "Epoch 35/100\n",
            "1/1 [==============================] - 0s 24ms/step - loss: 0.1344 - accuracy: 0.1250\n",
            "Epoch 36/100\n",
            "1/1 [==============================] - 0s 23ms/step - loss: 0.1137 - accuracy: 0.0833\n",
            "Epoch 37/100\n",
            "1/1 [==============================] - 0s 32ms/step - loss: 0.3112 - accuracy: 0.0833\n",
            "Epoch 38/100\n",
            "1/1 [==============================] - 0s 22ms/step - loss: 0.1826 - accuracy: 0.0833\n",
            "Epoch 39/100\n",
            "1/1 [==============================] - 0s 26ms/step - loss: 0.1507 - accuracy: 0.1250\n",
            "Epoch 40/100\n",
            "1/1 [==============================] - 0s 23ms/step - loss: 0.3252 - accuracy: 0.0417\n",
            "Epoch 41/100\n",
            "1/1 [==============================] - 0s 24ms/step - loss: 0.1182 - accuracy: 0.1250\n",
            "Epoch 42/100\n",
            "1/1 [==============================] - 0s 23ms/step - loss: 0.1937 - accuracy: 0.0833\n",
            "Epoch 43/100\n",
            "1/1 [==============================] - 0s 22ms/step - loss: 0.1584 - accuracy: 0.0833\n",
            "Epoch 44/100\n",
            "1/1 [==============================] - 0s 20ms/step - loss: 0.1115 - accuracy: 0.0833\n",
            "Epoch 45/100\n",
            "1/1 [==============================] - 0s 29ms/step - loss: 0.2237 - accuracy: 0.1250\n",
            "Epoch 46/100\n",
            "1/1 [==============================] - 0s 23ms/step - loss: 0.1411 - accuracy: 0.1250\n",
            "Epoch 47/100\n",
            "1/1 [==============================] - 0s 31ms/step - loss: 0.2323 - accuracy: 0.1250\n",
            "Epoch 48/100\n",
            "1/1 [==============================] - 0s 23ms/step - loss: 0.2845 - accuracy: 0.1250\n",
            "Epoch 49/100\n",
            "1/1 [==============================] - 0s 21ms/step - loss: 0.2296 - accuracy: 0.0833\n",
            "Epoch 50/100\n",
            "1/1 [==============================] - 0s 23ms/step - loss: 0.2254 - accuracy: 0.0833\n",
            "Epoch 51/100\n",
            "1/1 [==============================] - 0s 23ms/step - loss: 0.1592 - accuracy: 0.1250\n",
            "Epoch 52/100\n",
            "1/1 [==============================] - 0s 22ms/step - loss: 0.0928 - accuracy: 0.1250\n",
            "Epoch 53/100\n",
            "1/1 [==============================] - 0s 21ms/step - loss: 0.2378 - accuracy: 0.0833\n",
            "Epoch 54/100\n",
            "1/1 [==============================] - 0s 24ms/step - loss: 0.2459 - accuracy: 0.0833\n",
            "Epoch 55/100\n",
            "1/1 [==============================] - 0s 22ms/step - loss: 0.1788 - accuracy: 0.0417\n",
            "Epoch 56/100\n",
            "1/1 [==============================] - 0s 21ms/step - loss: 0.1433 - accuracy: 0.1250\n",
            "Epoch 57/100\n",
            "1/1 [==============================] - 0s 22ms/step - loss: 0.1153 - accuracy: 0.1250\n",
            "Epoch 58/100\n",
            "1/1 [==============================] - 0s 26ms/step - loss: 0.1822 - accuracy: 0.0417\n",
            "Epoch 59/100\n",
            "1/1 [==============================] - 0s 23ms/step - loss: 0.1079 - accuracy: 0.1250\n",
            "Epoch 60/100\n",
            "1/1 [==============================] - 0s 25ms/step - loss: 0.1248 - accuracy: 0.1250\n",
            "Epoch 61/100\n",
            "1/1 [==============================] - 0s 35ms/step - loss: 0.1354 - accuracy: 0.0833\n",
            "Epoch 62/100\n",
            "1/1 [==============================] - 0s 24ms/step - loss: 0.1976 - accuracy: 0.0417\n",
            "Epoch 63/100\n",
            "1/1 [==============================] - 0s 26ms/step - loss: 0.2979 - accuracy: 0.0417\n",
            "Epoch 64/100\n",
            "1/1 [==============================] - 0s 21ms/step - loss: 0.3102 - accuracy: 0.0417\n",
            "Epoch 65/100\n",
            "1/1 [==============================] - 0s 22ms/step - loss: 0.1711 - accuracy: 0.0417\n",
            "Epoch 66/100\n",
            "1/1 [==============================] - 0s 22ms/step - loss: 0.0668 - accuracy: 0.1250\n",
            "Epoch 67/100\n",
            "1/1 [==============================] - 0s 22ms/step - loss: 0.1370 - accuracy: 0.0833\n",
            "Epoch 68/100\n",
            "1/1 [==============================] - 0s 21ms/step - loss: 0.1531 - accuracy: 0.0833\n",
            "Epoch 69/100\n",
            "1/1 [==============================] - 0s 21ms/step - loss: 0.1430 - accuracy: 0.0833\n",
            "Epoch 70/100\n",
            "1/1 [==============================] - 0s 22ms/step - loss: 0.1525 - accuracy: 0.1250\n",
            "Epoch 71/100\n",
            "1/1 [==============================] - 0s 22ms/step - loss: 0.1504 - accuracy: 0.1250\n",
            "Epoch 72/100\n",
            "1/1 [==============================] - 0s 23ms/step - loss: 0.2140 - accuracy: 0.0833\n",
            "Epoch 73/100\n",
            "1/1 [==============================] - 0s 26ms/step - loss: 0.2294 - accuracy: 0.0833\n",
            "Epoch 74/100\n",
            "1/1 [==============================] - 0s 24ms/step - loss: 0.0699 - accuracy: 0.1250\n",
            "Epoch 75/100\n",
            "1/1 [==============================] - 0s 22ms/step - loss: 0.0967 - accuracy: 0.1250\n",
            "Epoch 76/100\n",
            "1/1 [==============================] - 0s 23ms/step - loss: 0.1430 - accuracy: 0.0417\n",
            "Epoch 77/100\n",
            "1/1 [==============================] - 0s 25ms/step - loss: 0.1665 - accuracy: 0.1250\n",
            "Epoch 78/100\n",
            "1/1 [==============================] - 0s 34ms/step - loss: 0.1365 - accuracy: 0.0833\n",
            "Epoch 79/100\n",
            "1/1 [==============================] - 0s 26ms/step - loss: 0.1634 - accuracy: 0.0833\n",
            "Epoch 80/100\n",
            "1/1 [==============================] - 0s 21ms/step - loss: 0.1371 - accuracy: 0.1250\n",
            "Epoch 81/100\n",
            "1/1 [==============================] - 0s 24ms/step - loss: 0.1779 - accuracy: 0.0833\n",
            "Epoch 82/100\n",
            "1/1 [==============================] - 0s 23ms/step - loss: 0.1094 - accuracy: 0.1250\n",
            "Epoch 83/100\n",
            "1/1 [==============================] - 0s 23ms/step - loss: 0.2640 - accuracy: 0.1250\n",
            "Epoch 84/100\n",
            "1/1 [==============================] - 0s 21ms/step - loss: 0.1528 - accuracy: 0.0833\n",
            "Epoch 85/100\n",
            "1/1 [==============================] - 0s 21ms/step - loss: 0.1033 - accuracy: 0.1250\n",
            "Epoch 86/100\n",
            "1/1 [==============================] - 0s 27ms/step - loss: 0.1478 - accuracy: 0.0833\n",
            "Epoch 87/100\n",
            "1/1 [==============================] - 0s 22ms/step - loss: 0.0675 - accuracy: 0.1250\n",
            "Epoch 88/100\n",
            "1/1 [==============================] - 0s 21ms/step - loss: 0.0644 - accuracy: 0.1250\n",
            "Epoch 89/100\n",
            "1/1 [==============================] - 0s 22ms/step - loss: 0.1257 - accuracy: 0.0833\n",
            "Epoch 90/100\n",
            "1/1 [==============================] - 0s 23ms/step - loss: 0.1001 - accuracy: 0.1250\n",
            "Epoch 91/100\n",
            "1/1 [==============================] - 0s 21ms/step - loss: 0.2108 - accuracy: 0.1250\n",
            "Epoch 92/100\n",
            "1/1 [==============================] - 0s 21ms/step - loss: 0.1519 - accuracy: 0.0833\n",
            "Epoch 93/100\n",
            "1/1 [==============================] - 0s 20ms/step - loss: 0.1562 - accuracy: 0.1250\n",
            "Epoch 94/100\n",
            "1/1 [==============================] - 0s 22ms/step - loss: 0.2069 - accuracy: 0.0417\n",
            "Epoch 95/100\n",
            "1/1 [==============================] - 0s 21ms/step - loss: 0.2060 - accuracy: 0.1250\n",
            "Epoch 96/100\n",
            "1/1 [==============================] - 0s 27ms/step - loss: 0.1145 - accuracy: 0.1250\n",
            "Epoch 97/100\n",
            "1/1 [==============================] - 0s 25ms/step - loss: 0.1250 - accuracy: 0.1250\n",
            "Epoch 98/100\n",
            "1/1 [==============================] - 0s 29ms/step - loss: 0.1127 - accuracy: 0.0833\n",
            "Epoch 99/100\n",
            "1/1 [==============================] - 0s 21ms/step - loss: 0.0845 - accuracy: 0.0833\n",
            "Epoch 100/100\n",
            "1/1 [==============================] - 0s 21ms/step - loss: 0.0779 - accuracy: 0.1250\n"
          ]
        }
      ]
    },
    {
      "cell_type": "code",
      "source": [
        "# Price Predictions\n",
        "predsf = model.predict(x_trainf)\n",
        "# Scale them back to original scale from 0-1\n",
        "predsf = scaler_train.inverse_transform(predsf)\n",
        "predsf.shape"
      ],
      "metadata": {
        "colab": {
          "base_uri": "https://localhost:8080/"
        },
        "id": "nECjo5USXcf2",
        "outputId": "f6a3ada6-69a9-4d9c-e8e9-ade865b22595"
      },
      "execution_count": null,
      "outputs": [
        {
          "output_type": "stream",
          "name": "stdout",
          "text": [
            "5/5 [==============================] - 1s 5ms/step\n"
          ]
        },
        {
          "output_type": "execute_result",
          "data": {
            "text/plain": [
              "(133, 1)"
            ]
          },
          "metadata": {},
          "execution_count": 82
        }
      ]
    },
    {
      "cell_type": "code",
      "source": [
        "# Price Predictions on Test dataset\n",
        "testf_preds = model.predict(x_testf)\n",
        "# Scale them back to original scale from 0-1\n",
        "testf_preds = scaler_test.inverse_transform(testf_preds)\n",
        "testf_preds.shape"
      ],
      "metadata": {
        "id": "wAIlp7WiTmy8",
        "colab": {
          "base_uri": "https://localhost:8080/"
        },
        "outputId": "8842a354-7dd4-4cd9-8473-a841391329aa"
      },
      "execution_count": null,
      "outputs": [
        {
          "output_type": "stream",
          "name": "stdout",
          "text": [
            "1/1 [==============================] - 0s 28ms/step\n"
          ]
        },
        {
          "output_type": "execute_result",
          "data": {
            "text/plain": [
              "(24, 1)"
            ]
          },
          "metadata": {},
          "execution_count": 83
        }
      ]
    },
    {
      "cell_type": "markdown",
      "metadata": {
        "id": "ZiAr1C6D-08a"
      },
      "source": [
        "U.S INFLATION PREDICTION\n",
        "\n",
        "This dataset provides monthly data of US Consumer Price Index (CPI). Average of CPI for all US cities, in a given month, is provided. Details of columns:\n",
        "\n",
        "Yearmon - Year-month in date format. Day is provided as 1 for each month.\n",
        "CPI - Consumer price index"
      ]
    },
    {
      "cell_type": "code",
      "source": [
        "cpidata= pd.read_csv(\"uscpi.csv\")\n",
        "cpidata"
      ],
      "metadata": {
        "colab": {
          "base_uri": "https://localhost:8080/",
          "height": 423
        },
        "id": "UQ3oma8PbMC5",
        "outputId": "b4983f9f-40a5-44e6-81cb-d61e092685a4"
      },
      "execution_count": null,
      "outputs": [
        {
          "output_type": "execute_result",
          "data": {
            "text/plain": [
              "          Year      CPI\n",
              "0    1/10/1999  168.200\n",
              "1    1/11/1999  168.300\n",
              "2    1/12/1999  168.300\n",
              "3     1/1/2000  168.800\n",
              "4     1/2/2000  169.800\n",
              "..         ...      ...\n",
              "257   1/3/2021  264.877\n",
              "258   1/4/2021  267.054\n",
              "259   1/5/2021  269.195\n",
              "260   1/6/2021  271.696\n",
              "261   1/7/2021  273.003\n",
              "\n",
              "[262 rows x 2 columns]"
            ],
            "text/html": [
              "\n",
              "  <div id=\"df-bb99f8ef-fc82-4bc1-9da5-8569bb24485c\">\n",
              "    <div class=\"colab-df-container\">\n",
              "      <div>\n",
              "<style scoped>\n",
              "    .dataframe tbody tr th:only-of-type {\n",
              "        vertical-align: middle;\n",
              "    }\n",
              "\n",
              "    .dataframe tbody tr th {\n",
              "        vertical-align: top;\n",
              "    }\n",
              "\n",
              "    .dataframe thead th {\n",
              "        text-align: right;\n",
              "    }\n",
              "</style>\n",
              "<table border=\"1\" class=\"dataframe\">\n",
              "  <thead>\n",
              "    <tr style=\"text-align: right;\">\n",
              "      <th></th>\n",
              "      <th>Year</th>\n",
              "      <th>CPI</th>\n",
              "    </tr>\n",
              "  </thead>\n",
              "  <tbody>\n",
              "    <tr>\n",
              "      <th>0</th>\n",
              "      <td>1/10/1999</td>\n",
              "      <td>168.200</td>\n",
              "    </tr>\n",
              "    <tr>\n",
              "      <th>1</th>\n",
              "      <td>1/11/1999</td>\n",
              "      <td>168.300</td>\n",
              "    </tr>\n",
              "    <tr>\n",
              "      <th>2</th>\n",
              "      <td>1/12/1999</td>\n",
              "      <td>168.300</td>\n",
              "    </tr>\n",
              "    <tr>\n",
              "      <th>3</th>\n",
              "      <td>1/1/2000</td>\n",
              "      <td>168.800</td>\n",
              "    </tr>\n",
              "    <tr>\n",
              "      <th>4</th>\n",
              "      <td>1/2/2000</td>\n",
              "      <td>169.800</td>\n",
              "    </tr>\n",
              "    <tr>\n",
              "      <th>...</th>\n",
              "      <td>...</td>\n",
              "      <td>...</td>\n",
              "    </tr>\n",
              "    <tr>\n",
              "      <th>257</th>\n",
              "      <td>1/3/2021</td>\n",
              "      <td>264.877</td>\n",
              "    </tr>\n",
              "    <tr>\n",
              "      <th>258</th>\n",
              "      <td>1/4/2021</td>\n",
              "      <td>267.054</td>\n",
              "    </tr>\n",
              "    <tr>\n",
              "      <th>259</th>\n",
              "      <td>1/5/2021</td>\n",
              "      <td>269.195</td>\n",
              "    </tr>\n",
              "    <tr>\n",
              "      <th>260</th>\n",
              "      <td>1/6/2021</td>\n",
              "      <td>271.696</td>\n",
              "    </tr>\n",
              "    <tr>\n",
              "      <th>261</th>\n",
              "      <td>1/7/2021</td>\n",
              "      <td>273.003</td>\n",
              "    </tr>\n",
              "  </tbody>\n",
              "</table>\n",
              "<p>262 rows × 2 columns</p>\n",
              "</div>\n",
              "      <button class=\"colab-df-convert\" onclick=\"convertToInteractive('df-bb99f8ef-fc82-4bc1-9da5-8569bb24485c')\"\n",
              "              title=\"Convert this dataframe to an interactive table.\"\n",
              "              style=\"display:none;\">\n",
              "        \n",
              "  <svg xmlns=\"http://www.w3.org/2000/svg\" height=\"24px\"viewBox=\"0 0 24 24\"\n",
              "       width=\"24px\">\n",
              "    <path d=\"M0 0h24v24H0V0z\" fill=\"none\"/>\n",
              "    <path d=\"M18.56 5.44l.94 2.06.94-2.06 2.06-.94-2.06-.94-.94-2.06-.94 2.06-2.06.94zm-11 1L8.5 8.5l.94-2.06 2.06-.94-2.06-.94L8.5 2.5l-.94 2.06-2.06.94zm10 10l.94 2.06.94-2.06 2.06-.94-2.06-.94-.94-2.06-.94 2.06-2.06.94z\"/><path d=\"M17.41 7.96l-1.37-1.37c-.4-.4-.92-.59-1.43-.59-.52 0-1.04.2-1.43.59L10.3 9.45l-7.72 7.72c-.78.78-.78 2.05 0 2.83L4 21.41c.39.39.9.59 1.41.59.51 0 1.02-.2 1.41-.59l7.78-7.78 2.81-2.81c.8-.78.8-2.07 0-2.86zM5.41 20L4 18.59l7.72-7.72 1.47 1.35L5.41 20z\"/>\n",
              "  </svg>\n",
              "      </button>\n",
              "      \n",
              "  <style>\n",
              "    .colab-df-container {\n",
              "      display:flex;\n",
              "      flex-wrap:wrap;\n",
              "      gap: 12px;\n",
              "    }\n",
              "\n",
              "    .colab-df-convert {\n",
              "      background-color: #E8F0FE;\n",
              "      border: none;\n",
              "      border-radius: 50%;\n",
              "      cursor: pointer;\n",
              "      display: none;\n",
              "      fill: #1967D2;\n",
              "      height: 32px;\n",
              "      padding: 0 0 0 0;\n",
              "      width: 32px;\n",
              "    }\n",
              "\n",
              "    .colab-df-convert:hover {\n",
              "      background-color: #E2EBFA;\n",
              "      box-shadow: 0px 1px 2px rgba(60, 64, 67, 0.3), 0px 1px 3px 1px rgba(60, 64, 67, 0.15);\n",
              "      fill: #174EA6;\n",
              "    }\n",
              "\n",
              "    [theme=dark] .colab-df-convert {\n",
              "      background-color: #3B4455;\n",
              "      fill: #D2E3FC;\n",
              "    }\n",
              "\n",
              "    [theme=dark] .colab-df-convert:hover {\n",
              "      background-color: #434B5C;\n",
              "      box-shadow: 0px 1px 3px 1px rgba(0, 0, 0, 0.15);\n",
              "      filter: drop-shadow(0px 1px 2px rgba(0, 0, 0, 0.3));\n",
              "      fill: #FFFFFF;\n",
              "    }\n",
              "  </style>\n",
              "\n",
              "      <script>\n",
              "        const buttonEl =\n",
              "          document.querySelector('#df-bb99f8ef-fc82-4bc1-9da5-8569bb24485c button.colab-df-convert');\n",
              "        buttonEl.style.display =\n",
              "          google.colab.kernel.accessAllowed ? 'block' : 'none';\n",
              "\n",
              "        async function convertToInteractive(key) {\n",
              "          const element = document.querySelector('#df-bb99f8ef-fc82-4bc1-9da5-8569bb24485c');\n",
              "          const dataTable =\n",
              "            await google.colab.kernel.invokeFunction('convertToInteractive',\n",
              "                                                     [key], {});\n",
              "          if (!dataTable) return;\n",
              "\n",
              "          const docLinkHtml = 'Like what you see? Visit the ' +\n",
              "            '<a target=\"_blank\" href=https://colab.research.google.com/notebooks/data_table.ipynb>data table notebook</a>'\n",
              "            + ' to learn more about interactive tables.';\n",
              "          element.innerHTML = '';\n",
              "          dataTable['output_type'] = 'display_data';\n",
              "          await google.colab.output.renderOutput(dataTable, element);\n",
              "          const docLink = document.createElement('div');\n",
              "          docLink.innerHTML = docLinkHtml;\n",
              "          element.appendChild(docLink);\n",
              "        }\n",
              "      </script>\n",
              "    </div>\n",
              "  </div>\n",
              "  "
            ]
          },
          "metadata": {},
          "execution_count": 85
        }
      ]
    },
    {
      "cell_type": "code",
      "source": [
        "cpidata.info()"
      ],
      "metadata": {
        "colab": {
          "base_uri": "https://localhost:8080/"
        },
        "id": "qK_B4lx4b9ch",
        "outputId": "eef7bba2-486b-4a50-fa9c-d9c5071c71ee"
      },
      "execution_count": null,
      "outputs": [
        {
          "output_type": "stream",
          "name": "stdout",
          "text": [
            "<class 'pandas.core.frame.DataFrame'>\n",
            "RangeIndex: 262 entries, 0 to 261\n",
            "Data columns (total 2 columns):\n",
            " #   Column  Non-Null Count  Dtype  \n",
            "---  ------  --------------  -----  \n",
            " 0   Year    262 non-null    object \n",
            " 1   CPI     262 non-null    float64\n",
            "dtypes: float64(1), object(1)\n",
            "memory usage: 4.2+ KB\n"
          ]
        }
      ]
    },
    {
      "cell_type": "code",
      "source": [
        "print(f\"Number of missing data : \\n{cpidata.isnull().sum()}\\n\")"
      ],
      "metadata": {
        "colab": {
          "base_uri": "https://localhost:8080/"
        },
        "id": "UzAyBpIrcB8O",
        "outputId": "b92bcb72-443e-47ce-ac70-acfa5c516691"
      },
      "execution_count": null,
      "outputs": [
        {
          "output_type": "stream",
          "name": "stdout",
          "text": [
            "Number of missing data : \n",
            "Year    0\n",
            "CPI     0\n",
            "dtype: int64\n",
            "\n"
          ]
        }
      ]
    },
    {
      "cell_type": "code",
      "source": [
        "cpidata['Year'] = pd.to_datetime(cpidata['Year'])"
      ],
      "metadata": {
        "id": "wYIw8gf9cJrD"
      },
      "execution_count": null,
      "outputs": []
    },
    {
      "cell_type": "code",
      "source": [
        "import seaborn as sns\n",
        "plt.rcParams[\"figure.figsize\"] = (20,8)\n",
        "sns.lineplot(data=cpidata, x=\"Year\", y=\"CPI\")\n",
        "plt.xticks( rotation = 45) # Rotates X-Axis Ticks by 45-degrees\n",
        "ax = plt.gca()\n",
        "\n",
        "plt.show()"
      ],
      "metadata": {
        "colab": {
          "base_uri": "https://localhost:8080/",
          "height": 516
        },
        "id": "a3WwdYe5cU16",
        "outputId": "9d7b942d-ae9e-4960-993c-cf488bf16e45"
      },
      "execution_count": null,
      "outputs": [
        {
          "output_type": "display_data",
          "data": {
            "text/plain": [
              "<Figure size 2000x800 with 1 Axes>"
            ],
            "image/png": "[encoded data removed]"
          },
          "metadata": {}
        }
      ]
    },
    {
      "cell_type": "code",
      "source": [
        "sns.pairplot(cpidata)"
      ],
      "metadata": {
        "colab": {
          "base_uri": "https://localhost:8080/",
          "height": 285
        },
        "id": "y4v-w2A1crjG",
        "outputId": "7e12d7b3-120f-4def-b63d-6a63f3b67389"
      },
      "execution_count": null,
      "outputs": [
        {
          "output_type": "execute_result",
          "data": {
            "text/plain": [
              "<seaborn.axisgrid.PairGrid at 0x7f3bec30ac20>"
            ]
          },
          "metadata": {},
          "execution_count": 90
        },
        {
          "output_type": "display_data",
          "data": {
            "text/plain": [
              "<Figure size 250x250 with 2 Axes>"
            ],
            "image/png": "[encoded data removed]"
          },
          "metadata": {}
        }
      ]
    },
    {
      "cell_type": "code",
      "source": [
        "cpidata.describe()"
      ],
      "metadata": {
        "colab": {
          "base_uri": "https://localhost:8080/",
          "height": 300
        },
        "id": "vofB1X6XcwL9",
        "outputId": "059b74e9-080c-4d06-9caf-ad07ae3e304c"
      },
      "execution_count": null,
      "outputs": [
        {
          "output_type": "execute_result",
          "data": {
            "text/plain": [
              "              CPI\n",
              "count  262.000000\n",
              "mean   218.197771\n",
              "std     27.767416\n",
              "min    168.200000\n",
              "25%    193.575000\n",
              "50%    218.809000\n",
              "75%    238.564250\n",
              "max    273.003000"
            ],
            "text/html": [
              "\n",
              "  <div id=\"df-0057d1fc-1877-439c-82c3-608c2c4e9b16\">\n",
              "    <div class=\"colab-df-container\">\n",
              "      <div>\n",
              "<style scoped>\n",
              "    .dataframe tbody tr th:only-of-type {\n",
              "        vertical-align: middle;\n",
              "    }\n",
              "\n",
              "    .dataframe tbody tr th {\n",
              "        vertical-align: top;\n",
              "    }\n",
              "\n",
              "    .dataframe thead th {\n",
              "        text-align: right;\n",
              "    }\n",
              "</style>\n",
              "<table border=\"1\" class=\"dataframe\">\n",
              "  <thead>\n",
              "    <tr style=\"text-align: right;\">\n",
              "      <th></th>\n",
              "      <th>CPI</th>\n",
              "    </tr>\n",
              "  </thead>\n",
              "  <tbody>\n",
              "    <tr>\n",
              "      <th>count</th>\n",
              "      <td>262.000000</td>\n",
              "    </tr>\n",
              "    <tr>\n",
              "      <th>mean</th>\n",
              "      <td>218.197771</td>\n",
              "    </tr>\n",
              "    <tr>\n",
              "      <th>std</th>\n",
              "      <td>27.767416</td>\n",
              "    </tr>\n",
              "    <tr>\n",
              "      <th>min</th>\n",
              "      <td>168.200000</td>\n",
              "    </tr>\n",
              "    <tr>\n",
              "      <th>25%</th>\n",
              "      <td>193.575000</td>\n",
              "    </tr>\n",
              "    <tr>\n",
              "      <th>50%</th>\n",
              "      <td>218.809000</td>\n",
              "    </tr>\n",
              "    <tr>\n",
              "      <th>75%</th>\n",
              "      <td>238.564250</td>\n",
              "    </tr>\n",
              "    <tr>\n",
              "      <th>max</th>\n",
              "      <td>273.003000</td>\n",
              "    </tr>\n",
              "  </tbody>\n",
              "</table>\n",
              "</div>\n",
              "      <button class=\"colab-df-convert\" onclick=\"convertToInteractive('df-0057d1fc-1877-439c-82c3-608c2c4e9b16')\"\n",
              "              title=\"Convert this dataframe to an interactive table.\"\n",
              "              style=\"display:none;\">\n",
              "        \n",
              "  <svg xmlns=\"http://www.w3.org/2000/svg\" height=\"24px\"viewBox=\"0 0 24 24\"\n",
              "       width=\"24px\">\n",
              "    <path d=\"M0 0h24v24H0V0z\" fill=\"none\"/>\n",
              "    <path d=\"M18.56 5.44l.94 2.06.94-2.06 2.06-.94-2.06-.94-.94-2.06-.94 2.06-2.06.94zm-11 1L8.5 8.5l.94-2.06 2.06-.94-2.06-.94L8.5 2.5l-.94 2.06-2.06.94zm10 10l.94 2.06.94-2.06 2.06-.94-2.06-.94-.94-2.06-.94 2.06-2.06.94z\"/><path d=\"M17.41 7.96l-1.37-1.37c-.4-.4-.92-.59-1.43-.59-.52 0-1.04.2-1.43.59L10.3 9.45l-7.72 7.72c-.78.78-.78 2.05 0 2.83L4 21.41c.39.39.9.59 1.41.59.51 0 1.02-.2 1.41-.59l7.78-7.78 2.81-2.81c.8-.78.8-2.07 0-2.86zM5.41 20L4 18.59l7.72-7.72 1.47 1.35L5.41 20z\"/>\n",
              "  </svg>\n",
              "      </button>\n",
              "      \n",
              "  <style>\n",
              "    .colab-df-container {\n",
              "      display:flex;\n",
              "      flex-wrap:wrap;\n",
              "      gap: 12px;\n",
              "    }\n",
              "\n",
              "    .colab-df-convert {\n",
              "      background-color: #E8F0FE;\n",
              "      border: none;\n",
              "      border-radius: 50%;\n",
              "      cursor: pointer;\n",
              "      display: none;\n",
              "      fill: #1967D2;\n",
              "      height: 32px;\n",
              "      padding: 0 0 0 0;\n",
              "      width: 32px;\n",
              "    }\n",
              "\n",
              "    .colab-df-convert:hover {\n",
              "      background-color: #E2EBFA;\n",
              "      box-shadow: 0px 1px 2px rgba(60, 64, 67, 0.3), 0px 1px 3px 1px rgba(60, 64, 67, 0.15);\n",
              "      fill: #174EA6;\n",
              "    }\n",
              "\n",
              "    [theme=dark] .colab-df-convert {\n",
              "      background-color: #3B4455;\n",
              "      fill: #D2E3FC;\n",
              "    }\n",
              "\n",
              "    [theme=dark] .colab-df-convert:hover {\n",
              "      background-color: #434B5C;\n",
              "      box-shadow: 0px 1px 3px 1px rgba(0, 0, 0, 0.15);\n",
              "      filter: drop-shadow(0px 1px 2px rgba(0, 0, 0, 0.3));\n",
              "      fill: #FFFFFF;\n",
              "    }\n",
              "  </style>\n",
              "\n",
              "      <script>\n",
              "        const buttonEl =\n",
              "          document.querySelector('#df-0057d1fc-1877-439c-82c3-608c2c4e9b16 button.colab-df-convert');\n",
              "        buttonEl.style.display =\n",
              "          google.colab.kernel.accessAllowed ? 'block' : 'none';\n",
              "\n",
              "        async function convertToInteractive(key) {\n",
              "          const element = document.querySelector('#df-0057d1fc-1877-439c-82c3-608c2c4e9b16');\n",
              "          const dataTable =\n",
              "            await google.colab.kernel.invokeFunction('convertToInteractive',\n",
              "                                                     [key], {});\n",
              "          if (!dataTable) return;\n",
              "\n",
              "          const docLinkHtml = 'Like what you see? Visit the ' +\n",
              "            '<a target=\"_blank\" href=https://colab.research.google.com/notebooks/data_table.ipynb>data table notebook</a>'\n",
              "            + ' to learn more about interactive tables.';\n",
              "          element.innerHTML = '';\n",
              "          dataTable['output_type'] = 'display_data';\n",
              "          await google.colab.output.renderOutput(dataTable, element);\n",
              "          const docLink = document.createElement('div');\n",
              "          docLink.innerHTML = docLinkHtml;\n",
              "          element.appendChild(docLink);\n",
              "        }\n",
              "      </script>\n",
              "    </div>\n",
              "  </div>\n",
              "  "
            ]
          },
          "metadata": {},
          "execution_count": 91
        }
      ]
    },
    {
      "cell_type": "code",
      "source": [
        "# Splitting the dataset to train and test\n",
        "split_ratio = 0.8 # 80% training data, 20% test data,\n",
        "\n",
        "traincpi_length = round(split_ratio * len(cpidata))\n",
        "testcpi_length = round(len(cpidata) - traincpi_length)\n",
        "\n",
        "#print(traincpi_length)\n",
        "#print(testcpi_length)"
      ],
      "metadata": {
        "id": "B8swaebxczOu"
      },
      "execution_count": null,
      "outputs": []
    },
    {
      "cell_type": "code",
      "source": [
        "traincpi = cpidata[:traincpi_length].iloc[:,:] # picking the training samples\n",
        "traincpi"
      ],
      "metadata": {
        "colab": {
          "base_uri": "https://localhost:8080/",
          "height": 423
        },
        "id": "jn2nXwd4dXk5",
        "outputId": "39486e71-e287-408a-cbf9-8f5d40c5916e"
      },
      "execution_count": null,
      "outputs": [
        {
          "output_type": "execute_result",
          "data": {
            "text/plain": [
              "          Year      CPI\n",
              "0   1999-01-10  168.200\n",
              "1   1999-01-11  168.300\n",
              "2   1999-01-12  168.300\n",
              "3   2000-01-01  168.800\n",
              "4   2000-01-02  169.800\n",
              "..         ...      ...\n",
              "205 2016-01-11  241.353\n",
              "206 2016-01-12  241.432\n",
              "207 2017-01-01  242.839\n",
              "208 2017-01-02  243.603\n",
              "209 2017-01-03  243.801\n",
              "\n",
              "[210 rows x 2 columns]"
            ],
            "text/html": [
              "\n",
              "  <div id=\"df-ba1759b7-f9cc-4c4a-95cc-a6da5c5e25cc\">\n",
              "    <div class=\"colab-df-container\">\n",
              "      <div>\n",
              "<style scoped>\n",
              "    .dataframe tbody tr th:only-of-type {\n",
              "        vertical-align: middle;\n",
              "    }\n",
              "\n",
              "    .dataframe tbody tr th {\n",
              "        vertical-align: top;\n",
              "    }\n",
              "\n",
              "    .dataframe thead th {\n",
              "        text-align: right;\n",
              "    }\n",
              "</style>\n",
              "<table border=\"1\" class=\"dataframe\">\n",
              "  <thead>\n",
              "    <tr style=\"text-align: right;\">\n",
              "      <th></th>\n",
              "      <th>Year</th>\n",
              "      <th>CPI</th>\n",
              "    </tr>\n",
              "  </thead>\n",
              "  <tbody>\n",
              "    <tr>\n",
              "      <th>0</th>\n",
              "      <td>1999-01-10</td>\n",
              "      <td>168.200</td>\n",
              "    </tr>\n",
              "    <tr>\n",
              "      <th>1</th>\n",
              "      <td>1999-01-11</td>\n",
              "      <td>168.300</td>\n",
              "    </tr>\n",
              "    <tr>\n",
              "      <th>2</th>\n",
              "      <td>1999-01-12</td>\n",
              "      <td>168.300</td>\n",
              "    </tr>\n",
              "    <tr>\n",
              "      <th>3</th>\n",
              "      <td>2000-01-01</td>\n",
              "      <td>168.800</td>\n",
              "    </tr>\n",
              "    <tr>\n",
              "      <th>4</th>\n",
              "      <td>2000-01-02</td>\n",
              "      <td>169.800</td>\n",
              "    </tr>\n",
              "    <tr>\n",
              "      <th>...</th>\n",
              "      <td>...</td>\n",
              "      <td>...</td>\n",
              "    </tr>\n",
              "    <tr>\n",
              "      <th>205</th>\n",
              "      <td>2016-01-11</td>\n",
              "      <td>241.353</td>\n",
              "    </tr>\n",
              "    <tr>\n",
              "      <th>206</th>\n",
              "      <td>2016-01-12</td>\n",
              "      <td>241.432</td>\n",
              "    </tr>\n",
              "    <tr>\n",
              "      <th>207</th>\n",
              "      <td>2017-01-01</td>\n",
              "      <td>242.839</td>\n",
              "    </tr>\n",
              "    <tr>\n",
              "      <th>208</th>\n",
              "      <td>2017-01-02</td>\n",
              "      <td>243.603</td>\n",
              "    </tr>\n",
              "    <tr>\n",
              "      <th>209</th>\n",
              "      <td>2017-01-03</td>\n",
              "      <td>243.801</td>\n",
              "    </tr>\n",
              "  </tbody>\n",
              "</table>\n",
              "<p>210 rows × 2 columns</p>\n",
              "</div>\n",
              "      <button class=\"colab-df-convert\" onclick=\"convertToInteractive('df-ba1759b7-f9cc-4c4a-95cc-a6da5c5e25cc')\"\n",
              "              title=\"Convert this dataframe to an interactive table.\"\n",
              "              style=\"display:none;\">\n",
              "        \n",
              "  <svg xmlns=\"http://www.w3.org/2000/svg\" height=\"24px\"viewBox=\"0 0 24 24\"\n",
              "       width=\"24px\">\n",
              "    <path d=\"M0 0h24v24H0V0z\" fill=\"none\"/>\n",
              "    <path d=\"M18.56 5.44l.94 2.06.94-2.06 2.06-.94-2.06-.94-.94-2.06-.94 2.06-2.06.94zm-11 1L8.5 8.5l.94-2.06 2.06-.94-2.06-.94L8.5 2.5l-.94 2.06-2.06.94zm10 10l.94 2.06.94-2.06 2.06-.94-2.06-.94-.94-2.06-.94 2.06-2.06.94z\"/><path d=\"M17.41 7.96l-1.37-1.37c-.4-.4-.92-.59-1.43-.59-.52 0-1.04.2-1.43.59L10.3 9.45l-7.72 7.72c-.78.78-.78 2.05 0 2.83L4 21.41c.39.39.9.59 1.41.59.51 0 1.02-.2 1.41-.59l7.78-7.78 2.81-2.81c.8-.78.8-2.07 0-2.86zM5.41 20L4 18.59l7.72-7.72 1.47 1.35L5.41 20z\"/>\n",
              "  </svg>\n",
              "      </button>\n",
              "      \n",
              "  <style>\n",
              "    .colab-df-container {\n",
              "      display:flex;\n",
              "      flex-wrap:wrap;\n",
              "      gap: 12px;\n",
              "    }\n",
              "\n",
              "    .colab-df-convert {\n",
              "      background-color: #E8F0FE;\n",
              "      border: none;\n",
              "      border-radius: 50%;\n",
              "      cursor: pointer;\n",
              "      display: none;\n",
              "      fill: #1967D2;\n",
              "      height: 32px;\n",
              "      padding: 0 0 0 0;\n",
              "      width: 32px;\n",
              "    }\n",
              "\n",
              "    .colab-df-convert:hover {\n",
              "      background-color: #E2EBFA;\n",
              "      box-shadow: 0px 1px 2px rgba(60, 64, 67, 0.3), 0px 1px 3px 1px rgba(60, 64, 67, 0.15);\n",
              "      fill: #174EA6;\n",
              "    }\n",
              "\n",
              "    [theme=dark] .colab-df-convert {\n",
              "      background-color: #3B4455;\n",
              "      fill: #D2E3FC;\n",
              "    }\n",
              "\n",
              "    [theme=dark] .colab-df-convert:hover {\n",
              "      background-color: #434B5C;\n",
              "      box-shadow: 0px 1px 3px 1px rgba(0, 0, 0, 0.15);\n",
              "      filter: drop-shadow(0px 1px 2px rgba(0, 0, 0, 0.3));\n",
              "      fill: #FFFFFF;\n",
              "    }\n",
              "  </style>\n",
              "\n",
              "      <script>\n",
              "        const buttonEl =\n",
              "          document.querySelector('#df-ba1759b7-f9cc-4c4a-95cc-a6da5c5e25cc button.colab-df-convert');\n",
              "        buttonEl.style.display =\n",
              "          google.colab.kernel.accessAllowed ? 'block' : 'none';\n",
              "\n",
              "        async function convertToInteractive(key) {\n",
              "          const element = document.querySelector('#df-ba1759b7-f9cc-4c4a-95cc-a6da5c5e25cc');\n",
              "          const dataTable =\n",
              "            await google.colab.kernel.invokeFunction('convertToInteractive',\n",
              "                                                     [key], {});\n",
              "          if (!dataTable) return;\n",
              "\n",
              "          const docLinkHtml = 'Like what you see? Visit the ' +\n",
              "            '<a target=\"_blank\" href=https://colab.research.google.com/notebooks/data_table.ipynb>data table notebook</a>'\n",
              "            + ' to learn more about interactive tables.';\n",
              "          element.innerHTML = '';\n",
              "          dataTable['output_type'] = 'display_data';\n",
              "          await google.colab.output.renderOutput(dataTable, element);\n",
              "          const docLink = document.createElement('div');\n",
              "          docLink.innerHTML = docLinkHtml;\n",
              "          element.appendChild(docLink);\n",
              "        }\n",
              "      </script>\n",
              "    </div>\n",
              "  </div>\n",
              "  "
            ]
          },
          "metadata": {},
          "execution_count": 93
        }
      ]
    },
    {
      "cell_type": "code",
      "source": [
        "testcpi = cpidata[traincpi_length:traincpi_length+testcpi_length].iloc[:,:] # picking the validation samples\n",
        "testcpi['Year'] = pd.to_datetime(testcpi['Year'])\n",
        "testcpi"
      ],
      "metadata": {
        "colab": {
          "base_uri": "https://localhost:8080/",
          "height": 1000
        },
        "id": "Kih6uu20djmj",
        "outputId": "eeb98dd9-8588-47c6-fdd3-43ca2f2f06e4"
      },
      "execution_count": null,
      "outputs": [
        {
          "output_type": "stream",
          "name": "stderr",
          "text": [
            "<ipython-input-94-38bf247fb054>:2: SettingWithCopyWarning: \n",
            "A value is trying to be set on a copy of a slice from a DataFrame.\n",
            "Try using .loc[row_indexer,col_indexer] = value instead\n",
            "\n",
            "See the caveats in the documentation: https://pandas.pydata.org/pandas-docs/stable/user_guide/indexing.html#returning-a-view-versus-a-copy\n",
            "  testcpi['Year'] = pd.to_datetime(testcpi['Year'])\n"
          ]
        },
        {
          "output_type": "execute_result",
          "data": {
            "text/plain": [
              "          Year      CPI\n",
              "210 2017-01-04  244.524\n",
              "211 2017-01-05  244.733\n",
              "212 2017-01-06  244.955\n",
              "213 2017-01-07  244.786\n",
              "214 2017-01-08  245.519\n",
              "215 2017-01-09  246.819\n",
              "216 2017-01-10  246.663\n",
              "217 2017-01-11  246.669\n",
              "218 2017-01-12  246.524\n",
              "219 2018-01-01  247.867\n",
              "220 2018-01-02  248.991\n",
              "221 2018-01-03  249.554\n",
              "222 2018-01-04  250.546\n",
              "223 2018-01-05  251.588\n",
              "224 2018-01-06  251.989\n",
              "225 2018-01-07  252.006\n",
              "226 2018-01-08  252.146\n",
              "227 2018-01-09  252.439\n",
              "228 2018-01-10  252.885\n",
              "229 2018-01-11  252.038\n",
              "230 2018-01-12  251.233\n",
              "231 2019-01-01  251.712\n",
              "232 2019-01-02  252.776\n",
              "233 2019-01-03  254.202\n",
              "234 2019-01-04  255.548\n",
              "235 2019-01-05  256.092\n",
              "236 2019-01-06  256.143\n",
              "237 2019-01-07  256.571\n",
              "238 2019-01-08  256.558\n",
              "239 2019-01-09  256.759\n",
              "240 2019-01-10  257.346\n",
              "241 2019-01-11  257.208\n",
              "242 2019-01-12  256.974\n",
              "243 2020-01-01  257.971\n",
              "244 2020-01-02  258.678\n",
              "245 2020-01-03  258.115\n",
              "246 2020-01-04  256.389\n",
              "247 2020-01-05  256.394\n",
              "248 2020-01-06  257.797\n",
              "249 2020-01-07  259.101\n",
              "250 2020-01-08  259.918\n",
              "251 2020-01-09  260.280\n",
              "252 2020-01-10  260.388\n",
              "253 2020-01-11  260.229\n",
              "254 2020-01-12  260.474\n",
              "255 2021-01-01  261.582\n",
              "256 2021-01-02  263.014\n",
              "257 2021-01-03  264.877\n",
              "258 2021-01-04  267.054\n",
              "259 2021-01-05  269.195\n",
              "260 2021-01-06  271.696\n",
              "261 2021-01-07  273.003"
            ],
            "text/html": [
              "\n",
              "  <div id=\"df-a738ab9d-412a-4186-8b1a-fafd7e441711\">\n",
              "    <div class=\"colab-df-container\">\n",
              "      <div>\n",
              "<style scoped>\n",
              "    .dataframe tbody tr th:only-of-type {\n",
              "        vertical-align: middle;\n",
              "    }\n",
              "\n",
              "    .dataframe tbody tr th {\n",
              "        vertical-align: top;\n",
              "    }\n",
              "\n",
              "    .dataframe thead th {\n",
              "        text-align: right;\n",
              "    }\n",
              "</style>\n",
              "<table border=\"1\" class=\"dataframe\">\n",
              "  <thead>\n",
              "    <tr style=\"text-align: right;\">\n",
              "      <th></th>\n",
              "      <th>Year</th>\n",
              "      <th>CPI</th>\n",
              "    </tr>\n",
              "  </thead>\n",
              "  <tbody>\n",
              "    <tr>\n",
              "      <th>210</th>\n",
              "      <td>2017-01-04</td>\n",
              "      <td>244.524</td>\n",
              "    </tr>\n",
              "    <tr>\n",
              "      <th>211</th>\n",
              "      <td>2017-01-05</td>\n",
              "      <td>244.733</td>\n",
              "    </tr>\n",
              "    <tr>\n",
              "      <th>212</th>\n",
              "      <td>2017-01-06</td>\n",
              "      <td>244.955</td>\n",
              "    </tr>\n",
              "    <tr>\n",
              "      <th>213</th>\n",
              "      <td>2017-01-07</td>\n",
              "      <td>244.786</td>\n",
              "    </tr>\n",
              "    <tr>\n",
              "      <th>214</th>\n",
              "      <td>2017-01-08</td>\n",
              "      <td>245.519</td>\n",
              "    </tr>\n",
              "    <tr>\n",
              "      <th>215</th>\n",
              "      <td>2017-01-09</td>\n",
              "      <td>246.819</td>\n",
              "    </tr>\n",
              "    <tr>\n",
              "      <th>216</th>\n",
              "      <td>2017-01-10</td>\n",
              "      <td>246.663</td>\n",
              "    </tr>\n",
              "    <tr>\n",
              "      <th>217</th>\n",
              "      <td>2017-01-11</td>\n",
              "      <td>246.669</td>\n",
              "    </tr>\n",
              "    <tr>\n",
              "      <th>218</th>\n",
              "      <td>2017-01-12</td>\n",
              "      <td>246.524</td>\n",
              "    </tr>\n",
              "    <tr>\n",
              "      <th>219</th>\n",
              "      <td>2018-01-01</td>\n",
              "      <td>247.867</td>\n",
              "    </tr>\n",
              "    <tr>\n",
              "      <th>220</th>\n",
              "      <td>2018-01-02</td>\n",
              "      <td>248.991</td>\n",
              "    </tr>\n",
              "    <tr>\n",
              "      <th>221</th>\n",
              "      <td>2018-01-03</td>\n",
              "      <td>249.554</td>\n",
              "    </tr>\n",
              "    <tr>\n",
              "      <th>222</th>\n",
              "      <td>2018-01-04</td>\n",
              "      <td>250.546</td>\n",
              "    </tr>\n",
              "    <tr>\n",
              "      <th>223</th>\n",
              "      <td>2018-01-05</td>\n",
              "      <td>251.588</td>\n",
              "    </tr>\n",
              "    <tr>\n",
              "      <th>224</th>\n",
              "      <td>2018-01-06</td>\n",
              "      <td>251.989</td>\n",
              "    </tr>\n",
              "    <tr>\n",
              "      <th>225</th>\n",
              "      <td>2018-01-07</td>\n",
              "      <td>252.006</td>\n",
              "    </tr>\n",
              "    <tr>\n",
              "      <th>226</th>\n",
              "      <td>2018-01-08</td>\n",
              "      <td>252.146</td>\n",
              "    </tr>\n",
              "    <tr>\n",
              "      <th>227</th>\n",
              "      <td>2018-01-09</td>\n",
              "      <td>252.439</td>\n",
              "    </tr>\n",
              "    <tr>\n",
              "      <th>228</th>\n",
              "      <td>2018-01-10</td>\n",
              "      <td>252.885</td>\n",
              "    </tr>\n",
              "    <tr>\n",
              "      <th>229</th>\n",
              "      <td>2018-01-11</td>\n",
              "      <td>252.038</td>\n",
              "    </tr>\n",
              "    <tr>\n",
              "      <th>230</th>\n",
              "      <td>2018-01-12</td>\n",
              "      <td>251.233</td>\n",
              "    </tr>\n",
              "    <tr>\n",
              "      <th>231</th>\n",
              "      <td>2019-01-01</td>\n",
              "      <td>251.712</td>\n",
              "    </tr>\n",
              "    <tr>\n",
              "      <th>232</th>\n",
              "      <td>2019-01-02</td>\n",
              "      <td>252.776</td>\n",
              "    </tr>\n",
              "    <tr>\n",
              "      <th>233</th>\n",
              "      <td>2019-01-03</td>\n",
              "      <td>254.202</td>\n",
              "    </tr>\n",
              "    <tr>\n",
              "      <th>234</th>\n",
              "      <td>2019-01-04</td>\n",
              "      <td>255.548</td>\n",
              "    </tr>\n",
              "    <tr>\n",
              "      <th>235</th>\n",
              "      <td>2019-01-05</td>\n",
              "      <td>256.092</td>\n",
              "    </tr>\n",
              "    <tr>\n",
              "      <th>236</th>\n",
              "      <td>2019-01-06</td>\n",
              "      <td>256.143</td>\n",
              "    </tr>\n",
              "    <tr>\n",
              "      <th>237</th>\n",
              "      <td>2019-01-07</td>\n",
              "      <td>256.571</td>\n",
              "    </tr>\n",
              "    <tr>\n",
              "      <th>238</th>\n",
              "      <td>2019-01-08</td>\n",
              "      <td>256.558</td>\n",
              "    </tr>\n",
              "    <tr>\n",
              "      <th>239</th>\n",
              "      <td>2019-01-09</td>\n",
              "      <td>256.759</td>\n",
              "    </tr>\n",
              "    <tr>\n",
              "      <th>240</th>\n",
              "      <td>2019-01-10</td>\n",
              "      <td>257.346</td>\n",
              "    </tr>\n",
              "    <tr>\n",
              "      <th>241</th>\n",
              "      <td>2019-01-11</td>\n",
              "      <td>257.208</td>\n",
              "    </tr>\n",
              "    <tr>\n",
              "      <th>242</th>\n",
              "      <td>2019-01-12</td>\n",
              "      <td>256.974</td>\n",
              "    </tr>\n",
              "    <tr>\n",
              "      <th>243</th>\n",
              "      <td>2020-01-01</td>\n",
              "      <td>257.971</td>\n",
              "    </tr>\n",
              "    <tr>\n",
              "      <th>244</th>\n",
              "      <td>2020-01-02</td>\n",
              "      <td>258.678</td>\n",
              "    </tr>\n",
              "    <tr>\n",
              "      <th>245</th>\n",
              "      <td>2020-01-03</td>\n",
              "      <td>258.115</td>\n",
              "    </tr>\n",
              "    <tr>\n",
              "      <th>246</th>\n",
              "      <td>2020-01-04</td>\n",
              "      <td>256.389</td>\n",
              "    </tr>\n",
              "    <tr>\n",
              "      <th>247</th>\n",
              "      <td>2020-01-05</td>\n",
              "      <td>256.394</td>\n",
              "    </tr>\n",
              "    <tr>\n",
              "      <th>248</th>\n",
              "      <td>2020-01-06</td>\n",
              "      <td>257.797</td>\n",
              "    </tr>\n",
              "    <tr>\n",
              "      <th>249</th>\n",
              "      <td>2020-01-07</td>\n",
              "      <td>259.101</td>\n",
              "    </tr>\n",
              "    <tr>\n",
              "      <th>250</th>\n",
              "      <td>2020-01-08</td>\n",
              "      <td>259.918</td>\n",
              "    </tr>\n",
              "    <tr>\n",
              "      <th>251</th>\n",
              "      <td>2020-01-09</td>\n",
              "      <td>260.280</td>\n",
              "    </tr>\n",
              "    <tr>\n",
              "      <th>252</th>\n",
              "      <td>2020-01-10</td>\n",
              "      <td>260.388</td>\n",
              "    </tr>\n",
              "    <tr>\n",
              "      <th>253</th>\n",
              "      <td>2020-01-11</td>\n",
              "      <td>260.229</td>\n",
              "    </tr>\n",
              "    <tr>\n",
              "      <th>254</th>\n",
              "      <td>2020-01-12</td>\n",
              "      <td>260.474</td>\n",
              "    </tr>\n",
              "    <tr>\n",
              "      <th>255</th>\n",
              "      <td>2021-01-01</td>\n",
              "      <td>261.582</td>\n",
              "    </tr>\n",
              "    <tr>\n",
              "      <th>256</th>\n",
              "      <td>2021-01-02</td>\n",
              "      <td>263.014</td>\n",
              "    </tr>\n",
              "    <tr>\n",
              "      <th>257</th>\n",
              "      <td>2021-01-03</td>\n",
              "      <td>264.877</td>\n",
              "    </tr>\n",
              "    <tr>\n",
              "      <th>258</th>\n",
              "      <td>2021-01-04</td>\n",
              "      <td>267.054</td>\n",
              "    </tr>\n",
              "    <tr>\n",
              "      <th>259</th>\n",
              "      <td>2021-01-05</td>\n",
              "      <td>269.195</td>\n",
              "    </tr>\n",
              "    <tr>\n",
              "      <th>260</th>\n",
              "      <td>2021-01-06</td>\n",
              "      <td>271.696</td>\n",
              "    </tr>\n",
              "    <tr>\n",
              "      <th>261</th>\n",
              "      <td>2021-01-07</td>\n",
              "      <td>273.003</td>\n",
              "    </tr>\n",
              "  </tbody>\n",
              "</table>\n",
              "</div>\n",
              "      <button class=\"colab-df-convert\" onclick=\"convertToInteractive('df-a738ab9d-412a-4186-8b1a-fafd7e441711')\"\n",
              "              title=\"Convert this dataframe to an interactive table.\"\n",
              "              style=\"display:none;\">\n",
              "        \n",
              "  <svg xmlns=\"http://www.w3.org/2000/svg\" height=\"24px\"viewBox=\"0 0 24 24\"\n",
              "       width=\"24px\">\n",
              "    <path d=\"M0 0h24v24H0V0z\" fill=\"none\"/>\n",
              "    <path d=\"M18.56 5.44l.94 2.06.94-2.06 2.06-.94-2.06-.94-.94-2.06-.94 2.06-2.06.94zm-11 1L8.5 8.5l.94-2.06 2.06-.94-2.06-.94L8.5 2.5l-.94 2.06-2.06.94zm10 10l.94 2.06.94-2.06 2.06-.94-2.06-.94-.94-2.06-.94 2.06-2.06.94z\"/><path d=\"M17.41 7.96l-1.37-1.37c-.4-.4-.92-.59-1.43-.59-.52 0-1.04.2-1.43.59L10.3 9.45l-7.72 7.72c-.78.78-.78 2.05 0 2.83L4 21.41c.39.39.9.59 1.41.59.51 0 1.02-.2 1.41-.59l7.78-7.78 2.81-2.81c.8-.78.8-2.07 0-2.86zM5.41 20L4 18.59l7.72-7.72 1.47 1.35L5.41 20z\"/>\n",
              "  </svg>\n",
              "      </button>\n",
              "      \n",
              "  <style>\n",
              "    .colab-df-container {\n",
              "      display:flex;\n",
              "      flex-wrap:wrap;\n",
              "      gap: 12px;\n",
              "    }\n",
              "\n",
              "    .colab-df-convert {\n",
              "      background-color: #E8F0FE;\n",
              "      border: none;\n",
              "      border-radius: 50%;\n",
              "      cursor: pointer;\n",
              "      display: none;\n",
              "      fill: #1967D2;\n",
              "      height: 32px;\n",
              "      padding: 0 0 0 0;\n",
              "      width: 32px;\n",
              "    }\n",
              "\n",
              "    .colab-df-convert:hover {\n",
              "      background-color: #E2EBFA;\n",
              "      box-shadow: 0px 1px 2px rgba(60, 64, 67, 0.3), 0px 1px 3px 1px rgba(60, 64, 67, 0.15);\n",
              "      fill: #174EA6;\n",
              "    }\n",
              "\n",
              "    [theme=dark] .colab-df-convert {\n",
              "      background-color: #3B4455;\n",
              "      fill: #D2E3FC;\n",
              "    }\n",
              "\n",
              "    [theme=dark] .colab-df-convert:hover {\n",
              "      background-color: #434B5C;\n",
              "      box-shadow: 0px 1px 3px 1px rgba(0, 0, 0, 0.15);\n",
              "      filter: drop-shadow(0px 1px 2px rgba(0, 0, 0, 0.3));\n",
              "      fill: #FFFFFF;\n",
              "    }\n",
              "  </style>\n",
              "\n",
              "      <script>\n",
              "        const buttonEl =\n",
              "          document.querySelector('#df-a738ab9d-412a-4186-8b1a-fafd7e441711 button.colab-df-convert');\n",
              "        buttonEl.style.display =\n",
              "          google.colab.kernel.accessAllowed ? 'block' : 'none';\n",
              "\n",
              "        async function convertToInteractive(key) {\n",
              "          const element = document.querySelector('#df-a738ab9d-412a-4186-8b1a-fafd7e441711');\n",
              "          const dataTable =\n",
              "            await google.colab.kernel.invokeFunction('convertToInteractive',\n",
              "                                                     [key], {});\n",
              "          if (!dataTable) return;\n",
              "\n",
              "          const docLinkHtml = 'Like what you see? Visit the ' +\n",
              "            '<a target=\"_blank\" href=https://colab.research.google.com/notebooks/data_table.ipynb>data table notebook</a>'\n",
              "            + ' to learn more about interactive tables.';\n",
              "          element.innerHTML = '';\n",
              "          dataTable['output_type'] = 'display_data';\n",
              "          await google.colab.output.renderOutput(dataTable, element);\n",
              "          const docLink = document.createElement('div');\n",
              "          docLink.innerHTML = docLinkHtml;\n",
              "          element.appendChild(docLink);\n",
              "        }\n",
              "      </script>\n",
              "    </div>\n",
              "  </div>\n",
              "  "
            ]
          },
          "metadata": {},
          "execution_count": 94
        }
      ]
    },
    {
      "cell_type": "code",
      "source": [
        "cpi_train = traincpi['CPI'].values\n",
        "cpi_train = np.reshape(cpi_train,(-1,1))\n",
        "cpi_train.shape"
      ],
      "metadata": {
        "colab": {
          "base_uri": "https://localhost:8080/"
        },
        "id": "oV5MmhYCd9s8",
        "outputId": "f00e7b31-f061-4b2f-bbb8-784d4a8b38ce"
      },
      "execution_count": null,
      "outputs": [
        {
          "output_type": "execute_result",
          "data": {
            "text/plain": [
              "(210, 1)"
            ]
          },
          "metadata": {},
          "execution_count": 95
        }
      ]
    },
    {
      "cell_type": "code",
      "source": [
        "# Creating test dataset\n",
        "\n",
        "cpi_test = testcpi['CPI'].values\n",
        "cpi_test = np.reshape(cpi_test,(-1,1))\n",
        "cpi_test.shape"
      ],
      "metadata": {
        "colab": {
          "base_uri": "https://localhost:8080/"
        },
        "id": "sXbxfIrFfBj1",
        "outputId": "0c5a984e-5fbd-4ea1-9534-6118f0427b47"
      },
      "execution_count": null,
      "outputs": [
        {
          "output_type": "execute_result",
          "data": {
            "text/plain": [
              "(52, 1)"
            ]
          },
          "metadata": {},
          "execution_count": 96
        }
      ]
    },
    {
      "cell_type": "code",
      "source": [
        "def create_dataset(cpidata, look_back=1):\n",
        "    datacpiX, datacpiY = [], []\n",
        "    for i in range(look_back,len(cpidata)):\n",
        "      datacpiX.append(cpidata[i-look_back:i,0])\n",
        "      datacpiY.append(cpidata[i,0])\n",
        "    return np.array(datacpiX), np.array(datacpiY)"
      ],
      "metadata": {
        "id": "BpodDWpheRMt"
      },
      "execution_count": null,
      "outputs": []
    },
    {
      "cell_type": "code",
      "source": [
        "# Nomalizing the values to the 0-1 range to reduce the effect of variance\n",
        "# Min-Max Scaler\n",
        "\n",
        "scaler_train = MinMaxScaler()\n",
        "scaler_test = MinMaxScaler()\n",
        "cpi_train_scaled = scaler_train.fit_transform(cpi_train)\n",
        "cpi_test_scaled = scaler_test.fit_transform(cpi_test)\n",
        "\n",
        "print(cpi_train_scaled.shape)\n",
        "print('----------------')\n",
        "print(cpi_test_scaled.shape)"
      ],
      "metadata": {
        "colab": {
          "base_uri": "https://localhost:8080/"
        },
        "id": "JQHWAbo_epTy",
        "outputId": "6e6f3db2-37a7-498e-d948-0ff72b2ded1f"
      },
      "execution_count": null,
      "outputs": [
        {
          "output_type": "stream",
          "name": "stdout",
          "text": [
            "(210, 1)\n",
            "----------------\n",
            "(52, 1)\n"
          ]
        }
      ]
    },
    {
      "cell_type": "code",
      "source": [
        "look_backcpi = 12\n",
        "x_traincpi, y_traincpi = create_dataset(cpi_train_scaled, look_backcpi)\n",
        "x_testcpi, y_testcpi= create_dataset(cpi_test_scaled, look_backcpi)"
      ],
      "metadata": {
        "id": "ZwlkDZ_5fMuM"
      },
      "execution_count": null,
      "outputs": []
    },
    {
      "cell_type": "code",
      "source": [
        "x_traincpi = np.reshape(x_traincpi, (x_traincpi.shape[0], x_traincpi.shape[1], 1))\n",
        "y_traincpi = np.reshape(y_traincpi, (y_traincpi.shape[0], 1))\n",
        "\n",
        "x_testcpi = np.reshape(x_testcpi, (x_testcpi.shape[0], x_testcpi.shape[1], 1))\n",
        "y_testcpi = np.reshape(y_testcpi, (y_testcpi.shape[0], 1))"
      ],
      "metadata": {
        "id": "Nf6zITH1fbx6"
      },
      "execution_count": null,
      "outputs": []
    },
    {
      "cell_type": "code",
      "source": [
        "model = Sequential()\n",
        "# RNN layer 1\n",
        "model.add(SimpleRNN(12, input_shape=(look_backcpi, 1), return_sequences=True))\n",
        "model.add(Dropout(0.1))\n",
        "#RNN layer 2\n",
        "model.add(SimpleRNN(12, return_sequences=True))\n",
        "model.add(Dropout(0.1))\n",
        "#RNN layer 3\n",
        "model.add(SimpleRNN(12, return_sequences=True))\n",
        "model.add(Dropout(0.1))\n",
        "#RNN layer 4\n",
        "model.add(SimpleRNN(12))\n",
        "model.add(Dropout(0.1))\n",
        "\n",
        "# Dense layer\n",
        "model.add(Dense(1))\n",
        "\n",
        "#Compiling the model\n",
        "model.compile(loss='mean_squared_error', optimizer='adam', metrics=['accuracy'])\n",
        "\n",
        "# Training the model\n",
        "training = model.fit(x_traincpi, y_traincpi, epochs=100, batch_size=95)"
      ],
      "metadata": {
        "colab": {
          "base_uri": "https://localhost:8080/"
        },
        "id": "bZLNuxoJfws8",
        "outputId": "646baefc-5272-4a16-a0a1-6798d54a20a5"
      },
      "execution_count": null,
      "outputs": [
        {
          "output_type": "stream",
          "name": "stdout",
          "text": [
            "Epoch 1/100\n",
            "3/3 [==============================] - 6s 18ms/step - loss: 0.7766 - accuracy: 0.0051\n",
            "Epoch 2/100\n",
            "3/3 [==============================] - 0s 18ms/step - loss: 0.4832 - accuracy: 0.0051\n",
            "Epoch 3/100\n",
            "3/3 [==============================] - 0s 15ms/step - loss: 0.2728 - accuracy: 0.0051\n",
            "Epoch 4/100\n",
            "3/3 [==============================] - 0s 20ms/step - loss: 0.2572 - accuracy: 0.0000e+00\n",
            "Epoch 5/100\n",
            "3/3 [==============================] - 0s 17ms/step - loss: 0.2790 - accuracy: 0.0000e+00\n",
            "Epoch 6/100\n",
            "3/3 [==============================] - 0s 16ms/step - loss: 0.3043 - accuracy: 0.0000e+00\n",
            "Epoch 7/100\n",
            "3/3 [==============================] - 0s 19ms/step - loss: 0.1966 - accuracy: 0.0051\n",
            "Epoch 8/100\n",
            "3/3 [==============================] - 0s 16ms/step - loss: 0.2291 - accuracy: 0.0051\n",
            "Epoch 9/100\n",
            "3/3 [==============================] - 0s 15ms/step - loss: 0.2442 - accuracy: 0.0051\n",
            "Epoch 10/100\n",
            "3/3 [==============================] - 0s 15ms/step - loss: 0.2044 - accuracy: 0.0051\n",
            "Epoch 11/100\n",
            "3/3 [==============================] - 0s 15ms/step - loss: 0.1811 - accuracy: 0.0051\n",
            "Epoch 12/100\n",
            "3/3 [==============================] - 0s 15ms/step - loss: 0.1990 - accuracy: 0.0051\n",
            "Epoch 13/100\n",
            "3/3 [==============================] - 0s 18ms/step - loss: 0.1911 - accuracy: 0.0000e+00\n",
            "Epoch 14/100\n",
            "3/3 [==============================] - 0s 15ms/step - loss: 0.1929 - accuracy: 0.0051\n",
            "Epoch 15/100\n",
            "3/3 [==============================] - 0s 15ms/step - loss: 0.1977 - accuracy: 0.0000e+00\n",
            "Epoch 16/100\n",
            "3/3 [==============================] - 0s 15ms/step - loss: 0.1935 - accuracy: 0.0051\n",
            "Epoch 17/100\n",
            "3/3 [==============================] - 0s 15ms/step - loss: 0.1624 - accuracy: 0.0000e+00\n",
            "Epoch 18/100\n",
            "3/3 [==============================] - 0s 15ms/step - loss: 0.1544 - accuracy: 0.0051\n",
            "Epoch 19/100\n",
            "3/3 [==============================] - 0s 15ms/step - loss: 0.1478 - accuracy: 0.0000e+00\n",
            "Epoch 20/100\n",
            "3/3 [==============================] - 0s 15ms/step - loss: 0.1384 - accuracy: 0.0000e+00\n",
            "Epoch 21/100\n",
            "3/3 [==============================] - 0s 15ms/step - loss: 0.1204 - accuracy: 0.0051\n",
            "Epoch 22/100\n",
            "3/3 [==============================] - 0s 15ms/step - loss: 0.1434 - accuracy: 0.0051\n",
            "Epoch 23/100\n",
            "3/3 [==============================] - 0s 18ms/step - loss: 0.1399 - accuracy: 0.0000e+00\n",
            "Epoch 24/100\n",
            "3/3 [==============================] - 0s 15ms/step - loss: 0.1410 - accuracy: 0.0051\n",
            "Epoch 25/100\n",
            "3/3 [==============================] - 0s 16ms/step - loss: 0.1487 - accuracy: 0.0051\n",
            "Epoch 26/100\n",
            "3/3 [==============================] - 0s 16ms/step - loss: 0.1150 - accuracy: 0.0051\n",
            "Epoch 27/100\n",
            "3/3 [==============================] - 0s 15ms/step - loss: 0.1272 - accuracy: 0.0051\n",
            "Epoch 28/100\n",
            "3/3 [==============================] - 0s 16ms/step - loss: 0.1247 - accuracy: 0.0051\n",
            "Epoch 29/100\n",
            "3/3 [==============================] - 0s 16ms/step - loss: 0.1207 - accuracy: 0.0051\n",
            "Epoch 30/100\n",
            "3/3 [==============================] - 0s 16ms/step - loss: 0.1296 - accuracy: 0.0051\n",
            "Epoch 31/100\n",
            "3/3 [==============================] - 0s 16ms/step - loss: 0.1381 - accuracy: 0.0000e+00\n",
            "Epoch 32/100\n",
            "3/3 [==============================] - 0s 15ms/step - loss: 0.1358 - accuracy: 0.0051\n",
            "Epoch 33/100\n",
            "3/3 [==============================] - 0s 15ms/step - loss: 0.1298 - accuracy: 0.0051\n",
            "Epoch 34/100\n",
            "3/3 [==============================] - 0s 17ms/step - loss: 0.1005 - accuracy: 0.0051\n",
            "Epoch 35/100\n",
            "3/3 [==============================] - 0s 15ms/step - loss: 0.1252 - accuracy: 0.0000e+00\n",
            "Epoch 36/100\n",
            "3/3 [==============================] - 0s 15ms/step - loss: 0.0946 - accuracy: 0.0000e+00\n",
            "Epoch 37/100\n",
            "3/3 [==============================] - 0s 15ms/step - loss: 0.1250 - accuracy: 0.0051\n",
            "Epoch 38/100\n",
            "3/3 [==============================] - 0s 16ms/step - loss: 0.0965 - accuracy: 0.0051\n",
            "Epoch 39/100\n",
            "3/3 [==============================] - 0s 19ms/step - loss: 0.1265 - accuracy: 0.0000e+00\n",
            "Epoch 40/100\n",
            "3/3 [==============================] - 0s 16ms/step - loss: 0.1046 - accuracy: 0.0000e+00\n",
            "Epoch 41/100\n",
            "3/3 [==============================] - 0s 21ms/step - loss: 0.0925 - accuracy: 0.0051\n",
            "Epoch 42/100\n",
            "3/3 [==============================] - 0s 15ms/step - loss: 0.0974 - accuracy: 0.0051\n",
            "Epoch 43/100\n",
            "3/3 [==============================] - 0s 15ms/step - loss: 0.1032 - accuracy: 0.0051\n",
            "Epoch 44/100\n",
            "3/3 [==============================] - 0s 17ms/step - loss: 0.0981 - accuracy: 0.0051\n",
            "Epoch 45/100\n",
            "3/3 [==============================] - 0s 16ms/step - loss: 0.0935 - accuracy: 0.0051\n",
            "Epoch 46/100\n",
            "3/3 [==============================] - 0s 16ms/step - loss: 0.0742 - accuracy: 0.0051\n",
            "Epoch 47/100\n",
            "3/3 [==============================] - 0s 15ms/step - loss: 0.0847 - accuracy: 0.0051\n",
            "Epoch 48/100\n",
            "3/3 [==============================] - 0s 15ms/step - loss: 0.0777 - accuracy: 0.0051\n",
            "Epoch 49/100\n",
            "3/3 [==============================] - 0s 18ms/step - loss: 0.0853 - accuracy: 0.0051\n",
            "Epoch 50/100\n",
            "3/3 [==============================] - 0s 15ms/step - loss: 0.0890 - accuracy: 0.0051\n",
            "Epoch 51/100\n",
            "3/3 [==============================] - 0s 16ms/step - loss: 0.0781 - accuracy: 0.0051\n",
            "Epoch 52/100\n",
            "3/3 [==============================] - 0s 16ms/step - loss: 0.0709 - accuracy: 0.0051\n",
            "Epoch 53/100\n",
            "3/3 [==============================] - 0s 16ms/step - loss: 0.0847 - accuracy: 0.0051\n",
            "Epoch 54/100\n",
            "3/3 [==============================] - 0s 16ms/step - loss: 0.0804 - accuracy: 0.0051\n",
            "Epoch 55/100\n",
            "3/3 [==============================] - 0s 14ms/step - loss: 0.0810 - accuracy: 0.0051\n",
            "Epoch 56/100\n",
            "3/3 [==============================] - 0s 16ms/step - loss: 0.0869 - accuracy: 0.0051\n",
            "Epoch 57/100\n",
            "3/3 [==============================] - 0s 19ms/step - loss: 0.0952 - accuracy: 0.0051\n",
            "Epoch 58/100\n",
            "3/3 [==============================] - 0s 14ms/step - loss: 0.0904 - accuracy: 0.0000e+00\n",
            "Epoch 59/100\n",
            "3/3 [==============================] - 0s 15ms/step - loss: 0.0786 - accuracy: 0.0051\n",
            "Epoch 60/100\n",
            "3/3 [==============================] - 0s 17ms/step - loss: 0.0723 - accuracy: 0.0051\n",
            "Epoch 61/100\n",
            "3/3 [==============================] - 0s 15ms/step - loss: 0.0810 - accuracy: 0.0051\n",
            "Epoch 62/100\n",
            "3/3 [==============================] - 0s 15ms/step - loss: 0.0772 - accuracy: 0.0051\n",
            "Epoch 63/100\n",
            "3/3 [==============================] - 0s 19ms/step - loss: 0.0708 - accuracy: 0.0051\n",
            "Epoch 64/100\n",
            "3/3 [==============================] - 0s 15ms/step - loss: 0.0777 - accuracy: 0.0051\n",
            "Epoch 65/100\n",
            "3/3 [==============================] - 0s 15ms/step - loss: 0.0755 - accuracy: 0.0051\n",
            "Epoch 66/100\n",
            "3/3 [==============================] - 0s 15ms/step - loss: 0.0797 - accuracy: 0.0051\n",
            "Epoch 67/100\n",
            "3/3 [==============================] - 0s 14ms/step - loss: 0.0630 - accuracy: 0.0051\n",
            "Epoch 68/100\n",
            "3/3 [==============================] - 0s 16ms/step - loss: 0.0693 - accuracy: 0.0051\n",
            "Epoch 69/100\n",
            "3/3 [==============================] - 0s 16ms/step - loss: 0.0837 - accuracy: 0.0051\n",
            "Epoch 70/100\n",
            "3/3 [==============================] - 0s 15ms/step - loss: 0.0618 - accuracy: 0.0051\n",
            "Epoch 71/100\n",
            "3/3 [==============================] - 0s 18ms/step - loss: 0.0691 - accuracy: 0.0051\n",
            "Epoch 72/100\n",
            "3/3 [==============================] - 0s 15ms/step - loss: 0.0698 - accuracy: 0.0051\n",
            "Epoch 73/100\n",
            "3/3 [==============================] - 0s 15ms/step - loss: 0.0482 - accuracy: 0.0051\n",
            "Epoch 74/100\n",
            "3/3 [==============================] - 0s 17ms/step - loss: 0.0586 - accuracy: 0.0051\n",
            "Epoch 75/100\n",
            "3/3 [==============================] - 0s 16ms/step - loss: 0.0692 - accuracy: 0.0051\n",
            "Epoch 76/100\n",
            "3/3 [==============================] - 0s 15ms/step - loss: 0.0548 - accuracy: 0.0051\n",
            "Epoch 77/100\n",
            "3/3 [==============================] - 0s 15ms/step - loss: 0.0582 - accuracy: 0.0051\n",
            "Epoch 78/100\n",
            "3/3 [==============================] - 0s 15ms/step - loss: 0.0653 - accuracy: 0.0051\n",
            "Epoch 79/100\n",
            "3/3 [==============================] - 0s 16ms/step - loss: 0.0494 - accuracy: 0.0051\n",
            "Epoch 80/100\n",
            "3/3 [==============================] - 0s 15ms/step - loss: 0.0575 - accuracy: 0.0051\n",
            "Epoch 81/100\n",
            "3/3 [==============================] - 0s 16ms/step - loss: 0.0559 - accuracy: 0.0051\n",
            "Epoch 82/100\n",
            "3/3 [==============================] - 0s 17ms/step - loss: 0.0561 - accuracy: 0.0051\n",
            "Epoch 83/100\n",
            "3/3 [==============================] - 0s 15ms/step - loss: 0.0483 - accuracy: 0.0051\n",
            "Epoch 84/100\n",
            "3/3 [==============================] - 0s 17ms/step - loss: 0.0460 - accuracy: 0.0051\n",
            "Epoch 85/100\n",
            "3/3 [==============================] - 0s 15ms/step - loss: 0.0628 - accuracy: 0.0051\n",
            "Epoch 86/100\n",
            "3/3 [==============================] - 0s 15ms/step - loss: 0.0527 - accuracy: 0.0051\n",
            "Epoch 87/100\n",
            "3/3 [==============================] - 0s 16ms/step - loss: 0.0579 - accuracy: 0.0051\n",
            "Epoch 88/100\n",
            "3/3 [==============================] - 0s 15ms/step - loss: 0.0597 - accuracy: 0.0051\n",
            "Epoch 89/100\n",
            "3/3 [==============================] - 0s 17ms/step - loss: 0.0602 - accuracy: 0.0051\n",
            "Epoch 90/100\n",
            "3/3 [==============================] - 0s 16ms/step - loss: 0.0519 - accuracy: 0.0051\n",
            "Epoch 91/100\n",
            "3/3 [==============================] - 0s 15ms/step - loss: 0.0499 - accuracy: 0.0051\n",
            "Epoch 92/100\n",
            "3/3 [==============================] - 0s 15ms/step - loss: 0.0475 - accuracy: 0.0051\n",
            "Epoch 93/100\n",
            "3/3 [==============================] - 0s 16ms/step - loss: 0.0539 - accuracy: 0.0051\n",
            "Epoch 94/100\n",
            "3/3 [==============================] - 0s 18ms/step - loss: 0.0438 - accuracy: 0.0051\n",
            "Epoch 95/100\n",
            "3/3 [==============================] - 0s 16ms/step - loss: 0.0443 - accuracy: 0.0051\n",
            "Epoch 96/100\n",
            "3/3 [==============================] - 0s 15ms/step - loss: 0.0433 - accuracy: 0.0051\n",
            "Epoch 97/100\n",
            "3/3 [==============================] - 0s 16ms/step - loss: 0.0420 - accuracy: 0.0051\n",
            "Epoch 98/100\n",
            "3/3 [==============================] - 0s 15ms/step - loss: 0.0443 - accuracy: 0.0051\n",
            "Epoch 99/100\n",
            "3/3 [==============================] - 0s 15ms/step - loss: 0.0457 - accuracy: 0.0051\n",
            "Epoch 100/100\n",
            "3/3 [==============================] - 0s 15ms/step - loss: 0.0573 - accuracy: 0.0051\n"
          ]
        }
      ]
    },
    {
      "cell_type": "code",
      "source": [
        "# Trends of Loss\n",
        "plt.figure(figsize =(10,6))\n",
        "plt.plot(training.history[\"loss\"])\n",
        "plt.xlabel(\"Epoch\")\n",
        "plt.ylabel(\"Loss values\")\n",
        "plt.title(\"Simple RNN model, Loss vs Epoch\")\n",
        "plt.show()\n",
        "\n",
        "## DOWNWARD TREND OF LOSS AND HAS SETTLED THERE"
      ],
      "metadata": {
        "colab": {
          "base_uri": "https://localhost:8080/",
          "height": 564
        },
        "id": "wDiOUZ2dg_DI",
        "outputId": "8c1ba721-9a9b-4f18-fac5-cc2d16343f9c"
      },
      "execution_count": null,
      "outputs": [
        {
          "output_type": "display_data",
          "data": {
            "text/plain": [
              "<Figure size 1000x600 with 1 Axes>"
            ],
            "image/png": "[encoded data removed]"
          },
          "metadata": {}
        }
      ]
    },
    {
      "cell_type": "code",
      "source": [
        "model = Sequential()\n",
        "# RNN layer 1\n",
        "model.add(SimpleRNN(12, input_shape=(look_backcpi, 1), return_sequences=True))\n",
        "model.add(Dropout(0.1))\n",
        "#RNN layer 2\n",
        "model.add(SimpleRNN(12, return_sequences=True))\n",
        "model.add(Dropout(0.1))\n",
        "#RNN layer 3\n",
        "model.add(SimpleRNN(12, return_sequences=True))\n",
        "model.add(Dropout(0.1))\n",
        "#RNN layer 4\n",
        "model.add(SimpleRNN(12))\n",
        "model.add(Dropout(0.1))\n",
        "\n",
        "# Dense layer\n",
        "model.add(Dense(1))\n",
        "\n",
        "#Compiling the model\n",
        "model.compile(loss='mean_squared_error', optimizer='adam', metrics=['accuracy'])\n",
        "\n",
        "# Testing the model\n",
        "testcpi = model.fit(x_testcpi, y_testcpi, epochs=10, batch_size=95)"
      ],
      "metadata": {
        "colab": {
          "base_uri": "https://localhost:8080/"
        },
        "id": "2B9OqrC5nQgC",
        "outputId": "0887658e-6cb4-4022-8bae-8b548bad9ece"
      },
      "execution_count": null,
      "outputs": [
        {
          "output_type": "stream",
          "name": "stdout",
          "text": [
            "Epoch 1/10\n",
            "1/1 [==============================] - 8s 8s/step - loss: 0.8751 - accuracy: 0.0000e+00\n",
            "Epoch 2/10\n",
            "1/1 [==============================] - 0s 41ms/step - loss: 0.6444 - accuracy: 0.0000e+00\n",
            "Epoch 3/10\n",
            "1/1 [==============================] - 0s 37ms/step - loss: 0.3656 - accuracy: 0.0000e+00\n",
            "Epoch 4/10\n",
            "1/1 [==============================] - 0s 53ms/step - loss: 0.3405 - accuracy: 0.0000e+00\n",
            "Epoch 5/10\n",
            "1/1 [==============================] - 0s 41ms/step - loss: 0.2383 - accuracy: 0.0000e+00\n",
            "Epoch 6/10\n",
            "1/1 [==============================] - 0s 56ms/step - loss: 0.3454 - accuracy: 0.0000e+00\n",
            "Epoch 7/10\n",
            "1/1 [==============================] - 0s 70ms/step - loss: 0.3870 - accuracy: 0.0000e+00\n",
            "Epoch 8/10\n",
            "1/1 [==============================] - 0s 45ms/step - loss: 0.4301 - accuracy: 0.0000e+00\n",
            "Epoch 9/10\n",
            "1/1 [==============================] - 0s 33ms/step - loss: 0.4209 - accuracy: 0.0250\n",
            "Epoch 10/10\n",
            "1/1 [==============================] - 0s 41ms/step - loss: 0.2784 - accuracy: 0.0250\n"
          ]
        }
      ]
    },
    {
      "cell_type": "code",
      "source": [
        "# Price Predictions\n",
        "predscpi = model.predict(x_traincpi)\n",
        "# Scale them back to original scale from 0-1\n",
        "predscpi = scaler_train.inverse_transform(predscpi)\n",
        "predscpi.shape"
      ],
      "metadata": {
        "colab": {
          "base_uri": "https://localhost:8080/"
        },
        "id": "Js8r57V2gN7o",
        "outputId": "7c3d6665-34a3-4122-a13e-8b1fc3de202e"
      },
      "execution_count": null,
      "outputs": [
        {
          "output_type": "stream",
          "name": "stdout",
          "text": [
            "7/7 [==============================] - 1s 8ms/step\n"
          ]
        },
        {
          "output_type": "execute_result",
          "data": {
            "text/plain": [
              "(198, 1)"
            ]
          },
          "metadata": {},
          "execution_count": 104
        }
      ]
    },
    {
      "cell_type": "code",
      "source": [
        "# Price Predictions on Test dataset\n",
        "testcpi_predcpi = model.predict(x_testcpi)\n",
        "# Scale them back to original scale from 0-1\n",
        "testf_predcpi = scaler_test.inverse_transform(testcpi_predcpi)\n",
        "testcpi_predcpi.shape"
      ],
      "metadata": {
        "colab": {
          "base_uri": "https://localhost:8080/"
        },
        "id": "y3biaSzCgcMv",
        "outputId": "cdcdb532-f68f-456d-d807-709afddf95b8"
      },
      "execution_count": null,
      "outputs": [
        {
          "output_type": "stream",
          "name": "stdout",
          "text": [
            "2/2 [==============================] - 0s 12ms/step\n"
          ]
        },
        {
          "output_type": "execute_result",
          "data": {
            "text/plain": [
              "(40, 1)"
            ]
          },
          "metadata": {},
          "execution_count": 105
        }
      ]
    },
    {
      "cell_type": "code",
      "source": [
        "#from sklearn.ensemble import RandomForestClassifier\n",
        "#model = RandomForestClassifier()\n",
        "#model.fit(x_traincpi, y_traincpi)\n",
        "\n",
        "\n",
        "#predscpi = model.predict(x_testcpi)\n",
        "#ac_KNN = accuracy_score(y_testcpi,predscpi)\n",
        "#print(ac_KNN)\n"
      ],
      "metadata": {
        "id": "OCp_nmKBid44"
      },
      "execution_count": null,
      "outputs": []
    },
    {
      "cell_type": "markdown",
      "source": [
        "Found array with dim 3. RandomForestClassifier expected <= 2.\n",
        "\n",
        "Data set is unfit to run with RFC and other base models because the data set shape has 3D and 2D shape values."
      ],
      "metadata": {
        "id": "1_I_2xtAmfuJ"
      }
    }
  ],
  "metadata": {
    "colab": {
      "provenance": [],
      "include_colab_link": true
    },
    "kernelspec": {
      "display_name": "Python 3",
      "name": "python3"
    },
    "language_info": {
      "name": "python"
    }
  },
  "nbformat": 4,
  "nbformat_minor": 0
}